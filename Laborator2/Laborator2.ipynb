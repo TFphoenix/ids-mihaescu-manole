{
 "cells": [
  {
   "cell_type": "markdown",
   "metadata": {},
   "source": [
    "# Laborator 2\n",
    "\n",
    "Saptamana 2-6 martie 2020\n",
    "\n",
    "Continut:\n",
    "1. Setup\n",
    "1. Exercitii cu functii\n",
    "1. Exercitii cu NumPy"
   ]
  },
  {
   "cell_type": "markdown",
   "metadata": {},
   "source": [
    "## Setup\n",
    "\n",
    "Formati ecipe de cate doi. Creati un repository *privat* pe github, cu numele: IDS_NumeFamilieStudent1_NumeFamilieStudent2. Indiferent de grupa din care faceti parte, adaugati ca si colaboratori pe acest repo utilizatorii: akerestely si lmsasu.\n",
    "\n",
    "Resurse:\n",
    "1. [Setare de repository privat](https://help.github.com/en/github/administering-a-repository/setting-repository-visibility)\n",
    "1. [Clienti de git](https://www.hostinger.com/tutorials/best-git-gui-clients/)\n",
    "\n",
    "Creati un fisier README.md in care sa sa figureze: Numele materiei si numele complet al studentilor din grup. "
   ]
  },
  {
   "cell_type": "markdown",
   "metadata": {
    "ExecuteTime": {
     "end_time": "2019-03-05T18:34:32.294814Z",
     "start_time": "2019-03-05T18:34:32.283406Z"
    }
   },
   "source": [
    "## Exercitii cu functii\n",
    "\n",
    "Nota: aceste exercitii nu se puncteaza. \n",
    "\n",
    "1. Sa se scrie o functie care primeste ca parametru o lista de numere si returneaza un tuplu continand: suma elementelor si diferenta maxima dintre elementele listei.\n",
    "1. Scrieti o functie care preia doua liste si returneaza `True` daca cele doua liste de numere contin cel putin $k$ elemente comune ($k \\ge 1$ dat ca parametru intreg, valoare implicita 1), `False` altfel.\n",
    "1. Sa se scrie o functie care determina daca o lista contine cuvinte reprezentand doar numere intregi (optional: numere fractionare, scrise sub forma parte intreaga, optional urmata de punct zecimal, optional urmata de parte fractionara: 1, 2., 13.14) (Puteti folosi modulul `re` pentru lucrul cu expresii regulate.) Functia trebuie sa testeze daca:\n",
    "    1. elementele din lista sunt stringuri\n",
    "    2. fiecare din stringuri este un numar\n",
    "1. Sa se scrie o functie care returneaza numarul de vocale si de consoane dintr-un parametru dat - rezultatul returnat de functie este tuplu cu doua valori. Cuvantul se va converti la litere mici in interiorul functiei.\n",
    "1. Sa se scrie o functie care primind o lista de dictionare, returneaza `True` daca toate dictionarele contin cel putin $n$ elemente, $n$ transmis ca parametru, `False` altfel.\n",
    "1. Sa se scrie o functie recursiva care sa faca ridicarea la putere a unui numar, astfel:\n",
    "$$\n",
    "a^n = \\begin{cases}\n",
    "a & \\text{daca }n=1\n",
    "\\\\\n",
    "\\left(a^{n//2}\\right)^2 & \\text{daca } n \\text{ e par}\n",
    "\\\\\n",
    "\\left(a^{n//2}\\right)^2 \\cdot a & \\text{daca } n \\text{ e impar}, n>1\n",
    "\\\\\n",
    "\\end{cases}\n",
    "$$\n",
    "unde prin $n//2$ se reprezinta catul impartirii intregi intre $n$ si 2."
   ]
  },
  {
   "cell_type": "code",
   "execution_count": 2,
   "metadata": {},
   "outputs": [],
   "source": [
    "import numpy as np\n",
    "from typing import List, Tuple, Dict"
   ]
  },
  {
   "cell_type": "code",
   "execution_count": 101,
   "metadata": {},
   "outputs": [
    {
     "data": {
      "text/plain": [
       "(27, 33)"
      ]
     },
     "execution_count": 101,
     "metadata": {},
     "output_type": "execute_result"
    }
   ],
   "source": [
    "def ex1(l: List[int]) -> Tuple[int,int]: \n",
    "    return np.sum(l), np.max(np.diff(l))\n",
    "ex1([1, 2, 5, -7, 26])"
   ]
  },
  {
   "cell_type": "code",
   "execution_count": 102,
   "metadata": {},
   "outputs": [
    {
     "data": {
      "text/plain": [
       "True"
      ]
     },
     "execution_count": 102,
     "metadata": {},
     "output_type": "execute_result"
    }
   ],
   "source": [
    "def ex2(l1: List[int], l2: List[int], k: int = 1) -> bool:\n",
    "    return np.intersect1d(l1,l2).size >= k\n",
    "ex2([1, 2, 3], [3, 4, 5])"
   ]
  },
  {
   "cell_type": "code",
   "execution_count": 103,
   "metadata": {},
   "outputs": [
    {
     "data": {
      "text/plain": [
       "array([ True,  True,  True,  True,  True, False])"
      ]
     },
     "execution_count": 103,
     "metadata": {},
     "output_type": "execute_result"
    }
   ],
   "source": [
    "import re\n",
    "\n",
    "def ex3(l: List[str]) -> bool:\n",
    "    r = re.compile(r\"[-+]?\\d+(\\.\\d*)?$\")\n",
    "    return np.vectorize(lambda x: bool(r.match(x)))(l)\n",
    "ex3(['2.4', '15', '-4', '5.', '-4.2', 'test'])"
   ]
  },
  {
   "cell_type": "code",
   "execution_count": 104,
   "metadata": {},
   "outputs": [
    {
     "data": {
      "text/plain": [
       "(2, 4)"
      ]
     },
     "execution_count": 104,
     "metadata": {},
     "output_type": "execute_result"
    }
   ],
   "source": [
    "def ex4(s: str) -> Tuple[int, int]:\n",
    "    counter = np.count_nonzero(np.array([True for each in s.lower() if each in \"aeiou\"]))\n",
    "    return (counter, len(s) - counter)\n",
    "ex4(\"cuvant\")"
   ]
  },
  {
   "cell_type": "code",
   "execution_count": 105,
   "metadata": {},
   "outputs": [
    {
     "name": "stdout",
     "output_type": "stream",
     "text": [
      "True\n"
     ]
    }
   ],
   "source": [
    "def ex5(ldict: List[Dict], n: int) -> bool: return all([len(x) >= n for x in ldict])\n",
    "    \n",
    "print(ex5([{3: 'test', 4: 'test'},{5: 'doi'}], 1))"
   ]
  },
  {
   "cell_type": "code",
   "execution_count": 106,
   "metadata": {},
   "outputs": [],
   "source": [
    "# ex6 ..."
   ]
  },
  {
   "cell_type": "markdown",
   "metadata": {},
   "source": [
    "## Exercitii simple folosind NumPy  \n",
    "\n",
    "Nota: in rezolvarea exercitiilor se vor folosi cat mai mult functii NumPy *vectorizate*. Functiile scrise de voi vor fi documentate cu docstrings (tutoriale: Docstrings in Python, urmati NumPy Style Python Docstrings). Folositi type annotations. Utilizati doar pachetele NumPy."
   ]
  },
  {
   "cell_type": "markdown",
   "metadata": {},
   "source": [
    "1. (0.5 puncte) Pentru un vector NumPy dat, sa se determine care sunt elementele unice, in ordine descrescatoare. Exemplu: pentru `x = np.array([-4, 3,  5, 3, 2, 1, -3, -4, 2, -4])` functia scrisa de dvs va intoarce rezultatul `[ 5,  3,  2,  1, -3, -4]`.\n",
    "1. (0.5 puncte) Pentru un vector NumPy dat, sa se determine care e elementul cel mai frecvent si cel mai putin frecvent (tuplu de 2 valori). Daca exista mai multe numere cele mai frecvente (cele mai putin frecvente), se va raporta oricare din ele. Exemplu: pentru `x = np.array([-4, 3,  5, 3, 2, 1, -3, -4, 2, -4])` functia scrisa de dvs va intoarce rezultatul `(-4, -3)`. \n",
    "1. (0.5 puncte) Plecand de la o matrice, sa se scrie o functie care returneaza vectorul minimelor de pe linii si vectorul maximelor de pe coloane. Exemplu: pentru matricea `mat = np.array([[1, 2, 3, 4], [1, -2, 3, -4], [3, 10, 3, 4]])` functia va returna tuplul de vectori: `(array([ 1, -4,  3]), array([ 3, 10,  3,  4]))`. Indicatie:  folositi-va de parametrul `axis`.\n",
    "1. (0.5 puncte) Pentru o matrice de numere, sa se determine produsul elementelor pe linii sau de pe coloane, in functie de valoarea unui parametru boolean `compute_on_lines`. Exemplu: pentru matricea `mat = np.array([[1, 2, 3, 4], [1, -2, 3, -4], [3, 10, 3, 4]])` si parametrul `compute_on_lines=True`, functia va returna vectorul `[ 24  24 360]`, iar pentru `compute_on_lines=False` se va returna `[  3 -40  27 -64]`.\n",
    "1. (0.5 puncte) Determinati daca macar unul din elementele unei matrice `a` este mai mare decat cel de pe pozitie corespondenta din `b` (adica daca avem macar o pereche de indecsi (i, j) pentru care a[i, j] > b[i, j]). Daca da, se va returna o astfel de pereche de indecsi; daca nu, se va returna None.\n",
    "1. (0.5 puncte) Construiti o functie care, primind o matrice, determina pe ce pozitii se afla valorile in afara unui interval [min, max] dat prin parametri.\n",
    "1. (1 punct) Se considera vectorul: `a = np.array([230, 10, 284, 39, 76])`. Folosind indexarea logica, sa se inmulteasca elementele din vector care sunt mai mici ca 100 cu 2 (restul raman neschimbate). Folosind ciclare, sa se aplice aceeasi operatie pana cand toate elementele devin mai mari ca 100. Sa se afiseze din vectorul final elementele care sunt mai mari de 150 si mai mici de 200.\n",
    "1. (1 punct) Sa se scrie o functie `pair_max` care preia doi vectori de aceeasi lungime si returneaza maximele pe pozitiile corespunzatoare:\n",
    "```python\n",
    "a = np.array([3, 7, 9, 13, -10, 200, 3])\n",
    "b = np.array([4, 5, -9, 100, 300, 230, 1])\n",
    "pair_max(a, b)\n",
    "#iesire dorita: \n",
    "array([  4,   7,   9, 100, 300, 230,   3])\n",
    "```. Functia va verifica cu `assert` ca vectorii au lungimi egale. \n",
    "1. (1 punct) Descarcati setul de date Iris de la adresa 'https://archive.ics.uci.edu/ml/machine-learning-databases/iris/iris.data', si incarcati-l intr--o matrice NumPy, folosind `np.genfromtxt`.  Alegeti aleator 10 pozitii in matricea de 150 linii si 4 coloane (omiteti ultima coloana, de tip text), setati aceste valori pe NaN. Construiti o functie care, primind la intrare o matrice, returneaza un tuplu cu indicii de linii respectiv de coloane in care se gasesc valori NaN.\n",
    "1. (1 punct) Sa se construiasca o functie care returneaza cele mai mici `k` valori dintr-un vector de cel putin `k` elemente, impreuna cu pozitiile lor. "
   ]
  },
  {
   "cell_type": "code",
   "execution_count": 107,
   "metadata": {},
   "outputs": [
    {
     "name": "stdout",
     "output_type": "stream",
     "text": [
      "[ 5  3  2  1 -3 -4]\n"
     ]
    }
   ],
   "source": [
    "#ex1\n",
    "def function(array: np.array):\n",
    "   print(np.sort(np.unique(array))[::-1])\n",
    "    \n",
    "function([-4, 3,  5, 3, 2, 1, -3, -4, 2, -4])"
   ]
  },
  {
   "cell_type": "code",
   "execution_count": 108,
   "metadata": {},
   "outputs": [
    {
     "name": "stdout",
     "output_type": "stream",
     "text": [
      "[array([ 1, -4,  3]), array([ 3, 10,  3,  4])]\n"
     ]
    }
   ],
   "source": [
    "#ex3\n",
    "def function(array: np.array)->Tuple[np.array,np.array]:\n",
    "    return [np.amin(array,axis=1), np.amax(array,axis=0)]\n",
    "\n",
    "print(function([[1, 2, 3, 4], [1, -2, 3, -4], [3, 10, 3, 4]]))"
   ]
  },
  {
   "cell_type": "code",
   "execution_count": 109,
   "metadata": {},
   "outputs": [
    {
     "name": "stdout",
     "output_type": "stream",
     "text": [
      "[ 24  24 360]\n",
      "[  3 -40  27 -64]\n"
     ]
    }
   ],
   "source": [
    "#ex4\n",
    "def function(array: np.array,compute_on_lines:bool)->np.array:\n",
    "    return np.prod(array,axis=0) if compute_on_lines==False else np.prod(array,axis=1)\n",
    "\n",
    "array=[[1,2,3,4],[1,-2,3,-4],[3,10,3,4]]\n",
    "print(function(array,True))\n",
    "print(function(array,False))"
   ]
  },
  {
   "cell_type": "code",
   "execution_count": 13,
   "metadata": {},
   "outputs": [
    {
     "name": "stdout",
     "output_type": "stream",
     "text": [
      "[  4   7   9 100 300 230   3]\n"
     ]
    }
   ],
   "source": [
    "#ex8\n",
    "def pair_max(array1: np.array,array2: np.array)->np.array:\n",
    "    assert len(array1)==len(array2),\"The lenght is not equal!\"\n",
    "    return np.maximum(array1,array2)\n",
    "\n",
    "print(pair_max([3, 7, 9, 13, -10, 200,3],[4, 5, -9, 100, 300, 230, 1]))"
   ]
  },
  {
   "cell_type": "markdown",
   "metadata": {},
   "source": [
    "## Precizari\n",
    "1. Se acorda 3 puncte din oficiu.\n",
    "1. Tema se va prezenta in saptamana 16-20 martie 2020. \n",
    "1. Repository-ul va contine un fisier \"readme.md\" (in radacina repository-ului) in care vor fi mentionati autorii temelor, cu nume complet si grupa din care fac parte."
   ]
  },
  {
   "cell_type": "code",
   "execution_count": null,
   "metadata": {},
   "outputs": [],
   "source": []
  }
 ],
 "metadata": {
  "kernelspec": {
   "display_name": "Python 3",
   "language": "python",
   "name": "python3"
  },
  "language_info": {
   "codemirror_mode": {
    "name": "ipython",
    "version": 3
   },
   "file_extension": ".py",
   "mimetype": "text/x-python",
   "name": "python",
   "nbconvert_exporter": "python",
   "pygments_lexer": "ipython3",
   "version": "3.7.6"
  },
  "toc": {
   "base_numbering": 1,
   "nav_menu": {},
   "number_sections": true,
   "sideBar": true,
   "skip_h1_title": false,
   "title_cell": "Table of Contents",
   "title_sidebar": "Contents",
   "toc_cell": false,
   "toc_position": {},
   "toc_section_display": true,
   "toc_window_display": false
  },
  "varInspector": {
   "cols": {
    "lenName": 16,
    "lenType": 16,
    "lenVar": 40
   },
   "kernels_config": {
    "python": {
     "delete_cmd_postfix": "",
     "delete_cmd_prefix": "del ",
     "library": "var_list.py",
     "varRefreshCmd": "print(var_dic_list())"
    },
    "r": {
     "delete_cmd_postfix": ") ",
     "delete_cmd_prefix": "rm(",
     "library": "var_list.r",
     "varRefreshCmd": "cat(var_dic_list()) "
    }
   },
   "types_to_exclude": [
    "module",
    "function",
    "builtin_function_or_method",
    "instance",
    "_Feature"
   ],
   "window_display": false
  }
 },
 "nbformat": 4,
 "nbformat_minor": 2
}
