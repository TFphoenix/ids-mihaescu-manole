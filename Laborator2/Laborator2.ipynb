{
 "cells": [
  {
   "cell_type": "code",
   "execution_count": null,
   "metadata": {},
   "outputs": [],
   "source": [
    "Nume studenti: Manole Alexandra, Mihaescu Teodor Adrian"
   ]
  },
  {
   "cell_type": "markdown",
   "metadata": {},
   "source": [
    "# Laborator 2\n",
    "\n",
    "Saptamana 2-6 martie 2020\n",
    "\n",
    "Continut:\n",
    "1. Setup\n",
    "1. Exercitii cu functii\n",
    "1. Exercitii cu NumPy"
   ]
  },
  {
   "cell_type": "markdown",
   "metadata": {},
   "source": [
    "## Setup\n",
    "\n",
    "Formati ecipe de cate doi. Creati un repository *privat* pe github, cu numele: IDS_NumeFamilieStudent1_NumeFamilieStudent2. Indiferent de grupa din care faceti parte, adaugati ca si colaboratori pe acest repo utilizatorii: akerestely si lmsasu.\n",
    "\n",
    "Resurse:\n",
    "1. [Setare de repository privat](https://help.github.com/en/github/administering-a-repository/setting-repository-visibility)\n",
    "1. [Clienti de git](https://www.hostinger.com/tutorials/best-git-gui-clients/)\n",
    "\n",
    "Creati un fisier README.md in care sa sa figureze: Numele materiei si numele complet al studentilor din grup. "
   ]
  },
  {
   "cell_type": "markdown",
   "metadata": {
    "ExecuteTime": {
     "end_time": "2019-03-05T18:34:32.294814Z",
     "start_time": "2019-03-05T18:34:32.283406Z"
    }
   },
   "source": [
    "## Exercitii cu functii\n",
    "\n",
    "Nota: aceste exercitii nu se puncteaza. \n",
    "\n",
    "1. Sa se scrie o functie care primeste ca parametru o lista de numere si returneaza un tuplu continand: suma elementelor si diferenta maxima dintre elementele listei.\n",
    "1. Scrieti o functie care preia doua liste si returneaza `True` daca cele doua liste de numere contin cel putin $k$ elemente comune ($k \\ge 1$ dat ca parametru intreg, valoare implicita 1), `False` altfel.\n",
    "1. Sa se scrie o functie care determina daca o lista contine cuvinte reprezentand doar numere intregi (optional: numere fractionare, scrise sub forma parte intreaga, optional urmata de punct zecimal, optional urmata de parte fractionara: 1, 2., 13.14) (Puteti folosi modulul `re` pentru lucrul cu expresii regulate.) Functia trebuie sa testeze daca:\n",
    "    1. elementele din lista sunt stringuri\n",
    "    2. fiecare din stringuri este un numar\n",
    "1. Sa se scrie o functie care returneaza numarul de vocale si de consoane dintr-un parametru dat - rezultatul returnat de functie este tuplu cu doua valori. Cuvantul se va converti la litere mici in interiorul functiei.\n",
    "1. Sa se scrie o functie care primind o lista de dictionare, returneaza `True` daca toate dictionarele contin cel putin $n$ elemente, $n$ transmis ca parametru, `False` altfel.\n",
    "1. Sa se scrie o functie recursiva care sa faca ridicarea la putere a unui numar, astfel:\n",
    "$$\n",
    "a^n = \\begin{cases}\n",
    "a & \\text{daca }n=1\n",
    "\\\\\n",
    "\\left(a^{n//2}\\right)^2 & \\text{daca } n \\text{ e par}\n",
    "\\\\\n",
    "\\left(a^{n//2}\\right)^2 \\cdot a & \\text{daca } n \\text{ e impar}, n>1\n",
    "\\\\\n",
    "\\end{cases}\n",
    "$$\n",
    "unde prin $n//2$ se reprezinta catul impartirii intregi intre $n$ si 2."
   ]
  },
  {
   "cell_type": "code",
   "execution_count": 2,
   "metadata": {},
   "outputs": [],
   "source": [
    "import numpy as np\n",
    "from typing import List, Tuple, Dict"
   ]
  },
  {
   "cell_type": "code",
   "execution_count": 101,
   "metadata": {},
   "outputs": [
    {
     "data": {
      "text/plain": [
       "(27, 33)"
      ]
     },
     "execution_count": 101,
     "metadata": {},
     "output_type": "execute_result"
    }
   ],
   "source": [
    "def ex1(l: List[int]) -> Tuple[int,int]: \n",
    "    return np.sum(l), np.max(np.diff(l))\n",
    "ex1([1, 2, 5, -7, 26])"
   ]
  },
  {
   "cell_type": "code",
   "execution_count": 102,
   "metadata": {},
   "outputs": [
    {
     "data": {
      "text/plain": [
       "True"
      ]
     },
     "execution_count": 102,
     "metadata": {},
     "output_type": "execute_result"
    }
   ],
   "source": [
    "def ex2(l1: List[int], l2: List[int], k: int = 1) -> bool:\n",
    "    return np.intersect1d(l1,l2).size >= k\n",
    "ex2([1, 2, 3], [3, 4, 5])"
   ]
  },
  {
   "cell_type": "code",
   "execution_count": 103,
   "metadata": {},
   "outputs": [
    {
     "data": {
      "text/plain": [
       "array([ True,  True,  True,  True,  True, False])"
      ]
     },
     "execution_count": 103,
     "metadata": {},
     "output_type": "execute_result"
    }
   ],
   "source": [
    "import re\n",
    "\n",
    "def ex3(l: List[str]) -> bool:\n",
    "    r = re.compile(r\"[-+]?\\d+(\\.\\d*)?$\")\n",
    "    return np.vectorize(lambda x: bool(r.match(x)))(l)\n",
    "ex3(['2.4', '15', '-4', '5.', '-4.2', 'test'])"
   ]
  },
  {
   "cell_type": "code",
   "execution_count": 104,
   "metadata": {},
   "outputs": [
    {
     "data": {
      "text/plain": [
       "(2, 4)"
      ]
     },
     "execution_count": 104,
     "metadata": {},
     "output_type": "execute_result"
    }
   ],
   "source": [
    "def ex4(s: str) -> Tuple[int, int]:\n",
    "    counter = np.count_nonzero(np.array([True for each in s.lower() if each in \"aeiou\"]))\n",
    "    return (counter, len(s) - counter)\n",
    "ex4(\"cuvant\")"
   ]
  },
  {
   "cell_type": "code",
   "execution_count": 105,
   "metadata": {},
   "outputs": [
    {
     "name": "stdout",
     "output_type": "stream",
     "text": [
      "True\n"
     ]
    }
   ],
   "source": [
    "def ex5(ldict: List[Dict], n: int) -> bool: return all([len(x) >= n for x in ldict])\n",
    "    \n",
    "print(ex5([{3: 'test', 4: 'test'},{5: 'doi'}], 1))"
   ]
  },
  {
   "cell_type": "code",
   "execution_count": 106,
   "metadata": {},
   "outputs": [],
   "source": [
    "# ex6 ..."
   ]
  },
  {
   "cell_type": "markdown",
   "metadata": {},
   "source": [
    "## Exercitii simple folosind NumPy  \n",
    "\n",
    "Nota: in rezolvarea exercitiilor se vor folosi cat mai mult functii NumPy *vectorizate*. Functiile scrise de voi vor fi documentate cu docstrings (tutoriale: Docstrings in Python, urmati NumPy Style Python Docstrings). Folositi type annotations. Utilizati doar pachetele NumPy."
   ]
  },
  {
   "cell_type": "markdown",
   "metadata": {},
   "source": [
    "1. (0.5 puncte) Pentru un vector NumPy dat, sa se determine care sunt elementele unice, in ordine descrescatoare. Exemplu: pentru `x = np.array([-4, 3,  5, 3, 2, 1, -3, -4, 2, -4])` functia scrisa de dvs va intoarce rezultatul `[ 5,  3,  2,  1, -3, -4]`.\n",
    "1. (0.5 puncte) Pentru un vector NumPy dat, sa se determine care e elementul cel mai frecvent si cel mai putin frecvent (tuplu de 2 valori). Daca exista mai multe numere cele mai frecvente (cele mai putin frecvente), se va raporta oricare din ele. Exemplu: pentru `x = np.array([-4, 3,  5, 3, 2, 1, -3, -4, 2, -4])` functia scrisa de dvs va intoarce rezultatul `(-4, -3)`. \n",
    "1. (0.5 puncte) Plecand de la o matrice, sa se scrie o functie care returneaza vectorul minimelor de pe linii si vectorul maximelor de pe coloane. Exemplu: pentru matricea `mat = np.array([[1, 2, 3, 4], [1, -2, 3, -4], [3, 10, 3, 4]])` functia va returna tuplul de vectori: `(array([ 1, -4,  3]), array([ 3, 10,  3,  4]))`. Indicatie:  folositi-va de parametrul `axis`.\n",
    "1. (0.5 puncte) Pentru o matrice de numere, sa se determine produsul elementelor pe linii sau de pe coloane, in functie de valoarea unui parametru boolean `compute_on_lines`. Exemplu: pentru matricea `mat = np.array([[1, 2, 3, 4], [1, -2, 3, -4], [3, 10, 3, 4]])` si parametrul `compute_on_lines=True`, functia va returna vectorul `[ 24  24 360]`, iar pentru `compute_on_lines=False` se va returna `[  3 -40  27 -64]`.\n",
    "1. (0.5 puncte) Determinati daca macar unul din elementele unei matrice `a` este mai mare decat cel de pe pozitie corespondenta din `b` (adica daca avem macar o pereche de indecsi (i, j) pentru care a[i, j] > b[i, j]). Daca da, se va returna o astfel de pereche de indecsi; daca nu, se va returna None.\n",
    "1. (0.5 puncte) Construiti o functie care, primind o matrice, determina pe ce pozitii se afla valorile in afara unui interval [min, max] dat prin parametri.\n",
    "1. (1 punct) Se considera vectorul: `a = np.array([230, 10, 284, 39, 76])`. Folosind indexarea logica, sa se inmulteasca elementele din vector care sunt mai mici ca 100 cu 2 (restul raman neschimbate). Folosind ciclare, sa se aplice aceeasi operatie pana cand toate elementele devin mai mari ca 100. Sa se afiseze din vectorul final elementele care sunt mai mari de 150 si mai mici de 200.\n",
    "1. (1 punct) Sa se scrie o functie `pair_max` care preia doi vectori de aceeasi lungime si returneaza maximele pe pozitiile corespunzatoare:\n",
    "```python\n",
    "a = np.array([3, 7, 9, 13, -10, 200, 3])\n",
    "b = np.array([4, 5, -9, 100, 300, 230, 1])\n",
    "pair_max(a, b)\n",
    "#iesire dorita: \n",
    "array([  4,   7,   9, 100, 300, 230,   3])\n",
    "```. Functia va verifica cu `assert` ca vectorii au lungimi egale. \n",
    "1. (1 punct) Descarcati setul de date Iris de la adresa 'https://archive.ics.uci.edu/ml/machine-learning-databases/iris/iris.data', si incarcati-l intr--o matrice NumPy, folosind `np.genfromtxt`.  Alegeti aleator 10 pozitii in matricea de 150 linii si 4 coloane (omiteti ultima coloana, de tip text), setati aceste valori pe NaN. Construiti o functie care, primind la intrare o matrice, returneaza un tuplu cu indicii de linii respectiv de coloane in care se gasesc valori NaN.\n",
    "1. (1 punct) Sa se construiasca o functie care returneaza cele mai mici `k` valori dintr-un vector de cel putin `k` elemente, impreuna cu pozitiile lor. "
   ]
  },
  {
   "cell_type": "code",
   "execution_count": 2,
   "metadata": {},
   "outputs": [
    {
     "name": "stdout",
     "output_type": "stream",
     "text": [
      "[ 5  3  2  1 -3 -4]\n"
     ]
    }
   ],
   "source": [
    "# ex1\n",
    "def unique_desc(array: np.array):\n",
    "    \"\"\" Preia un vector Numpy si afiseasa toate elemetele unice in ordine\n",
    "    descrescatoare.\n",
    "    :param array: vector Numpy\n",
    "    :return: vector cu valorile unice in ordonate descrescator\n",
    "    \"\"\"\n",
    "   print(np.sort(np.unique(array))[::-1])\n",
    "    \n",
    "unique_desc([-4, 3,  5, 3, 2, 1, -3, -4, 2, -4])"
   ]
  },
  {
   "cell_type": "code",
   "execution_count": 30,
   "metadata": {},
   "outputs": [
    {
     "data": {
      "text/plain": [
       "(-4, -3)"
      ]
     },
     "execution_count": 30,
     "metadata": {},
     "output_type": "execute_result"
    }
   ],
   "source": [
    "# ex2\n",
    "def frequency(array: np.array) -> Tuple[int, int]:\n",
    "    \"\"\"Preia un vector Numpy cu valori pozitive si negative si returneaza\n",
    "    un tuplu cu elementul cel mai des intalnit si cel mai putin intalnit.\n",
    "    :param array: vector Numpy cu valori + si -\n",
    "    :return: tuplu format din cel mai frecvent si mai putin frecvent element\n",
    "    \"\"\"\n",
    "    elem, freq = np.unique(array, return_counts = True)\n",
    "    return (elem[np.where(freq == np.max(freq))][0], elem[np.where(freq == np.min(freq))][0])\n",
    "\n",
    "frequency(np.array([-4, 3,  5, 3, 2, 1, -3, -4, 2, -4]))"
   ]
  },
  {
   "cell_type": "code",
   "execution_count": 108,
   "metadata": {},
   "outputs": [
    {
     "name": "stdout",
     "output_type": "stream",
     "text": [
      "[array([ 1, -4,  3]), array([ 3, 10,  3,  4])]\n"
     ]
    }
   ],
   "source": [
    "# ex3\n",
    "def maxim(array: np.array)->Tuple[np.array,np.array]:\n",
    "    \"\"\"Preia o matrice si returneaza un tuplu format din vectorul minimelor \n",
    "    de pe linii si vectorul maximelor de pe coloane.\n",
    "    :param array: matrice de forma (m,n)\n",
    "    :return: tuplu cu vectorii minimelor si maximelor de pe linii si\n",
    "    respectiv coloane\n",
    "    \"\"\"\n",
    "    return [np.amin(array,axis=1), np.amax(array,axis=0)]\n",
    "\n",
    "print(maxim([[1, 2, 3, 4], [1, -2, 3, -4], [3, 10, 3, 4]]))"
   ]
  },
  {
   "cell_type": "code",
   "execution_count": 109,
   "metadata": {},
   "outputs": [
    {
     "name": "stdout",
     "output_type": "stream",
     "text": [
      "[ 24  24 360]\n",
      "[  3 -40  27 -64]\n"
     ]
    }
   ],
   "source": [
    "# ex4\n",
    "def product(array: np.array,compute_on_lines:bool)->np.array:\n",
    "    \"\"\"Preia o matrice de numere si returneaza un vector cu produsul\n",
    "    elementelor pe linii sau de pe coloane, in functie de valoarea lui \n",
    "    compute_on_lines.\n",
    "    :param array: matrice de numere\n",
    "    :param compute_on_lines: param de tip boolean\n",
    "    :return: vector cu produsul elementelor \n",
    "    \"\"\"\n",
    "    return np.prod(array,axis=0) if compute_on_lines==False else np.prod(array,axis=1)\n",
    "\n",
    "array=[[1,2,3,4],[1,-2,3,-4],[3,10,3,4]]\n",
    "print(product(array,True))\n",
    "print(product(array,False))"
   ]
  },
  {
   "cell_type": "code",
   "execution_count": 45,
   "metadata": {},
   "outputs": [
    {
     "name": "stdout",
     "output_type": "stream",
     "text": [
      "(1, 1)\n"
     ]
    }
   ],
   "source": [
    "# ex5\n",
    "def matrix_compare(matrix_a: np.array, matrix_b: np.array) -> Tuple[int, int]:\n",
    "    \"\"\"Preia doua matrici pe care se verifica daca macar o valoare din prima\n",
    "    este mai mare decat valoarea de pe acceasi pozitie din a doua \n",
    "    si returneaza un tuplu din indecsii respectivi daca exista iar daca nu \n",
    "    se returneaza None\n",
    "    :param matrix_a,matrix_b: matrici de forma (m,n)\n",
    "    :return: tuplu de indecsi sau None\n",
    "    \"\"\"\n",
    "    result = np.where(matrix_a == matrix_b)\n",
    "    try:\n",
    "        return (result[0][0],result[1][0])\n",
    "    except:\n",
    "        return None\n",
    "    \n",
    "a = np.array([[1, 2, 3], [4, 5, 6], [7, 6, 3], [9, 9, 9]])\n",
    "b = np.array([[5, 6, 5], [2, 5, 12], [-3, 6, 9], [0, -4, 2]])\n",
    "print(matrix_compare(a, b))"
   ]
  },
  {
   "cell_type": "code",
   "execution_count": 48,
   "metadata": {},
   "outputs": [
    {
     "data": {
      "text/plain": [
       "[(0, 0), (1, 1), (1, 2), (2, 0), (2, 1), (2, 2), (3, 2)]"
      ]
     },
     "execution_count": 48,
     "metadata": {},
     "output_type": "execute_result"
    }
   ],
   "source": [
    "# ex6\n",
    "def matrix_out_interval(matrix: np.array, interval: Tuple[int, int]) -> np.array:\n",
    "    \"\"\"Preia o matrice si un interval, returnand un vector cu pozitiile pe care \n",
    "    se afla valorile in afara intervalului.\n",
    "    :param matrix: matrice\n",
    "    :param interval: tuplu de int\n",
    "    :return: vector cu pozitiile respective\n",
    "    \"\"\"\n",
    "    line, column = np.where((matrix < interval[0]) | (matrix > interval[1]))\n",
    "    return list(zip(line, column))\n",
    "\n",
    "matrix = np.array([[11, 12, 13],\n",
    "                    [14, 15, 16],\n",
    "                    [17, 15, 11],\n",
    "                    [12, 14, 15]])\n",
    "matrix_out_interval(matrix, (12, 14))"
   ]
  },
  {
   "cell_type": "code",
   "execution_count": 59,
   "metadata": {},
   "outputs": [
    {
     "name": "stdout",
     "output_type": "stream",
     "text": [
      "[230 160 284 156 152]\n"
     ]
    }
   ],
   "source": [
    "# ex7\n",
    "def recursive_func(array: np.array) -> np.array:\n",
    "    \"\"\"Preia un vector pe care folosind indexarea logica, se inmultesc\n",
    "    elementele din vector care sunt mai mici ca 100 cu 2 (restul raman neschimbate).\n",
    "    Aplicand ciclarea pana cand toate elementele sunt >100, returneaza vectorul cu \n",
    "    numerele rezultate.\n",
    "    :param array: vector de numere\n",
    "    :return: vector cu numerele rezultate dupa ciclarea functiei\n",
    "    \"\"\"\n",
    "    position = np.where(array < 100)[0]\n",
    "    if len(position) == 0:\n",
    "        return array\n",
    "    else:\n",
    "        array[np.array(position)] *= 2\n",
    "        return recursive_func(array)\n",
    "\n",
    "a = np.array([230, 10, 284, 39, 76])\n",
    "print(recursive_func(a))"
   ]
  },
  {
   "cell_type": "code",
   "execution_count": 13,
   "metadata": {},
   "outputs": [
    {
     "name": "stdout",
     "output_type": "stream",
     "text": [
      "[  4   7   9 100 300 230   3]\n"
     ]
    }
   ],
   "source": [
    "# ex8\n",
    "def pair_max(array1: np.array,array2: np.array)->np.array:\n",
    "    \"\"\"Preia doi vectori de aceeasi lungime si returneaza un vector cu \n",
    "    maximele pe pozitiile corespunzatoare. Se verifica cu assert daca cei doi\n",
    "    vectori au aceeasi lungime.\n",
    "    :param array1,array2: vectori de aceeasi lungime\n",
    "    :return: vector cu maximele de pe aceleasi pozitii\n",
    "    \"\"\"\n",
    "    assert len(array1)==len(array2),\"The lenght is not equal!\"\n",
    "    return np.maximum(array1,array2)\n",
    "\n",
    "print(pair_max([3, 7, 9, 13, -10, 200,3],[4, 5, -9, 100, 300, 230, 1]))"
   ]
  },
  {
   "cell_type": "code",
   "execution_count": 87,
   "metadata": {},
   "outputs": [
    {
     "name": "stdout",
     "output_type": "stream",
     "text": [
      "[(25, 0), (39, 0), (62, 1), (68, 0), (77, 3), (82, 2), (87, 2), (96, 1), (98, 3), (115, 1)]\n"
     ]
    }
   ],
   "source": [
    "# ex9\n",
    "data = np.genfromtxt('iris.data', delimiter = ',')\n",
    "data = data[:, :-1]\n",
    "nan_count = 0\n",
    "while nan_count < 10:\n",
    "    line = np.random.randint(np.ma.size(data, 0))\n",
    "    column = np.random.randint(np.ma.size(data, 1))\n",
    "    if np.isfinite(data[line, column]):\n",
    "        data[line, column] = np.nan\n",
    "        nan_count += 1\n",
    "        \"\"\"Se incarca datele din fisier intr-o matrice. Se cauta aleator 10\n",
    "        pozitii in aceasta matrice de 150 linii si 4 coloane omitand ultima\n",
    "        coloana, de tip text si se seteaza aceste valori pe NaN.\n",
    "        \"\"\"\n",
    "\n",
    "def nan_counter(matrix: np.array) -> np.array:\n",
    "    \"\"\"Preia o matrice si returneaza un tuplu cu indicii de linii respectiv \n",
    "    de coloane in care se gasesc valori NaN.\n",
    "    :param matrix: matrice de 150 linii si 4 coloane\n",
    "    :return: vector de tuple\n",
    "    \"\"\"\n",
    "    lines, columns = np.where(np.isnan(matrix))\n",
    "    return list(zip(lines, columns))\n",
    "\n",
    "print(nan_counter(data))\n"
   ]
  },
  {
   "cell_type": "code",
   "execution_count": 52,
   "metadata": {},
   "outputs": [
    {
     "data": {
      "text/plain": "[(-4, 4), (2, 5), (5, 2)]"
     },
     "execution_count": 52,
     "metadata": {},
     "output_type": "execute_result"
    }
   ],
   "source": [
    "# ex10\n",
    "def min_k(array: np.array, k: int) -> np.array:\n",
    "    \"\"\"Preia un vector si un parametru implicit k. Returneaza cele mai mici \n",
    "    valori din acel vector de cel putin k elemente, impreuna cu pozitiile lor.\n",
    "    :param array: vector de numere\n",
    "    :param k: parametru implicit de tip int\n",
    "    :return: vector de cel putin k elemente  \n",
    "    \"\"\"\n",
    "    assert len(array) >= k, f\"Given array is too short for k = {k}\"\n",
    "    return list(zip(np.sort(array)[:k], np.argsort(array)[:k]))\n",
    "    \n",
    "    \n",
    "min_k(np.array([12, 12, 5, 6, -4, 2]), 3)"
   ]
  },
  {
   "cell_type": "markdown",
   "metadata": {},
   "source": [
    "## Precizari\n",
    "1. Se acorda 3 puncte din oficiu.\n",
    "1. Tema se va prezenta in saptamana 16-20 martie 2020. \n",
    "1. Repository-ul va contine un fisier \"readme.md\" (in radacina repository-ului) in care vor fi mentionati autorii temelor, cu nume complet si grupa din care fac parte."
   ]
  },
  {
   "cell_type": "code",
   "execution_count": null,
   "metadata": {},
   "outputs": [],
   "source": []
  }
 ],
 "metadata": {
  "kernelspec": {
   "display_name": "Python 3",
   "language": "python",
   "name": "python3"
  },
  "language_info": {
   "codemirror_mode": {
    "name": "ipython",
    "version": 3
   },
   "file_extension": ".py",
   "mimetype": "text/x-python",
   "name": "python",
   "nbconvert_exporter": "python",
   "pygments_lexer": "ipython3",
   "version": "3.7.6-final"
  },
  "toc": {
   "base_numbering": 1,
   "nav_menu": {},
   "number_sections": true,
   "sideBar": true,
   "skip_h1_title": false,
   "title_cell": "Table of Contents",
   "title_sidebar": "Contents",
   "toc_cell": false,
   "toc_position": {},
   "toc_section_display": true,
   "toc_window_display": false
  },
  "varInspector": {
   "cols": {
    "lenName": 16,
    "lenType": 16,
    "lenVar": 40
   },
   "kernels_config": {
    "python": {
     "delete_cmd_postfix": "",
     "delete_cmd_prefix": "del ",
     "library": "var_list.py",
     "varRefreshCmd": "print(var_dic_list())"
    },
    "r": {
     "delete_cmd_postfix": ") ",
     "delete_cmd_prefix": "rm(",
     "library": "var_list.r",
     "varRefreshCmd": "cat(var_dic_list()) "
    }
   },
   "types_to_exclude": [
    "module",
    "function",
    "builtin_function_or_method",
    "instance",
    "_Feature"
   ],
   "window_display": false
  }
 },
 "nbformat": 4,
 "nbformat_minor": 2
}