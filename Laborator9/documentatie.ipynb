{
 "cells": [
  {
   "cell_type": "markdown",
   "metadata": {},
   "source": [
    "# Decision Tree Regressor"
   ]
  },
  {
   "cell_type": "markdown",
   "metadata": {},
   "source": [
    "Acest arbore de decizie observa trasaturile unui obiect si antreneaza un model cu structura unui arbore pentru a prezice rezultate continue si semnificative.\n",
    "Rezultatele continue inseamna ca outputul nu este discret, adica nu este reprezentat doar de valori cunoscute.\n",
    "\n",
    "Exemplu de rezultat discret este: Un model de predictie a vremii care prezice daca va ploua sau nu intr-o anumita zi.\n",
    "\n",
    "Exemplu de rezultat continuu: Un model de predictie a profitului care afirma posibilitatea profitului unui anumit produs.\n",
    "\n",
    "Fiecare componenta a arborelui reprezinta cate ceva semnificativ si anume:     \n",
    "*nodurile reprezinta intrebari pe baza carora algoritmul ia o decizie( sa mearga pe muchia dreapta sau pe cea din stanga);                                       \n",
    "*muchiile contin deciziile luate;                                               \n",
    "*frunzele reprezinta rezultatul regresiei;\n",
    "\n",
    "<br>\n",
    "<img src=\"images/dtr_1.jpeg\">\n",
    "<br>\n",
    "\n",
    "Putem observa mai sus ca cu cat adancimea arborelui este mai mare, cu atat regulile de deciziile sunt mai complexe.\n",
    "\n",
    "Avantaje:\n",
    "1. Datele nu necesita scalare.\n",
    "2. Nu intampina probleme cand vine vorba de valori lipsa.\n",
    "3. Arborii de decizie sunt usor de interpretat, sunt intuitivi si usor de explicat.\n",
    "\n",
    "Dezavantaje:\n",
    "1. O mica schimbare in setul de date poate cauza o foarte mare schimbare in structura arborelui de decizie, acest lucru cauzand instabilitate.\n",
    "2. Este o mare probabilitate de overfitting.\n",
    "3. Are complexitate de timp mare.\n",
    "    "
   ]
  },
  {
   "cell_type": "markdown",
   "metadata": {},
   "source": [
    "## Bibliografie:"
   ]
  },
  {
   "cell_type": "markdown",
   "metadata": {},
   "source": [
    "https://scikit-learn.org/stable/modules/tree.html #tree\n",
    "https://www.geeksforgeeks.org/python-decision-tree-regression-using-sklearn/\n",
    "https://medium.com/@dhiraj8899/top-5-advantages-and-disadvantages-of-decision-tree-algorithm-428ebd199d9a    "
   ]
  },
  {
   "cell_type": "markdown",
   "metadata": {},
   "source": [
    "# Random Forest Regressor"
   ]
  },
  {
   "cell_type": "markdown",
   "metadata": {},
   "source": [
    "Acest model este folosit in probleme de clasificare si regresie la fel ca cel precedent. \n",
    "\n",
    "Algorimul functioneaza prin constructia mai multor arbori de decizie in timpul antrenarii datelor si returneaza media predictiei fiecarui arbore. In avcest timp arborii lucreaza in paralel fara sa aiba vreo tangenta unul cu altul.\n",
    "Random Forest este un meta-estimator, adica combina rezultatul mai multor predictii, avand in vedere urmatoarele conditii:\n",
    "\n",
    "1. Numarul trasaturilor care poate fi impartit in fiecare nod este limitat la un anumit procent din numarul total de trasaturi. Acest lucru asigura ca modelul nu depinde prea mult de o trasatura specifica si ia in considerare toate trasaturile.\n",
    "\n",
    "2. Fiecare arbore extrage un sample random din setul de date original cand se genereaza impartirea, astfel prevenind overfitting-ul.\n",
    "\n",
    "\n",
    "<br>\n",
    "<img src=\"images/rf_1.jpeg\">\n",
    "<br>\n",
    "\n",
    "Avantaje:\n",
    "1. Are performanta crescuta.\n",
    "2. Se descurca foarte bine pe seturi foarte mari de date.\n",
    "3. Se descurca bine cu valorile extreme si nu este influentat de zgomot fiindca este foarte stabil.\n",
    "4. Se descurca foarte bine cu valori lipsa si mentine acuratete crescuta.\n",
    "5. Random forest regression este o metoda mai rapida si mai precisa decat regresiile boosted(de ex. Gradient Boosting)antrenate pe acelasi set de date.\n",
    "\n",
    "Dezavantaje:\n",
    "1. Ii ia foarte mult timp sa se antreneze pe setul de date.\n",
    "2. Are complexitate mare, deoarece are nevoie de cel putin 100 de arbori de decizie, acest lucru necesita putere computationala mare.\n"
   ]
  },
  {
   "cell_type": "markdown",
   "metadata": {},
   "source": [
    "## Bibliografie:\n"
   ]
  },
  {
   "cell_type": "markdown",
   "metadata": {},
   "source": [
    "https://towardsdatascience.com/random-forest-and-its-implementation-71824ced454f\n",
    "http://theprofessionalspoint.blogspot.com/2019/02/advantages-and-disadvantages-of-random.html\n",
    "https://scikit-learn.org/stable/modules/generated/sklearn.ensemble.RandomForestRegressor.html"
   ]
  },
  {
   "cell_type": "code",
   "execution_count": null,
   "metadata": {},
   "outputs": [],
   "source": []
  }
 ],
 "metadata": {
  "kernelspec": {
   "display_name": "Python 3",
   "language": "python",
   "name": "python3"
  },
  "language_info": {
   "codemirror_mode": {
    "name": "ipython",
    "version": 3
   },
   "file_extension": ".py",
   "mimetype": "text/x-python",
   "name": "python",
   "nbconvert_exporter": "python",
   "pygments_lexer": "ipython3",
   "version": "3.7.4"
  }
 },
 "nbformat": 4,
 "nbformat_minor": 2
}
