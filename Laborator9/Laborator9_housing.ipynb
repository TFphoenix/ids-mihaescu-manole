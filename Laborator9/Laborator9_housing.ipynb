{
 "cells": [
  {
   "cell_type": "markdown",
   "metadata": {},
   "source": [
    "## Nume studenti:\n",
    "- Alexandra Manole\n",
    "- Teodor Mihaescu\n",
    "\n",
    "## Grupa: 382"
   ]
  },
  {
   "cell_type": "markdown",
   "metadata": {},
   "source": [
    "# Dataset 2: Boston Housing"
   ]
  },
  {
   "cell_type": "code",
   "execution_count": 5,
   "metadata": {},
   "outputs": [],
   "source": [
    "from collections import Counter\n",
    "import matplotlib.pyplot as plt\n",
    "import pandas as pd\n",
    "import numpy as np\n",
    "\n",
    "from sklearn import preprocessing\n",
    "from sklearn.model_selection import train_test_split"
   ]
  },
  {
   "cell_type": "code",
   "execution_count": 6,
   "metadata": {},
   "outputs": [],
   "source": [
    "# Read and preprocess dataset\n",
    "data = pd.read_csv('./data/housing.csv', header=None)"
   ]
  },
  {
   "cell_type": "code",
   "execution_count": 7,
   "metadata": {},
   "outputs": [
    {
     "output_type": "stream",
     "name": "stdout",
     "text": "<class 'pandas.core.frame.DataFrame'>\nRangeIndex: 506 entries, 0 to 505\nData columns (total 14 columns):\n #   Column  Non-Null Count  Dtype  \n---  ------  --------------  -----  \n 0   0       506 non-null    float64\n 1   1       506 non-null    float64\n 2   2       506 non-null    float64\n 3   3       506 non-null    int64  \n 4   4       506 non-null    float64\n 5   5       506 non-null    float64\n 6   6       506 non-null    float64\n 7   7       506 non-null    float64\n 8   8       506 non-null    int64  \n 9   9       506 non-null    float64\n 10  10      506 non-null    float64\n 11  11      506 non-null    float64\n 12  12      506 non-null    float64\n 13  13      506 non-null    float64\ndtypes: float64(12), int64(2)\nmemory usage: 55.5 KB\n"
    }
   ],
   "source": [
    "data.info()"
   ]
  },
  {
   "cell_type": "code",
   "execution_count": 8,
   "metadata": {},
   "outputs": [],
   "source": [
    "# Scale dataset\n",
    "min_max_scaler = preprocessing.MinMaxScaler()\n",
    "data = pd.DataFrame(min_max_scaler.fit_transform(data))"
   ]
  },
  {
   "cell_type": "code",
   "execution_count": 10,
   "metadata": {},
   "outputs": [],
   "source": [
    "# Split dataset\n",
    "X = data.iloc[:,:-1]\n",
    "y = data.iloc[:, -1]\n",
    "X_train, X_test, y_train, y_test = train_test_split(X, y, test_size=1/3)"
   ]
  },
  {
   "cell_type": "markdown",
   "metadata": {},
   "source": [
    "## Model 1: ?"
   ]
  },
  {
   "cell_type": "code",
   "execution_count": null,
   "metadata": {},
   "outputs": [],
   "source": []
  }
 ],
 "metadata": {
  "language_info": {
   "codemirror_mode": {
    "name": "ipython",
    "version": 3
   },
   "file_extension": ".py",
   "mimetype": "text/x-python",
   "name": "python",
   "nbconvert_exporter": "python",
   "pygments_lexer": "ipython3",
   "version": "3.7.6-final"
  },
  "orig_nbformat": 2,
  "kernelspec": {
   "name": "python37664bitidsconda6aac95af6de54c59bceda5e4272aaa84",
   "display_name": "Python 3.7.6 64-bit ('IDS': conda)"
  }
 },
 "nbformat": 4,
 "nbformat_minor": 2
}