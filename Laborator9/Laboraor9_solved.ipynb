{
 "cells": [
  {
   "cell_type": "markdown",
   "metadata": {},
   "source": [
    "## Nume studenti:\n",
    "- Alexandra Manole\n",
    "- Teodor Mihaescu\n",
    "\n",
    "## Grupa: 382"
   ]
  },
  {
   "cell_type": "markdown",
   "metadata": {},
   "source": [
    "# Generic Data"
   ]
  },
  {
   "cell_type": "code",
   "execution_count": 1,
   "metadata": {},
   "outputs": [],
   "source": [
    "# Imports\n",
    "from collections import Counter\n",
    "import matplotlib.pyplot as plt\n",
    "import pandas as pd\n",
    "import numpy as np\n",
    "\n",
    "from sklearn import preprocessing\n",
    "from sklearn.model_selection import train_test_split, cross_validate, cross_val_score, GridSearchCV, RandomizedSearchCV\n",
    "from sklearn.pipeline import Pipeline\n",
    "\n",
    "from sklearn.linear_model import LinearRegression, PassiveAggressiveRegressor, Ridge\n",
    "from sklearn.neighbors import KNeighborsRegressor\n",
    "from sklearn.tree import DecisionTreeRegressor\n",
    "from sklearn.ensemble import RandomForestRegressor"
   ]
  },
  {
   "cell_type": "code",
   "execution_count": 2,
   "metadata": {},
   "outputs": [],
   "source": [
    "# Results dataframe\n",
    "final_results = pd.DataFrame(columns=['dataset', 'model', 'search_strategy', 'fit_time', 'score_time', 'test_neg_mean_absolute_error', 'train_neg_mean_absolute_error','test_neg_mean_squared_error', 'train_neg_mean_squared_error', 'test_neg_median_absolute_error', 'train_neg_median_absolute_error'])"
   ]
  },
  {
   "cell_type": "code",
   "execution_count": 3,
   "metadata": {},
   "outputs": [],
   "source": [
    "# Cross Validation Function\n",
    "def f_cross_validation(model, X, y):\n",
    "    cv_result = cross_validate(model, X, y, cv=5,\n",
    "    scoring=['neg_mean_absolute_error', 'neg_mean_squared_error', 'neg_median_absolute_error'], \n",
    "    return_train_score=True)\n",
    "    print(cv_result)\n",
    "\n",
    "# GridSearch Function\n",
    "def f_hyperparam_gscv(model, X, y, parameter_grid, results_index, c_dataset, c_model):\n",
    "    pipeline = Pipeline([('scaler', preprocessing.MinMaxScaler()), ('model', model)])\n",
    "\n",
    "    grid_search = GridSearchCV(estimator=pipeline, param_grid=parameter_grid, scoring='neg_mean_squared_error', cv=3, return_train_score=True)\n",
    "\n",
    "    results_gscv = cross_validate(grid_search, X, y, cv=5, scoring=['neg_mean_absolute_error', 'neg_mean_squared_error', 'neg_median_absolute_error'], return_train_score=True)\n",
    "\n",
    "    gscv = pd.DataFrame(results_gscv)\n",
    "    gscv = list(gscv.mean(axis=0))\n",
    "\n",
    "    final_results.loc[results_index] = [c_dataset, c_model, 'GridSearchCV'] + gscv\n",
    "    print(final_results.loc[results_index])\n",
    "\n",
    "# RandomSearch Function\n",
    "def f_hyperparam_rscv(model, X, y, parameter_grid, results_index, c_dataset, c_model):\n",
    "    pipeline = Pipeline([('scaler', preprocessing.MinMaxScaler()), ('model', model)])\n",
    "\n",
    "    randomized_search = RandomizedSearchCV(estimator=pipeline, param_distributions=parameter_grid, random_state=0, n_iter=7, scoring='neg_mean_squared_error')\n",
    "\n",
    "    results_rscv = cross_validate(randomized_search, X, y, cv=5, scoring=['neg_mean_absolute_error', 'neg_mean_squared_error', 'neg_median_absolute_error'], return_train_score=True)\n",
    "\n",
    "    rscv = pd.DataFrame(results_rscv)\n",
    "    rscv = list(rscv.mean(axis=0))\n",
    "\n",
    "    final_results.loc[results_index] = [c_dataset, c_model, 'RandomizedSearchCV'] + rscv\n",
    "    print(final_results.loc[results_index])"
   ]
  },
  {
   "cell_type": "code",
   "execution_count": 4,
   "metadata": {},
   "outputs": [],
   "source": [
    "# Parameter Grids\n",
    "pg_LinearRegression = {\n",
    "    'model__fit_intercept': [True, False], \n",
    "    'model__normalize': [True, False], \n",
    "    'model__n_jobs': [None, 5, 10],\n",
    "}\n",
    "\n",
    "pg_DecisionTree = {\n",
    "    'model__criterion': ['mse', 'friedman_mse', 'mae'], \n",
    "    'model__max_depth': list(range(1,5)), \n",
    "    'model__max_features': ['sqrt', 'log2', None]\n",
    "}\n",
    "\n",
    "pg_RandomForest = {\n",
    "    'model__criterion': ['mse', 'mae'], \n",
    "    'model__max_depth': list(range(3,7)),\n",
    "    'model__min_samples_split': list(range(2,4)),\n",
    "    'model__min_samples_leaf': list(range(3,7))\n",
    "}\n",
    "\n",
    "pg_PassiveAggressive = {\n",
    "    'model__C': np.linspace(0, 2, 5),\n",
    "    'model__max_iter': [500, 1000, 10000],\n",
    "    'model__early_stopping': [True, False],\n",
    "    'model__validation_fraction': np.linspace(0.1, 0.9, 5)\n",
    "}\n",
    "\n",
    "pg_Ridge = {\n",
    "    'model__alpha': np.linspace(0, 2, 5),\n",
    "    'model__fit_intercept': [True, False],\n",
    "    'model__solver': ['auto', 'svd', 'cholesky', 'lsqr', 'sparse_cg', 'sag', 'saga']\n",
    "}\n",
    "\n",
    "pg_KNeighbors = {\n",
    "    'model__n_neighbors': range(2,15),\n",
    "    'model__weights': ['uniform', 'distance'],\n",
    "    'model__algorithm': ['auto', 'ball_tree', 'kd_tree', 'brute'],\n",
    "    'model__p': [1, 2, 3, 4, 5]\n",
    "}"
   ]
  },
  {
   "cell_type": "code",
   "execution_count": 5,
   "metadata": {},
   "outputs": [],
   "source": [
    "# Model Names\n",
    "mn_LinReg = 'Linear Regression'\n",
    "mn_DTreeReg = 'Decision Tree Regressor'\n",
    "mn_RForestReg = 'Random Forest Regressor'\n",
    "mn_PasAggReg = 'Passive Aggressive Regressor'\n",
    "mn_Ridge = 'Ridge'\n",
    "mn_KNReg = 'KNeighbors Regressor'"
   ]
  },
  {
   "cell_type": "code",
   "execution_count": 6,
   "metadata": {},
   "outputs": [],
   "source": [
    "# Dataset Names\n",
    "dataset_names = ['CPU Computer Hardware', 'Boston Housing', 'Wisconsin Breast Cancer', 'Communities and Crime']"
   ]
  },
  {
   "cell_type": "markdown",
   "metadata": {},
   "source": [
    "# Dataset 1: CPU Computer Hardware"
   ]
  },
  {
   "cell_type": "code",
   "execution_count": 7,
   "metadata": {},
   "outputs": [],
   "source": [
    "# Read and preprocess dataset\n",
    "# remove columns: 0, 1, 9\n",
    "data1 = pd.read_csv('./data/machine.csv', header=None)\n",
    "data1 = data1.drop([0, 1, 9], axis=1)"
   ]
  },
  {
   "cell_type": "code",
   "execution_count": 8,
   "metadata": {},
   "outputs": [
    {
     "output_type": "stream",
     "name": "stdout",
     "text": "<class 'pandas.core.frame.DataFrame'>\nRangeIndex: 209 entries, 0 to 208\nData columns (total 7 columns):\n #   Column  Non-Null Count  Dtype\n---  ------  --------------  -----\n 0   2       209 non-null    int64\n 1   3       209 non-null    int64\n 2   4       209 non-null    int64\n 3   5       209 non-null    int64\n 4   6       209 non-null    int64\n 5   7       209 non-null    int64\n 6   8       209 non-null    int64\ndtypes: int64(7)\nmemory usage: 11.6 KB\n"
    }
   ],
   "source": [
    "data1.info()"
   ]
  },
  {
   "cell_type": "code",
   "execution_count": 9,
   "metadata": {},
   "outputs": [],
   "source": [
    "# Split dataset\n",
    "X1 = data1.iloc[:,:-1]\n",
    "y1 = data1.iloc[:, -1]"
   ]
  },
  {
   "cell_type": "markdown",
   "metadata": {},
   "source": [
    "## Model 1: Linear Regression"
   ]
  },
  {
   "cell_type": "code",
   "execution_count": 10,
   "metadata": {},
   "outputs": [
    {
     "output_type": "stream",
     "name": "stdout",
     "text": "{'fit_time': array([0.02762485, 0.00324941, 0.01070619, 0.00299191, 0.00499225]), 'score_time': array([0.01177025, 0.00299215, 0.00206923, 0.00199461, 0.00398922]), 'test_neg_mean_absolute_error': array([-61.34026534, -31.95835797, -28.01457991, -35.29790418,\n       -60.28020386]), 'train_neg_mean_absolute_error': array([-33.55324199, -40.93949542, -42.68532163, -38.43887102,\n       -27.86144046]), 'test_neg_mean_squared_error': array([ -7132.29604887,  -2313.60304893,  -1501.82173589,  -2325.40326266,\n       -18645.15939037]), 'train_neg_mean_squared_error': array([-2659.04702109, -3845.23370503, -4046.40578748, -3823.06823155,\n       -1844.7383097 ]), 'test_neg_median_absolute_error': array([-42.57149169, -22.57209636, -22.0871234 , -23.87013427,\n       -24.16811393]), 'train_neg_median_absolute_error': array([-24.13967286, -30.66859096, -33.19881476, -23.69025309,\n       -16.21054841])}\n"
    }
   ],
   "source": [
    "# Cross Validation\n",
    "f_cross_validation(LinearRegression(), X1, y1)"
   ]
  },
  {
   "cell_type": "code",
   "execution_count": 11,
   "metadata": {},
   "outputs": [
    {
     "output_type": "stream",
     "name": "stdout",
     "text": "dataset                            CPU Computer Hardware\nmodel                                  Linear Regression\nsearch_strategy                             GridSearchCV\nfit_time                                        0.494645\nscore_time                                    0.00316443\ntest_neg_mean_absolute_error                    -43.3783\ntrain_neg_mean_absolute_error                   -36.6957\ntest_neg_mean_squared_error                     -6383.66\ntrain_neg_mean_squared_error                     -3243.7\ntest_neg_median_absolute_error                  -27.0538\ntrain_neg_median_absolute_error                 -25.5816\nName: 0, dtype: object\n"
    }
   ],
   "source": [
    "# Hyperparameters - GridSearch\n",
    "f_hyperparam_gscv(LinearRegression(), X1, y1, pg_LinearRegression, 0, \n",
    "dataset_names[0], mn_LinReg)"
   ]
  },
  {
   "cell_type": "code",
   "execution_count": 12,
   "metadata": {},
   "outputs": [
    {
     "output_type": "stream",
     "name": "stdout",
     "text": "dataset                            CPU Computer Hardware\nmodel                                  Linear Regression\nsearch_strategy                       RandomizedSearchCV\nfit_time                                        0.373086\nscore_time                                    0.00252762\ntest_neg_mean_absolute_error                    -43.3783\ntrain_neg_mean_absolute_error                   -36.6957\ntest_neg_mean_squared_error                     -6383.66\ntrain_neg_mean_squared_error                     -3243.7\ntest_neg_median_absolute_error                  -27.0538\ntrain_neg_median_absolute_error                 -25.5816\nName: 1, dtype: object\n"
    }
   ],
   "source": [
    "# Hyperparameters - RandomSearch\n",
    "f_hyperparam_rscv(LinearRegression(), X1, y1, pg_LinearRegression, 1, \n",
    "dataset_names[0], mn_LinReg)"
   ]
  },
  {
   "cell_type": "markdown",
   "metadata": {},
   "source": [
    "## Model 2: Decision Tree Regressor"
   ]
  },
  {
   "cell_type": "code",
   "execution_count": 13,
   "metadata": {},
   "outputs": [
    {
     "output_type": "stream",
     "name": "stdout",
     "text": "{'fit_time': array([0.00498676, 0.00595665, 0.00503612, 0.00699353, 0.00399923]), 'score_time': array([0.00309587, 0.00301957, 0.00393963, 0.00210118, 0.00198483]), 'test_neg_mean_absolute_error': array([-59.5       , -19.77380952, -23.06349206, -36.02380952,\n       -78.93495935]), 'train_neg_mean_absolute_error': array([-1.15449102, -3.06786427, -2.81516966, -2.68942116, -3.11984127]), 'test_neg_mean_squared_error': array([-15105.55952381,  -1241.64880952,  -1461.02645503,  -1953.70238095,\n       -32425.2303523 ]), 'train_neg_mean_squared_error': array([ -21.69341317, -123.15668663, -116.24830339, -110.43692615,\n       -122.77063492]), 'test_neg_median_absolute_error': array([-23.  ,  -9.25, -12.  , -29.5 , -20.  ]), 'train_neg_median_absolute_error': array([-0., -0., -0., -0., -0.])}\n"
    }
   ],
   "source": [
    "# Cross Validation\n",
    "f_cross_validation(DecisionTreeRegressor(), X1, y1)"
   ]
  },
  {
   "cell_type": "code",
   "execution_count": 14,
   "metadata": {},
   "outputs": [
    {
     "output_type": "stream",
     "name": "stdout",
     "text": "dataset                              CPU Computer Hardware\nmodel                              Decision Tree Regressor\nsearch_strategy                               GridSearchCV\nfit_time                                          0.958233\nscore_time                                      0.00199924\ntest_neg_mean_absolute_error                       -45.506\ntrain_neg_mean_absolute_error                     -31.6573\ntest_neg_mean_squared_error                       -11405.5\ntrain_neg_mean_squared_error                      -5361.84\ntest_neg_median_absolute_error                    -21.1875\ntrain_neg_median_absolute_error                   -15.7681\nName: 2, dtype: object\n"
    }
   ],
   "source": [
    "# Hyperparameters - GridSearch\n",
    "f_hyperparam_gscv(DecisionTreeRegressor(), X1, y1, pg_DecisionTree, 2, \n",
    "dataset_names[0], mn_DTreeReg)"
   ]
  },
  {
   "cell_type": "code",
   "execution_count": 15,
   "metadata": {},
   "outputs": [
    {
     "output_type": "stream",
     "name": "stdout",
     "text": "dataset                              CPU Computer Hardware\nmodel                              Decision Tree Regressor\nsearch_strategy                         RandomizedSearchCV\nfit_time                                          0.356394\nscore_time                                      0.00479951\ntest_neg_mean_absolute_error                      -43.9195\ntrain_neg_mean_absolute_error                     -27.4906\ntest_neg_mean_squared_error                        -9889.5\ntrain_neg_mean_squared_error                      -1806.95\ntest_neg_median_absolute_error                    -23.4259\ntrain_neg_median_absolute_error                   -16.8744\nName: 3, dtype: object\n"
    }
   ],
   "source": [
    "# Hyperparameters - RandomSearch\n",
    "f_hyperparam_rscv(DecisionTreeRegressor(), X1, y1, pg_DecisionTree, 3, \n",
    "dataset_names[0], mn_DTreeReg)"
   ]
  },
  {
   "cell_type": "markdown",
   "metadata": {},
   "source": [
    "## Model 3: Random Forest Regressor"
   ]
  },
  {
   "cell_type": "code",
   "execution_count": 16,
   "metadata": {},
   "outputs": [
    {
     "output_type": "stream",
     "name": "stdout",
     "text": "{'fit_time': array([0.23582888, 0.18836713, 0.18854117, 0.17880726, 0.17221928]), 'score_time': array([0.01596069, 0.01200557, 0.00825691, 0.00899959, 0.00818563]), 'test_neg_mean_absolute_error': array([-43.85469388, -18.82745635, -21.84880102, -36.01700794,\n       -54.37548432]), 'train_neg_mean_absolute_error': array([ -8.32358645, -12.43488894, -12.2282745 , -12.09395608,\n       -10.50116426]), 'test_neg_mean_squared_error': array([ -6890.4507767 ,   -906.28382153,  -1003.33125043,  -2105.20891349,\n       -22604.0115505 ]), 'train_neg_mean_squared_error': array([-303.39726508, -633.9389456 , -580.39498079, -635.11647933,\n       -544.86540989]), 'test_neg_median_absolute_error': array([-19.235  , -13.925  , -12.12375, -30.355  , -16.192  ]), 'train_neg_median_absolute_error': array([-3.84333333, -4.91666667, -5.445     , -4.577     , -4.56416667])}\n"
    }
   ],
   "source": [
    "# Cross Validation\n",
    "f_cross_validation(RandomForestRegressor(), X1, y1)"
   ]
  },
  {
   "cell_type": "code",
   "execution_count": 17,
   "metadata": {},
   "outputs": [
    {
     "output_type": "stream",
     "name": "stdout",
     "text": "dataset                              CPU Computer Hardware\nmodel                              Random Forest Regressor\nsearch_strategy                               GridSearchCV\nfit_time                                           52.4889\nscore_time                                       0.0128105\ntest_neg_mean_absolute_error                      -38.9224\ntrain_neg_mean_absolute_error                     -24.9026\ntest_neg_mean_squared_error                       -9417.99\ntrain_neg_mean_squared_error                      -3037.63\ntest_neg_median_absolute_error                    -17.5229\ntrain_neg_median_absolute_error                   -12.3827\nName: 4, dtype: object\n"
    }
   ],
   "source": [
    "# Hyperparameters - GridSearch\n",
    "f_hyperparam_gscv(RandomForestRegressor(), X1, y1, pg_RandomForest, 4, \n",
    "dataset_names[0], mn_RForestReg)"
   ]
  },
  {
   "cell_type": "code",
   "execution_count": 20,
   "metadata": {},
   "outputs": [
    {
     "output_type": "stream",
     "name": "stdout",
     "text": "dataset                              CPU Computer Hardware\nmodel                              Random Forest Regressor\nsearch_strategy                         RandomizedSearchCV\nfit_time                                           8.78876\nscore_time                                       0.0121683\ntest_neg_mean_absolute_error                      -40.2226\ntrain_neg_mean_absolute_error                     -27.8462\ntest_neg_mean_squared_error                       -10236.2\ntrain_neg_mean_squared_error                      -4676.39\ntest_neg_median_absolute_error                     -19.716\ntrain_neg_median_absolute_error                   -10.9521\nName: 5, dtype: object\n"
    }
   ],
   "source": [
    "# Hyperparameters - RandomSearch\n",
    "f_hyperparam_rscv(RandomForestRegressor(), X1, y1, pg_RandomForest, 5, \n",
    "dataset_names[0], mn_RForestReg)"
   ]
  },
  {
   "cell_type": "markdown",
   "metadata": {},
   "source": [
    "## Model 4: Passive Aggressive Regressor"
   ]
  },
  {
   "cell_type": "code",
   "execution_count": 21,
   "metadata": {},
   "outputs": [
    {
     "output_type": "stream",
     "name": "stdout",
     "text": "{'fit_time': array([0.00398946, 0.00797367, 0.00398755, 0.0039897 , 0.00299168]), 'score_time': array([0.00199461, 0.00498748, 0.00199318, 0.00199509, 0.00199485]), 'test_neg_mean_absolute_error': array([ -61.18203167,  -26.45779328,  -66.92184546,  -53.07984246,\n       -191.72810291]), 'train_neg_mean_absolute_error': array([ -46.36565916,  -68.73918141,  -83.23623628,  -46.28192588,\n       -137.97354005]), 'test_neg_mean_squared_error': array([  -9107.07845479,   -1285.64040412,  -10553.97274652,\n         -3976.19803576, -113065.55138567]), 'train_neg_mean_squared_error': array([ -5261.38469355,  -9942.65396845, -27386.49520111,  -6430.71062779,\n       -50933.93168028]), 'test_neg_median_absolute_error': array([-32.46925861, -21.89265492, -38.34180494, -43.71709178,\n       -86.54901581]), 'train_neg_median_absolute_error': array([-31.0295444 , -47.21741539, -43.29764432, -28.217689  ,\n       -84.71489365])}\n"
    }
   ],
   "source": [
    "# Cross Validation\n",
    "f_cross_validation(PassiveAggressiveRegressor(), X1, y1)"
   ]
  },
  {
   "cell_type": "code",
   "execution_count": 22,
   "metadata": {},
   "outputs": [
    {
     "output_type": "stream",
     "name": "stdout",
     "text": "dataset                                   CPU Computer Hardware\nmodel                              Passive Aggressive Regressor\nsearch_strategy                                    GridSearchCV\nfit_time                                                9.59211\nscore_time                                            0.0021946\ntest_neg_mean_absolute_error                           -36.9825\ntrain_neg_mean_absolute_error                          -32.8913\ntest_neg_mean_squared_error                            -6258.95\ntrain_neg_mean_squared_error                            -5359.1\ntest_neg_median_absolute_error                         -19.9915\ntrain_neg_median_absolute_error                        -15.6832\nName: 6, dtype: object\n"
    }
   ],
   "source": [
    "# Hyperparameters - GridSearch\n",
    "f_hyperparam_gscv(PassiveAggressiveRegressor(), X1, y1, pg_PassiveAggressive, 6, \n",
    "dataset_names[0], mn_PasAggReg)"
   ]
  },
  {
   "cell_type": "code",
   "execution_count": 23,
   "metadata": {},
   "outputs": [
    {
     "output_type": "stream",
     "name": "stdout",
     "text": "dataset                                   CPU Computer Hardware\nmodel                              Passive Aggressive Regressor\nsearch_strategy                              RandomizedSearchCV\nfit_time                                               0.879081\nscore_time                                           0.00219493\ntest_neg_mean_absolute_error                           -36.2822\ntrain_neg_mean_absolute_error                          -33.0859\ntest_neg_mean_squared_error                            -6057.11\ntrain_neg_mean_squared_error                           -5433.18\ntest_neg_median_absolute_error                         -20.0021\ntrain_neg_median_absolute_error                        -16.2857\nName: 7, dtype: object\n"
    }
   ],
   "source": [
    "# Hyperparameters - RandomSearch\n",
    "f_hyperparam_rscv(PassiveAggressiveRegressor(), X1, y1, pg_PassiveAggressive, 7, \n",
    "dataset_names[0], mn_PasAggReg)"
   ]
  },
  {
   "cell_type": "markdown",
   "metadata": {},
   "source": [
    "## Model 5: KNeighbors Regressor"
   ]
  },
  {
   "cell_type": "code",
   "execution_count": 24,
   "metadata": {},
   "outputs": [
    {
     "output_type": "stream",
     "name": "stdout",
     "text": "{'fit_time': array([0.00799274, 0.00298953, 0.00299358, 0.00399017, 0.00398898]), 'score_time': array([0.00796413, 0.00299191, 0.00499868, 0.00498605, 0.00299191]), 'test_neg_mean_absolute_error': array([-52.96190476, -29.57142857, -22.13333333, -36.38571429,\n       -51.71219512]), 'train_neg_mean_absolute_error': array([-23.35928144, -27.4994012 , -29.69341317, -28.28383234,\n       -24.71428571]), 'test_neg_mean_squared_error': array([-11063.42285714,  -2518.28380952,  -1255.15809524,  -1966.61428571,\n       -13731.16195122]), 'train_neg_mean_squared_error': array([-3007.94083832, -2738.81916168, -2965.31305389, -2981.7051497 ,\n       -2921.79714286]), 'test_neg_median_absolute_error': array([-19.9, -14.7, -12.1, -32.6, -16.6]), 'train_neg_median_absolute_error': array([-10.4, -12. , -13.4, -11.8, -11. ])}\n"
    }
   ],
   "source": [
    "# Cross Validation\n",
    "f_cross_validation(KNeighborsRegressor(), X1, y1)"
   ]
  },
  {
   "cell_type": "code",
   "execution_count": 25,
   "metadata": {},
   "outputs": [
    {
     "output_type": "stream",
     "name": "stdout",
     "text": "dataset                            CPU Computer Hardware\nmodel                               KNeighbors Regressor\nsearch_strategy                             GridSearchCV\nfit_time                                         19.3617\nscore_time                                    0.00259295\ntest_neg_mean_absolute_error                    -38.5123\ntrain_neg_mean_absolute_error                   -6.25395\ntest_neg_mean_squared_error                     -10602.5\ntrain_neg_mean_squared_error                    -539.176\ntest_neg_median_absolute_error                  -16.6022\ntrain_neg_median_absolute_error                   -1.875\nName: 8, dtype: object\n"
    }
   ],
   "source": [
    "# Hyperparameters - GridSearch\n",
    "f_hyperparam_gscv(KNeighborsRegressor(), X1, y1, pg_KNeighbors, 8, \n",
    "dataset_names[0], mn_KNReg)"
   ]
  },
  {
   "cell_type": "code",
   "execution_count": 26,
   "metadata": {},
   "outputs": [
    {
     "output_type": "stream",
     "name": "stdout",
     "text": "dataset                            CPU Computer Hardware\nmodel                               KNeighbors Regressor\nsearch_strategy                       RandomizedSearchCV\nfit_time                                        0.353434\nscore_time                                    0.00339103\ntest_neg_mean_absolute_error                    -36.1716\ntrain_neg_mean_absolute_error                   -6.50348\ntest_neg_mean_squared_error                     -9991.19\ntrain_neg_mean_squared_error                    -607.218\ntest_neg_median_absolute_error                  -14.2796\ntrain_neg_median_absolute_error                    -2.24\nName: 9, dtype: object\n"
    }
   ],
   "source": [
    "# Hyperparameters - RandomSearch\n",
    "f_hyperparam_rscv(KNeighborsRegressor(), X1, y1, pg_KNeighbors, 9, \n",
    "dataset_names[0], mn_KNReg)"
   ]
  },
  {
   "cell_type": "markdown",
   "metadata": {},
   "source": [
    "# Dataset 2: Boston Housing"
   ]
  },
  {
   "cell_type": "code",
   "execution_count": 27,
   "metadata": {},
   "outputs": [],
   "source": [
    "# Read and preprocess dataset\n",
    "data2 = pd.read_csv('./data/housing.csv', header=None)"
   ]
  },
  {
   "cell_type": "code",
   "execution_count": 28,
   "metadata": {},
   "outputs": [
    {
     "output_type": "stream",
     "name": "stdout",
     "text": "<class 'pandas.core.frame.DataFrame'>\nRangeIndex: 506 entries, 0 to 505\nData columns (total 14 columns):\n #   Column  Non-Null Count  Dtype  \n---  ------  --------------  -----  \n 0   0       506 non-null    float64\n 1   1       506 non-null    float64\n 2   2       506 non-null    float64\n 3   3       506 non-null    int64  \n 4   4       506 non-null    float64\n 5   5       506 non-null    float64\n 6   6       506 non-null    float64\n 7   7       506 non-null    float64\n 8   8       506 non-null    int64  \n 9   9       506 non-null    float64\n 10  10      506 non-null    float64\n 11  11      506 non-null    float64\n 12  12      506 non-null    float64\n 13  13      506 non-null    float64\ndtypes: float64(12), int64(2)\nmemory usage: 55.5 KB\n"
    }
   ],
   "source": [
    "data2.info()"
   ]
  },
  {
   "cell_type": "code",
   "execution_count": 29,
   "metadata": {},
   "outputs": [],
   "source": [
    "# Split dataset\n",
    "X2 = data2.iloc[:,:-1]\n",
    "y2 = data2.iloc[:, -1]"
   ]
  },
  {
   "cell_type": "markdown",
   "metadata": {},
   "source": [
    "## Model 1: Linear Regression"
   ]
  },
  {
   "cell_type": "code",
   "execution_count": 30,
   "metadata": {},
   "outputs": [
    {
     "output_type": "stream",
     "name": "stdout",
     "text": "{'fit_time': array([0.3121717 , 0.00598693, 0.00299096, 0.00398684, 0.00398779]), 'score_time': array([0.0069828 , 0.00398684, 0.0039916 , 0.00099635, 0.00299191]), 'test_neg_mean_absolute_error': array([-2.65434366, -3.85180712, -4.37302515, -5.57057227, -4.39415804]), 'train_neg_mean_absolute_error': array([-3.5820986 , -3.32234214, -3.23904713, -2.7437363 , -3.34652929]), 'test_neg_mean_squared_error': array([-12.50973612, -25.55784126, -33.08574935, -80.70889121,\n       -29.7977229 ]), 'train_neg_mean_squared_error': array([-25.18034607, -22.87605699, -21.79217494, -12.91752864,\n       -23.5436339 ]), 'test_neg_median_absolute_error': array([-1.93101608, -3.13515094, -3.68413054, -2.87881835, -4.32026638]), 'train_neg_median_absolute_error': array([-2.69870409, -2.40166236, -2.19247047, -2.15909703, -2.28058677])}\n"
    }
   ],
   "source": [
    "# Cross Validation\n",
    "f_cross_validation(LinearRegression(), X2, y2)"
   ]
  },
  {
   "cell_type": "code",
   "execution_count": 31,
   "metadata": {},
   "outputs": [
    {
     "output_type": "stream",
     "name": "stdout",
     "text": "dataset                               Boston Housing\nmodel                              Linear Regression\nsearch_strategy                         GridSearchCV\nfit_time                                    0.396877\nscore_time                                0.00239267\ntest_neg_mean_absolute_error                -4.11311\ntrain_neg_mean_absolute_error               -3.28482\ntest_neg_mean_squared_error                 -36.0276\ntrain_neg_mean_squared_error                -22.5369\ntest_neg_median_absolute_error              -3.05525\ntrain_neg_median_absolute_error              -2.3242\nName: 10, dtype: object\n"
    }
   ],
   "source": [
    "# Hyperparameters - GridSearch\n",
    "f_hyperparam_gscv(LinearRegression(), X2, y2, pg_LinearRegression, 10, \n",
    "dataset_names[1], mn_LinReg)"
   ]
  },
  {
   "cell_type": "code",
   "execution_count": 32,
   "metadata": {},
   "outputs": [
    {
     "output_type": "stream",
     "name": "stdout",
     "text": "dataset                                Boston Housing\nmodel                               Linear Regression\nsearch_strategy                    RandomizedSearchCV\nfit_time                                     0.340337\nscore_time                                 0.00279317\ntest_neg_mean_absolute_error                 -4.16878\ntrain_neg_mean_absolute_error                -3.24675\ntest_neg_mean_squared_error                   -36.332\ntrain_neg_mean_squared_error                 -21.2619\ntest_neg_median_absolute_error               -3.18988\ntrain_neg_median_absolute_error               -2.3465\nName: 11, dtype: object\n"
    }
   ],
   "source": [
    "# Hyperparameters - RandomSearch\n",
    "f_hyperparam_rscv(LinearRegression(), X2, y2, pg_LinearRegression, 11, \n",
    "dataset_names[1], mn_LinReg)"
   ]
  },
  {
   "cell_type": "markdown",
   "metadata": {},
   "source": [
    "## Model 2: Decision Tree Regressor"
   ]
  },
  {
   "cell_type": "code",
   "execution_count": 33,
   "metadata": {},
   "outputs": [
    {
     "output_type": "stream",
     "name": "stdout",
     "text": "{'fit_time': array([0.00797343, 0.00598359, 0.00798035, 0.00897694, 0.00498486]), 'score_time': array([0.00199413, 0.00299215, 0.00200176, 0.00299263, 0.00199556]), 'test_neg_mean_absolute_error': array([-2.68137255, -3.92970297, -4.02277228, -4.46732673, -6.5       ]), 'train_neg_mean_absolute_error': array([-0., -0., -0., -0., -0.]), 'test_neg_mean_squared_error': array([-12.20696078, -31.23257426, -32.95217822, -55.88      ,\n       -91.61574257]), 'train_neg_mean_squared_error': array([-0., -0., -0., -0., -0.]), 'test_neg_median_absolute_error': array([-2.1, -2.5, -3.1, -2.7, -4.1]), 'train_neg_median_absolute_error': array([-0., -0., -0., -0., -0.])}\n"
    }
   ],
   "source": [
    "# Cross Validation\n",
    "f_cross_validation(DecisionTreeRegressor(), X2, y2)"
   ]
  },
  {
   "cell_type": "code",
   "execution_count": 34,
   "metadata": {},
   "outputs": [
    {
     "output_type": "stream",
     "name": "stdout",
     "text": "dataset                                     Boston Housing\nmodel                              Decision Tree Regressor\nsearch_strategy                               GridSearchCV\nfit_time                                           1.09271\nscore_time                                      0.00259466\ntest_neg_mean_absolute_error                       -4.0962\ntrain_neg_mean_absolute_error                     -2.56812\ntest_neg_mean_squared_error                       -37.0058\ntrain_neg_mean_squared_error                      -13.6674\ntest_neg_median_absolute_error                    -2.99201\ntrain_neg_median_absolute_error                   -1.94537\nName: 12, dtype: object\n"
    }
   ],
   "source": [
    "# Hyperparameters - GridSearch\n",
    "f_hyperparam_gscv(DecisionTreeRegressor(), X2, y2, pg_DecisionTree, 12, \n",
    "dataset_names[1], mn_DTreeReg)"
   ]
  },
  {
   "cell_type": "code",
   "execution_count": 35,
   "metadata": {},
   "outputs": [
    {
     "output_type": "stream",
     "name": "stdout",
     "text": "dataset                                     Boston Housing\nmodel                              Decision Tree Regressor\nsearch_strategy                         RandomizedSearchCV\nfit_time                                          0.287815\nscore_time                                      0.00359001\ntest_neg_mean_absolute_error                      -4.85499\ntrain_neg_mean_absolute_error                     -3.24197\ntest_neg_mean_squared_error                       -50.8638\ntrain_neg_mean_squared_error                       -21.348\ntest_neg_median_absolute_error                    -3.50982\ntrain_neg_median_absolute_error                   -2.49052\nName: 13, dtype: object\n"
    }
   ],
   "source": [
    "# Hyperparameters - RandomSearch\n",
    "f_hyperparam_rscv(DecisionTreeRegressor(), X2, y2, pg_DecisionTree, 13, \n",
    "dataset_names[1], mn_DTreeReg)"
   ]
  },
  {
   "cell_type": "markdown",
   "metadata": {},
   "source": [
    "## Model 3: Random Forest Regressor"
   ]
  },
  {
   "cell_type": "code",
   "execution_count": 36,
   "metadata": {},
   "outputs": [
    {
     "output_type": "stream",
     "name": "stdout",
     "text": "{'fit_time': array([0.40903497, 0.35404444, 0.44170618, 0.36388326, 0.36075997]), 'score_time': array([0.01596236, 0.0149653 , 0.00797915, 0.01296854, 0.01695752]), 'test_neg_mean_absolute_error': array([-2.15320588, -2.74909901, -3.46212871, -3.93157426, -3.52958416]), 'train_neg_mean_absolute_error': array([-0.85268564, -0.82005926, -0.77851111, -0.78041235, -0.77764691]), 'test_neg_mean_squared_error': array([ -8.16568975, -14.08076262, -22.23854664, -48.67898005,\n       -20.57915299]), 'train_neg_mean_squared_error': array([-1.5082767 , -1.53442293, -1.31104303, -1.19016178, -1.39211133]), 'test_neg_median_absolute_error': array([-1.4065, -2.087 , -2.474 , -2.33  , -2.729 ]), 'train_neg_median_absolute_error': array([-0.6055, -0.537 , -0.555 , -0.561 , -0.54  ])}\n"
    }
   ],
   "source": [
    "# Cross Validation\n",
    "f_cross_validation(RandomForestRegressor(), X2, y2)"
   ]
  },
  {
   "cell_type": "code",
   "execution_count": 37,
   "metadata": {},
   "outputs": [
    {
     "output_type": "stream",
     "name": "stdout",
     "text": "dataset                                     Boston Housing\nmodel                              Random Forest Regressor\nsearch_strategy                               GridSearchCV\nfit_time                                           86.6778\nscore_time                                       0.0119686\ntest_neg_mean_absolute_error                      -3.25802\ntrain_neg_mean_absolute_error                     -1.81352\ntest_neg_mean_squared_error                       -23.6859\ntrain_neg_mean_squared_error                      -8.32082\ntest_neg_median_absolute_error                    -2.42894\ntrain_neg_median_absolute_error                   -1.27184\nName: 14, dtype: object\n"
    }
   ],
   "source": [
    "# Hyperparameters - GridSearch\n",
    "f_hyperparam_gscv(RandomForestRegressor(), X2, y2, pg_RandomForest, 14, \n",
    "dataset_names[1], mn_RForestReg)"
   ]
  },
  {
   "cell_type": "code",
   "execution_count": 38,
   "metadata": {},
   "outputs": [
    {
     "output_type": "stream",
     "name": "stdout",
     "text": "dataset                                     Boston Housing\nmodel                              Random Forest Regressor\nsearch_strategy                         RandomizedSearchCV\nfit_time                                           21.8661\nscore_time                                       0.0115699\ntest_neg_mean_absolute_error                      -3.12426\ntrain_neg_mean_absolute_error                     -1.80142\ntest_neg_mean_squared_error                        -22.398\ntrain_neg_mean_squared_error                      -8.78276\ntest_neg_median_absolute_error                    -2.16327\ntrain_neg_median_absolute_error                    -1.1922\nName: 15, dtype: object\n"
    }
   ],
   "source": [
    "# Hyperparameters - RandomSearch\n",
    "f_hyperparam_rscv(RandomForestRegressor(), X2, y2, pg_RandomForest, 15, \n",
    "dataset_names[1], mn_RForestReg)"
   ]
  },
  {
   "cell_type": "markdown",
   "metadata": {},
   "source": [
    "## Model 4: Passive Aggressive Regressor"
   ]
  },
  {
   "cell_type": "code",
   "execution_count": 39,
   "metadata": {},
   "outputs": [
    {
     "output_type": "stream",
     "name": "stdout",
     "text": "{'fit_time': array([0.004987  , 0.00398946, 0.00498748, 0.00597858, 0.00299072]), 'score_time': array([0.00299144, 0.00299096, 0.00299311, 0.00199461, 0.00398827]), 'test_neg_mean_absolute_error': array([ -7.12580221,  -6.59541256,  -6.38824292,  -6.77954343,\n       -10.81245867]), 'train_neg_mean_absolute_error': array([-7.60890413, -6.45553886, -9.97536595, -9.82226089, -5.7144087 ]), 'test_neg_mean_squared_error': array([ -70.66342795,  -97.08144234,  -63.55731169, -103.46676644,\n       -193.67839023]), 'train_neg_mean_squared_error': array([ -82.49659572,  -81.88513948, -135.43016083, -142.29798923,\n        -77.81632556]), 'test_neg_median_absolute_error': array([-6.40325008, -3.95656606, -5.11139868, -4.90860876, -7.47137584]), 'train_neg_median_absolute_error': array([-7.16727649, -4.44841324, -9.47644271, -8.37425491, -3.50109138])}\n"
    }
   ],
   "source": [
    "# Cross Validation\n",
    "f_cross_validation(PassiveAggressiveRegressor(), X2, y2)"
   ]
  },
  {
   "cell_type": "code",
   "execution_count": 40,
   "metadata": {},
   "outputs": [
    {
     "output_type": "stream",
     "name": "stdout",
     "text": "dataset                                          Boston Housing\nmodel                              Passive Aggressive Regressor\nsearch_strategy                                    GridSearchCV\nfit_time                                                5.09125\nscore_time                                           0.00180259\ntest_neg_mean_absolute_error                           -4.43795\ntrain_neg_mean_absolute_error                          -3.46673\ntest_neg_mean_squared_error                            -44.4601\ntrain_neg_mean_squared_error                           -28.1548\ntest_neg_median_absolute_error                         -3.07046\ntrain_neg_median_absolute_error                        -2.38902\nName: 16, dtype: object\n"
    }
   ],
   "source": [
    "# Hyperparameters - GridSearch\n",
    "f_hyperparam_gscv(PassiveAggressiveRegressor(), X2, y2, pg_PassiveAggressive, 16, \n",
    "dataset_names[1], mn_PasAggReg)"
   ]
  },
  {
   "cell_type": "code",
   "execution_count": 41,
   "metadata": {},
   "outputs": [
    {
     "output_type": "stream",
     "name": "stdout",
     "text": "dataset                                          Boston Housing\nmodel                              Passive Aggressive Regressor\nsearch_strategy                              RandomizedSearchCV\nfit_time                                               0.451044\nscore_time                                            0.0019938\ntest_neg_mean_absolute_error                           -3.92333\ntrain_neg_mean_absolute_error                          -3.43856\ntest_neg_mean_squared_error                            -31.5322\ntrain_neg_mean_squared_error                           -26.2684\ntest_neg_median_absolute_error                         -2.77301\ntrain_neg_median_absolute_error                         -2.4004\nName: 17, dtype: object\n"
    }
   ],
   "source": [
    "# Hyperparameters - RandomSearch\n",
    "f_hyperparam_rscv(PassiveAggressiveRegressor(), X2, y2, pg_PassiveAggressive, 17, \n",
    "dataset_names[1], mn_PasAggReg)"
   ]
  },
  {
   "cell_type": "markdown",
   "metadata": {},
   "source": [
    "## Model 5: KNeighbors Regressor"
   ]
  },
  {
   "cell_type": "code",
   "execution_count": 42,
   "metadata": {},
   "outputs": [
    {
     "output_type": "stream",
     "name": "stdout",
     "text": "{'fit_time': array([0.00498652, 0.00697994, 0.00199628, 0.00399065, 0.00498867]), 'score_time': array([0.00299287, 0.00797987, 0.00298905, 0.00298953, 0.00398707]), 'test_neg_mean_absolute_error': array([-6.51980392, -5.7039604 , -7.65287129, -6.14336634, -4.15920792]), 'train_neg_mean_absolute_error': array([-3.31732673, -3.3217284 , -2.87091358, -3.27180247, -3.72962963]), 'test_neg_mean_squared_error': array([ -72.84204314,  -77.44044752, -114.19790495,  -88.96697822,\n        -29.72982178]), 'train_neg_mean_squared_error': array([-23.97158614, -23.37664494, -18.45378173, -21.86472296,\n       -29.05314469]), 'test_neg_median_absolute_error': array([-5.85, -3.8 , -4.82, -4.14, -2.9 ]), 'train_neg_median_absolute_error': array([-2.18, -2.2 , -1.96, -2.22, -2.58])}\n"
    }
   ],
   "source": [
    "# Cross Validation\n",
    "f_cross_validation(KNeighborsRegressor(), X2, y2)"
   ]
  },
  {
   "cell_type": "code",
   "execution_count": 43,
   "metadata": {},
   "outputs": [
    {
     "output_type": "stream",
     "name": "stdout",
     "text": "dataset                                  Boston Housing\nmodel                              KNeighbors Regressor\nsearch_strategy                            GridSearchCV\nfit_time                                        60.1325\nscore_time                                   0.00318475\ntest_neg_mean_absolute_error                   -4.54132\ntrain_neg_mean_absolute_error                 -0.954083\ntest_neg_mean_squared_error                     -45.425\ntrain_neg_mean_squared_error                   -5.77565\ntest_neg_median_absolute_error                 -3.30766\ntrain_neg_median_absolute_error                  -0.612\nName: 18, dtype: object\n"
    }
   ],
   "source": [
    "# Hyperparameters - GridSearch\n",
    "f_hyperparam_gscv(KNeighborsRegressor(), X2, y2, pg_KNeighbors, 18, \n",
    "dataset_names[1], mn_KNReg)"
   ]
  },
  {
   "cell_type": "code",
   "execution_count": 44,
   "metadata": {},
   "outputs": [
    {
     "output_type": "stream",
     "name": "stdout",
     "text": "dataset                                  Boston Housing\nmodel                              KNeighbors Regressor\nsearch_strategy                      RandomizedSearchCV\nfit_time                                       0.242325\nscore_time                                   0.00279045\ntest_neg_mean_absolute_error                   -36.1716\ntrain_neg_mean_absolute_error                  -6.50348\ntest_neg_mean_squared_error                    -9991.19\ntrain_neg_mean_squared_error                   -607.218\ntest_neg_median_absolute_error                 -14.2796\ntrain_neg_median_absolute_error                   -2.24\nName: 19, dtype: object\n"
    }
   ],
   "source": [
    "# Hyperparameters - RandomSearch\n",
    "f_hyperparam_rscv(KNeighborsRegressor(), X1, y1, pg_KNeighbors, 19, \n",
    "dataset_names[1], mn_KNReg)"
   ]
  },
  {
   "cell_type": "markdown",
   "metadata": {},
   "source": [
    "# Dataset 3: Wisconsin Breast Cancer"
   ]
  },
  {
   "cell_type": "code",
   "execution_count": 86,
   "metadata": {},
   "outputs": [],
   "source": [
    "# Read and preprocess dataset\n",
    "data3 = pd.read_csv('./data/r_wpbc.csv', header=None)"
   ]
  },
  {
   "cell_type": "code",
   "execution_count": 87,
   "metadata": {},
   "outputs": [
    {
     "output_type": "stream",
     "name": "stdout",
     "text": "<class 'pandas.core.frame.DataFrame'>\nRangeIndex: 194 entries, 0 to 193\nData columns (total 33 columns):\n #   Column  Non-Null Count  Dtype  \n---  ------  --------------  -----  \n 0   0       194 non-null    int64  \n 1   1       194 non-null    float64\n 2   2       194 non-null    float64\n 3   3       194 non-null    float64\n 4   4       194 non-null    float64\n 5   5       194 non-null    float64\n 6   6       194 non-null    float64\n 7   7       194 non-null    float64\n 8   8       194 non-null    float64\n 9   9       194 non-null    float64\n 10  10      194 non-null    float64\n 11  11      194 non-null    float64\n 12  12      194 non-null    float64\n 13  13      194 non-null    float64\n 14  14      194 non-null    float64\n 15  15      194 non-null    float64\n 16  16      194 non-null    float64\n 17  17      194 non-null    float64\n 18  18      194 non-null    float64\n 19  19      194 non-null    float64\n 20  20      194 non-null    float64\n 21  21      194 non-null    float64\n 22  22      194 non-null    float64\n 23  23      194 non-null    float64\n 24  24      194 non-null    float64\n 25  25      194 non-null    float64\n 26  26      194 non-null    float64\n 27  27      194 non-null    float64\n 28  28      194 non-null    float64\n 29  29      194 non-null    float64\n 30  30      194 non-null    float64\n 31  31      194 non-null    float64\n 32  32      194 non-null    int64  \ndtypes: float64(31), int64(2)\nmemory usage: 50.1 KB\n"
    }
   ],
   "source": [
    "data3.info()"
   ]
  },
  {
   "cell_type": "code",
   "execution_count": 88,
   "metadata": {},
   "outputs": [],
   "source": [
    "# Split dataset\n",
    "X3 = data3.iloc[:,:-1]\n",
    "y3 = data3.iloc[:, -1]"
   ]
  },
  {
   "cell_type": "markdown",
   "metadata": {},
   "source": [
    "## Model 1: Linear Regression"
   ]
  },
  {
   "cell_type": "code",
   "execution_count": 89,
   "metadata": {},
   "outputs": [
    {
     "output_type": "stream",
     "name": "stdout",
     "text": "{'fit_time': array([0.01595616, 0.00398803, 0.00299215, 0.00299168, 0.00498676]), 'score_time': array([0.00399065, 0.00199604, 0.00199461, 0.00199461, 0.00199437]), 'test_neg_mean_absolute_error': array([-39.14718821, -33.61228441, -27.34573273, -21.7885028 ,\n       -28.45295125]), 'train_neg_mean_absolute_error': array([-20.49007033, -20.99686404, -22.60096191, -23.77614071,\n       -23.37213066]), 'test_neg_mean_squared_error': array([-2106.74918545, -1505.18291215, -1286.60633168,  -727.23038275,\n       -1221.65049238]), 'train_neg_mean_squared_error': array([-612.67819792, -679.48691798, -781.10824672, -836.26959423,\n       -800.7469082 ]), 'test_neg_median_absolute_error': array([-41.01591598, -37.79578415, -23.36381338, -21.02911722,\n       -27.68728253]), 'train_neg_median_absolute_error': array([-19.20080316, -17.79188651, -20.52503297, -20.20663842,\n       -18.60580875])}\n"
    }
   ],
   "source": [
    "# Cross Validation\n",
    "f_cross_validation(LinearRegression(), X3, y3)"
   ]
  },
  {
   "cell_type": "code",
   "execution_count": 90,
   "metadata": {},
   "outputs": [
    {
     "output_type": "stream",
     "name": "stdout",
     "text": "dataset                            Wisconsin Breast Cancer\nmodel                                    Linear Regression\nsearch_strategy                               GridSearchCV\nfit_time                                          0.273269\nscore_time                                      0.00159564\ntest_neg_mean_absolute_error                      -30.0693\ntrain_neg_mean_absolute_error                     -22.2472\ntest_neg_mean_squared_error                       -1369.48\ntrain_neg_mean_squared_error                      -742.058\ntest_neg_median_absolute_error                    -30.1784\ntrain_neg_median_absolute_error                    -19.266\nName: 30, dtype: object\n"
    }
   ],
   "source": [
    "# Hyperparameters - GridSearch\n",
    "f_hyperparam_gscv(LinearRegression(), X3, y3, pg_LinearRegression, 30, \n",
    "dataset_names[2], mn_LinReg)"
   ]
  },
  {
   "cell_type": "code",
   "execution_count": 91,
   "metadata": {},
   "outputs": [
    {
     "output_type": "stream",
     "name": "stdout",
     "text": "dataset                                Boston Housing\nmodel                               Linear Regression\nsearch_strategy                    RandomizedSearchCV\nfit_time                                     0.242553\nscore_time                                 0.00179605\ntest_neg_mean_absolute_error                 -30.3928\ntrain_neg_mean_absolute_error                -22.2812\ntest_neg_mean_squared_error                  -1388.55\ntrain_neg_mean_squared_error                 -746.548\ntest_neg_median_absolute_error               -30.4621\ntrain_neg_median_absolute_error              -19.5712\nName: 31, dtype: object\n"
    }
   ],
   "source": [
    "# Hyperparameters - RandomSearch\n",
    "f_hyperparam_rscv(LinearRegression(), X3, y3, pg_LinearRegression, 31, \n",
    "dataset_names[1], mn_LinReg)"
   ]
  },
  {
   "cell_type": "markdown",
   "metadata": {},
   "source": [
    "## Model 2: Decision Tree Regressor"
   ]
  },
  {
   "cell_type": "code",
   "execution_count": 94,
   "metadata": {},
   "outputs": [
    {
     "output_type": "stream",
     "name": "stdout",
     "text": "{'fit_time': array([0.00698543, 0.00598288, 0.00299239, 0.00398898, 0.00598383]), 'score_time': array([0.00298858, 0.00099707, 0.00199461, 0.00099778, 0.00099874]), 'test_neg_mean_absolute_error': array([-40.20512821, -34.69230769, -37.71794872, -34.76923077,\n       -42.13157895]), 'train_neg_mean_absolute_error': array([-0., -0., -0., -0., -0.]), 'test_neg_mean_squared_error': array([-2490.05128205, -1869.15384615, -1904.33333333, -1916.66666667,\n       -2183.55263158]), 'train_neg_mean_squared_error': array([-0., -0., -0., -0., -0.]), 'test_neg_median_absolute_error': array([-36., -31., -37., -27., -45.]), 'train_neg_median_absolute_error': array([-0., -0., -0., -0., -0.])}\n"
    }
   ],
   "source": [
    "# Cross Validation\n",
    "f_cross_validation(DecisionTreeRegressor(), X3, y3)"
   ]
  },
  {
   "cell_type": "code",
   "execution_count": 95,
   "metadata": {},
   "outputs": [
    {
     "output_type": "stream",
     "name": "stdout",
     "text": "dataset                            Wisconsin Breast Cancer\nmodel                              Decision Tree Regressor\nsearch_strategy                               GridSearchCV\nfit_time                                          0.748605\nscore_time                                      0.00239763\ntest_neg_mean_absolute_error                      -31.6414\ntrain_neg_mean_absolute_error                     -24.4834\ntest_neg_mean_squared_error                       -1434.01\ntrain_neg_mean_squared_error                      -885.633\ntest_neg_median_absolute_error                    -28.8695\ntrain_neg_median_absolute_error                    -21.826\nName: 32, dtype: object\n"
    }
   ],
   "source": [
    "# Hyperparameters - GridSearch\n",
    "f_hyperparam_gscv(DecisionTreeRegressor(), X3, y3, pg_DecisionTree, 32, \n",
    "dataset_names[2], mn_DTreeReg)"
   ]
  },
  {
   "cell_type": "code",
   "execution_count": 96,
   "metadata": {},
   "outputs": [
    {
     "output_type": "stream",
     "name": "stdout",
     "text": "dataset                            Wisconsin Breast Cancer\nmodel                              Decision Tree Regressor\nsearch_strategy                         RandomizedSearchCV\nfit_time                                          0.203062\nscore_time                                      0.00199428\ntest_neg_mean_absolute_error                      -32.4169\ntrain_neg_mean_absolute_error                     -25.2331\ntest_neg_mean_squared_error                       -1450.31\ntrain_neg_mean_squared_error                      -934.853\ntest_neg_median_absolute_error                    -28.9595\ntrain_neg_median_absolute_error                   -22.6493\nName: 33, dtype: object\n"
    }
   ],
   "source": [
    "# Hyperparameters - RandomSearch\n",
    "f_hyperparam_rscv(DecisionTreeRegressor(), X3, y3, pg_DecisionTree, 33, \n",
    "dataset_names[2], mn_DTreeReg)"
   ]
  },
  {
   "cell_type": "markdown",
   "metadata": {},
   "source": [
    "## Model 3: Random Forest Regressor"
   ]
  },
  {
   "cell_type": "code",
   "execution_count": 97,
   "metadata": {},
   "outputs": [
    {
     "output_type": "stream",
     "name": "stdout",
     "text": "{'fit_time': array([0.35107946, 0.33211517, 0.35504699, 0.31116986, 0.2932415 ]), 'score_time': array([0.00795364, 0.00797582, 0.00797939, 0.01196623, 0.00895023]), 'test_neg_mean_absolute_error': array([-39.03410256, -32.38820513, -26.03692308, -24.14974359,\n       -33.13447368]), 'train_neg_mean_absolute_error': array([ -9.61658065, -10.30419355, -10.70174194, -10.92935484,\n       -10.66621795]), 'test_neg_mean_squared_error': array([-2053.92641795, -1319.19586667,  -909.82289744,  -869.58553333,\n       -1337.92776053]), 'train_neg_mean_squared_error': array([-122.37481742, -153.77708839, -164.66014387, -168.06904194,\n       -159.99388141]), 'test_neg_median_absolute_error': array([-39.31, -30.95, -21.94, -23.17, -34.67]), 'train_neg_median_absolute_error': array([ -8.73 ,  -9.16 ,  -9.03 ,  -9.95 , -10.785])}\n"
    }
   ],
   "source": [
    "# Cross Validation\n",
    "f_cross_validation(RandomForestRegressor(), X3, y3)"
   ]
  },
  {
   "cell_type": "code",
   "execution_count": 98,
   "metadata": {},
   "outputs": [
    {
     "output_type": "stream",
     "name": "stdout",
     "text": "dataset                            Wisconsin Breast Cancer\nmodel                              Random Forest Regressor\nsearch_strategy                               GridSearchCV\nfit_time                                           50.0887\nscore_time                                       0.0107649\ntest_neg_mean_absolute_error                      -30.3154\ntrain_neg_mean_absolute_error                     -18.5536\ntest_neg_mean_squared_error                       -1267.45\ntrain_neg_mean_squared_error                      -490.358\ntest_neg_median_absolute_error                    -28.4756\ntrain_neg_median_absolute_error                    -16.903\nName: 34, dtype: object\n"
    }
   ],
   "source": [
    "# Hyperparameters - GridSearch\n",
    "f_hyperparam_gscv(RandomForestRegressor(), X3, y3, pg_RandomForest, 34, \n",
    "dataset_names[2], mn_RForestReg)"
   ]
  },
  {
   "cell_type": "code",
   "execution_count": 99,
   "metadata": {},
   "outputs": [
    {
     "output_type": "stream",
     "name": "stdout",
     "text": "dataset                            Wisconsin Breast Cancer\nmodel                              Random Forest Regressor\nsearch_strategy                         RandomizedSearchCV\nfit_time                                           11.4284\nscore_time                                       0.0083951\ntest_neg_mean_absolute_error                      -30.2773\ntrain_neg_mean_absolute_error                     -16.9982\ntest_neg_mean_squared_error                       -1276.63\ntrain_neg_mean_squared_error                      -416.453\ntest_neg_median_absolute_error                    -29.8204\ntrain_neg_median_absolute_error                   -15.1764\nName: 35, dtype: object\n"
    }
   ],
   "source": [
    "# Hyperparameters - RandomSearch\n",
    "f_hyperparam_rscv(RandomForestRegressor(), X3, y3, pg_RandomForest, 35, \n",
    "dataset_names[2], mn_RForestReg)"
   ]
  },
  {
   "cell_type": "markdown",
   "metadata": {},
   "source": [
    "## Model 4: Passive Aggressive Regressor"
   ]
  },
  {
   "cell_type": "code",
   "execution_count": 100,
   "metadata": {},
   "outputs": [
    {
     "output_type": "stream",
     "name": "stdout",
     "text": "{'fit_time': array([0.004987  , 0.00199342, 0.00299168, 0.00400043, 0.00398993]), 'score_time': array([0.00299048, 0.00299287, 0.00199366, 0.00198722, 0.00199652]), 'test_neg_mean_absolute_error': array([ -50.30064671,  -52.82815127,  -47.49631008, -111.6560032 ,\n        -68.39816438]), 'train_neg_mean_absolute_error': array([-26.14002403, -36.66718235, -48.1070467 , -87.06003782,\n       -42.3393621 ]), 'test_neg_mean_squared_error': array([ -3623.20020248,  -3828.22846153,  -3006.95037205, -13981.11941999,\n        -4922.66843388]), 'train_neg_mean_squared_error': array([ -1117.91562609,  -2126.44995366,  -3441.67966893, -10499.83894772,\n        -2552.50625552]), 'test_neg_median_absolute_error': array([ -50.16468703,  -49.58279408,  -47.63144583, -107.86833237,\n        -67.19287566]), 'train_neg_median_absolute_error': array([-19.61564431, -35.46846011, -45.62377129, -89.49633363,\n       -40.0355924 ])}\n"
    }
   ],
   "source": [
    "# Cross Validation\n",
    "f_cross_validation(PassiveAggressiveRegressor(), X3, y3)"
   ]
  },
  {
   "cell_type": "code",
   "execution_count": 101,
   "metadata": {},
   "outputs": [
    {
     "output_type": "stream",
     "name": "stdout",
     "text": "dataset                                 Wisconsin Breast Cancer\nmodel                              Passive Aggressive Regressor\nsearch_strategy                                    GridSearchCV\nfit_time                                                3.71008\nscore_time                                           0.00139675\ntest_neg_mean_absolute_error                           -35.2603\ntrain_neg_mean_absolute_error                          -27.4636\ntest_neg_mean_squared_error                            -1719.48\ntrain_neg_mean_squared_error                           -1143.97\ntest_neg_median_absolute_error                         -33.1821\ntrain_neg_median_absolute_error                        -24.1522\nName: 36, dtype: object\n"
    }
   ],
   "source": [
    "# Hyperparameters - GridSearch\n",
    "f_hyperparam_gscv(PassiveAggressiveRegressor(), X3, y3, pg_PassiveAggressive, 36, \n",
    "dataset_names[2], mn_PasAggReg)"
   ]
  },
  {
   "cell_type": "code",
   "execution_count": 102,
   "metadata": {},
   "outputs": [
    {
     "output_type": "stream",
     "name": "stdout",
     "text": "dataset                                 Wisconsin Breast Cancer\nmodel                              Passive Aggressive Regressor\nsearch_strategy                              RandomizedSearchCV\nfit_time                                               0.319546\nscore_time                                           0.00139723\ntest_neg_mean_absolute_error                           -30.1986\ntrain_neg_mean_absolute_error                          -26.1342\ntest_neg_mean_squared_error                            -1298.52\ntrain_neg_mean_squared_error                           -1062.03\ntest_neg_median_absolute_error                         -27.5449\ntrain_neg_median_absolute_error                        -22.0467\nName: 37, dtype: object\n"
    }
   ],
   "source": [
    "# Hyperparameters - RandomSearch\n",
    "f_hyperparam_rscv(PassiveAggressiveRegressor(), X3, y3, pg_PassiveAggressive, 37, \n",
    "dataset_names[2], mn_PasAggReg)"
   ]
  },
  {
   "cell_type": "markdown",
   "metadata": {},
   "source": [
    "## Model 5: KNeighbors Regressor"
   ]
  },
  {
   "cell_type": "code",
   "execution_count": 103,
   "metadata": {},
   "outputs": [
    {
     "output_type": "stream",
     "name": "stdout",
     "text": "{'fit_time': array([0.00398874, 0.00299454, 0.00199533, 0.00198269, 0.00398993]), 'score_time': array([0.00299168, 0.00299144, 0.00199509, 0.00398898, 0.00398827]), 'test_neg_mean_absolute_error': array([-45.        , -33.36410256, -26.27692308, -20.88205128,\n       -34.13157895]), 'train_neg_mean_absolute_error': array([-20.71741935, -23.13032258, -24.4116129 , -25.11483871,\n       -24.68076923]), 'test_neg_mean_squared_error': array([-2542.30461538, -1559.65948718,  -973.2       ,  -685.69641026,\n       -1479.19684211]), 'train_neg_mean_squared_error': array([-631.584     , -825.312     , -901.9636129 , -922.46348387,\n       -881.87512821]), 'test_neg_median_absolute_error': array([-38. , -34.6, -22.4, -18.2, -32.7]), 'train_neg_median_absolute_error': array([-17.4, -19.6, -20.8, -21.6, -20.7])}\n"
    }
   ],
   "source": [
    "# Cross Validation\n",
    "f_cross_validation(KNeighborsRegressor(), X3, y3)"
   ]
  },
  {
   "cell_type": "code",
   "execution_count": 104,
   "metadata": {},
   "outputs": [
    {
     "output_type": "stream",
     "name": "stdout",
     "text": "dataset                            Wisconsin Breast Cancer\nmodel                                 KNeighbors Regressor\nsearch_strategy                               GridSearchCV\nfit_time                                           29.4237\nscore_time                                      0.00658669\ntest_neg_mean_absolute_error                      -30.4981\ntrain_neg_mean_absolute_error                     -19.3117\ntest_neg_mean_squared_error                       -1317.36\ntrain_neg_mean_squared_error                      -670.873\ntest_neg_median_absolute_error                    -25.9192\ntrain_neg_median_absolute_error                   -17.2111\nName: 38, dtype: object\n"
    }
   ],
   "source": [
    "# Hyperparameters - GridSearch\n",
    "f_hyperparam_gscv(KNeighborsRegressor(), X3, y3, pg_KNeighbors, 38, \n",
    "dataset_names[2], mn_KNReg)"
   ]
  },
  {
   "cell_type": "code",
   "execution_count": 105,
   "metadata": {},
   "outputs": [
    {
     "output_type": "stream",
     "name": "stdout",
     "text": "dataset                            Wisconsin Breast Cancer\nmodel                                 KNeighbors Regressor\nsearch_strategy                         RandomizedSearchCV\nfit_time                                          0.303978\nscore_time                                      0.00380516\ntest_neg_mean_absolute_error                      -29.8555\ntrain_neg_mean_absolute_error                            0\ntest_neg_mean_squared_error                       -1250.69\ntrain_neg_mean_squared_error                             0\ntest_neg_median_absolute_error                    -27.3485\ntrain_neg_median_absolute_error                          0\nName: 39, dtype: object\n"
    }
   ],
   "source": [
    "# Hyperparameters - RandomSearch\n",
    "f_hyperparam_rscv(KNeighborsRegressor(), X3, y3, pg_KNeighbors, 39, \n",
    "dataset_names[2], mn_KNReg)"
   ]
  },
  {
   "cell_type": "markdown",
   "metadata": {},
   "source": [
    "# Dataset 4: Communities and Crime"
   ]
  },
  {
   "cell_type": "code",
   "execution_count": 81,
   "metadata": {},
   "outputs": [],
   "source": [
    "# Read and preprocess dataset\n",
    "# remove columns: 0-4 + missing values col.\n",
    "data4 = pd.read_csv('./data/communities.csv', header=None)\n",
    "data4 = data4.drop([0, 1, 2, 3, 4], axis=1)\n",
    "data4 = data4.dropna(axis=1)"
   ]
  },
  {
   "cell_type": "code",
   "execution_count": 82,
   "metadata": {},
   "outputs": [
    {
     "output_type": "stream",
     "name": "stdout",
     "text": "<class 'pandas.core.frame.DataFrame'>\nRangeIndex: 1994 entries, 0 to 1993\nData columns (total 100 columns):\n #   Column  Non-Null Count  Dtype  \n---  ------  --------------  -----  \n 0   5       1994 non-null   float64\n 1   6       1994 non-null   float64\n 2   7       1994 non-null   float64\n 3   8       1994 non-null   float64\n 4   9       1994 non-null   float64\n 5   10      1994 non-null   float64\n 6   11      1994 non-null   float64\n 7   12      1994 non-null   float64\n 8   13      1994 non-null   float64\n 9   14      1994 non-null   float64\n 10  15      1994 non-null   float64\n 11  16      1994 non-null   float64\n 12  17      1994 non-null   float64\n 13  18      1994 non-null   float64\n 14  19      1994 non-null   float64\n 15  20      1994 non-null   float64\n 16  21      1994 non-null   float64\n 17  22      1994 non-null   float64\n 18  23      1994 non-null   float64\n 19  24      1994 non-null   float64\n 20  25      1994 non-null   float64\n 21  26      1994 non-null   float64\n 22  27      1994 non-null   float64\n 23  28      1994 non-null   float64\n 24  29      1994 non-null   float64\n 25  31      1994 non-null   float64\n 26  32      1994 non-null   float64\n 27  33      1994 non-null   float64\n 28  34      1994 non-null   float64\n 29  35      1994 non-null   float64\n 30  36      1994 non-null   float64\n 31  37      1994 non-null   float64\n 32  38      1994 non-null   float64\n 33  39      1994 non-null   float64\n 34  40      1994 non-null   float64\n 35  41      1994 non-null   float64\n 36  42      1994 non-null   float64\n 37  43      1994 non-null   float64\n 38  44      1994 non-null   float64\n 39  45      1994 non-null   float64\n 40  46      1994 non-null   float64\n 41  47      1994 non-null   float64\n 42  48      1994 non-null   float64\n 43  49      1994 non-null   float64\n 44  50      1994 non-null   float64\n 45  51      1994 non-null   float64\n 46  52      1994 non-null   float64\n 47  53      1994 non-null   float64\n 48  54      1994 non-null   float64\n 49  55      1994 non-null   float64\n 50  56      1994 non-null   float64\n 51  57      1994 non-null   float64\n 52  58      1994 non-null   float64\n 53  59      1994 non-null   float64\n 54  60      1994 non-null   float64\n 55  61      1994 non-null   float64\n 56  62      1994 non-null   float64\n 57  63      1994 non-null   float64\n 58  64      1994 non-null   float64\n 59  65      1994 non-null   float64\n 60  66      1994 non-null   float64\n 61  67      1994 non-null   float64\n 62  68      1994 non-null   float64\n 63  69      1994 non-null   float64\n 64  70      1994 non-null   float64\n 65  71      1994 non-null   float64\n 66  72      1994 non-null   float64\n 67  73      1994 non-null   float64\n 68  74      1994 non-null   float64\n 69  75      1994 non-null   float64\n 70  76      1994 non-null   float64\n 71  77      1994 non-null   float64\n 72  78      1994 non-null   float64\n 73  79      1994 non-null   float64\n 74  80      1994 non-null   float64\n 75  81      1994 non-null   float64\n 76  82      1994 non-null   float64\n 77  83      1994 non-null   float64\n 78  84      1994 non-null   float64\n 79  85      1994 non-null   float64\n 80  86      1994 non-null   float64\n 81  87      1994 non-null   float64\n 82  88      1994 non-null   float64\n 83  89      1994 non-null   float64\n 84  90      1994 non-null   float64\n 85  91      1994 non-null   float64\n 86  92      1994 non-null   float64\n 87  93      1994 non-null   float64\n 88  94      1994 non-null   float64\n 89  95      1994 non-null   float64\n 90  96      1994 non-null   float64\n 91  97      1994 non-null   float64\n 92  98      1994 non-null   float64\n 93  99      1994 non-null   float64\n 94  100     1994 non-null   float64\n 95  118     1994 non-null   float64\n 96  119     1994 non-null   float64\n 97  120     1994 non-null   float64\n 98  125     1994 non-null   float64\n 99  127     1994 non-null   float64\ndtypes: float64(100)\nmemory usage: 1.5 MB\n"
    }
   ],
   "source": [
    "data4.info()"
   ]
  },
  {
   "cell_type": "code",
   "execution_count": 83,
   "metadata": {},
   "outputs": [],
   "source": [
    "# Split dataset\n",
    "X4 = data4.iloc[:,:-1]\n",
    "y4 = data4.iloc[:, -1]"
   ]
  },
  {
   "cell_type": "markdown",
   "metadata": {},
   "source": [
    "## Model 1: Linear Regression"
   ]
  },
  {
   "cell_type": "code",
   "execution_count": 84,
   "metadata": {},
   "outputs": [
    {
     "output_type": "stream",
     "name": "stdout",
     "text": "{'fit_time': array([0.43651223, 0.0129652 , 0.01296496, 0.01295924, 0.01196814]), 'score_time': array([0.00199461, 0.0019958 , 0.00299287, 0.00299788, 0.00199509]), 'test_neg_mean_absolute_error': array([-0.09789825, -0.10727842, -0.09052261, -0.09359749, -0.09549616]), 'train_neg_mean_absolute_error': array([-0.08980191, -0.08789745, -0.09278905, -0.09171216, -0.09111234]), 'test_neg_mean_squared_error': array([-0.02055134, -0.02336683, -0.01651096, -0.01638013, -0.01827668]), 'train_neg_mean_squared_error': array([-0.01593511, -0.01533586, -0.01696986, -0.01703986, -0.01654409]), 'test_neg_median_absolute_error': array([-0.06809898, -0.07269421, -0.0612531 , -0.07006792, -0.06357784]), 'train_neg_median_absolute_error': array([-0.06364502, -0.06162881, -0.06670038, -0.06321973, -0.06459919])}\n"
    }
   ],
   "source": [
    "# Cross Validation\n",
    "f_cross_validation(LinearRegression(), X4, y4)"
   ]
  },
  {
   "cell_type": "code",
   "execution_count": 85,
   "metadata": {},
   "outputs": [
    {
     "output_type": "stream",
     "name": "stdout",
     "text": "dataset                            Communities and Crime\nmodel                                  Linear Regression\nsearch_strategy                             GridSearchCV\nfit_time                                        0.642881\nscore_time                                    0.00299373\ntest_neg_mean_absolute_error                  -0.0970593\ntrain_neg_mean_absolute_error                   -0.09068\ntest_neg_mean_squared_error                   -0.0190612\ntrain_neg_mean_squared_error                  -0.0163719\ntest_neg_median_absolute_error                -0.0673669\ntrain_neg_median_absolute_error               -0.0638008\nName: 20, dtype: object\n"
    }
   ],
   "source": [
    "# Hyperparameters - GridSearch\n",
    "f_hyperparam_gscv(LinearRegression(), X4, y4, pg_LinearRegression,20, \n",
    "dataset_names[3], mn_LinReg)"
   ]
  },
  {
   "cell_type": "code",
   "execution_count": 93,
   "metadata": {},
   "outputs": [
    {
     "output_type": "stream",
     "name": "stdout",
     "text": "dataset                            Communities and Crime\nmodel                                  Linear Regression\nsearch_strategy                       RandomizedSearchCV\nfit_time                                        0.605977\nscore_time                                    0.00259228\ntest_neg_mean_absolute_error                  -0.0970593\ntrain_neg_mean_absolute_error                   -0.09068\ntest_neg_mean_squared_error                   -0.0190612\ntrain_neg_mean_squared_error                  -0.0163719\ntest_neg_median_absolute_error                -0.0673669\ntrain_neg_median_absolute_error               -0.0638008\nName: 21, dtype: object\n"
    }
   ],
   "source": [
    "# Hyperparameters - RandomSearch\n",
    "f_hyperparam_rscv(LinearRegression(), X4, y4, pg_LinearRegression, 21, \n",
    "dataset_names[3], mn_LinReg)"
   ]
  },
  {
   "cell_type": "markdown",
   "metadata": {},
   "source": [
    "## Model 2: Decision Tree Regressor"
   ]
  },
  {
   "cell_type": "code",
   "execution_count": 51,
   "metadata": {},
   "outputs": [
    {
     "output_type": "stream",
     "name": "stdout",
     "text": "{'fit_time': array([0.16177154, 0.10292673, 0.12239242, 0.12955642, 0.12266874]), 'score_time': array([0.00299239, 0.00199032, 0.00327539, 0.00299048, 0.00299191]), 'test_neg_mean_absolute_error': array([-0.13744361, -0.13741855, -0.12919799, -0.12065163, -0.13324121]), 'train_neg_mean_absolute_error': array([-2.84951442e-19, -4.17638755e-19, -3.17579470e-19, -3.91536333e-19,\n       -5.34764380e-19]), 'test_neg_mean_squared_error': array([-0.04333935, -0.04366291, -0.0362599 , -0.03453434, -0.04090678]), 'train_neg_mean_squared_error': array([-8.41462339e-36, -1.12295602e-35, -5.22234922e-36, -7.42599947e-36,\n       -9.86496071e-36]), 'test_neg_median_absolute_error': array([-0.08, -0.08, -0.08, -0.07, -0.08]), 'train_neg_median_absolute_error': array([-0., -0., -0., -0., -0.])}\n"
    }
   ],
   "source": [
    "# Cross Validation\n",
    "f_cross_validation(DecisionTreeRegressor(), X4, y4)"
   ]
  },
  {
   "cell_type": "code",
   "execution_count": 52,
   "metadata": {},
   "outputs": [
    {
     "output_type": "stream",
     "name": "stdout",
     "text": "dataset                              Communities and Crime\nmodel                              Decision Tree Regressor\nsearch_strategy                               GridSearchCV\nfit_time                                           5.08537\nscore_time                                      0.00338368\ntest_neg_mean_absolute_error                     -0.105854\ntrain_neg_mean_absolute_error                   -0.0984683\ntest_neg_mean_squared_error                     -0.0247835\ntrain_neg_mean_squared_error                    -0.0209362\ntest_neg_median_absolute_error                  -0.0646395\ntrain_neg_median_absolute_error                 -0.0628003\nName: 22, dtype: object\n"
    }
   ],
   "source": [
    "# Hyperparameters - GridSearch\n",
    "f_hyperparam_gscv(DecisionTreeRegressor(), X4, y4, pg_DecisionTree, 22, \n",
    "dataset_names[3], mn_DTreeReg)"
   ]
  },
  {
   "cell_type": "code",
   "execution_count": 53,
   "metadata": {},
   "outputs": [
    {
     "output_type": "stream",
     "name": "stdout",
     "text": "dataset                              Communities and Crime\nmodel                              Decision Tree Regressor\nsearch_strategy                         RandomizedSearchCV\nfit_time                                          0.728799\nscore_time                                      0.00318794\ntest_neg_mean_absolute_error                     -0.105407\ntrain_neg_mean_absolute_error                    -0.100404\ntest_neg_mean_squared_error                     -0.0238346\ntrain_neg_mean_squared_error                      -0.02111\ntest_neg_median_absolute_error                  -0.0656955\ntrain_neg_median_absolute_error                  -0.063919\nName: 23, dtype: object\n"
    }
   ],
   "source": [
    "# Hyperparameters - RandomSearch\n",
    "f_hyperparam_rscv(DecisionTreeRegressor(), X4, y4, pg_DecisionTree, 23, \n",
    "dataset_names[3], mn_DTreeReg)"
   ]
  },
  {
   "cell_type": "markdown",
   "metadata": {},
   "source": [
    "## Model 3: Random Forest Regressor"
   ]
  },
  {
   "cell_type": "code",
   "execution_count": 54,
   "metadata": {},
   "outputs": [
    {
     "output_type": "stream",
     "name": "stdout",
     "text": "{'fit_time': array([6.89460635, 6.75387454, 6.8901794 , 6.90728712, 6.90451646]), 'score_time': array([0.01398754, 0.01517749, 0.0139637 , 0.02094388, 0.01595354]), 'test_neg_mean_absolute_error': array([-0.09911303, -0.1056797 , -0.09065915, -0.09024787, -0.09130452]), 'train_neg_mean_absolute_error': array([-0.03436163, -0.03415831, -0.03563524, -0.03595354, -0.03594148]), 'test_neg_mean_squared_error': array([-0.02161316, -0.02333645, -0.01816294, -0.01626164, -0.01681534]), 'train_neg_mean_squared_error': array([-0.00258148, -0.00254156, -0.00271816, -0.00274713, -0.0027464 ]), 'test_neg_median_absolute_error': array([-0.0669, -0.0687, -0.057 , -0.0631, -0.0613]), 'train_neg_median_absolute_error': array([-0.0212 , -0.0221 , -0.0231 , -0.0223 , -0.02345])}\n"
    }
   ],
   "source": [
    "# Cross Validation\n",
    "f_cross_validation(RandomForestRegressor(), X4, y4)"
   ]
  },
  {
   "cell_type": "code",
   "execution_count": 55,
   "metadata": {},
   "outputs": [
    {
     "output_type": "stream",
     "name": "stdout",
     "text": "dataset                              Communities and Crime\nmodel                              Random Forest Regressor\nsearch_strategy                               GridSearchCV\nfit_time                                           1900.47\nscore_time                                       0.0127548\ntest_neg_mean_absolute_error                    -0.0942219\ntrain_neg_mean_absolute_error                   -0.0707484\ntest_neg_mean_squared_error                     -0.0191414\ntrain_neg_mean_squared_error                    -0.0101193\ntest_neg_median_absolute_error                  -0.0608611\ntrain_neg_median_absolute_error                 -0.0485544\nName: 24, dtype: object\n"
    }
   ],
   "source": [
    "# Hyperparameters - GridSearch\n",
    "f_hyperparam_gscv(RandomForestRegressor(), X4, y4, pg_RandomForest, 24, \n",
    "dataset_names[3], mn_RForestReg)"
   ]
  },
  {
   "cell_type": "code",
   "execution_count": 75,
   "metadata": {},
   "outputs": [
    {
     "output_type": "stream",
     "name": "stdout",
     "text": "dataset                              Communities and Crime\nmodel                              Random Forest Regressor\nsearch_strategy                         RandomizedSearchCV\nfit_time                                           788.586\nscore_time                                       0.0164585\ntest_neg_mean_absolute_error                    -0.0940289\ntrain_neg_mean_absolute_error                   -0.0714141\ntest_neg_mean_squared_error                     -0.0190682\ntrain_neg_mean_squared_error                    -0.0104812\ntest_neg_median_absolute_error                  -0.0613966\ntrain_neg_median_absolute_error                 -0.0484496\nName: 25, dtype: object\n"
    }
   ],
   "source": [
    "# Hyperparameters - RandomSearch\n",
    "f_hyperparam_rscv(RandomForestRegressor(), X4, y4, pg_RandomForest, 25, \n",
    "dataset_names[3], mn_RForestReg)"
   ]
  },
  {
   "cell_type": "markdown",
   "metadata": {},
   "source": [
    "## Model 4: Passive Aggressive Regressor"
   ]
  },
  {
   "cell_type": "code",
   "execution_count": 76,
   "metadata": {},
   "outputs": [
    {
     "output_type": "stream",
     "name": "stdout",
     "text": "{'fit_time': array([0.1994493 , 0.01196671, 0.01296449, 0.0139637 , 0.01595736]), 'score_time': array([0.12067699, 0.00299191, 0.00199485, 0.00299144, 0.00199413]), 'test_neg_mean_absolute_error': array([-0.12566075, -0.10663471, -0.10081717, -0.21086871, -0.11586427]), 'train_neg_mean_absolute_error': array([-0.11503071, -0.09372777, -0.10347627, -0.20680551, -0.11990704]), 'test_neg_mean_squared_error': array([-0.03138578, -0.02303698, -0.0207042 , -0.05583826, -0.02690033]), 'train_neg_mean_squared_error': array([-0.02572423, -0.01734965, -0.02049881, -0.0546927 , -0.02925201]), 'test_neg_median_absolute_error': array([-0.09254937, -0.07529184, -0.06654621, -0.2049989 , -0.07920534]), 'train_neg_median_absolute_error': array([-0.08161433, -0.068552  , -0.0760611 , -0.1995681 , -0.07954154])}\n"
    }
   ],
   "source": [
    "# Cross Validation\n",
    "f_cross_validation(PassiveAggressiveRegressor(), X4, y4)"
   ]
  },
  {
   "cell_type": "code",
   "execution_count": 77,
   "metadata": {},
   "outputs": [
    {
     "output_type": "stream",
     "name": "stdout",
     "text": "dataset                                   Communities and Crime\nmodel                              Passive Aggressive Regressor\nsearch_strategy                                    GridSearchCV\nfit_time                                                7.45048\nscore_time                                           0.00199523\ntest_neg_mean_absolute_error                           -0.12291\ntrain_neg_mean_absolute_error                         -0.120445\ntest_neg_mean_squared_error                          -0.0262512\ntrain_neg_mean_squared_error                         -0.0256273\ntest_neg_median_absolute_error                       -0.0968583\ntrain_neg_median_absolute_error                       -0.095137\nName: 26, dtype: object\n"
    }
   ],
   "source": [
    "# Hyperparameters - GridSearch\n",
    "f_hyperparam_gscv(PassiveAggressiveRegressor(), X4, y4, pg_PassiveAggressive, 26, \n",
    "dataset_names[3], mn_PasAggReg)"
   ]
  },
  {
   "cell_type": "code",
   "execution_count": 78,
   "metadata": {},
   "outputs": [
    {
     "output_type": "stream",
     "name": "stdout",
     "text": "dataset                                   Communities and Crime\nmodel                              Passive Aggressive Regressor\nsearch_strategy                              RandomizedSearchCV\nfit_time                                               0.707707\nscore_time                                           0.00219426\ntest_neg_mean_absolute_error                          -0.186856\ntrain_neg_mean_absolute_error                         -0.183272\ntest_neg_mean_squared_error                          -0.0552638\ntrain_neg_mean_squared_error                         -0.0520188\ntest_neg_median_absolute_error                        -0.168311\ntrain_neg_median_absolute_error                       -0.166743\nName: 27, dtype: object\n"
    }
   ],
   "source": [
    "# Hyperparameters - RandomSearch\n",
    "f_hyperparam_rscv(PassiveAggressiveRegressor(), X4, y4, pg_PassiveAggressive, 27, \n",
    "dataset_names[3], mn_PasAggReg)"
   ]
  },
  {
   "cell_type": "markdown",
   "metadata": {},
   "source": [
    "## Model 5: KNeighbors Regressor"
   ]
  },
  {
   "cell_type": "code",
   "execution_count": 79,
   "metadata": {},
   "outputs": [
    {
     "output_type": "stream",
     "name": "stdout",
     "text": "{'fit_time': array([0.0767951 , 0.03091741, 0.02991962, 0.03092718, 0.0289228 ]), 'score_time': array([0.12566543, 0.10073042, 0.10372591, 0.10468602, 0.10271239]), 'test_neg_mean_absolute_error': array([-0.10145865, -0.11225063, -0.09827569, -0.09364912, -0.09161307]), 'train_neg_mean_absolute_error': array([-0.08006646, -0.07877868, -0.08298307, -0.08339185, -0.08105514]), 'test_neg_mean_squared_error': array([-0.02404771, -0.02660235, -0.02123184, -0.0190139 , -0.01746122]), 'train_neg_mean_squared_error': array([-0.01395223, -0.01373197, -0.01502517, -0.01479425, -0.01416514]), 'test_neg_median_absolute_error': array([-0.062, -0.068, -0.06 , -0.064, -0.062]), 'train_neg_median_absolute_error': array([-0.05 , -0.05 , -0.052, -0.054, -0.052])}\n"
    }
   ],
   "source": [
    "# Cross Validation\n",
    "f_cross_validation(KNeighborsRegressor(), X4, y4)"
   ]
  },
  {
   "cell_type": "code",
   "execution_count": 106,
   "metadata": {},
   "outputs": [
    {
     "output_type": "stream",
     "name": "stdout",
     "text": "dataset                            Communities and Crime\nmodel                               KNeighbors Regressor\nsearch_strategy                             GridSearchCV\nfit_time                                         5040.39\nscore_time                                     0.0951387\ntest_neg_mean_absolute_error                  -0.0960019\ntrain_neg_mean_absolute_error                          0\ntest_neg_mean_squared_error                   -0.0204388\ntrain_neg_mean_squared_error                           0\ntest_neg_median_absolute_error                -0.0611672\ntrain_neg_median_absolute_error                        0\nName: 28, dtype: object\n"
    }
   ],
   "source": [
    "# Hyperparameters - GridSearch\n",
    "f_hyperparam_gscv(KNeighborsRegressor(), X4, y4, pg_KNeighbors, 28, \n",
    "dataset_names[3], mn_KNReg)"
   ]
  },
  {
   "cell_type": "code",
   "execution_count": 107,
   "metadata": {},
   "outputs": [
    {
     "output_type": "stream",
     "name": "stdout",
     "text": "dataset                            Communities and Crime\nmodel                               KNeighbors Regressor\nsearch_strategy                       RandomizedSearchCV\nfit_time                                          26.854\nscore_time                                     0.0905545\ntest_neg_mean_absolute_error                  -0.0970191\ntrain_neg_mean_absolute_error                          0\ntest_neg_mean_squared_error                    -0.020932\ntrain_neg_mean_squared_error                           0\ntest_neg_median_absolute_error                -0.0606752\ntrain_neg_median_absolute_error                        0\nName: 29, dtype: object\n"
    }
   ],
   "source": [
    "# Hyperparameters - RandomSearch\n",
    "f_hyperparam_rscv(KNeighborsRegressor(), X4, y4, pg_KNeighbors, 29, \n",
    "dataset_names[3], mn_KNReg)"
   ]
  },
  {
   "cell_type": "markdown",
   "metadata": {},
   "source": [
    "# Final Results & Exports"
   ]
  },
  {
   "cell_type": "code",
   "execution_count": 138,
   "metadata": {},
   "outputs": [],
   "source": [
    "def highlight_max(s):\n",
    "    '''\n",
    "    highlight the maximum in a Series yellow.\n",
    "    '''\n",
    "    is_max = s == s.max()\n",
    "    return ['background-color: lightpink' if v else '' for v in is_max]\n",
    "\n",
    "def highlight_min(s):\n",
    "    '''\n",
    "    highlight the minimum in a Series yellow.\n",
    "    '''\n",
    "    is_min = s == s.min()\n",
    "    return ['background-color: lightgreen' if v else '' for v in is_min]"
   ]
  },
  {
   "cell_type": "code",
   "execution_count": 116,
   "metadata": {},
   "outputs": [
    {
     "output_type": "execute_result",
     "data": {
      "text/plain": "                    dataset                         model     search_strategy  \\\n0     CPU Computer Hardware             Linear Regression        GridSearchCV   \n1     CPU Computer Hardware             Linear Regression  RandomizedSearchCV   \n2     CPU Computer Hardware       Decision Tree Regressor        GridSearchCV   \n3     CPU Computer Hardware       Decision Tree Regressor  RandomizedSearchCV   \n4     CPU Computer Hardware       Random Forest Regressor        GridSearchCV   \n5     CPU Computer Hardware       Random Forest Regressor  RandomizedSearchCV   \n6     CPU Computer Hardware  Passive Aggressive Regressor        GridSearchCV   \n7     CPU Computer Hardware  Passive Aggressive Regressor  RandomizedSearchCV   \n8     CPU Computer Hardware          KNeighbors Regressor        GridSearchCV   \n9     CPU Computer Hardware          KNeighbors Regressor  RandomizedSearchCV   \n10           Boston Housing             Linear Regression        GridSearchCV   \n11           Boston Housing             Linear Regression  RandomizedSearchCV   \n12           Boston Housing       Decision Tree Regressor        GridSearchCV   \n13           Boston Housing       Decision Tree Regressor  RandomizedSearchCV   \n14           Boston Housing       Random Forest Regressor        GridSearchCV   \n15           Boston Housing       Random Forest Regressor  RandomizedSearchCV   \n16           Boston Housing  Passive Aggressive Regressor        GridSearchCV   \n17           Boston Housing  Passive Aggressive Regressor  RandomizedSearchCV   \n18           Boston Housing          KNeighbors Regressor        GridSearchCV   \n19           Boston Housing          KNeighbors Regressor  RandomizedSearchCV   \n20    Communities and Crime             Linear Regression        GridSearchCV   \n21    Communities and Crime             Linear Regression  RandomizedSearchCV   \n22    Communities and Crime       Decision Tree Regressor        GridSearchCV   \n23    Communities and Crime       Decision Tree Regressor  RandomizedSearchCV   \n24    Communities and Crime       Random Forest Regressor        GridSearchCV   \n25    Communities and Crime       Random Forest Regressor  RandomizedSearchCV   \n26    Communities and Crime  Passive Aggressive Regressor        GridSearchCV   \n27    Communities and Crime  Passive Aggressive Regressor  RandomizedSearchCV   \n28    Communities and Crime          KNeighbors Regressor        GridSearchCV   \n29    Communities and Crime          KNeighbors Regressor  RandomizedSearchCV   \n30  Wisconsin Breast Cancer             Linear Regression        GridSearchCV   \n31           Boston Housing             Linear Regression  RandomizedSearchCV   \n32  Wisconsin Breast Cancer       Decision Tree Regressor        GridSearchCV   \n33  Wisconsin Breast Cancer       Decision Tree Regressor  RandomizedSearchCV   \n34  Wisconsin Breast Cancer       Random Forest Regressor        GridSearchCV   \n35  Wisconsin Breast Cancer       Random Forest Regressor  RandomizedSearchCV   \n36  Wisconsin Breast Cancer  Passive Aggressive Regressor        GridSearchCV   \n37  Wisconsin Breast Cancer  Passive Aggressive Regressor  RandomizedSearchCV   \n38  Wisconsin Breast Cancer          KNeighbors Regressor        GridSearchCV   \n39  Wisconsin Breast Cancer          KNeighbors Regressor  RandomizedSearchCV   \n\n       fit_time  score_time  test_neg_mean_absolute_error  \\\n0      0.494645    0.003164                    -43.378262   \n1      0.373086    0.002528                    -43.378262   \n2      0.958233    0.001999                    -45.505979   \n3      0.356394    0.004800                    -43.919487   \n4     52.488939    0.012810                    -38.922444   \n5      8.788756    0.012168                    -40.222642   \n6      9.592107    0.002195                    -36.982518   \n7      0.879081    0.002195                    -36.282159   \n8     19.361740    0.002593                    -38.512308   \n9      0.353434    0.003391                    -36.171576   \n10     0.396877    0.002393                     -4.113110   \n11     0.340337    0.002793                     -4.168781   \n12     1.092709    0.002595                     -4.096204   \n13     0.287815    0.003590                     -4.854993   \n14    86.677775    0.011969                     -3.258022   \n15    21.866060    0.011570                     -3.124259   \n16     5.091253    0.001803                     -4.437947   \n17     0.451044    0.001994                     -3.923328   \n18    60.132532    0.003185                     -4.541321   \n19     0.242325    0.002790                    -36.171576   \n20     0.642881    0.002994                     -0.097059   \n21     0.605977    0.002592                     -0.097059   \n22     5.085370    0.003384                     -0.105854   \n23     0.728799    0.003188                     -0.105407   \n24  1900.467549    0.012755                     -0.094222   \n25   788.586245    0.016459                     -0.094029   \n26     7.450476    0.001995                     -0.122910   \n27     0.707707    0.002194                     -0.186856   \n28  5040.385410    0.095139                     -0.096002   \n29    26.853987    0.090555                     -0.097019   \n30     0.273269    0.001596                    -30.069332   \n31     0.242553    0.001796                    -30.392753   \n32     0.748605    0.002398                    -31.641361   \n33     0.203062    0.001994                    -32.416899   \n34    50.088679    0.010765                    -30.315432   \n35    11.428418    0.008395                    -30.277292   \n36     3.710078    0.001397                    -35.260313   \n37     0.319546    0.001397                    -30.198644   \n38    29.423702    0.006587                    -30.498101   \n39     0.303978    0.003805                    -29.855540   \n\n    train_neg_mean_absolute_error  test_neg_mean_squared_error  \\\n0                      -36.695674                 -6383.656697   \n1                      -36.695674                 -6383.656697   \n2                      -31.657317                -11405.463714   \n3                      -27.490610                 -9889.499927   \n4                      -24.902618                 -9417.990893   \n5                      -27.846249                -10236.169549   \n6                      -32.891312                 -6258.945907   \n7                      -33.085869                 -6057.105549   \n8                       -6.253947                -10602.459750   \n9                       -6.503484                 -9991.189085   \n10                      -3.284822                   -36.027564   \n11                      -3.246751                   -36.331988   \n12                      -2.568124                   -37.005767   \n13                      -3.241973                   -50.863759   \n14                      -1.813521                   -23.685948   \n15                      -1.801424                   -22.398007   \n16                      -3.466725                   -44.460140   \n17                      -3.438559                   -31.532209   \n18                      -0.954083                   -45.424986   \n19                      -6.503484                 -9991.189085   \n20                      -0.090680                    -0.019061   \n21                      -0.090680                    -0.019061   \n22                      -0.098468                    -0.024784   \n23                      -0.100404                    -0.023835   \n24                      -0.070748                    -0.019141   \n25                      -0.071414                    -0.019068   \n26                      -0.120445                    -0.026251   \n27                      -0.183272                    -0.055264   \n28                       0.000000                    -0.020439   \n29                       0.000000                    -0.020932   \n30                     -22.247234                 -1369.483861   \n31                     -22.281217                 -1388.546104   \n32                     -24.483430                 -1434.012844   \n33                     -25.233118                 -1450.311066   \n34                     -18.553647                 -1267.449873   \n35                     -16.998222                 -1276.630146   \n36                     -27.463599                 -1719.480671   \n37                     -26.134155                 -1298.516063   \n38                     -19.311749                 -1317.355806   \n39                       0.000000                 -1250.686630   \n\n    train_neg_mean_squared_error  test_neg_median_absolute_error  \\\n0                   -3243.698611                      -27.053792   \n1                   -3243.698611                      -27.053792   \n2                   -5361.841284                      -21.187523   \n3                   -1806.945175                      -23.425880   \n4                   -3037.632457                      -17.522924   \n5                   -4676.394811                      -19.715973   \n6                   -5359.098181                      -19.991516   \n7                   -5433.184122                      -20.002102   \n8                    -539.176277                      -16.602245   \n9                    -607.218113                      -14.279647   \n10                    -22.536931                       -3.055252   \n11                    -21.261948                       -3.189876   \n12                    -13.667446                       -2.992012   \n13                    -21.347992                       -3.509816   \n14                     -8.320821                       -2.428940   \n15                     -8.782758                       -2.163268   \n16                    -28.154848                       -3.070464   \n17                    -26.268354                       -2.773009   \n18                     -5.775645                       -3.307656   \n19                   -607.218113                      -14.279647   \n20                     -0.016372                       -0.067367   \n21                     -0.016372                       -0.067367   \n22                     -0.020936                       -0.064639   \n23                     -0.021110                       -0.065695   \n24                     -0.010119                       -0.060861   \n25                     -0.010481                       -0.061397   \n26                     -0.025627                       -0.096858   \n27                     -0.052019                       -0.168311   \n28                      0.000000                       -0.061167   \n29                      0.000000                       -0.060675   \n30                   -742.057973                      -30.178383   \n31                   -746.548174                      -30.462106   \n32                   -885.633496                      -28.869502   \n33                   -934.852819                      -28.959502   \n34                   -490.357933                      -28.475640   \n35                   -416.452772                      -29.820436   \n36                  -1143.968635                      -33.182113   \n37                  -1062.032151                      -27.544922   \n38                   -670.872660                      -25.919236   \n39                      0.000000                      -27.348528   \n\n    train_neg_median_absolute_error  \n0                        -25.581576  \n1                        -25.581576  \n2                        -15.768125  \n3                        -16.874432  \n4                        -12.382659  \n5                        -10.952127  \n6                        -15.683214  \n7                        -16.285725  \n8                         -1.875000  \n9                         -2.240000  \n10                        -2.324204  \n11                        -2.346504  \n12                        -1.945374  \n13                        -2.490523  \n14                        -1.271837  \n15                        -1.192196  \n16                        -2.389025  \n17                        -2.400396  \n18                        -0.612000  \n19                        -2.240000  \n20                        -0.063801  \n21                        -0.063801  \n22                        -0.062800  \n23                        -0.063919  \n24                        -0.048554  \n25                        -0.048450  \n26                        -0.095137  \n27                        -0.166743  \n28                         0.000000  \n29                         0.000000  \n30                       -19.266034  \n31                       -19.571196  \n32                       -21.825951  \n33                       -22.649287  \n34                       -16.903014  \n35                       -15.176435  \n36                       -24.152233  \n37                       -22.046662  \n38                       -17.211087  \n39                         0.000000  ",
      "text/html": "<div>\n<style scoped>\n    .dataframe tbody tr th:only-of-type {\n        vertical-align: middle;\n    }\n\n    .dataframe tbody tr th {\n        vertical-align: top;\n    }\n\n    .dataframe thead th {\n        text-align: right;\n    }\n</style>\n<table border=\"1\" class=\"dataframe\">\n  <thead>\n    <tr style=\"text-align: right;\">\n      <th></th>\n      <th>dataset</th>\n      <th>model</th>\n      <th>search_strategy</th>\n      <th>fit_time</th>\n      <th>score_time</th>\n      <th>test_neg_mean_absolute_error</th>\n      <th>train_neg_mean_absolute_error</th>\n      <th>test_neg_mean_squared_error</th>\n      <th>train_neg_mean_squared_error</th>\n      <th>test_neg_median_absolute_error</th>\n      <th>train_neg_median_absolute_error</th>\n    </tr>\n  </thead>\n  <tbody>\n    <tr>\n      <th>0</th>\n      <td>CPU Computer Hardware</td>\n      <td>Linear Regression</td>\n      <td>GridSearchCV</td>\n      <td>0.494645</td>\n      <td>0.003164</td>\n      <td>-43.378262</td>\n      <td>-36.695674</td>\n      <td>-6383.656697</td>\n      <td>-3243.698611</td>\n      <td>-27.053792</td>\n      <td>-25.581576</td>\n    </tr>\n    <tr>\n      <th>1</th>\n      <td>CPU Computer Hardware</td>\n      <td>Linear Regression</td>\n      <td>RandomizedSearchCV</td>\n      <td>0.373086</td>\n      <td>0.002528</td>\n      <td>-43.378262</td>\n      <td>-36.695674</td>\n      <td>-6383.656697</td>\n      <td>-3243.698611</td>\n      <td>-27.053792</td>\n      <td>-25.581576</td>\n    </tr>\n    <tr>\n      <th>2</th>\n      <td>CPU Computer Hardware</td>\n      <td>Decision Tree Regressor</td>\n      <td>GridSearchCV</td>\n      <td>0.958233</td>\n      <td>0.001999</td>\n      <td>-45.505979</td>\n      <td>-31.657317</td>\n      <td>-11405.463714</td>\n      <td>-5361.841284</td>\n      <td>-21.187523</td>\n      <td>-15.768125</td>\n    </tr>\n    <tr>\n      <th>3</th>\n      <td>CPU Computer Hardware</td>\n      <td>Decision Tree Regressor</td>\n      <td>RandomizedSearchCV</td>\n      <td>0.356394</td>\n      <td>0.004800</td>\n      <td>-43.919487</td>\n      <td>-27.490610</td>\n      <td>-9889.499927</td>\n      <td>-1806.945175</td>\n      <td>-23.425880</td>\n      <td>-16.874432</td>\n    </tr>\n    <tr>\n      <th>4</th>\n      <td>CPU Computer Hardware</td>\n      <td>Random Forest Regressor</td>\n      <td>GridSearchCV</td>\n      <td>52.488939</td>\n      <td>0.012810</td>\n      <td>-38.922444</td>\n      <td>-24.902618</td>\n      <td>-9417.990893</td>\n      <td>-3037.632457</td>\n      <td>-17.522924</td>\n      <td>-12.382659</td>\n    </tr>\n    <tr>\n      <th>5</th>\n      <td>CPU Computer Hardware</td>\n      <td>Random Forest Regressor</td>\n      <td>RandomizedSearchCV</td>\n      <td>8.788756</td>\n      <td>0.012168</td>\n      <td>-40.222642</td>\n      <td>-27.846249</td>\n      <td>-10236.169549</td>\n      <td>-4676.394811</td>\n      <td>-19.715973</td>\n      <td>-10.952127</td>\n    </tr>\n    <tr>\n      <th>6</th>\n      <td>CPU Computer Hardware</td>\n      <td>Passive Aggressive Regressor</td>\n      <td>GridSearchCV</td>\n      <td>9.592107</td>\n      <td>0.002195</td>\n      <td>-36.982518</td>\n      <td>-32.891312</td>\n      <td>-6258.945907</td>\n      <td>-5359.098181</td>\n      <td>-19.991516</td>\n      <td>-15.683214</td>\n    </tr>\n    <tr>\n      <th>7</th>\n      <td>CPU Computer Hardware</td>\n      <td>Passive Aggressive Regressor</td>\n      <td>RandomizedSearchCV</td>\n      <td>0.879081</td>\n      <td>0.002195</td>\n      <td>-36.282159</td>\n      <td>-33.085869</td>\n      <td>-6057.105549</td>\n      <td>-5433.184122</td>\n      <td>-20.002102</td>\n      <td>-16.285725</td>\n    </tr>\n    <tr>\n      <th>8</th>\n      <td>CPU Computer Hardware</td>\n      <td>KNeighbors Regressor</td>\n      <td>GridSearchCV</td>\n      <td>19.361740</td>\n      <td>0.002593</td>\n      <td>-38.512308</td>\n      <td>-6.253947</td>\n      <td>-10602.459750</td>\n      <td>-539.176277</td>\n      <td>-16.602245</td>\n      <td>-1.875000</td>\n    </tr>\n    <tr>\n      <th>9</th>\n      <td>CPU Computer Hardware</td>\n      <td>KNeighbors Regressor</td>\n      <td>RandomizedSearchCV</td>\n      <td>0.353434</td>\n      <td>0.003391</td>\n      <td>-36.171576</td>\n      <td>-6.503484</td>\n      <td>-9991.189085</td>\n      <td>-607.218113</td>\n      <td>-14.279647</td>\n      <td>-2.240000</td>\n    </tr>\n    <tr>\n      <th>10</th>\n      <td>Boston Housing</td>\n      <td>Linear Regression</td>\n      <td>GridSearchCV</td>\n      <td>0.396877</td>\n      <td>0.002393</td>\n      <td>-4.113110</td>\n      <td>-3.284822</td>\n      <td>-36.027564</td>\n      <td>-22.536931</td>\n      <td>-3.055252</td>\n      <td>-2.324204</td>\n    </tr>\n    <tr>\n      <th>11</th>\n      <td>Boston Housing</td>\n      <td>Linear Regression</td>\n      <td>RandomizedSearchCV</td>\n      <td>0.340337</td>\n      <td>0.002793</td>\n      <td>-4.168781</td>\n      <td>-3.246751</td>\n      <td>-36.331988</td>\n      <td>-21.261948</td>\n      <td>-3.189876</td>\n      <td>-2.346504</td>\n    </tr>\n    <tr>\n      <th>12</th>\n      <td>Boston Housing</td>\n      <td>Decision Tree Regressor</td>\n      <td>GridSearchCV</td>\n      <td>1.092709</td>\n      <td>0.002595</td>\n      <td>-4.096204</td>\n      <td>-2.568124</td>\n      <td>-37.005767</td>\n      <td>-13.667446</td>\n      <td>-2.992012</td>\n      <td>-1.945374</td>\n    </tr>\n    <tr>\n      <th>13</th>\n      <td>Boston Housing</td>\n      <td>Decision Tree Regressor</td>\n      <td>RandomizedSearchCV</td>\n      <td>0.287815</td>\n      <td>0.003590</td>\n      <td>-4.854993</td>\n      <td>-3.241973</td>\n      <td>-50.863759</td>\n      <td>-21.347992</td>\n      <td>-3.509816</td>\n      <td>-2.490523</td>\n    </tr>\n    <tr>\n      <th>14</th>\n      <td>Boston Housing</td>\n      <td>Random Forest Regressor</td>\n      <td>GridSearchCV</td>\n      <td>86.677775</td>\n      <td>0.011969</td>\n      <td>-3.258022</td>\n      <td>-1.813521</td>\n      <td>-23.685948</td>\n      <td>-8.320821</td>\n      <td>-2.428940</td>\n      <td>-1.271837</td>\n    </tr>\n    <tr>\n      <th>15</th>\n      <td>Boston Housing</td>\n      <td>Random Forest Regressor</td>\n      <td>RandomizedSearchCV</td>\n      <td>21.866060</td>\n      <td>0.011570</td>\n      <td>-3.124259</td>\n      <td>-1.801424</td>\n      <td>-22.398007</td>\n      <td>-8.782758</td>\n      <td>-2.163268</td>\n      <td>-1.192196</td>\n    </tr>\n    <tr>\n      <th>16</th>\n      <td>Boston Housing</td>\n      <td>Passive Aggressive Regressor</td>\n      <td>GridSearchCV</td>\n      <td>5.091253</td>\n      <td>0.001803</td>\n      <td>-4.437947</td>\n      <td>-3.466725</td>\n      <td>-44.460140</td>\n      <td>-28.154848</td>\n      <td>-3.070464</td>\n      <td>-2.389025</td>\n    </tr>\n    <tr>\n      <th>17</th>\n      <td>Boston Housing</td>\n      <td>Passive Aggressive Regressor</td>\n      <td>RandomizedSearchCV</td>\n      <td>0.451044</td>\n      <td>0.001994</td>\n      <td>-3.923328</td>\n      <td>-3.438559</td>\n      <td>-31.532209</td>\n      <td>-26.268354</td>\n      <td>-2.773009</td>\n      <td>-2.400396</td>\n    </tr>\n    <tr>\n      <th>18</th>\n      <td>Boston Housing</td>\n      <td>KNeighbors Regressor</td>\n      <td>GridSearchCV</td>\n      <td>60.132532</td>\n      <td>0.003185</td>\n      <td>-4.541321</td>\n      <td>-0.954083</td>\n      <td>-45.424986</td>\n      <td>-5.775645</td>\n      <td>-3.307656</td>\n      <td>-0.612000</td>\n    </tr>\n    <tr>\n      <th>19</th>\n      <td>Boston Housing</td>\n      <td>KNeighbors Regressor</td>\n      <td>RandomizedSearchCV</td>\n      <td>0.242325</td>\n      <td>0.002790</td>\n      <td>-36.171576</td>\n      <td>-6.503484</td>\n      <td>-9991.189085</td>\n      <td>-607.218113</td>\n      <td>-14.279647</td>\n      <td>-2.240000</td>\n    </tr>\n    <tr>\n      <th>20</th>\n      <td>Communities and Crime</td>\n      <td>Linear Regression</td>\n      <td>GridSearchCV</td>\n      <td>0.642881</td>\n      <td>0.002994</td>\n      <td>-0.097059</td>\n      <td>-0.090680</td>\n      <td>-0.019061</td>\n      <td>-0.016372</td>\n      <td>-0.067367</td>\n      <td>-0.063801</td>\n    </tr>\n    <tr>\n      <th>21</th>\n      <td>Communities and Crime</td>\n      <td>Linear Regression</td>\n      <td>RandomizedSearchCV</td>\n      <td>0.605977</td>\n      <td>0.002592</td>\n      <td>-0.097059</td>\n      <td>-0.090680</td>\n      <td>-0.019061</td>\n      <td>-0.016372</td>\n      <td>-0.067367</td>\n      <td>-0.063801</td>\n    </tr>\n    <tr>\n      <th>22</th>\n      <td>Communities and Crime</td>\n      <td>Decision Tree Regressor</td>\n      <td>GridSearchCV</td>\n      <td>5.085370</td>\n      <td>0.003384</td>\n      <td>-0.105854</td>\n      <td>-0.098468</td>\n      <td>-0.024784</td>\n      <td>-0.020936</td>\n      <td>-0.064639</td>\n      <td>-0.062800</td>\n    </tr>\n    <tr>\n      <th>23</th>\n      <td>Communities and Crime</td>\n      <td>Decision Tree Regressor</td>\n      <td>RandomizedSearchCV</td>\n      <td>0.728799</td>\n      <td>0.003188</td>\n      <td>-0.105407</td>\n      <td>-0.100404</td>\n      <td>-0.023835</td>\n      <td>-0.021110</td>\n      <td>-0.065695</td>\n      <td>-0.063919</td>\n    </tr>\n    <tr>\n      <th>24</th>\n      <td>Communities and Crime</td>\n      <td>Random Forest Regressor</td>\n      <td>GridSearchCV</td>\n      <td>1900.467549</td>\n      <td>0.012755</td>\n      <td>-0.094222</td>\n      <td>-0.070748</td>\n      <td>-0.019141</td>\n      <td>-0.010119</td>\n      <td>-0.060861</td>\n      <td>-0.048554</td>\n    </tr>\n    <tr>\n      <th>25</th>\n      <td>Communities and Crime</td>\n      <td>Random Forest Regressor</td>\n      <td>RandomizedSearchCV</td>\n      <td>788.586245</td>\n      <td>0.016459</td>\n      <td>-0.094029</td>\n      <td>-0.071414</td>\n      <td>-0.019068</td>\n      <td>-0.010481</td>\n      <td>-0.061397</td>\n      <td>-0.048450</td>\n    </tr>\n    <tr>\n      <th>26</th>\n      <td>Communities and Crime</td>\n      <td>Passive Aggressive Regressor</td>\n      <td>GridSearchCV</td>\n      <td>7.450476</td>\n      <td>0.001995</td>\n      <td>-0.122910</td>\n      <td>-0.120445</td>\n      <td>-0.026251</td>\n      <td>-0.025627</td>\n      <td>-0.096858</td>\n      <td>-0.095137</td>\n    </tr>\n    <tr>\n      <th>27</th>\n      <td>Communities and Crime</td>\n      <td>Passive Aggressive Regressor</td>\n      <td>RandomizedSearchCV</td>\n      <td>0.707707</td>\n      <td>0.002194</td>\n      <td>-0.186856</td>\n      <td>-0.183272</td>\n      <td>-0.055264</td>\n      <td>-0.052019</td>\n      <td>-0.168311</td>\n      <td>-0.166743</td>\n    </tr>\n    <tr>\n      <th>28</th>\n      <td>Communities and Crime</td>\n      <td>KNeighbors Regressor</td>\n      <td>GridSearchCV</td>\n      <td>5040.385410</td>\n      <td>0.095139</td>\n      <td>-0.096002</td>\n      <td>0.000000</td>\n      <td>-0.020439</td>\n      <td>0.000000</td>\n      <td>-0.061167</td>\n      <td>0.000000</td>\n    </tr>\n    <tr>\n      <th>29</th>\n      <td>Communities and Crime</td>\n      <td>KNeighbors Regressor</td>\n      <td>RandomizedSearchCV</td>\n      <td>26.853987</td>\n      <td>0.090555</td>\n      <td>-0.097019</td>\n      <td>0.000000</td>\n      <td>-0.020932</td>\n      <td>0.000000</td>\n      <td>-0.060675</td>\n      <td>0.000000</td>\n    </tr>\n    <tr>\n      <th>30</th>\n      <td>Wisconsin Breast Cancer</td>\n      <td>Linear Regression</td>\n      <td>GridSearchCV</td>\n      <td>0.273269</td>\n      <td>0.001596</td>\n      <td>-30.069332</td>\n      <td>-22.247234</td>\n      <td>-1369.483861</td>\n      <td>-742.057973</td>\n      <td>-30.178383</td>\n      <td>-19.266034</td>\n    </tr>\n    <tr>\n      <th>31</th>\n      <td>Boston Housing</td>\n      <td>Linear Regression</td>\n      <td>RandomizedSearchCV</td>\n      <td>0.242553</td>\n      <td>0.001796</td>\n      <td>-30.392753</td>\n      <td>-22.281217</td>\n      <td>-1388.546104</td>\n      <td>-746.548174</td>\n      <td>-30.462106</td>\n      <td>-19.571196</td>\n    </tr>\n    <tr>\n      <th>32</th>\n      <td>Wisconsin Breast Cancer</td>\n      <td>Decision Tree Regressor</td>\n      <td>GridSearchCV</td>\n      <td>0.748605</td>\n      <td>0.002398</td>\n      <td>-31.641361</td>\n      <td>-24.483430</td>\n      <td>-1434.012844</td>\n      <td>-885.633496</td>\n      <td>-28.869502</td>\n      <td>-21.825951</td>\n    </tr>\n    <tr>\n      <th>33</th>\n      <td>Wisconsin Breast Cancer</td>\n      <td>Decision Tree Regressor</td>\n      <td>RandomizedSearchCV</td>\n      <td>0.203062</td>\n      <td>0.001994</td>\n      <td>-32.416899</td>\n      <td>-25.233118</td>\n      <td>-1450.311066</td>\n      <td>-934.852819</td>\n      <td>-28.959502</td>\n      <td>-22.649287</td>\n    </tr>\n    <tr>\n      <th>34</th>\n      <td>Wisconsin Breast Cancer</td>\n      <td>Random Forest Regressor</td>\n      <td>GridSearchCV</td>\n      <td>50.088679</td>\n      <td>0.010765</td>\n      <td>-30.315432</td>\n      <td>-18.553647</td>\n      <td>-1267.449873</td>\n      <td>-490.357933</td>\n      <td>-28.475640</td>\n      <td>-16.903014</td>\n    </tr>\n    <tr>\n      <th>35</th>\n      <td>Wisconsin Breast Cancer</td>\n      <td>Random Forest Regressor</td>\n      <td>RandomizedSearchCV</td>\n      <td>11.428418</td>\n      <td>0.008395</td>\n      <td>-30.277292</td>\n      <td>-16.998222</td>\n      <td>-1276.630146</td>\n      <td>-416.452772</td>\n      <td>-29.820436</td>\n      <td>-15.176435</td>\n    </tr>\n    <tr>\n      <th>36</th>\n      <td>Wisconsin Breast Cancer</td>\n      <td>Passive Aggressive Regressor</td>\n      <td>GridSearchCV</td>\n      <td>3.710078</td>\n      <td>0.001397</td>\n      <td>-35.260313</td>\n      <td>-27.463599</td>\n      <td>-1719.480671</td>\n      <td>-1143.968635</td>\n      <td>-33.182113</td>\n      <td>-24.152233</td>\n    </tr>\n    <tr>\n      <th>37</th>\n      <td>Wisconsin Breast Cancer</td>\n      <td>Passive Aggressive Regressor</td>\n      <td>RandomizedSearchCV</td>\n      <td>0.319546</td>\n      <td>0.001397</td>\n      <td>-30.198644</td>\n      <td>-26.134155</td>\n      <td>-1298.516063</td>\n      <td>-1062.032151</td>\n      <td>-27.544922</td>\n      <td>-22.046662</td>\n    </tr>\n    <tr>\n      <th>38</th>\n      <td>Wisconsin Breast Cancer</td>\n      <td>KNeighbors Regressor</td>\n      <td>GridSearchCV</td>\n      <td>29.423702</td>\n      <td>0.006587</td>\n      <td>-30.498101</td>\n      <td>-19.311749</td>\n      <td>-1317.355806</td>\n      <td>-670.872660</td>\n      <td>-25.919236</td>\n      <td>-17.211087</td>\n    </tr>\n    <tr>\n      <th>39</th>\n      <td>Wisconsin Breast Cancer</td>\n      <td>KNeighbors Regressor</td>\n      <td>RandomizedSearchCV</td>\n      <td>0.303978</td>\n      <td>0.003805</td>\n      <td>-29.855540</td>\n      <td>0.000000</td>\n      <td>-1250.686630</td>\n      <td>0.000000</td>\n      <td>-27.348528</td>\n      <td>0.000000</td>\n    </tr>\n  </tbody>\n</table>\n</div>"
     },
     "metadata": {},
     "execution_count": 116
    }
   ],
   "source": [
    "final_results"
   ]
  },
  {
   "cell_type": "code",
   "execution_count": 120,
   "metadata": {},
   "outputs": [
    {
     "output_type": "execute_result",
     "data": {
      "text/plain": "                    dataset                         model     search_strategy  \\\n0     CPU Computer Hardware             Linear Regression        GridSearchCV   \n1     CPU Computer Hardware             Linear Regression  RandomizedSearchCV   \n2     CPU Computer Hardware       Decision Tree Regressor        GridSearchCV   \n3     CPU Computer Hardware       Decision Tree Regressor  RandomizedSearchCV   \n4     CPU Computer Hardware       Random Forest Regressor        GridSearchCV   \n5     CPU Computer Hardware       Random Forest Regressor  RandomizedSearchCV   \n6     CPU Computer Hardware  Passive Aggressive Regressor        GridSearchCV   \n7     CPU Computer Hardware  Passive Aggressive Regressor  RandomizedSearchCV   \n8     CPU Computer Hardware          KNeighbors Regressor        GridSearchCV   \n9     CPU Computer Hardware          KNeighbors Regressor  RandomizedSearchCV   \n10           Boston Housing             Linear Regression        GridSearchCV   \n11           Boston Housing             Linear Regression  RandomizedSearchCV   \n12           Boston Housing       Decision Tree Regressor        GridSearchCV   \n13           Boston Housing       Decision Tree Regressor  RandomizedSearchCV   \n14           Boston Housing       Random Forest Regressor        GridSearchCV   \n15           Boston Housing       Random Forest Regressor  RandomizedSearchCV   \n16           Boston Housing  Passive Aggressive Regressor        GridSearchCV   \n17           Boston Housing  Passive Aggressive Regressor  RandomizedSearchCV   \n18           Boston Housing          KNeighbors Regressor        GridSearchCV   \n19           Boston Housing          KNeighbors Regressor  RandomizedSearchCV   \n20    Communities and Crime             Linear Regression        GridSearchCV   \n21    Communities and Crime             Linear Regression  RandomizedSearchCV   \n22    Communities and Crime       Decision Tree Regressor        GridSearchCV   \n23    Communities and Crime       Decision Tree Regressor  RandomizedSearchCV   \n24    Communities and Crime       Random Forest Regressor        GridSearchCV   \n25    Communities and Crime       Random Forest Regressor  RandomizedSearchCV   \n26    Communities and Crime  Passive Aggressive Regressor        GridSearchCV   \n27    Communities and Crime  Passive Aggressive Regressor  RandomizedSearchCV   \n28    Communities and Crime          KNeighbors Regressor        GridSearchCV   \n29    Communities and Crime          KNeighbors Regressor  RandomizedSearchCV   \n30  Wisconsin Breast Cancer             Linear Regression        GridSearchCV   \n31           Boston Housing             Linear Regression  RandomizedSearchCV   \n32  Wisconsin Breast Cancer       Decision Tree Regressor        GridSearchCV   \n33  Wisconsin Breast Cancer       Decision Tree Regressor  RandomizedSearchCV   \n34  Wisconsin Breast Cancer       Random Forest Regressor        GridSearchCV   \n35  Wisconsin Breast Cancer       Random Forest Regressor  RandomizedSearchCV   \n36  Wisconsin Breast Cancer  Passive Aggressive Regressor        GridSearchCV   \n37  Wisconsin Breast Cancer  Passive Aggressive Regressor  RandomizedSearchCV   \n38  Wisconsin Breast Cancer          KNeighbors Regressor        GridSearchCV   \n39  Wisconsin Breast Cancer          KNeighbors Regressor  RandomizedSearchCV   \n\n       fit_time  score_time  test_mean_absolute_error  \\\n0      0.494645    0.003164                 43.378262   \n1      0.373086    0.002528                 43.378262   \n2      0.958233    0.001999                 45.505979   \n3      0.356394    0.004800                 43.919487   \n4     52.488939    0.012810                 38.922444   \n5      8.788756    0.012168                 40.222642   \n6      9.592107    0.002195                 36.982518   \n7      0.879081    0.002195                 36.282159   \n8     19.361740    0.002593                 38.512308   \n9      0.353434    0.003391                 36.171576   \n10     0.396877    0.002393                  4.113110   \n11     0.340337    0.002793                  4.168781   \n12     1.092709    0.002595                  4.096204   \n13     0.287815    0.003590                  4.854993   \n14    86.677775    0.011969                  3.258022   \n15    21.866060    0.011570                  3.124259   \n16     5.091253    0.001803                  4.437947   \n17     0.451044    0.001994                  3.923328   \n18    60.132532    0.003185                  4.541321   \n19     0.242325    0.002790                 36.171576   \n20     0.642881    0.002994                  0.097059   \n21     0.605977    0.002592                  0.097059   \n22     5.085370    0.003384                  0.105854   \n23     0.728799    0.003188                  0.105407   \n24  1900.467549    0.012755                  0.094222   \n25   788.586245    0.016459                  0.094029   \n26     7.450476    0.001995                  0.122910   \n27     0.707707    0.002194                  0.186856   \n28  5040.385410    0.095139                  0.096002   \n29    26.853987    0.090555                  0.097019   \n30     0.273269    0.001596                 30.069332   \n31     0.242553    0.001796                 30.392753   \n32     0.748605    0.002398                 31.641361   \n33     0.203062    0.001994                 32.416899   \n34    50.088679    0.010765                 30.315432   \n35    11.428418    0.008395                 30.277292   \n36     3.710078    0.001397                 35.260313   \n37     0.319546    0.001397                 30.198644   \n38    29.423702    0.006587                 30.498101   \n39     0.303978    0.003805                 29.855540   \n\n    train_mean_absolute_error  test_mean_squared_error  \\\n0                   36.695674              6383.656697   \n1                   36.695674              6383.656697   \n2                   31.657317             11405.463714   \n3                   27.490610              9889.499927   \n4                   24.902618              9417.990893   \n5                   27.846249             10236.169549   \n6                   32.891312              6258.945907   \n7                   33.085869              6057.105549   \n8                    6.253947             10602.459750   \n9                    6.503484              9991.189085   \n10                   3.284822                36.027564   \n11                   3.246751                36.331988   \n12                   2.568124                37.005767   \n13                   3.241973                50.863759   \n14                   1.813521                23.685948   \n15                   1.801424                22.398007   \n16                   3.466725                44.460140   \n17                   3.438559                31.532209   \n18                   0.954083                45.424986   \n19                   6.503484              9991.189085   \n20                   0.090680                 0.019061   \n21                   0.090680                 0.019061   \n22                   0.098468                 0.024784   \n23                   0.100404                 0.023835   \n24                   0.070748                 0.019141   \n25                   0.071414                 0.019068   \n26                   0.120445                 0.026251   \n27                   0.183272                 0.055264   \n28                   0.000000                 0.020439   \n29                   0.000000                 0.020932   \n30                  22.247234              1369.483861   \n31                  22.281217              1388.546104   \n32                  24.483430              1434.012844   \n33                  25.233118              1450.311066   \n34                  18.553647              1267.449873   \n35                  16.998222              1276.630146   \n36                  27.463599              1719.480671   \n37                  26.134155              1298.516063   \n38                  19.311749              1317.355806   \n39                   0.000000              1250.686630   \n\n    train_mean_squared_error  test_median_absolute_error  \\\n0                3243.698611                   27.053792   \n1                3243.698611                   27.053792   \n2                5361.841284                   21.187523   \n3                1806.945175                   23.425880   \n4                3037.632457                   17.522924   \n5                4676.394811                   19.715973   \n6                5359.098181                   19.991516   \n7                5433.184122                   20.002102   \n8                 539.176277                   16.602245   \n9                 607.218113                   14.279647   \n10                 22.536931                    3.055252   \n11                 21.261948                    3.189876   \n12                 13.667446                    2.992012   \n13                 21.347992                    3.509816   \n14                  8.320821                    2.428940   \n15                  8.782758                    2.163268   \n16                 28.154848                    3.070464   \n17                 26.268354                    2.773009   \n18                  5.775645                    3.307656   \n19                607.218113                   14.279647   \n20                  0.016372                    0.067367   \n21                  0.016372                    0.067367   \n22                  0.020936                    0.064639   \n23                  0.021110                    0.065695   \n24                  0.010119                    0.060861   \n25                  0.010481                    0.061397   \n26                  0.025627                    0.096858   \n27                  0.052019                    0.168311   \n28                  0.000000                    0.061167   \n29                  0.000000                    0.060675   \n30                742.057973                   30.178383   \n31                746.548174                   30.462106   \n32                885.633496                   28.869502   \n33                934.852819                   28.959502   \n34                490.357933                   28.475640   \n35                416.452772                   29.820436   \n36               1143.968635                   33.182113   \n37               1062.032151                   27.544922   \n38                670.872660                   25.919236   \n39                  0.000000                   27.348528   \n\n    train_median_absolute_error  \n0                     25.581576  \n1                     25.581576  \n2                     15.768125  \n3                     16.874432  \n4                     12.382659  \n5                     10.952127  \n6                     15.683214  \n7                     16.285725  \n8                      1.875000  \n9                      2.240000  \n10                     2.324204  \n11                     2.346504  \n12                     1.945374  \n13                     2.490523  \n14                     1.271837  \n15                     1.192196  \n16                     2.389025  \n17                     2.400396  \n18                     0.612000  \n19                     2.240000  \n20                     0.063801  \n21                     0.063801  \n22                     0.062800  \n23                     0.063919  \n24                     0.048554  \n25                     0.048450  \n26                     0.095137  \n27                     0.166743  \n28                     0.000000  \n29                     0.000000  \n30                    19.266034  \n31                    19.571196  \n32                    21.825951  \n33                    22.649287  \n34                    16.903014  \n35                    15.176435  \n36                    24.152233  \n37                    22.046662  \n38                    17.211087  \n39                     0.000000  ",
      "text/html": "<div>\n<style scoped>\n    .dataframe tbody tr th:only-of-type {\n        vertical-align: middle;\n    }\n\n    .dataframe tbody tr th {\n        vertical-align: top;\n    }\n\n    .dataframe thead th {\n        text-align: right;\n    }\n</style>\n<table border=\"1\" class=\"dataframe\">\n  <thead>\n    <tr style=\"text-align: right;\">\n      <th></th>\n      <th>dataset</th>\n      <th>model</th>\n      <th>search_strategy</th>\n      <th>fit_time</th>\n      <th>score_time</th>\n      <th>test_mean_absolute_error</th>\n      <th>train_mean_absolute_error</th>\n      <th>test_mean_squared_error</th>\n      <th>train_mean_squared_error</th>\n      <th>test_median_absolute_error</th>\n      <th>train_median_absolute_error</th>\n    </tr>\n  </thead>\n  <tbody>\n    <tr>\n      <th>0</th>\n      <td>CPU Computer Hardware</td>\n      <td>Linear Regression</td>\n      <td>GridSearchCV</td>\n      <td>0.494645</td>\n      <td>0.003164</td>\n      <td>43.378262</td>\n      <td>36.695674</td>\n      <td>6383.656697</td>\n      <td>3243.698611</td>\n      <td>27.053792</td>\n      <td>25.581576</td>\n    </tr>\n    <tr>\n      <th>1</th>\n      <td>CPU Computer Hardware</td>\n      <td>Linear Regression</td>\n      <td>RandomizedSearchCV</td>\n      <td>0.373086</td>\n      <td>0.002528</td>\n      <td>43.378262</td>\n      <td>36.695674</td>\n      <td>6383.656697</td>\n      <td>3243.698611</td>\n      <td>27.053792</td>\n      <td>25.581576</td>\n    </tr>\n    <tr>\n      <th>2</th>\n      <td>CPU Computer Hardware</td>\n      <td>Decision Tree Regressor</td>\n      <td>GridSearchCV</td>\n      <td>0.958233</td>\n      <td>0.001999</td>\n      <td>45.505979</td>\n      <td>31.657317</td>\n      <td>11405.463714</td>\n      <td>5361.841284</td>\n      <td>21.187523</td>\n      <td>15.768125</td>\n    </tr>\n    <tr>\n      <th>3</th>\n      <td>CPU Computer Hardware</td>\n      <td>Decision Tree Regressor</td>\n      <td>RandomizedSearchCV</td>\n      <td>0.356394</td>\n      <td>0.004800</td>\n      <td>43.919487</td>\n      <td>27.490610</td>\n      <td>9889.499927</td>\n      <td>1806.945175</td>\n      <td>23.425880</td>\n      <td>16.874432</td>\n    </tr>\n    <tr>\n      <th>4</th>\n      <td>CPU Computer Hardware</td>\n      <td>Random Forest Regressor</td>\n      <td>GridSearchCV</td>\n      <td>52.488939</td>\n      <td>0.012810</td>\n      <td>38.922444</td>\n      <td>24.902618</td>\n      <td>9417.990893</td>\n      <td>3037.632457</td>\n      <td>17.522924</td>\n      <td>12.382659</td>\n    </tr>\n    <tr>\n      <th>5</th>\n      <td>CPU Computer Hardware</td>\n      <td>Random Forest Regressor</td>\n      <td>RandomizedSearchCV</td>\n      <td>8.788756</td>\n      <td>0.012168</td>\n      <td>40.222642</td>\n      <td>27.846249</td>\n      <td>10236.169549</td>\n      <td>4676.394811</td>\n      <td>19.715973</td>\n      <td>10.952127</td>\n    </tr>\n    <tr>\n      <th>6</th>\n      <td>CPU Computer Hardware</td>\n      <td>Passive Aggressive Regressor</td>\n      <td>GridSearchCV</td>\n      <td>9.592107</td>\n      <td>0.002195</td>\n      <td>36.982518</td>\n      <td>32.891312</td>\n      <td>6258.945907</td>\n      <td>5359.098181</td>\n      <td>19.991516</td>\n      <td>15.683214</td>\n    </tr>\n    <tr>\n      <th>7</th>\n      <td>CPU Computer Hardware</td>\n      <td>Passive Aggressive Regressor</td>\n      <td>RandomizedSearchCV</td>\n      <td>0.879081</td>\n      <td>0.002195</td>\n      <td>36.282159</td>\n      <td>33.085869</td>\n      <td>6057.105549</td>\n      <td>5433.184122</td>\n      <td>20.002102</td>\n      <td>16.285725</td>\n    </tr>\n    <tr>\n      <th>8</th>\n      <td>CPU Computer Hardware</td>\n      <td>KNeighbors Regressor</td>\n      <td>GridSearchCV</td>\n      <td>19.361740</td>\n      <td>0.002593</td>\n      <td>38.512308</td>\n      <td>6.253947</td>\n      <td>10602.459750</td>\n      <td>539.176277</td>\n      <td>16.602245</td>\n      <td>1.875000</td>\n    </tr>\n    <tr>\n      <th>9</th>\n      <td>CPU Computer Hardware</td>\n      <td>KNeighbors Regressor</td>\n      <td>RandomizedSearchCV</td>\n      <td>0.353434</td>\n      <td>0.003391</td>\n      <td>36.171576</td>\n      <td>6.503484</td>\n      <td>9991.189085</td>\n      <td>607.218113</td>\n      <td>14.279647</td>\n      <td>2.240000</td>\n    </tr>\n    <tr>\n      <th>10</th>\n      <td>Boston Housing</td>\n      <td>Linear Regression</td>\n      <td>GridSearchCV</td>\n      <td>0.396877</td>\n      <td>0.002393</td>\n      <td>4.113110</td>\n      <td>3.284822</td>\n      <td>36.027564</td>\n      <td>22.536931</td>\n      <td>3.055252</td>\n      <td>2.324204</td>\n    </tr>\n    <tr>\n      <th>11</th>\n      <td>Boston Housing</td>\n      <td>Linear Regression</td>\n      <td>RandomizedSearchCV</td>\n      <td>0.340337</td>\n      <td>0.002793</td>\n      <td>4.168781</td>\n      <td>3.246751</td>\n      <td>36.331988</td>\n      <td>21.261948</td>\n      <td>3.189876</td>\n      <td>2.346504</td>\n    </tr>\n    <tr>\n      <th>12</th>\n      <td>Boston Housing</td>\n      <td>Decision Tree Regressor</td>\n      <td>GridSearchCV</td>\n      <td>1.092709</td>\n      <td>0.002595</td>\n      <td>4.096204</td>\n      <td>2.568124</td>\n      <td>37.005767</td>\n      <td>13.667446</td>\n      <td>2.992012</td>\n      <td>1.945374</td>\n    </tr>\n    <tr>\n      <th>13</th>\n      <td>Boston Housing</td>\n      <td>Decision Tree Regressor</td>\n      <td>RandomizedSearchCV</td>\n      <td>0.287815</td>\n      <td>0.003590</td>\n      <td>4.854993</td>\n      <td>3.241973</td>\n      <td>50.863759</td>\n      <td>21.347992</td>\n      <td>3.509816</td>\n      <td>2.490523</td>\n    </tr>\n    <tr>\n      <th>14</th>\n      <td>Boston Housing</td>\n      <td>Random Forest Regressor</td>\n      <td>GridSearchCV</td>\n      <td>86.677775</td>\n      <td>0.011969</td>\n      <td>3.258022</td>\n      <td>1.813521</td>\n      <td>23.685948</td>\n      <td>8.320821</td>\n      <td>2.428940</td>\n      <td>1.271837</td>\n    </tr>\n    <tr>\n      <th>15</th>\n      <td>Boston Housing</td>\n      <td>Random Forest Regressor</td>\n      <td>RandomizedSearchCV</td>\n      <td>21.866060</td>\n      <td>0.011570</td>\n      <td>3.124259</td>\n      <td>1.801424</td>\n      <td>22.398007</td>\n      <td>8.782758</td>\n      <td>2.163268</td>\n      <td>1.192196</td>\n    </tr>\n    <tr>\n      <th>16</th>\n      <td>Boston Housing</td>\n      <td>Passive Aggressive Regressor</td>\n      <td>GridSearchCV</td>\n      <td>5.091253</td>\n      <td>0.001803</td>\n      <td>4.437947</td>\n      <td>3.466725</td>\n      <td>44.460140</td>\n      <td>28.154848</td>\n      <td>3.070464</td>\n      <td>2.389025</td>\n    </tr>\n    <tr>\n      <th>17</th>\n      <td>Boston Housing</td>\n      <td>Passive Aggressive Regressor</td>\n      <td>RandomizedSearchCV</td>\n      <td>0.451044</td>\n      <td>0.001994</td>\n      <td>3.923328</td>\n      <td>3.438559</td>\n      <td>31.532209</td>\n      <td>26.268354</td>\n      <td>2.773009</td>\n      <td>2.400396</td>\n    </tr>\n    <tr>\n      <th>18</th>\n      <td>Boston Housing</td>\n      <td>KNeighbors Regressor</td>\n      <td>GridSearchCV</td>\n      <td>60.132532</td>\n      <td>0.003185</td>\n      <td>4.541321</td>\n      <td>0.954083</td>\n      <td>45.424986</td>\n      <td>5.775645</td>\n      <td>3.307656</td>\n      <td>0.612000</td>\n    </tr>\n    <tr>\n      <th>19</th>\n      <td>Boston Housing</td>\n      <td>KNeighbors Regressor</td>\n      <td>RandomizedSearchCV</td>\n      <td>0.242325</td>\n      <td>0.002790</td>\n      <td>36.171576</td>\n      <td>6.503484</td>\n      <td>9991.189085</td>\n      <td>607.218113</td>\n      <td>14.279647</td>\n      <td>2.240000</td>\n    </tr>\n    <tr>\n      <th>20</th>\n      <td>Communities and Crime</td>\n      <td>Linear Regression</td>\n      <td>GridSearchCV</td>\n      <td>0.642881</td>\n      <td>0.002994</td>\n      <td>0.097059</td>\n      <td>0.090680</td>\n      <td>0.019061</td>\n      <td>0.016372</td>\n      <td>0.067367</td>\n      <td>0.063801</td>\n    </tr>\n    <tr>\n      <th>21</th>\n      <td>Communities and Crime</td>\n      <td>Linear Regression</td>\n      <td>RandomizedSearchCV</td>\n      <td>0.605977</td>\n      <td>0.002592</td>\n      <td>0.097059</td>\n      <td>0.090680</td>\n      <td>0.019061</td>\n      <td>0.016372</td>\n      <td>0.067367</td>\n      <td>0.063801</td>\n    </tr>\n    <tr>\n      <th>22</th>\n      <td>Communities and Crime</td>\n      <td>Decision Tree Regressor</td>\n      <td>GridSearchCV</td>\n      <td>5.085370</td>\n      <td>0.003384</td>\n      <td>0.105854</td>\n      <td>0.098468</td>\n      <td>0.024784</td>\n      <td>0.020936</td>\n      <td>0.064639</td>\n      <td>0.062800</td>\n    </tr>\n    <tr>\n      <th>23</th>\n      <td>Communities and Crime</td>\n      <td>Decision Tree Regressor</td>\n      <td>RandomizedSearchCV</td>\n      <td>0.728799</td>\n      <td>0.003188</td>\n      <td>0.105407</td>\n      <td>0.100404</td>\n      <td>0.023835</td>\n      <td>0.021110</td>\n      <td>0.065695</td>\n      <td>0.063919</td>\n    </tr>\n    <tr>\n      <th>24</th>\n      <td>Communities and Crime</td>\n      <td>Random Forest Regressor</td>\n      <td>GridSearchCV</td>\n      <td>1900.467549</td>\n      <td>0.012755</td>\n      <td>0.094222</td>\n      <td>0.070748</td>\n      <td>0.019141</td>\n      <td>0.010119</td>\n      <td>0.060861</td>\n      <td>0.048554</td>\n    </tr>\n    <tr>\n      <th>25</th>\n      <td>Communities and Crime</td>\n      <td>Random Forest Regressor</td>\n      <td>RandomizedSearchCV</td>\n      <td>788.586245</td>\n      <td>0.016459</td>\n      <td>0.094029</td>\n      <td>0.071414</td>\n      <td>0.019068</td>\n      <td>0.010481</td>\n      <td>0.061397</td>\n      <td>0.048450</td>\n    </tr>\n    <tr>\n      <th>26</th>\n      <td>Communities and Crime</td>\n      <td>Passive Aggressive Regressor</td>\n      <td>GridSearchCV</td>\n      <td>7.450476</td>\n      <td>0.001995</td>\n      <td>0.122910</td>\n      <td>0.120445</td>\n      <td>0.026251</td>\n      <td>0.025627</td>\n      <td>0.096858</td>\n      <td>0.095137</td>\n    </tr>\n    <tr>\n      <th>27</th>\n      <td>Communities and Crime</td>\n      <td>Passive Aggressive Regressor</td>\n      <td>RandomizedSearchCV</td>\n      <td>0.707707</td>\n      <td>0.002194</td>\n      <td>0.186856</td>\n      <td>0.183272</td>\n      <td>0.055264</td>\n      <td>0.052019</td>\n      <td>0.168311</td>\n      <td>0.166743</td>\n    </tr>\n    <tr>\n      <th>28</th>\n      <td>Communities and Crime</td>\n      <td>KNeighbors Regressor</td>\n      <td>GridSearchCV</td>\n      <td>5040.385410</td>\n      <td>0.095139</td>\n      <td>0.096002</td>\n      <td>0.000000</td>\n      <td>0.020439</td>\n      <td>0.000000</td>\n      <td>0.061167</td>\n      <td>0.000000</td>\n    </tr>\n    <tr>\n      <th>29</th>\n      <td>Communities and Crime</td>\n      <td>KNeighbors Regressor</td>\n      <td>RandomizedSearchCV</td>\n      <td>26.853987</td>\n      <td>0.090555</td>\n      <td>0.097019</td>\n      <td>0.000000</td>\n      <td>0.020932</td>\n      <td>0.000000</td>\n      <td>0.060675</td>\n      <td>0.000000</td>\n    </tr>\n    <tr>\n      <th>30</th>\n      <td>Wisconsin Breast Cancer</td>\n      <td>Linear Regression</td>\n      <td>GridSearchCV</td>\n      <td>0.273269</td>\n      <td>0.001596</td>\n      <td>30.069332</td>\n      <td>22.247234</td>\n      <td>1369.483861</td>\n      <td>742.057973</td>\n      <td>30.178383</td>\n      <td>19.266034</td>\n    </tr>\n    <tr>\n      <th>31</th>\n      <td>Boston Housing</td>\n      <td>Linear Regression</td>\n      <td>RandomizedSearchCV</td>\n      <td>0.242553</td>\n      <td>0.001796</td>\n      <td>30.392753</td>\n      <td>22.281217</td>\n      <td>1388.546104</td>\n      <td>746.548174</td>\n      <td>30.462106</td>\n      <td>19.571196</td>\n    </tr>\n    <tr>\n      <th>32</th>\n      <td>Wisconsin Breast Cancer</td>\n      <td>Decision Tree Regressor</td>\n      <td>GridSearchCV</td>\n      <td>0.748605</td>\n      <td>0.002398</td>\n      <td>31.641361</td>\n      <td>24.483430</td>\n      <td>1434.012844</td>\n      <td>885.633496</td>\n      <td>28.869502</td>\n      <td>21.825951</td>\n    </tr>\n    <tr>\n      <th>33</th>\n      <td>Wisconsin Breast Cancer</td>\n      <td>Decision Tree Regressor</td>\n      <td>RandomizedSearchCV</td>\n      <td>0.203062</td>\n      <td>0.001994</td>\n      <td>32.416899</td>\n      <td>25.233118</td>\n      <td>1450.311066</td>\n      <td>934.852819</td>\n      <td>28.959502</td>\n      <td>22.649287</td>\n    </tr>\n    <tr>\n      <th>34</th>\n      <td>Wisconsin Breast Cancer</td>\n      <td>Random Forest Regressor</td>\n      <td>GridSearchCV</td>\n      <td>50.088679</td>\n      <td>0.010765</td>\n      <td>30.315432</td>\n      <td>18.553647</td>\n      <td>1267.449873</td>\n      <td>490.357933</td>\n      <td>28.475640</td>\n      <td>16.903014</td>\n    </tr>\n    <tr>\n      <th>35</th>\n      <td>Wisconsin Breast Cancer</td>\n      <td>Random Forest Regressor</td>\n      <td>RandomizedSearchCV</td>\n      <td>11.428418</td>\n      <td>0.008395</td>\n      <td>30.277292</td>\n      <td>16.998222</td>\n      <td>1276.630146</td>\n      <td>416.452772</td>\n      <td>29.820436</td>\n      <td>15.176435</td>\n    </tr>\n    <tr>\n      <th>36</th>\n      <td>Wisconsin Breast Cancer</td>\n      <td>Passive Aggressive Regressor</td>\n      <td>GridSearchCV</td>\n      <td>3.710078</td>\n      <td>0.001397</td>\n      <td>35.260313</td>\n      <td>27.463599</td>\n      <td>1719.480671</td>\n      <td>1143.968635</td>\n      <td>33.182113</td>\n      <td>24.152233</td>\n    </tr>\n    <tr>\n      <th>37</th>\n      <td>Wisconsin Breast Cancer</td>\n      <td>Passive Aggressive Regressor</td>\n      <td>RandomizedSearchCV</td>\n      <td>0.319546</td>\n      <td>0.001397</td>\n      <td>30.198644</td>\n      <td>26.134155</td>\n      <td>1298.516063</td>\n      <td>1062.032151</td>\n      <td>27.544922</td>\n      <td>22.046662</td>\n    </tr>\n    <tr>\n      <th>38</th>\n      <td>Wisconsin Breast Cancer</td>\n      <td>KNeighbors Regressor</td>\n      <td>GridSearchCV</td>\n      <td>29.423702</td>\n      <td>0.006587</td>\n      <td>30.498101</td>\n      <td>19.311749</td>\n      <td>1317.355806</td>\n      <td>670.872660</td>\n      <td>25.919236</td>\n      <td>17.211087</td>\n    </tr>\n    <tr>\n      <th>39</th>\n      <td>Wisconsin Breast Cancer</td>\n      <td>KNeighbors Regressor</td>\n      <td>RandomizedSearchCV</td>\n      <td>0.303978</td>\n      <td>0.003805</td>\n      <td>29.855540</td>\n      <td>0.000000</td>\n      <td>1250.686630</td>\n      <td>0.000000</td>\n      <td>27.348528</td>\n      <td>0.000000</td>\n    </tr>\n  </tbody>\n</table>\n</div>"
     },
     "metadata": {},
     "execution_count": 120
    }
   ],
   "source": [
    "final_results_abs = pd.concat([final_results.iloc[:,:3], final_results.iloc[:, 3:].abs()], axis=1)\n",
    "final_results_abs.columns = ['dataset', 'model', 'search_strategy', 'fit_time', 'score_time', 'test_mean_absolute_error', 'train_mean_absolute_error','test_mean_squared_error', 'train_mean_squared_error', 'test_median_absolute_error', 'train_median_absolute_error']\n",
    "final_results_abs"
   ]
  },
  {
   "cell_type": "code",
   "execution_count": 139,
   "metadata": {},
   "outputs": [],
   "source": [
    "# Export neg results as HTML\n",
    "export_file = open('export_neg.txt','a')\n",
    "export_file.write(final_results.to_html())\n",
    "export_file.close()"
   ]
  },
  {
   "cell_type": "code",
   "execution_count": 137,
   "metadata": {},
   "outputs": [],
   "source": [
    "# Style and export abs results as HTML\n",
    "cols = final_results_abs.columns\n",
    "final_results_abs_highlighted = final_results_abs.style.apply(highlight_max, subset=cols[3:]).\\\n",
    "                                                        apply(highlight_min, subset=cols[3:])\n",
    "export_file = open('export_abs.txt','a')\n",
    "export_file.write(final_results_abs_highlighted.render())\n",
    "export_file.close()"
   ]
  },
  {
   "cell_type": "code",
   "execution_count": null,
   "metadata": {},
   "outputs": [],
   "source": []
  }
 ],
 "metadata": {
  "language_info": {
   "codemirror_mode": {
    "name": "ipython",
    "version": 3
   },
   "file_extension": ".py",
   "mimetype": "text/x-python",
   "name": "python",
   "nbconvert_exporter": "python",
   "pygments_lexer": "ipython3",
   "version": "3.7.6-final"
  },
  "orig_nbformat": 2,
  "kernelspec": {
   "name": "python37664bitidsconda6aac95af6de54c59bceda5e4272aaa84",
   "display_name": "Python 3.7.6 64-bit ('IDS': conda)"
  }
 },
 "nbformat": 4,
 "nbformat_minor": 2
}