{
 "cells": [
  {
   "cell_type": "markdown",
   "metadata": {},
   "source": [
    "## Nume studenti:\n",
    "- Alexandra Manole\n",
    "- Teodor Mihaescu\n",
    "\n",
    "## Grupa: 382"
   ]
  },
  {
   "cell_type": "markdown",
   "metadata": {},
   "source": [
    "# Generic Data"
   ]
  },
  {
   "cell_type": "code",
   "execution_count": 26,
   "metadata": {},
   "outputs": [],
   "source": [
    "# Imports\n",
    "from collections import Counter\n",
    "import matplotlib.pyplot as plt\n",
    "import pandas as pd\n",
    "import numpy as np\n",
    "\n",
    "from sklearn import preprocessing\n",
    "from sklearn.model_selection import train_test_split, cross_validate, cross_val_score, GridSearchCV, RandomizedSearchCV\n",
    "\n",
    "from sklearn.linear_model import LinearRegression, PassiveAggressiveRegressor, Ridge\n",
    "from sklearn.neighbors import KNeighborsRegressor\n",
    "from sklearn.tree import DecisionTreeRegressor\n",
    "from sklearn.ensemble import RandomForestRegressor"
   ]
  },
  {
   "cell_type": "code",
   "execution_count": 27,
   "metadata": {},
   "outputs": [],
   "source": [
    "# Results dataframe\n",
    "final_results = pd.DataFrame(columns=['dataset', 'model', 'search_strategy', 'fit_time', 'score_time', 'test_neg_mean_absolute_error', 'train_neg_mean_absolute_error','test_neg_mean_squared_error', 'train_neg_mean_squared_error', 'test_neg_median_absolute_error', 'train_neg_median_absolute_error'])"
   ]
  },
  {
   "cell_type": "code",
   "execution_count": 28,
   "metadata": {},
   "outputs": [],
   "source": [
    "# Cross Validation Function\n",
    "def f_cross_validation(model, X, y):\n",
    "    cv_result = cross_validate(model, X, y, cv=5,\n",
    "    scoring=['neg_mean_absolute_error', 'neg_mean_squared_error', 'neg_median_absolute_error'], \n",
    "    return_train_score=True)\n",
    "    print(cv_result)\n",
    "\n",
    "# GridSearch Function\n",
    "def f_hyperparam_gscv(model, X, y, parameter_grid, results_index, c_dataset, c_model):\n",
    "    grid_search = GridSearchCV(estimator=model, param_grid=parameter_grid, scoring='neg_mean_squared_error', cv=3, return_train_score=True)\n",
    "\n",
    "    results_gscv = cross_validate(grid_search, X, y, cv=5, scoring=['neg_mean_absolute_error', 'neg_mean_squared_error', 'neg_median_absolute_error'], return_train_score=True)\n",
    "\n",
    "    gscv = pd.DataFrame(results_gscv)\n",
    "    gscv = list(gscv.mean(axis=0))\n",
    "\n",
    "    final_results.loc[results_index] = [c_dataset, c_model, 'GridSearchCV'] + gscv\n",
    "    print(final_results.loc[results_index])\n",
    "\n",
    "# RandomSearch Function\n",
    "def f_hyperparam_rscv(model, X, y, parameter_grid, results_index, c_dataset, c_model):\n",
    "    randomized_search = RandomizedSearchCV(estimator = model, param_distributions=parameter_grid, random_state=0, n_iter=7, scoring='neg_mean_squared_error')\n",
    "\n",
    "    results_rscv = cross_validate(randomized_search, X, y, cv=5, scoring=['neg_mean_absolute_error', 'neg_mean_squared_error', 'neg_median_absolute_error'], return_train_score=True)\n",
    "\n",
    "    rscv = pd.DataFrame(results_rscv)\n",
    "    rscv = list(rscv.mean(axis=0))\n",
    "\n",
    "    final_results.loc[results_index] = [c_dataset, c_model, 'RandomizedSearchCV'] + rscv\n",
    "    print(final_results.loc[results_index])"
   ]
  },
  {
   "cell_type": "code",
   "execution_count": 53,
   "metadata": {},
   "outputs": [],
   "source": [
    "# Parameter Grids\n",
    "pg_LinearRegression = {\n",
    "    'fit_intercept': [True, False], \n",
    "    'normalize': [True, False], \n",
    "    'n_jobs': [None, 5, 10],\n",
    "}\n",
    "\n",
    "pg_DecisionTree = {\n",
    "    'criterion': ['mse', 'friedman_mse', 'mae'], \n",
    "    'max_depth': list(range(1,5)), \n",
    "    'max_features': ['sqrt', 'log2', None]\n",
    "}\n",
    "\n",
    "pg_RandomForest = {\n",
    "    'criterion': ['mse', 'mae'], \n",
    "    'max_depth': list(range(3,7)),\n",
    "    'min_samples_split': list(range(1,4)),\n",
    "    'min_samples_leaf': list(range(3,7))\n",
    "}\n",
    "\n",
    "pg_PassiveAggressive = {\n",
    "    'C': np.linspace(0, 2, 5),\n",
    "    'max_iter': [500, 1000, 10000],\n",
    "    'early_stopping': [True, False],\n",
    "    'validation_fraction': np.linspace(0.1, 0.9, 5)\n",
    "}\n",
    "\n",
    "pg_Ridge = {\n",
    "    'alpha': np.linspace(0, 2, 5),\n",
    "    'fit_intercept': [True, False],\n",
    "    'solver': ['auto', 'svd', 'cholesky', 'lsqr', 'sparse_cg', 'sag', 'saga']\n",
    "}\n",
    "\n",
    "pg_KNeighbors = {\n",
    "    'n_neighbors': range(2,15),\n",
    "    'weights': ['uniform', 'distance'],\n",
    "    'algorithm': ['auto', 'ball_tree', 'kd_tree', 'brute'],\n",
    "    'p': [1, 2, 3, 4, 5]\n",
    "}"
   ]
  },
  {
   "cell_type": "code",
   "execution_count": 30,
   "metadata": {},
   "outputs": [],
   "source": [
    "# Model Names\n",
    "mn_LinReg = 'Linear Regression'\n",
    "mn_DTreeReg = 'Decision Tree Regressor'\n",
    "mn_RForestReg = 'Random Forest Regressor'\n",
    "mn_PasAggReg = 'Passive Aggressive Regressor'\n",
    "mn_Ridge = 'Ridge'\n",
    "mn_KNReg = 'KNeighbors Regressor'"
   ]
  },
  {
   "cell_type": "code",
   "execution_count": 31,
   "metadata": {},
   "outputs": [],
   "source": [
    "# Dataset Names\n",
    "dataset_names = ['CPU Computer Hardware', 'Boston Housing', 'Wisconsin Breast Cancer', 'Communities and Crime']"
   ]
  },
  {
   "cell_type": "markdown",
   "metadata": {},
   "source": [
    "# Dataset 1: CPU Computer Hardware"
   ]
  },
  {
   "cell_type": "code",
   "execution_count": 32,
   "metadata": {},
   "outputs": [],
   "source": [
    "# Read and preprocess dataset\n",
    "# remove columns: 0, 1, 9\n",
    "data1 = pd.read_csv('./data/machine.csv', header=None)\n",
    "data1 = data1.drop([0, 1, 9], axis=1)"
   ]
  },
  {
   "cell_type": "code",
   "execution_count": 33,
   "metadata": {},
   "outputs": [
    {
     "output_type": "stream",
     "name": "stdout",
     "text": "<class 'pandas.core.frame.DataFrame'>\nRangeIndex: 209 entries, 0 to 208\nData columns (total 7 columns):\n #   Column  Non-Null Count  Dtype\n---  ------  --------------  -----\n 0   2       209 non-null    int64\n 1   3       209 non-null    int64\n 2   4       209 non-null    int64\n 3   5       209 non-null    int64\n 4   6       209 non-null    int64\n 5   7       209 non-null    int64\n 6   8       209 non-null    int64\ndtypes: int64(7)\nmemory usage: 11.6 KB\n"
    }
   ],
   "source": [
    "data1.info()"
   ]
  },
  {
   "cell_type": "code",
   "execution_count": 34,
   "metadata": {},
   "outputs": [],
   "source": [
    "# Scale dataset\n",
    "min_max_scaler = preprocessing.MinMaxScaler()\n",
    "data1 = pd.DataFrame(min_max_scaler.fit_transform(data1))"
   ]
  },
  {
   "cell_type": "code",
   "execution_count": 35,
   "metadata": {},
   "outputs": [],
   "source": [
    "# Split dataset\n",
    "X1 = data1.iloc[:,:-1]\n",
    "y1 = data1.iloc[:, -1]\n",
    "X_train1, X_test1, y_train1, y_test1 = train_test_split(X1, y1, test_size=1/3)"
   ]
  },
  {
   "cell_type": "markdown",
   "metadata": {},
   "source": [
    "## Model 1: Linear Regression"
   ]
  },
  {
   "cell_type": "code",
   "execution_count": 36,
   "metadata": {},
   "outputs": [
    {
     "output_type": "stream",
     "name": "stdout",
     "text": "{'fit_time': array([0.20566368, 0.21684933, 0.00902843, 0.00897622, 0.02305913]), 'score_time': array([0.00708461, 0.0069828 , 0.0060842 , 0.00698233, 0.00604677]), 'test_neg_mean_absolute_error': array([-0.05361911, -0.02793563, -0.02448827, -0.03085481, -0.05269249]), 'train_neg_mean_absolute_error': array([-0.02932976, -0.03578627, -0.03731234, -0.03360041, -0.02435441]), 'test_neg_mean_squared_error': array([-0.00544976, -0.00176781, -0.00114754, -0.00177683, -0.01424669]), 'train_neg_mean_squared_error': array([-0.00203177, -0.00293813, -0.00309184, -0.00292119, -0.00140956]), 'test_neg_median_absolute_error': array([-0.03721284, -0.01973085, -0.01930693, -0.0208655 , -0.02112597]), 'train_neg_median_absolute_error': array([-0.02110111, -0.02680821, -0.02901994, -0.02070826, -0.01417006])}\n"
    }
   ],
   "source": [
    "# Cross Validation\n",
    "f_cross_validation(LinearRegression(), X1, y1)"
   ]
  },
  {
   "cell_type": "code",
   "execution_count": 37,
   "metadata": {},
   "outputs": [
    {
     "output_type": "stream",
     "name": "stdout",
     "text": "dataset                            CPU Computer Hardware\nmodel                                  Linear Regression\nsearch_strategy                             GridSearchCV\nfit_time                                        0.599831\nscore_time                                    0.00580897\ntest_neg_mean_absolute_error                  -0.0379181\ntrain_neg_mean_absolute_error                 -0.0320766\ntest_neg_mean_squared_error                  -0.00487773\ntrain_neg_mean_squared_error                  -0.0024785\ntest_neg_median_absolute_error                -0.0236484\ntrain_neg_median_absolute_error               -0.0223615\nName: 0, dtype: object\n"
    }
   ],
   "source": [
    "# Hyperparameters - GridSearch\n",
    "f_hyperparam_gscv(LinearRegression(), X1, y1, pg_LinearRegression, 0, \n",
    "dataset_names[0], mn_LinReg)"
   ]
  },
  {
   "cell_type": "code",
   "execution_count": 38,
   "metadata": {},
   "outputs": [
    {
     "output_type": "stream",
     "name": "stdout",
     "text": "dataset                            CPU Computer Hardware\nmodel                                  Linear Regression\nsearch_strategy                       RandomizedSearchCV\nfit_time                                        0.575269\nscore_time                                    0.00319095\ntest_neg_mean_absolute_error                  -0.0379181\ntrain_neg_mean_absolute_error                 -0.0320766\ntest_neg_mean_squared_error                  -0.00487773\ntrain_neg_mean_squared_error                  -0.0024785\ntest_neg_median_absolute_error                -0.0236484\ntrain_neg_median_absolute_error               -0.0223615\nName: 1, dtype: object\n"
    }
   ],
   "source": [
    "# Hyperparameters - RandomSearch\n",
    "f_hyperparam_rscv(LinearRegression(), X1, y1, pg_LinearRegression, 1, \n",
    "dataset_names[0], mn_LinReg)"
   ]
  },
  {
   "cell_type": "markdown",
   "metadata": {},
   "source": [
    "## Model 2: Decision Tree Regressor"
   ]
  },
  {
   "cell_type": "code",
   "execution_count": 39,
   "metadata": {},
   "outputs": [
    {
     "output_type": "stream",
     "name": "stdout",
     "text": "{'fit_time': array([0.0079782 , 0.00398946, 0.01305819, 0.00797772, 0.01114774]), 'score_time': array([0.00199556, 0.0029912 , 0.00897741, 0.00299287, 0.00498605]), 'test_neg_mean_absolute_error': array([-0.0518648 , -0.02324759, -0.02156177, -0.0295954 , -0.07311388]), 'train_neg_mean_absolute_error': array([-0.00100917, -0.0026817 , -0.00246081, -0.00235089, -0.00272713]), 'test_neg_mean_squared_error': array([-0.01058412, -0.00249385, -0.00130486, -0.00147988, -0.02555383]), 'train_neg_mean_squared_error': array([-1.65758512e-05, -9.41035370e-05, -8.88248687e-05, -8.43844184e-05,\n       -9.38085564e-05]), 'test_neg_median_absolute_error': array([-0.0201049 , -0.00961538, -0.01048951, -0.02141608, -0.01748252]), 'train_neg_median_absolute_error': array([-0., -0., -0., -0., -0.])}\n"
    }
   ],
   "source": [
    "# Cross Validation\n",
    "f_cross_validation(DecisionTreeRegressor(), X1, y1)"
   ]
  },
  {
   "cell_type": "code",
   "execution_count": 40,
   "metadata": {},
   "outputs": [
    {
     "output_type": "stream",
     "name": "stdout",
     "text": "dataset                              CPU Computer Hardware\nmodel                              Decision Tree Regressor\nsearch_strategy                               GridSearchCV\nfit_time                                           1.15762\nscore_time                                      0.00259333\ntest_neg_mean_absolute_error                     -0.038625\ntrain_neg_mean_absolute_error                   -0.0228551\ntest_neg_mean_squared_error                    -0.00895606\ntrain_neg_mean_squared_error                   -0.00131848\ntest_neg_median_absolute_error                  -0.0197979\ntrain_neg_median_absolute_error                 -0.0143827\nName: 2, dtype: object\n"
    }
   ],
   "source": [
    "# Hyperparameters - GridSearch\n",
    "f_hyperparam_gscv(DecisionTreeRegressor(), X1, y1, pg_DecisionTree, 2, \n",
    "dataset_names[0], mn_DTreeReg)"
   ]
  },
  {
   "cell_type": "code",
   "execution_count": 51,
   "metadata": {},
   "outputs": [
    {
     "output_type": "stream",
     "name": "stdout",
     "text": "dataset                              CPU Computer Hardware\nmodel                              Decision Tree Regressor\nsearch_strategy                         RandomizedSearchCV\nfit_time                                           0.12349\nscore_time                                      0.00120096\ntest_neg_mean_absolute_error                    -0.0406968\ntrain_neg_mean_absolute_error                   -0.0267894\ntest_neg_mean_squared_error                    -0.00590607\ntrain_neg_mean_squared_error                    -0.0023836\ntest_neg_median_absolute_error                  -0.0213143\ntrain_neg_median_absolute_error                 -0.0160137\nName: 3, dtype: object\n"
    }
   ],
   "source": [
    "# Hyperparameters - RandomSearch\n",
    "f_hyperparam_rscv(DecisionTreeRegressor(), X1, y1, pg_DecisionTree, 3, \n",
    "dataset_names[0], mn_DTreeReg)"
   ]
  },
  {
   "cell_type": "markdown",
   "metadata": {},
   "source": [
    "## Model 3: Random Forest Regressor"
   ]
  },
  {
   "cell_type": "code",
   "execution_count": 42,
   "metadata": {},
   "outputs": [
    {
     "output_type": "stream",
     "name": "stdout",
     "text": "{'fit_time': array([0.40447879, 0.33401656, 0.40349531, 0.38894749, 0.46575809]), 'score_time': array([0.0309186 , 0.01997757, 0.02394009, 0.02992034, 0.01994681]), 'test_neg_mean_absolute_error': array([-0.03801806, -0.01691816, -0.01774026, -0.0304234 , -0.04776893]), 'train_neg_mean_absolute_error': array([-0.00732161, -0.01139024, -0.01055505, -0.01073117, -0.00908725]), 'test_neg_mean_squared_error': array([-0.00521654, -0.00076515, -0.00068812, -0.00149406, -0.01808957]), 'train_neg_mean_squared_error': array([-0.00024101, -0.00060994, -0.00044445, -0.000452  , -0.00037154]), 'test_neg_median_absolute_error': array([-0.01676181, -0.0112603 , -0.01024985, -0.02624823, -0.016125  ]), 'train_neg_median_absolute_error': array([-0.00322902, -0.00410402, -0.0046824 , -0.00403671, -0.00424534])}\n"
    }
   ],
   "source": [
    "# Cross Validation\n",
    "f_cross_validation(RandomForestRegressor(), X1, y1)"
   ]
  },
  {
   "cell_type": "code",
   "execution_count": 43,
   "metadata": {},
   "outputs": [
    {
     "output_type": "stream",
     "name": "stdout",
     "text": "dataset                              CPU Computer Hardware\nmodel                              Random Forest Regressor\nsearch_strategy                               GridSearchCV\nfit_time                                           76.2504\nscore_time                                        0.020344\ntest_neg_mean_absolute_error                     -0.034777\ntrain_neg_mean_absolute_error                   -0.0208028\ntest_neg_mean_squared_error                    -0.00723371\ntrain_neg_mean_squared_error                   -0.00270711\ntest_neg_median_absolute_error                  -0.0159317\ntrain_neg_median_absolute_error                -0.00796406\nName: 4, dtype: object\n"
    }
   ],
   "source": [
    "# Hyperparameters - GridSearch\n",
    "f_hyperparam_gscv(RandomForestRegressor(), X1, y1, pg_RandomForest, 4, \n",
    "dataset_names[0], mn_RForestReg)"
   ]
  },
  {
   "cell_type": "code",
   "execution_count": 44,
   "metadata": {},
   "outputs": [
    {
     "output_type": "stream",
     "name": "stdout",
     "text": "dataset                              CPU Computer Hardware\nmodel                              Random Forest Regressor\nsearch_strategy                         RandomizedSearchCV\nfit_time                                           9.32712\nscore_time                                       0.0213397\ntest_neg_mean_absolute_error                     -0.033119\ntrain_neg_mean_absolute_error                    -0.020944\ntest_neg_mean_squared_error                    -0.00736426\ntrain_neg_mean_squared_error                   -0.00240634\ntest_neg_median_absolute_error                  -0.0148843\ntrain_neg_median_absolute_error                 -0.0102301\nName: 5, dtype: object\n"
    }
   ],
   "source": [
    "# Hyperparameters - RandomSearch\n",
    "f_hyperparam_rscv(RandomForestRegressor(), X1, y1, pg_RandomForest, 5, \n",
    "dataset_names[0], mn_RForestReg)"
   ]
  },
  {
   "cell_type": "markdown",
   "metadata": {},
   "source": [
    "## Model 4: Passive Aggressive Regressor"
   ]
  },
  {
   "cell_type": "code",
   "execution_count": 45,
   "metadata": {},
   "outputs": [
    {
     "output_type": "stream",
     "name": "stdout",
     "text": "{'fit_time': array([0.00299239, 0.00797224, 0.01196933, 0.00299239, 0.01095748]), 'score_time': array([0.00299406, 0.00299191, 0.00398922, 0.00299191, 0.00299215]), 'test_neg_mean_absolute_error': array([-0.19222924, -0.12325846, -0.58297508, -0.43141355, -0.57551043]), 'train_neg_mean_absolute_error': array([-0.23206677, -0.09540408, -0.55226375, -0.54328126, -0.61081684]), 'test_neg_mean_squared_error': array([-0.04649329, -0.03143735, -0.35745131, -0.19564713, -0.38280947]), 'train_neg_mean_squared_error': array([-0.06551931, -0.02721368, -0.3172186 , -0.33334212, -0.40799529]), 'test_neg_median_absolute_error': array([-0.20808432, -0.08189813, -0.53066743, -0.43181955, -0.66053551]), 'train_neg_median_absolute_error': array([-0.22027254, -0.04650912, -0.52749505, -0.53251007, -0.68425903])}\n"
    }
   ],
   "source": [
    "# Cross Validation\n",
    "f_cross_validation(PassiveAggressiveRegressor(), X1, y1)"
   ]
  },
  {
   "cell_type": "code",
   "execution_count": 54,
   "metadata": {},
   "outputs": [
    {
     "output_type": "stream",
     "name": "stdout",
     "text": "dataset                                   CPU Computer Hardware\nmodel                              Passive Aggressive Regressor\nsearch_strategy                                    GridSearchCV\nfit_time                                                 3.3609\nscore_time                                           0.00179257\ntest_neg_mean_absolute_error                          -0.164018\ntrain_neg_mean_absolute_error                         -0.159266\ntest_neg_mean_squared_error                          -0.0430761\ntrain_neg_mean_squared_error                         -0.0429254\ntest_neg_median_absolute_error                        -0.161991\ntrain_neg_median_absolute_error                       -0.144737\nName: 6, dtype: object\n"
    }
   ],
   "source": [
    "# Hyperparameters - GridSearch\n",
    "f_hyperparam_gscv(PassiveAggressiveRegressor(), X1, y1, pg_PassiveAggressive, 6, \n",
    "dataset_names[0], mn_PasAggReg)"
   ]
  },
  {
   "cell_type": "code",
   "execution_count": 55,
   "metadata": {},
   "outputs": [
    {
     "output_type": "stream",
     "name": "stdout",
     "text": "dataset                                   CPU Computer Hardware\nmodel                              Passive Aggressive Regressor\nsearch_strategy                              RandomizedSearchCV\nfit_time                                               0.315166\nscore_time                                           0.00179505\ntest_neg_mean_absolute_error                          -0.175909\ntrain_neg_mean_absolute_error                          -0.17629\ntest_neg_mean_squared_error                          -0.0609263\ntrain_neg_mean_squared_error                         -0.0561358\ntest_neg_median_absolute_error                         -0.16745\ntrain_neg_median_absolute_error                       -0.160315\nName: 7, dtype: object\n"
    }
   ],
   "source": [
    "# Hyperparameters - RandomSearch\n",
    "f_hyperparam_rscv(PassiveAggressiveRegressor(), X1, y1, pg_PassiveAggressive, 7, \n",
    "dataset_names[0], mn_PasAggReg)"
   ]
  },
  {
   "cell_type": "markdown",
   "metadata": {},
   "source": [
    "## Model 5: KNeighbors Regressor"
   ]
  },
  {
   "cell_type": "code",
   "execution_count": 48,
   "metadata": {},
   "outputs": [
    {
     "output_type": "stream",
     "name": "stdout",
     "text": "{'fit_time': array([0.00398779, 0.0029912 , 0.00199509, 0.00299621, 0.00199461]), 'score_time': array([0.00598979, 0.00998187, 0.01097131, 0.01096654, 0.00997615]), 'test_neg_mean_absolute_error': array([-0.04850982, -0.01318265, -0.01843573, -0.02706876, -0.04917704]), 'train_neg_mean_absolute_error': array([-0.02057598, -0.02643629, -0.02623634, -0.02377936, -0.01908404]), 'test_neg_mean_squared_error': array([-0.01132865, -0.00038119, -0.00085458, -0.00173776, -0.02049259]), 'train_neg_mean_squared_error': array([-0.0031775 , -0.00397498, -0.00385109, -0.00381488, -0.00193717]), 'test_neg_median_absolute_error': array([-0.01687063, -0.00708042, -0.00856643, -0.01730769, -0.01223776]), 'train_neg_median_absolute_error': array([-0.00734266, -0.01136364, -0.01013986, -0.00839161, -0.00847902])}\n"
    }
   ],
   "source": [
    "# Cross Validation\n",
    "f_cross_validation(KNeighborsRegressor(), X1, y1)"
   ]
  },
  {
   "cell_type": "code",
   "execution_count": 49,
   "metadata": {},
   "outputs": [
    {
     "output_type": "stream",
     "name": "stdout",
     "text": "dataset                            CPU Computer Hardware\nmodel                               KNeighbors Regressor\nsearch_strategy                             GridSearchCV\nfit_time                                         31.4274\nscore_time                                    0.00399361\ntest_neg_mean_absolute_error                  -0.0300991\ntrain_neg_mean_absolute_error                -0.00225498\ntest_neg_mean_squared_error                  -0.00547999\ntrain_neg_mean_squared_error                -7.56817e-05\ntest_neg_median_absolute_error                -0.0146165\ntrain_neg_median_absolute_error                        0\nName: 8, dtype: object\n"
    }
   ],
   "source": [
    "# Hyperparameters - GridSearch\n",
    "f_hyperparam_gscv(KNeighborsRegressor(), X1, y1, pg_KNeighbors, 8, \n",
    "dataset_names[0], mn_KNReg)"
   ]
  },
  {
   "cell_type": "code",
   "execution_count": 50,
   "metadata": {},
   "outputs": [
    {
     "output_type": "stream",
     "name": "stdout",
     "text": "dataset                            CPU Computer Hardware\nmodel                               KNeighbors Regressor\nsearch_strategy                       RandomizedSearchCV\nfit_time                                        0.494965\nscore_time                                     0.0139652\ntest_neg_mean_absolute_error                  -0.0291941\ntrain_neg_mean_absolute_error                -0.00547674\ntest_neg_mean_squared_error                  -0.00625654\ntrain_neg_mean_squared_error                 -0.00044066\ntest_neg_median_absolute_error                 -0.012199\ntrain_neg_median_absolute_error              -0.00166084\nName: 9, dtype: object\n"
    }
   ],
   "source": [
    "# Hyperparameters - RandomSearch\n",
    "f_hyperparam_rscv(KNeighborsRegressor(), X1, y1, pg_KNeighbors, 9, \n",
    "dataset_names[0], mn_KNReg)"
   ]
  },
  {
   "cell_type": "code",
   "execution_count": 56,
   "metadata": {},
   "outputs": [
    {
     "output_type": "execute_result",
     "data": {
      "text/plain": "                 dataset                         model     search_strategy  \\\n0  CPU Computer Hardware             Linear Regression        GridSearchCV   \n1  CPU Computer Hardware             Linear Regression  RandomizedSearchCV   \n2  CPU Computer Hardware       Decision Tree Regressor        GridSearchCV   \n3  CPU Computer Hardware       Decision Tree Regressor  RandomizedSearchCV   \n4  CPU Computer Hardware       Random Forest Regressor        GridSearchCV   \n5  CPU Computer Hardware       Random Forest Regressor  RandomizedSearchCV   \n6  CPU Computer Hardware  Passive Aggressive Regressor        GridSearchCV   \n7  CPU Computer Hardware  Passive Aggressive Regressor  RandomizedSearchCV   \n8  CPU Computer Hardware          KNeighbors Regressor        GridSearchCV   \n9  CPU Computer Hardware          KNeighbors Regressor  RandomizedSearchCV   \n\n    fit_time  score_time  test_neg_mean_absolute_error  \\\n0   0.599831    0.005809                     -0.037918   \n1   0.575269    0.003191                     -0.037918   \n2   1.157619    0.002593                     -0.038625   \n3   0.123490    0.001201                     -0.040697   \n4  76.250408    0.020344                     -0.034777   \n5   9.327121    0.021340                     -0.033119   \n6   3.360904    0.001793                     -0.164018   \n7   0.315166    0.001795                     -0.175909   \n8  31.427361    0.003994                     -0.030099   \n9   0.494965    0.013965                     -0.029194   \n\n   train_neg_mean_absolute_error  test_neg_mean_squared_error  \\\n0                      -0.032077                    -0.004878   \n1                      -0.032077                    -0.004878   \n2                      -0.022855                    -0.008956   \n3                      -0.026789                    -0.005906   \n4                      -0.020803                    -0.007234   \n5                      -0.020944                    -0.007364   \n6                      -0.159266                    -0.043076   \n7                      -0.176290                    -0.060926   \n8                      -0.002255                    -0.005480   \n9                      -0.005477                    -0.006257   \n\n   train_neg_mean_squared_error  test_neg_median_absolute_error  \\\n0                     -0.002478                       -0.023648   \n1                     -0.002478                       -0.023648   \n2                     -0.001318                       -0.019798   \n3                     -0.002384                       -0.021314   \n4                     -0.002707                       -0.015932   \n5                     -0.002406                       -0.014884   \n6                     -0.042925                       -0.161991   \n7                     -0.056136                       -0.167450   \n8                     -0.000076                       -0.014617   \n9                     -0.000441                       -0.012199   \n\n   train_neg_median_absolute_error  \n0                        -0.022362  \n1                        -0.022362  \n2                        -0.014383  \n3                        -0.016014  \n4                        -0.007964  \n5                        -0.010230  \n6                        -0.144737  \n7                        -0.160315  \n8                         0.000000  \n9                        -0.001661  ",
      "text/html": "<div>\n<style scoped>\n    .dataframe tbody tr th:only-of-type {\n        vertical-align: middle;\n    }\n\n    .dataframe tbody tr th {\n        vertical-align: top;\n    }\n\n    .dataframe thead th {\n        text-align: right;\n    }\n</style>\n<table border=\"1\" class=\"dataframe\">\n  <thead>\n    <tr style=\"text-align: right;\">\n      <th></th>\n      <th>dataset</th>\n      <th>model</th>\n      <th>search_strategy</th>\n      <th>fit_time</th>\n      <th>score_time</th>\n      <th>test_neg_mean_absolute_error</th>\n      <th>train_neg_mean_absolute_error</th>\n      <th>test_neg_mean_squared_error</th>\n      <th>train_neg_mean_squared_error</th>\n      <th>test_neg_median_absolute_error</th>\n      <th>train_neg_median_absolute_error</th>\n    </tr>\n  </thead>\n  <tbody>\n    <tr>\n      <th>0</th>\n      <td>CPU Computer Hardware</td>\n      <td>Linear Regression</td>\n      <td>GridSearchCV</td>\n      <td>0.599831</td>\n      <td>0.005809</td>\n      <td>-0.037918</td>\n      <td>-0.032077</td>\n      <td>-0.004878</td>\n      <td>-0.002478</td>\n      <td>-0.023648</td>\n      <td>-0.022362</td>\n    </tr>\n    <tr>\n      <th>1</th>\n      <td>CPU Computer Hardware</td>\n      <td>Linear Regression</td>\n      <td>RandomizedSearchCV</td>\n      <td>0.575269</td>\n      <td>0.003191</td>\n      <td>-0.037918</td>\n      <td>-0.032077</td>\n      <td>-0.004878</td>\n      <td>-0.002478</td>\n      <td>-0.023648</td>\n      <td>-0.022362</td>\n    </tr>\n    <tr>\n      <th>2</th>\n      <td>CPU Computer Hardware</td>\n      <td>Decision Tree Regressor</td>\n      <td>GridSearchCV</td>\n      <td>1.157619</td>\n      <td>0.002593</td>\n      <td>-0.038625</td>\n      <td>-0.022855</td>\n      <td>-0.008956</td>\n      <td>-0.001318</td>\n      <td>-0.019798</td>\n      <td>-0.014383</td>\n    </tr>\n    <tr>\n      <th>3</th>\n      <td>CPU Computer Hardware</td>\n      <td>Decision Tree Regressor</td>\n      <td>RandomizedSearchCV</td>\n      <td>0.123490</td>\n      <td>0.001201</td>\n      <td>-0.040697</td>\n      <td>-0.026789</td>\n      <td>-0.005906</td>\n      <td>-0.002384</td>\n      <td>-0.021314</td>\n      <td>-0.016014</td>\n    </tr>\n    <tr>\n      <th>4</th>\n      <td>CPU Computer Hardware</td>\n      <td>Random Forest Regressor</td>\n      <td>GridSearchCV</td>\n      <td>76.250408</td>\n      <td>0.020344</td>\n      <td>-0.034777</td>\n      <td>-0.020803</td>\n      <td>-0.007234</td>\n      <td>-0.002707</td>\n      <td>-0.015932</td>\n      <td>-0.007964</td>\n    </tr>\n    <tr>\n      <th>5</th>\n      <td>CPU Computer Hardware</td>\n      <td>Random Forest Regressor</td>\n      <td>RandomizedSearchCV</td>\n      <td>9.327121</td>\n      <td>0.021340</td>\n      <td>-0.033119</td>\n      <td>-0.020944</td>\n      <td>-0.007364</td>\n      <td>-0.002406</td>\n      <td>-0.014884</td>\n      <td>-0.010230</td>\n    </tr>\n    <tr>\n      <th>6</th>\n      <td>CPU Computer Hardware</td>\n      <td>Passive Aggressive Regressor</td>\n      <td>GridSearchCV</td>\n      <td>3.360904</td>\n      <td>0.001793</td>\n      <td>-0.164018</td>\n      <td>-0.159266</td>\n      <td>-0.043076</td>\n      <td>-0.042925</td>\n      <td>-0.161991</td>\n      <td>-0.144737</td>\n    </tr>\n    <tr>\n      <th>7</th>\n      <td>CPU Computer Hardware</td>\n      <td>Passive Aggressive Regressor</td>\n      <td>RandomizedSearchCV</td>\n      <td>0.315166</td>\n      <td>0.001795</td>\n      <td>-0.175909</td>\n      <td>-0.176290</td>\n      <td>-0.060926</td>\n      <td>-0.056136</td>\n      <td>-0.167450</td>\n      <td>-0.160315</td>\n    </tr>\n    <tr>\n      <th>8</th>\n      <td>CPU Computer Hardware</td>\n      <td>KNeighbors Regressor</td>\n      <td>GridSearchCV</td>\n      <td>31.427361</td>\n      <td>0.003994</td>\n      <td>-0.030099</td>\n      <td>-0.002255</td>\n      <td>-0.005480</td>\n      <td>-0.000076</td>\n      <td>-0.014617</td>\n      <td>0.000000</td>\n    </tr>\n    <tr>\n      <th>9</th>\n      <td>CPU Computer Hardware</td>\n      <td>KNeighbors Regressor</td>\n      <td>RandomizedSearchCV</td>\n      <td>0.494965</td>\n      <td>0.013965</td>\n      <td>-0.029194</td>\n      <td>-0.005477</td>\n      <td>-0.006257</td>\n      <td>-0.000441</td>\n      <td>-0.012199</td>\n      <td>-0.001661</td>\n    </tr>\n  </tbody>\n</table>\n</div>"
     },
     "metadata": {},
     "execution_count": 56
    }
   ],
   "source": [
    "final_results"
   ]
  },
  {
   "cell_type": "code",
   "execution_count": null,
   "metadata": {},
   "outputs": [],
   "source": []
  }
 ],
 "metadata": {
  "language_info": {
   "codemirror_mode": {
    "name": "ipython",
    "version": 3
   },
   "file_extension": ".py",
   "mimetype": "text/x-python",
   "name": "python",
   "nbconvert_exporter": "python",
   "pygments_lexer": "ipython3",
   "version": "3.7.6-final"
  },
  "orig_nbformat": 2,
  "kernelspec": {
   "name": "python37664bitidsconda6aac95af6de54c59bceda5e4272aaa84",
   "display_name": "Python 3.7.6 64-bit ('IDS': conda)"
  }
 },
 "nbformat": 4,
 "nbformat_minor": 2
}