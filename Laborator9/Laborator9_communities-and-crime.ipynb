{
 "cells": [
  {
   "cell_type": "markdown",
   "metadata": {},
   "source": [
    "## Nume studenti:\n",
    "- Alexandra Manole\n",
    "- Teodor Mihaescu\n",
    "\n",
    "## Grupa: 382"
   ]
  },
  {
   "cell_type": "markdown",
   "metadata": {},
   "source": [
    "# Dataset 4: Communities and Crime"
   ]
  },
  {
   "cell_type": "code",
   "execution_count": 57,
   "metadata": {},
   "outputs": [],
   "source": [
    "from collections import Counter\n",
    "import matplotlib.pyplot as plt\n",
    "import pandas as pd\n",
    "import numpy as np\n",
    "\n",
    "from sklearn import preprocessing\n",
    "from sklearn.model_selection import train_test_split"
   ]
  },
  {
   "cell_type": "code",
   "execution_count": 58,
   "metadata": {},
   "outputs": [],
   "source": [
    "# Read and preprocess dataset\n",
    "# remove columns: 0-4 + missing values col.\n",
    "data = pd.read_csv('./data/communities.csv', header=None)\n",
    "data = data.drop([0, 1, 2, 3, 4], axis=1)\n",
    "data = data.dropna(axis=1)"
   ]
  },
  {
   "cell_type": "code",
   "execution_count": 59,
   "metadata": {},
   "outputs": [
    {
     "output_type": "stream",
     "name": "stdout",
     "text": "<class 'pandas.core.frame.DataFrame'>\nRangeIndex: 1994 entries, 0 to 1993\nData columns (total 100 columns):\n #   Column  Non-Null Count  Dtype  \n---  ------  --------------  -----  \n 0   5       1994 non-null   float64\n 1   6       1994 non-null   float64\n 2   7       1994 non-null   float64\n 3   8       1994 non-null   float64\n 4   9       1994 non-null   float64\n 5   10      1994 non-null   float64\n 6   11      1994 non-null   float64\n 7   12      1994 non-null   float64\n 8   13      1994 non-null   float64\n 9   14      1994 non-null   float64\n 10  15      1994 non-null   float64\n 11  16      1994 non-null   float64\n 12  17      1994 non-null   float64\n 13  18      1994 non-null   float64\n 14  19      1994 non-null   float64\n 15  20      1994 non-null   float64\n 16  21      1994 non-null   float64\n 17  22      1994 non-null   float64\n 18  23      1994 non-null   float64\n 19  24      1994 non-null   float64\n 20  25      1994 non-null   float64\n 21  26      1994 non-null   float64\n 22  27      1994 non-null   float64\n 23  28      1994 non-null   float64\n 24  29      1994 non-null   float64\n 25  31      1994 non-null   float64\n 26  32      1994 non-null   float64\n 27  33      1994 non-null   float64\n 28  34      1994 non-null   float64\n 29  35      1994 non-null   float64\n 30  36      1994 non-null   float64\n 31  37      1994 non-null   float64\n 32  38      1994 non-null   float64\n 33  39      1994 non-null   float64\n 34  40      1994 non-null   float64\n 35  41      1994 non-null   float64\n 36  42      1994 non-null   float64\n 37  43      1994 non-null   float64\n 38  44      1994 non-null   float64\n 39  45      1994 non-null   float64\n 40  46      1994 non-null   float64\n 41  47      1994 non-null   float64\n 42  48      1994 non-null   float64\n 43  49      1994 non-null   float64\n 44  50      1994 non-null   float64\n 45  51      1994 non-null   float64\n 46  52      1994 non-null   float64\n 47  53      1994 non-null   float64\n 48  54      1994 non-null   float64\n 49  55      1994 non-null   float64\n 50  56      1994 non-null   float64\n 51  57      1994 non-null   float64\n 52  58      1994 non-null   float64\n 53  59      1994 non-null   float64\n 54  60      1994 non-null   float64\n 55  61      1994 non-null   float64\n 56  62      1994 non-null   float64\n 57  63      1994 non-null   float64\n 58  64      1994 non-null   float64\n 59  65      1994 non-null   float64\n 60  66      1994 non-null   float64\n 61  67      1994 non-null   float64\n 62  68      1994 non-null   float64\n 63  69      1994 non-null   float64\n 64  70      1994 non-null   float64\n 65  71      1994 non-null   float64\n 66  72      1994 non-null   float64\n 67  73      1994 non-null   float64\n 68  74      1994 non-null   float64\n 69  75      1994 non-null   float64\n 70  76      1994 non-null   float64\n 71  77      1994 non-null   float64\n 72  78      1994 non-null   float64\n 73  79      1994 non-null   float64\n 74  80      1994 non-null   float64\n 75  81      1994 non-null   float64\n 76  82      1994 non-null   float64\n 77  83      1994 non-null   float64\n 78  84      1994 non-null   float64\n 79  85      1994 non-null   float64\n 80  86      1994 non-null   float64\n 81  87      1994 non-null   float64\n 82  88      1994 non-null   float64\n 83  89      1994 non-null   float64\n 84  90      1994 non-null   float64\n 85  91      1994 non-null   float64\n 86  92      1994 non-null   float64\n 87  93      1994 non-null   float64\n 88  94      1994 non-null   float64\n 89  95      1994 non-null   float64\n 90  96      1994 non-null   float64\n 91  97      1994 non-null   float64\n 92  98      1994 non-null   float64\n 93  99      1994 non-null   float64\n 94  100     1994 non-null   float64\n 95  118     1994 non-null   float64\n 96  119     1994 non-null   float64\n 97  120     1994 non-null   float64\n 98  125     1994 non-null   float64\n 99  127     1994 non-null   float64\ndtypes: float64(100)\nmemory usage: 1.5 MB\n"
    }
   ],
   "source": [
    "data.info()"
   ]
  },
  {
   "cell_type": "code",
   "execution_count": 61,
   "metadata": {},
   "outputs": [],
   "source": [
    "# Scale dataset\n",
    "min_max_scaler = preprocessing.MinMaxScaler()\n",
    "data = pd.DataFrame(min_max_scaler.fit_transform(data))"
   ]
  },
  {
   "cell_type": "code",
   "execution_count": 63,
   "metadata": {},
   "outputs": [],
   "source": [
    "# Split dataset\n",
    "X = data.iloc[:,:-1]\n",
    "y = data.iloc[:, -1]\n",
    "X_train, X_test, y_train, y_test = train_test_split(X, y, test_size=1/3)"
   ]
  },
  {
   "cell_type": "markdown",
   "metadata": {},
   "source": [
    "## Model 1: ?"
   ]
  },
  {
   "cell_type": "code",
   "execution_count": null,
   "metadata": {},
   "outputs": [],
   "source": []
  }
 ],
 "metadata": {
  "language_info": {
   "codemirror_mode": {
    "name": "ipython",
    "version": 3
   },
   "file_extension": ".py",
   "mimetype": "text/x-python",
   "name": "python",
   "nbconvert_exporter": "python",
   "pygments_lexer": "ipython3",
   "version": "3.7.6-final"
  },
  "orig_nbformat": 2,
  "kernelspec": {
   "name": "python37664bitidsconda6aac95af6de54c59bceda5e4272aaa84",
   "display_name": "Python 3.7.6 64-bit ('IDS': conda)"
  }
 },
 "nbformat": 4,
 "nbformat_minor": 2
}