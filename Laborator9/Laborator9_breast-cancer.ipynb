{
 "cells": [
  {
   "cell_type": "markdown",
   "metadata": {},
   "source": [
    "## Nume studenti:\n",
    "- Alexandra Manole\n",
    "- Teodor Mihaescu\n",
    "\n",
    "## Grupa: 382"
   ]
  },
  {
   "cell_type": "markdown",
   "metadata": {},
   "source": [
    "# Dataset 3: Wisconsin Breast Cancer"
   ]
  },
  {
   "cell_type": "code",
   "execution_count": 11,
   "metadata": {},
   "outputs": [],
   "source": [
    "from collections import Counter\n",
    "import matplotlib.pyplot as plt\n",
    "import pandas as pd\n",
    "import numpy as np\n",
    "\n",
    "from sklearn import preprocessing\n",
    "from sklearn.model_selection import train_test_split"
   ]
  },
  {
   "cell_type": "code",
   "execution_count": 12,
   "metadata": {},
   "outputs": [],
   "source": [
    "# Read and preprocess dataset\n",
    "data = pd.read_csv('./data/r_wpbc.csv', header=None)"
   ]
  },
  {
   "cell_type": "code",
   "execution_count": 13,
   "metadata": {},
   "outputs": [
    {
     "output_type": "stream",
     "name": "stdout",
     "text": "<class 'pandas.core.frame.DataFrame'>\nRangeIndex: 194 entries, 0 to 193\nData columns (total 33 columns):\n #   Column  Non-Null Count  Dtype  \n---  ------  --------------  -----  \n 0   0       194 non-null    int64  \n 1   1       194 non-null    float64\n 2   2       194 non-null    float64\n 3   3       194 non-null    float64\n 4   4       194 non-null    float64\n 5   5       194 non-null    float64\n 6   6       194 non-null    float64\n 7   7       194 non-null    float64\n 8   8       194 non-null    float64\n 9   9       194 non-null    float64\n 10  10      194 non-null    float64\n 11  11      194 non-null    float64\n 12  12      194 non-null    float64\n 13  13      194 non-null    float64\n 14  14      194 non-null    float64\n 15  15      194 non-null    float64\n 16  16      194 non-null    float64\n 17  17      194 non-null    float64\n 18  18      194 non-null    float64\n 19  19      194 non-null    float64\n 20  20      194 non-null    float64\n 21  21      194 non-null    float64\n 22  22      194 non-null    float64\n 23  23      194 non-null    float64\n 24  24      194 non-null    float64\n 25  25      194 non-null    float64\n 26  26      194 non-null    float64\n 27  27      194 non-null    float64\n 28  28      194 non-null    float64\n 29  29      194 non-null    float64\n 30  30      194 non-null    float64\n 31  31      194 non-null    float64\n 32  32      194 non-null    int64  \ndtypes: float64(31), int64(2)\nmemory usage: 50.1 KB\n"
    }
   ],
   "source": [
    "data.info()"
   ]
  },
  {
   "cell_type": "markdown",
   "metadata": {},
   "source": [
    "## Model 1: ?"
   ]
  },
  {
   "cell_type": "code",
   "execution_count": null,
   "metadata": {},
   "outputs": [],
   "source": []
  }
 ],
 "metadata": {
  "language_info": {
   "codemirror_mode": {
    "name": "ipython",
    "version": 3
   },
   "file_extension": ".py",
   "mimetype": "text/x-python",
   "name": "python",
   "nbconvert_exporter": "python",
   "pygments_lexer": "ipython3",
   "version": "3.7.6-final"
  },
  "orig_nbformat": 2,
  "kernelspec": {
   "name": "python37664bitidsconda6aac95af6de54c59bceda5e4272aaa84",
   "display_name": "Python 3.7.6 64-bit ('IDS': conda)"
  }
 },
 "nbformat": 4,
 "nbformat_minor": 2
}