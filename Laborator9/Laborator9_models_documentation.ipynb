{
 "cells": [
  {
   "cell_type": "markdown",
   "metadata": {},
   "source": [
    "# Passive Aggressive Regressor"
   ]
  },
  {
   "cell_type": "markdown",
   "metadata": {},
   "source": [
    "Regresorul de față este de obicei folosit pentru seturi foarte mari de date, menite să ruleze rapid. Din această cauză el este deseori folosit și în mediul online pentru diferite filtrări de documente și clasificări.\n",
    "\n",
    "El se bazează pe principiul de a primi un exemplu, a actualiza clasificatorul corespunzător (vectorul de ponderi), apoi să elimine acel exemplu, nememorându-l.\n",
    "\n",
    "Mai jos este o reprezentare grafică unidimensională a regresorului:\n",
    "<br>\n",
    "<img src=\"images/pa_1.png\">\n",
    "\n",
    "<br>\n",
    "Mai jos se regăsește funcția de loss a algoritmului:\n",
    "<br>\n",
    "<img src=\"images/pa_2.png\">\n",
    "<img src=\"images/pa_3.png\">\n",
    "<br>\n",
    "Deși inițial bizar, numele acestui algoritm capătă sens în momentul în care înțelegem funcționalitatea aceste funcții de loss:\n",
    "În primul caz, eroarea de predicție este prea mare => funcția de loss este pozitivă în direcția ajustării ponderilor (comportament agresiv)\n",
    "Iar în celd e al 2-lea caz, eroarea este în parametri normali, funcția de loss fiind forțată să rămână la 0 iar ponderile rămânând nemodificate (comportament pasiv)\n",
    "\n",
    "Observație: În majoritatea cazurilor, acest algoritm pornește cu ponderile inițiale setate pe 0\n",
    "\n",
    "Un exemplu concret poate fi regăsit mai jos:\n",
    "<br>\n",
    "Să presupunem că ne referim la o problemă de clasificare binomială (comportamentul fiind similar), în care avem de identificat intrările de tip câine, respectiv pisică. Așa va arăta o vizualizare a ponderilor noastre inițiale în contextul seturilor de date.\n",
    "<br>\n",
    "<img src=\"images/pa_4.png\">\n",
    "<br>\n",
    "În momentul în care se primește o nouă intrare, se va verifica localizarea acesteia, apoi, dacă această depășește limitele impuse de ponderile actuale ale algoritmului, vectorul de ponderi va fi modificat cu distanța noii intrări, în caz contrar acesta rămânând nemodificat.\n",
    "<br>\n",
    "Exemplu - intrare nouă ce depășetște limitele actuale ale vectoruluid e ponderi\n",
    "<br>\n",
    "<img src=\"images/pa_5.png\">\n",
    "<br>\n",
    "Algoritmul va calcula un vector nou d, ce va indica ajustarea ce necesită a fi efectuată pentru calcularea noilor ponderi, apoi vectorul de ponderi va fi modificat corespunzător:\n",
    "<br>\n",
    "<img src=\"images/pa_6.png\">"
   ]
  },
  {
   "cell_type": "markdown",
   "metadata": {},
   "source": [
    "### Bibliografie:\n",
    "1. https://books.google.ro/books?id=_EZsDwAAQBAJ&pg=PA161&lpg=PA161&dq=the+passive-aggressive+strategy+for+regression&source=bl&ots=cHWq0Rb-1I&sig=ACfU3U0VjN8tLqiFnEqbIlRzeqzzy58pZQ&hl=ro&sa=X&ved=2ahUKEwj7_ZHN7q7pAhWOepoKHV9QDx8Q6AEwCXoECAkQAQ#v=onepage&q=the%20passive-aggressive%20strategy%20for%20regression&f=false\n",
    "1. https://www.youtube.com/watch?v=uxGDwyPWNkU"
   ]
  },
  {
   "cell_type": "markdown",
   "metadata": {},
   "source": [
    "# Linear Regression"
   ]
  },
  {
   "cell_type": "markdown",
   "metadata": {},
   "source": [
    "Regresia liniară constă în găsirea unei relații liniare între țintă și predicatori.\n",
    "\n",
    "Ecuația unei regresii liniare este de forma Y = a + b * X, unde X reprezintă variabila cunoscută, iar Y rezultatule stimat. Panta dreptei este b, iar a este intercept-ul (valoarea lui y, când X = 0)\n",
    "\n",
    "Scopul algoritmului este acela de a găsi o dreaptă care să reprezinte cât mai fidel setul de date. Funcția de regresie liniară din sklearn folosește metoda celor mai mici pătrate. Această metodă este cel mai comun utilizată în cadrul algoritmului.\n",
    "<br>\n",
    "<img src=\"images/lr_1.png\">\n",
    "<br>\n",
    "\n",
    "Algoritmul se oprește atunci când găsește o dreaptă pentru care suma erorilor de predicate este cât mai mică posibil. Eroarea este calculată ca fiind distanța dintre punct și dreapta de regresie.\n",
    "<br>\n",
    "<img src=\"images/lr_2.png\">\n",
    "<br>\n",
    "După ce o dreaptă de regresie a fost trasată pentru un set de date, punctele care sunt depărtate de linie sunt cunoscute ca outliers. Aceste puncte pot reprezenta date eronate sau pot indica o aproximare proastă a regresiei liniare. Daca un punct este depărtat de celelalte valori în direcție orizontală, este cunoscut ca o observație influențată. Spunem acest lucru deoarece punctele au un impact important în panta regresiei.\n",
    "\n",
    "Avantaje:\n",
    "1. ușor de interpretat și eficientă la partea de antrenare\n",
    "1. performanțe mari pe seturi de date liniar separabile\n",
    "1. deși predispusă overfitting-ului, acest rezultat negativ poate fi evitat prin utilizarea cross validation-ului\n",
    "\n",
    "Dezavantaje:\n",
    "1. în viața reală, seturile de date sunt rar liniar separabile\n",
    "1. predispusă la noise și overfitting\n",
    "1. poate conține outliers, ffind sensibilă la valori extreme"
   ]
  },
  {
   "cell_type": "markdown",
   "metadata": {},
   "source": [
    "### Bibliografie:\n",
    "1. http://onlinestatbook.com/2/regression/intro.html\n",
    "1. http://www.stat.yale.edu/Courses/1997-98/101/linreg.htm\n",
    "1. http://theprofessionalspoint.blogspot.com/2019/05/advantages-and-disadvantages-of-linear.html\n",
    "1. https://towardsdatascience.com/linear-regression-detailed-view-ea73175f6e86"
   ]
  },
  {
   "cell_type": "markdown",
   "metadata": {},
   "source": [
    "# Decision Tree Regressor"
   ]
  },
  {
   "cell_type": "markdown",
   "metadata": {},
   "source": [
    "Acest arbore de decizie observa trasaturile unui obiect si antreneaza un model cu structura unui arbore pentru a prezice rezultate continue si semnificative.\n",
    "Rezultatele continue inseamna ca outputul nu este discret, adica nu este reprezentat doar de valori cunoscute.\n",
    "<br>\n",
    "<img src=\"images/dt_1.jpeg\">\n",
    "<br>\n",
    "Exemplu de rezultat discret este: Un model de predictie a vremii care prezice daca va ploua sau nu intr-o anumita zi.\n",
    "\n",
    "Exemplu de rezultat continuu: Un model de predictie a profitului care afirma posibilitatea profitului unui anumit produs.\n",
    "\n",
    "Fiecare componenta a arborelui reprezinta cate ceva semnificativ si anume:     \n",
    "*nodurile reprezinta intrebari pe baza carora algoritmul ia o decizie( sa mearga pe muchia dreapta sau pe cea din stanga);                                       \n",
    "*muchiile contin deciziile luate;                                               \n",
    "*frunzele reprezinta rezultatul regresiei;\n",
    "\n",
    "<br>\n",
    "<img src=\"images/dt_2.jpeg\">\n",
    "<br>\n",
    "\n",
    "Putem observa mai sus ca cu cat adancimea arborelui este mai mare, cu atat regulile de deciziile sunt mai complexe.\n",
    "\n",
    "Avantaje:\n",
    "<br>\n",
    "1. Datele nu necesita scalare.\n",
    "<br>\n",
    "2. Nu intampina probleme cand vine vorba de valori lipsa.\n",
    "<br>\n",
    "3. Arborii de decizie sunt usor de interpretat, sunt intuitivi si usor de explicat.\n",
    "\n",
    "Dezavantaje:\n",
    "<br>\n",
    "1. O mica schimbare in setul de date poate cauza o foarte mare schimbare in structura arborelui de decizie, acest lucru cauzand instabilitate.\n",
    "<br>\n",
    "2. Este o mare probabilitate de overfitting.\n",
    "<br>\n",
    "3. Are complexitate de timp mare.\n",
    "    "
   ]
  },
  {
   "cell_type": "markdown",
   "metadata": {},
   "source": [
    "### Bibliografie:"
   ]
  },
  {
   "cell_type": "markdown",
   "metadata": {},
   "source": [
    "1. https://scikit-learn.org/stable/modules/tree.html #tree\n",
    "1. https://www.geeksforgeeks.org/python-decision-tree-regression-using-sklearn/\n",
    "1. https://medium.com/@dhiraj8899/top-5-advantages-and-disadvantages-of-decision-tree-algorithm-428ebd199d9a    "
   ]
  },
  {
   "cell_type": "markdown",
   "metadata": {},
   "source": [
    "# Random Forest Regressor"
   ]
  },
  {
   "cell_type": "markdown",
   "metadata": {},
   "source": [
    "Acest model este folosit in probleme de clasificare si regresie la fel ca cel precedent. \n",
    "\n",
    "Algorimul functioneaza prin constructia mai multor arbori de decizie in timpul antrenarii datelor si returneaza media predictiei fiecarui arbore. In avcest timp arborii lucreaza in paralel fara sa aiba vreo tangenta unul cu altul.\n",
    "Random Forest este un meta-estimator, adica combina rezultatul mai multor predictii, avand in vedere urmatoarele conditii:\n",
    "\n",
    "1. Numarul trasaturilor care poate fi impartit in fiecare nod este limitat la un anumit procent din numarul total de trasaturi. Acest lucru asigura ca modelul nu depinde prea mult de o trasatura specifica si ia in considerare toate trasaturile.\n",
    "\n",
    "2. Fiecare arbore extrage un sample random din setul de date original cand se genereaza impartirea, astfel prevenind overfitting-ul.\n",
    "\n",
    "\n",
    "<br>\n",
    "<img src=\"images/rf_1.jpeg\">\n",
    "<br>\n",
    "\n",
    "Avantaje:\n",
    "<br>\n",
    "1. Are performanta crescuta.\n",
    "<br>\n",
    "2. Se descurca foarte bine pe seturi foarte mari de date.\n",
    "<br>\n",
    "3. Se descurca bine cu valorile extreme si nu este influentat de zgomot fiindca este foarte stabil.\n",
    "<br>\n",
    "4. Se descurca foarte bine cu valori lipsa si mentine acuratete crescuta.\n",
    "<br>\n",
    "5. Random forest regression este o metoda mai rapida si mai precisa decat regresiile boosted(de ex. Gradient Boosting)antrenate pe acelasi set de date.\n",
    "\n",
    "Dezavantaje:\n",
    "<br>\n",
    "1. Ii ia foarte mult timp sa se antreneze pe setul de date.\n",
    "<br>\n",
    "2. Are complexitate mare, deoarece are nevoie de cel putin 100 de arbori de decizie, acest lucru necesita putere computationala mare.\n"
   ]
  },
  {
   "cell_type": "markdown",
   "metadata": {},
   "source": [
    "### Bibliografie:"
   ]
  },
  {
   "cell_type": "markdown",
   "metadata": {},
   "source": [
    "1. https://towardsdatascience.com/random-forest-and-its-implementation-71824ced454f\n",
    "1. http://theprofessionalspoint.blogspot.com/2019/02/advantages-and-disadvantages-of-random.html\n",
    "1. https://scikit-learn.org/stable/modules/generated/sklearn.ensemble.RandomForestRegressor.html"
   ]
  },
  {
   "cell_type": "markdown",
   "metadata": {},
   "source": [
    "# KNeighborsRegressor"
   ]
  },
  {
   "cell_type": "markdown",
   "metadata": {},
   "source": [
    "Acest algoritm este un algoritm de învățare supervizată bazat pe asocieri care nu necesită o etapă de antrenare propriu-zisă. Se bazează pe învățarea prin analogie și stabilește valoarea corespunzătoare unui exemplu de testare pe baza similarității acestuia cu k exemple, cele mai similare, din setul de date de antrenament. Fiecare exemplu de antrenament este un vector în spațiul de reprezentare al datelor și are atribuit o singură etichetă. Etapa de antrenare pentru algoritmul KNN constă doar în memorarea vectorilor de trăsături și a etichetelor corespunzătoare claselor pentru exemplele de antrenament. În etapa de predicție, la un element din setul de testare îi atribuim clasa corespunzătoare ca fiind cea mai frecventă clasă dintre clasele celor k exemple de antrenament, cele mai apropiate de exemplul de testare. Parametrul k este o constantă specificată de utilizator și de obicei are o valoare mică. Cea mai bună alegere a lui k depinde de date; în general, o valoare mare pentru k va reduce influența zgomotului asupra clasificării/regresiei, dar va face ca zonele de separare dintre clase să fie mai puțin distincte. Clasificatorul/Regresorul KNN poate fi văzut ca un algoritm care atribuie la cei mai apropiați k vecini o pondere egală cu 1/k și la restul o pondere egală cu 0.\n",
    "<br>\n",
    "<img src=\"images/knn_1.png\">\n",
    "<br>\n",
    "<img src=\"images/knn_2.png\">\n",
    "<br>\n",
    "Pasii algoritmului:\n",
    "<br>\n",
    "1. Se stabilește valoarea lui k în raport cu numărul de exemple de antrenament pe care le avem la dispoziție.\n",
    "<br>\n",
    "2. Pentru fiecare exemplu din setul de testare se stabilește clasa/valoarea acestuia astfel:\n",
    "<br>\n",
    "3. Se calculează similaritatea dintre exemplul de testare și toate exemplele avute în setul de antrenare. Pentru calculul similarității se pot folosi oricare dintre metricile de similaritate.\n",
    "<br>\n",
    "4. Se iau primele k exemple dintre cele de antrenare care sunt cele mai similare cu exemplul curent de testare și pe baza lor se stabilește clasa/valoarea exemplului de testare folosind votul majoritar.\n",
    "<br>\n",
    "5. Se verifică dacă clasificarea/regresia este sau nu corectă pe baza informaților deținute în fișierul de testare.\n",
    "<br>\n",
    "6. Atâta timp cât mai sunt exemple de testare se reia de la pasul 3.\n",
    "<br>\n",
    "7. Se evaluează calitatea clasificării/regresiei pentru valoarea lui k curenta, folosind metricile externe de evaluare a algoritmilor de învățare cum ar fi acuratețea de clasificare/regresie."
   ]
  },
  {
   "cell_type": "markdown",
   "metadata": {},
   "source": [
    "### Bibliografie:"
   ]
  },
  {
   "cell_type": "markdown",
   "metadata": {},
   "source": [
    "1. http://webspace.ulbsibiu.ro/daniel.morariu/html/StudentDoc/DM/Lab4_KNN.pdf\n",
    "1. https://www.analyticsvidhya.com/blog/2018/08/k-nearest-neighbor-introduction-regression-python/\n",
    "1. https://stats.stackexchange.com/questions/364351/regression-knn-model-vs-classification-knn-model"
   ]
  }
 ],
 "metadata": {
  "language_info": {
   "codemirror_mode": {
    "name": "ipython",
    "version": 3
   },
   "file_extension": ".py",
   "mimetype": "text/x-python",
   "name": "python",
   "nbconvert_exporter": "python",
   "pygments_lexer": "ipython3",
   "version": "3.7.6-final"
  },
  "orig_nbformat": 2,
  "kernelspec": {
   "name": "python37664bitidsconda6aac95af6de54c59bceda5e4272aaa84",
   "display_name": "Python 3.7.6 64-bit ('IDS': conda)"
  }
 },
 "nbformat": 4,
 "nbformat_minor": 2
}