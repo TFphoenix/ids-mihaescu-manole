{
 "cells": [
  {
   "cell_type": "markdown",
   "metadata": {},
   "source": [
    "# Passive Aggressive Regressor"
   ]
  },
  {
   "cell_type": "markdown",
   "metadata": {},
   "source": [
    "Regresorul de față este de obicei folosit pentru seturi foarte mari de date, menite să ruleze rapid. Din această cauză el este deseori folosit și în mediul online pentru diferite filtrări de documente și clasificări.\n",
    "\n",
    "El se bazează pe principiul de a primi un exemplu, a actualiza clasificatorul corespunzător (vectorul de ponderi), apoi să elimine acel exemplu, nememorându-l.\n",
    "\n",
    "Mai jos este o reprezentare grafică unidimensională a regresorului:\n",
    "<br>\n",
    "<img src=\"images/pa_1.png\">\n",
    "\n",
    "<br>\n",
    "Mai jos se regăsește funcția de loss a algoritmului:\n",
    "<br>\n",
    "<img src=\"images/pa_2.png\">\n",
    "<img src=\"images/pa_3.png\">\n",
    "<br>\n",
    "Deși inițial bizar, numele acestui algoritm capătă sens în momentul în care înțelegem funcționalitatea aceste funcții de loss:\n",
    "În primul caz, eroarea de predicție este prea mare => funcția de loss este pozitivă în direcția ajustării ponderilor (comportament agresiv)\n",
    "Iar în celd e al 2-lea caz, eroarea este în parametri normali, funcția de loss fiind forțată să rămână la 0 iar ponderile rămânând nemodificate (comportament pasiv)\n",
    "\n",
    "Observație: În majoritatea cazurilor, acest algoritm pornește cu ponderile inițiale setate pe 0\n",
    "\n",
    "Un exemplu concret poate fi regăsit mai jos:\n",
    "<br>\n",
    "Să presupunem că ne referim la o problemă de clasificare binomială (comportamentul fiind similar), în care avem de identificat intrările de tip câine, respectiv pisică. Așa va arăta o vizualizare a ponderilor noastre inițiale în contextul seturilor de date.\n",
    "<br>\n",
    "<img src=\"images/pa_4.png\">\n",
    "<br>\n",
    "În momentul în care se primește o nouă intrare, se va verifica localizarea acesteia, apoi, dacă această depășește limitele impuse de ponderile actuale ale algoritmului, vectorul de ponderi va fi modificat cu distanța noii intrări, în caz contrar acesta rămânând nemodificat.\n",
    "<br>\n",
    "Exemplu - intrare nouă ce depășetște limitele actuale ale vectoruluid e ponderi\n",
    "<br>\n",
    "<img src=\"images/pa_5.png\">\n",
    "<br>\n",
    "Algoritmul va calcula un vector nou d, ce va indica ajustarea ce necesită a fi efectuată pentru calcularea noilor ponderi, apoi vectorul de ponderi va fi modificat corespunzător:\n",
    "<br>\n",
    "<img src=\"images/pa_6.png\">"
   ]
  },
  {
   "cell_type": "markdown",
   "metadata": {},
   "source": [
    "### Bibliografie:\n",
    "1. https://books.google.ro/books?id=_EZsDwAAQBAJ&pg=PA161&lpg=PA161&dq=the+passive-aggressive+strategy+for+regression&source=bl&ots=cHWq0Rb-1I&sig=ACfU3U0VjN8tLqiFnEqbIlRzeqzzy58pZQ&hl=ro&sa=X&ved=2ahUKEwj7_ZHN7q7pAhWOepoKHV9QDx8Q6AEwCXoECAkQAQ#v=onepage&q=the%20passive-aggressive%20strategy%20for%20regression&f=false\n",
    "1. https://www.youtube.com/watch?v=uxGDwyPWNkU"
   ]
  },
  {
   "cell_type": "markdown",
   "metadata": {},
   "source": [
    "# Linear Regression"
   ]
  },
  {
   "cell_type": "markdown",
   "metadata": {},
   "source": [
    "Regresia liniară constă în găsirea unei relații liniare între țintă și predicatori.\n",
    "\n",
    "Ecuația unei regresii liniare este de forma Y = a + b * X, unde X reprezintă variabila cunoscută, iar Y rezultatule stimat. Panta dreptei este b, iar a este intercept-ul (valoarea lui y, când X = 0)\n",
    "\n",
    "Scopul algoritmului este acela de a găsi o dreaptă care să reprezinte cât mai fidel setul de date. Funcția de regresie liniară din sklearn folosește metoda celor mai mici pătrate. Această metodă este cel mai comun utilizată în cadrul algoritmului.\n",
    "<br>\n",
    "<img src=\"images/lr_1.png\">\n",
    "<br>\n",
    "\n",
    "Algoritmul se oprește atunci când găsește o dreaptă pentru care suma erorilor de predicate este cât mai mică posibil. Eroarea este calculată ca fiind distanța dintre punct și dreapta de regresie.\n",
    "<br>\n",
    "<img src=\"images/lr_2.png\">\n",
    "<br>\n",
    "După ce o dreaptă de regresie a fost trasată pentru un set de date, punctele care sunt depărtate de linie sunt cunoscute ca outliers. Aceste puncte pot reprezenta date eronate sau pot indica o aproximare proastă a regresiei liniare. Daca un punct este depărtat de celelalte valori în direcție orizontală, este cunoscut ca o observație influențată. Spunem acest lucru deoarece punctele au un impact important în panta regresiei.\n",
    "\n",
    "Avantaje:\n",
    "1. ușor de interpretat și eficientă la partea de antrenare\n",
    "1. performanțe mari pe seturi de date liniar separabile\n",
    "1. deși predispusă overfitting-ului, acest rezultat negativ poate fi evitat prin utilizarea cross validation-ului\n",
    "\n",
    "Dezavantaje:\n",
    "1. în viața reală, seturile de date sunt rar liniar separabile\n",
    "1. predispusă la noise și overfitting\n",
    "1. poate conține outliers, ffind sensibilă la valori extreme"
   ]
  },
  {
   "cell_type": "markdown",
   "metadata": {},
   "source": [
    "### Bibliografie:\n",
    "1. http://onlinestatbook.com/2/regression/intro.html\n",
    "1. http://www.stat.yale.edu/Courses/1997-98/101/linreg.htm\n",
    "1. http://theprofessionalspoint.blogspot.com/2019/05/advantages-and-disadvantages-of-linear.html\n",
    "1. https://towardsdatascience.com/linear-regression-detailed-view-ea73175f6e86"
   ]
  },
  {
   "cell_type": "code",
   "execution_count": null,
   "metadata": {},
   "outputs": [],
   "source": []
  }
 ],
 "metadata": {
  "language_info": {
   "codemirror_mode": {
    "name": "ipython",
    "version": 3
   },
   "file_extension": ".py",
   "mimetype": "text/x-python",
   "name": "python",
   "nbconvert_exporter": "python",
   "pygments_lexer": "ipython3",
   "version": "3.7.6-final"
  },
  "orig_nbformat": 2,
  "kernelspec": {
   "name": "python37664bitidsconda6aac95af6de54c59bceda5e4272aaa84",
   "display_name": "Python 3.7.6 64-bit ('IDS': conda)"
  }
 },
 "nbformat": 4,
 "nbformat_minor": 2
}