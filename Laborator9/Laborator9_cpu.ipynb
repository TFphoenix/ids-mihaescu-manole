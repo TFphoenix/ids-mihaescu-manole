{
 "cells": [
  {
   "cell_type": "markdown",
   "metadata": {},
   "source": [
    "## Nume studenti:\n",
    "- Alexandra Manole\n",
    "- Teodor Mihaescu\n",
    "\n",
    "## Grupa: 382"
   ]
  },
  {
   "cell_type": "markdown",
   "metadata": {},
   "source": [
    "# Dataset 1: CPU Computer Hardware"
   ]
  },
  {
   "cell_type": "code",
   "execution_count": 676,
   "metadata": {},
   "outputs": [],
   "source": [
    "from collections import Counter\n",
    "import matplotlib.pyplot as plt\n",
    "import pandas as pd\n",
    "import numpy as np\n",
    "\n",
    "from sklearn import preprocessing\n",
    "from sklearn.model_selection import train_test_split, cross_validate, cross_val_score, GridSearchCV, RandomizedSearchCV\n",
    "\n",
    "from sklearn.linear_model import LinearRegression, PassiveAggressiveRegressor, Ridge\n",
    "from sklearn.neighbors import KNeighborsRegressor\n",
    "from sklearn.tree import DecisionTreeRegressor\n",
    "from sklearn.ensemble import RandomForestRegressor"
   ]
  },
  {
   "cell_type": "code",
   "execution_count": 677,
   "metadata": {},
   "outputs": [],
   "source": [
    "# Read and preprocess dataset\n",
    "# remove columns: 0, 1, 9\n",
    "data = pd.read_csv('./data/machine.csv', header=None)\n",
    "data = data.drop([0, 1, 9], axis=1)"
   ]
  },
  {
   "cell_type": "code",
   "execution_count": 678,
   "metadata": {},
   "outputs": [
    {
     "output_type": "stream",
     "name": "stdout",
     "text": "<class 'pandas.core.frame.DataFrame'>\nRangeIndex: 209 entries, 0 to 208\nData columns (total 7 columns):\n #   Column  Non-Null Count  Dtype\n---  ------  --------------  -----\n 0   2       209 non-null    int64\n 1   3       209 non-null    int64\n 2   4       209 non-null    int64\n 3   5       209 non-null    int64\n 4   6       209 non-null    int64\n 5   7       209 non-null    int64\n 6   8       209 non-null    int64\ndtypes: int64(7)\nmemory usage: 11.6 KB\n"
    }
   ],
   "source": [
    "data.info()"
   ]
  },
  {
   "cell_type": "code",
   "execution_count": 679,
   "metadata": {},
   "outputs": [],
   "source": [
    "# Scale dataset\n",
    "min_max_scaler = preprocessing.MinMaxScaler()\n",
    "data = pd.DataFrame(min_max_scaler.fit_transform(data))"
   ]
  },
  {
   "cell_type": "code",
   "execution_count": 680,
   "metadata": {},
   "outputs": [],
   "source": [
    "# Split dataset\n",
    "X = data.iloc[:,:-1]\n",
    "y = data.iloc[:, -1]\n",
    "X_train, X_test, y_train, y_test = train_test_split(X, y, test_size=1/3)"
   ]
  },
  {
   "cell_type": "code",
   "execution_count": 681,
   "metadata": {},
   "outputs": [],
   "source": [
    "# Results dataframe\n",
    "final_results = pd.DataFrame(columns=['dataset', 'model', 'search_strategy', 'fit_time', 'score_time', 'test_neg_mean_absolute_error', 'train_neg_mean_absolute_error','test_neg_mean_squared_error', 'train_neg_mean_squared_error', 'test_neg_median_absolute_error', 'train_neg_median_absolute_error'])"
   ]
  },
  {
   "cell_type": "markdown",
   "metadata": {},
   "source": []
  },
  {
   "cell_type": "markdown",
   "metadata": {},
   "source": [
    "## Model 1: Linear Regression"
   ]
  },
  {
   "cell_type": "code",
   "execution_count": 682,
   "metadata": {},
   "outputs": [],
   "source": [
    "# Model\n",
    "model1 = LinearRegression()"
   ]
  },
  {
   "cell_type": "code",
   "execution_count": 683,
   "metadata": {},
   "outputs": [
    {
     "output_type": "execute_result",
     "data": {
      "text/plain": "{'fit_time': array([0.03406692, 0.00498652, 0.00398588, 0.01457024, 0.00797701]),\n 'score_time': array([0.00698161, 0.00299215, 0.00352526, 0.0029912 , 0.00405383]),\n 'test_neg_mean_absolute_error': array([-0.05361911, -0.02793563, -0.02448827, -0.03085481, -0.05269249]),\n 'train_neg_mean_absolute_error': array([-0.02932976, -0.03578627, -0.03731234, -0.03360041, -0.02435441]),\n 'test_neg_mean_squared_error': array([-0.00544976, -0.00176781, -0.00114754, -0.00177683, -0.01424669]),\n 'train_neg_mean_squared_error': array([-0.00203177, -0.00293813, -0.00309184, -0.00292119, -0.00140956]),\n 'test_neg_median_absolute_error': array([-0.03721284, -0.01973085, -0.01930693, -0.0208655 , -0.02112597]),\n 'train_neg_median_absolute_error': array([-0.02110111, -0.02680821, -0.02901994, -0.02070826, -0.01417006])}"
     },
     "metadata": {},
     "execution_count": 683
    }
   ],
   "source": [
    "# Cross Validation\n",
    "results_train = cross_validate(model1, X, y, cv=5,\n",
    "scoring=['neg_mean_absolute_error', 'neg_mean_squared_error', 'neg_median_absolute_error'], \n",
    "return_train_score=True)\n",
    "results_train"
   ]
  },
  {
   "cell_type": "code",
   "execution_count": 684,
   "metadata": {},
   "outputs": [],
   "source": [
    "# Parameter Grid\n",
    "parameter_grid = {\n",
    "    'fit_intercept': [True, False], \n",
    "    'normalize': [True, False], \n",
    "    'n_jobs': [None, 5, 10]}"
   ]
  },
  {
   "cell_type": "code",
   "execution_count": 685,
   "metadata": {},
   "outputs": [
    {
     "output_type": "execute_result",
     "data": {
      "text/plain": "dataset                            CPU Computer Hardware\nmodel                                  Linear Regression\nsearch_strategy                             GridSearchCV\nfit_time                                        0.304121\nscore_time                                    0.00262151\ntest_neg_mean_absolute_error                  -0.0379181\ntrain_neg_mean_absolute_error                 -0.0320766\ntest_neg_mean_squared_error                  -0.00487773\ntrain_neg_mean_squared_error                  -0.0024785\ntest_neg_median_absolute_error                -0.0236484\ntrain_neg_median_absolute_error               -0.0223615\nName: 0, dtype: object"
     },
     "metadata": {},
     "execution_count": 685
    }
   ],
   "source": [
    "# Hyperparameters - GridSearch\n",
    "grid_search = GridSearchCV(estimator = model1, param_grid=parameter_grid, scoring='neg_mean_squared_error', cv=3, return_train_score=True)\n",
    "\n",
    "results_gscv = cross_validate(grid_search, X, y, cv=5, scoring=['neg_mean_absolute_error', 'neg_mean_squared_error', 'neg_median_absolute_error'], return_train_score=True)\n",
    "\n",
    "gscv = pd.DataFrame(results_gscv)\n",
    "gscv = list(gscv.mean(axis=0))\n",
    "\n",
    "final_results.loc[0] = ['CPU Computer Hardware', 'Linear Regression', 'GridSearchCV'] + gscv\n",
    "final_results.loc[0]"
   ]
  },
  {
   "cell_type": "code",
   "execution_count": 686,
   "metadata": {},
   "outputs": [
    {
     "output_type": "execute_result",
     "data": {
      "text/plain": "dataset                            CPU Computer Hardware\nmodel                                  Linear Regression\nsearch_strategy                       RandomizedSearchCV\nfit_time                                        0.304121\nscore_time                                    0.00262151\ntest_neg_mean_absolute_error                  -0.0379181\ntrain_neg_mean_absolute_error                 -0.0320766\ntest_neg_mean_squared_error                  -0.00487773\ntrain_neg_mean_squared_error                  -0.0024785\ntest_neg_median_absolute_error                -0.0236484\ntrain_neg_median_absolute_error               -0.0223615\nName: 1, dtype: object"
     },
     "metadata": {},
     "execution_count": 686
    }
   ],
   "source": [
    "# Hyperparameters - RandomSearch\n",
    "randomized_search = RandomizedSearchCV(estimator = model1, param_distributions=parameter_grid, random_state=0, n_iter=7, scoring='neg_mean_squared_error')\n",
    "\n",
    "results_rscv = cross_validate(randomized_search, X, y, cv=5, scoring=['neg_mean_absolute_error', 'neg_mean_squared_error', 'neg_median_absolute_error'], return_train_score=True)\n",
    "\n",
    "rscv = pd.DataFrame(results_rscv)\n",
    "rscv = list(rscv.mean(axis=0))\n",
    "\n",
    "final_results.loc[1] = ['CPU Computer Hardware', 'Linear Regression', 'RandomizedSearchCV'] + gscv\n",
    "final_results.loc[1]"
   ]
  },
  {
   "cell_type": "markdown",
   "metadata": {},
   "source": [
    "## Model 2: Decision Tree Regressor"
   ]
  },
  {
   "cell_type": "code",
   "execution_count": 687,
   "metadata": {},
   "outputs": [],
   "source": [
    "# Model\n",
    "model2 = DecisionTreeRegressor()"
   ]
  },
  {
   "cell_type": "code",
   "execution_count": 688,
   "metadata": {},
   "outputs": [
    {
     "output_type": "execute_result",
     "data": {
      "text/plain": "{'fit_time': array([0.004071  , 0.00397348, 0.00398946, 0.00389433, 0.00611115]),\n 'score_time': array([0.00291085, 0.00299144, 0.00419021, 0.00199461, 0.00398684]),\n 'test_neg_mean_absolute_error': array([-0.03783716, -0.01876249, -0.02307415, -0.0354021 , -0.07556925]),\n 'train_neg_mean_absolute_error': array([-0.00100917, -0.0026817 , -0.00246081, -0.00235089, -0.00272713]),\n 'test_neg_mean_squared_error': array([-0.00377726, -0.00097264, -0.0016461 , -0.00218458, -0.02582378]),\n 'train_neg_mean_squared_error': array([-1.65758512e-05, -9.41035370e-05, -8.88248687e-05, -8.43844184e-05,\n        -9.38085564e-05]),\n 'test_neg_median_absolute_error': array([-0.01923077, -0.01048951, -0.01005245, -0.02316434, -0.01835664]),\n 'train_neg_median_absolute_error': array([-0., -0., -0., -0., -0.])}"
     },
     "metadata": {},
     "execution_count": 688
    }
   ],
   "source": [
    "# Cross Validation\n",
    "results_train = cross_validate(model2, X, y, cv=5,\n",
    "scoring=['neg_mean_absolute_error', 'neg_mean_squared_error', 'neg_median_absolute_error'], \n",
    "return_train_score=True)\n",
    "results_train"
   ]
  },
  {
   "cell_type": "code",
   "execution_count": 689,
   "metadata": {},
   "outputs": [],
   "source": [
    "# Parameter Grid\n",
    "parameter_grid = {\n",
    "    'criterion': ['mse', 'friedman_mse', 'mae'], \n",
    "    'max_depth': list(range(1,5)), \n",
    "    'max_features': ['sqrt', 'log2', None]}"
   ]
  },
  {
   "cell_type": "code",
   "execution_count": 690,
   "metadata": {},
   "outputs": [
    {
     "output_type": "execute_result",
     "data": {
      "text/plain": "fit_time                           0.712944\nscore_time                         0.002791\ntest_neg_mean_absolute_error      -0.047823\ntrain_neg_mean_absolute_error     -0.027229\ntest_neg_mean_squared_error       -0.011237\ntrain_neg_mean_squared_error      -0.002279\ntest_neg_median_absolute_error    -0.022365\ntrain_neg_median_absolute_error   -0.015605\ndtype: float64"
     },
     "metadata": {},
     "execution_count": 690
    }
   ],
   "source": [
    "# Hyperparameters - GridSearch\n",
    "grid_search = GridSearchCV(estimator = model1, param_grid=parameter_grid, scoring='neg_mean_squared_error', cv=3, return_train_score=True)\n",
    "\n",
    "results_gscv = cross_validate(grid_search, X, y, cv=5, scoring=['neg_mean_absolute_error', 'neg_mean_squared_error', 'neg_median_absolute_error'], return_train_score=True)\n",
    "\n",
    "gscv = pd.DataFrame(results_gscv)\n",
    "gscv = list(gscv.mean(axis=0))\n",
    "\n",
    "final_results.loc[0] = ['CPU Computer Hardware', 'Linear Regression', 'GridSearchCV'] + gscv\n",
    "final_results.loc[0]"
   ]
  },
  {
   "cell_type": "code",
   "execution_count": 691,
   "metadata": {},
   "outputs": [
    {
     "output_type": "execute_result",
     "data": {
      "text/plain": "fit_time                           0.184760\nscore_time                         0.002183\ntest_neg_mean_absolute_error      -0.047386\ntrain_neg_mean_absolute_error     -0.031350\ntest_neg_mean_squared_error       -0.010103\ntrain_neg_mean_squared_error      -0.002523\ntest_neg_median_absolute_error    -0.023874\ntrain_neg_median_absolute_error   -0.021048\ndtype: float64"
     },
     "metadata": {},
     "execution_count": 691
    }
   ],
   "source": [
    "# Hyperparameters - RandomSearch\n",
    "randomized_search = RandomizedSearchCV(estimator = model2, param_distributions=parameter_grid, random_state=0, n_iter=7, scoring='neg_mean_squared_error')\n",
    "\n",
    "results_rscv = cross_validate(randomized_search, X, y, cv=5, scoring=['neg_mean_absolute_error', 'neg_mean_squared_error', 'neg_median_absolute_error'], return_train_score=True)\n",
    "\n",
    "rscv2 = pd.DataFrame(results_rscv)\n",
    "rscv2 = rscv2.mean(axis=0)\n",
    "rscv2"
   ]
  },
  {
   "cell_type": "code",
   "execution_count": 692,
   "metadata": {},
   "outputs": [
    {
     "output_type": "execute_result",
     "data": {
      "text/plain": "                 dataset              model     search_strategy  fit_time  \\\n0  CPU Computer Hardware  Linear Regression        GridSearchCV  0.304121   \n1  CPU Computer Hardware  Linear Regression  RandomizedSearchCV  0.304121   \n\n   score_time  test_neg_mean_absolute_error  train_neg_mean_absolute_error  \\\n0    0.002622                     -0.037918                      -0.032077   \n1    0.002622                     -0.037918                      -0.032077   \n\n   test_neg_mean_squared_error  train_neg_mean_squared_error  \\\n0                    -0.004878                     -0.002478   \n1                    -0.004878                     -0.002478   \n\n   test_neg_median_absolute_error  train_neg_median_absolute_error  \n0                       -0.023648                        -0.022362  \n1                       -0.023648                        -0.022362  ",
      "text/html": "<div>\n<style scoped>\n    .dataframe tbody tr th:only-of-type {\n        vertical-align: middle;\n    }\n\n    .dataframe tbody tr th {\n        vertical-align: top;\n    }\n\n    .dataframe thead th {\n        text-align: right;\n    }\n</style>\n<table border=\"1\" class=\"dataframe\">\n  <thead>\n    <tr style=\"text-align: right;\">\n      <th></th>\n      <th>dataset</th>\n      <th>model</th>\n      <th>search_strategy</th>\n      <th>fit_time</th>\n      <th>score_time</th>\n      <th>test_neg_mean_absolute_error</th>\n      <th>train_neg_mean_absolute_error</th>\n      <th>test_neg_mean_squared_error</th>\n      <th>train_neg_mean_squared_error</th>\n      <th>test_neg_median_absolute_error</th>\n      <th>train_neg_median_absolute_error</th>\n    </tr>\n  </thead>\n  <tbody>\n    <tr>\n      <th>0</th>\n      <td>CPU Computer Hardware</td>\n      <td>Linear Regression</td>\n      <td>GridSearchCV</td>\n      <td>0.304121</td>\n      <td>0.002622</td>\n      <td>-0.037918</td>\n      <td>-0.032077</td>\n      <td>-0.004878</td>\n      <td>-0.002478</td>\n      <td>-0.023648</td>\n      <td>-0.022362</td>\n    </tr>\n    <tr>\n      <th>1</th>\n      <td>CPU Computer Hardware</td>\n      <td>Linear Regression</td>\n      <td>RandomizedSearchCV</td>\n      <td>0.304121</td>\n      <td>0.002622</td>\n      <td>-0.037918</td>\n      <td>-0.032077</td>\n      <td>-0.004878</td>\n      <td>-0.002478</td>\n      <td>-0.023648</td>\n      <td>-0.022362</td>\n    </tr>\n  </tbody>\n</table>\n</div>"
     },
     "metadata": {},
     "execution_count": 692
    }
   ],
   "source": [
    "final_results"
   ]
  },
  {
   "cell_type": "code",
   "execution_count": null,
   "metadata": {},
   "outputs": [],
   "source": []
  }
 ],
 "metadata": {
  "language_info": {
   "codemirror_mode": {
    "name": "ipython",
    "version": 3
   },
   "file_extension": ".py",
   "mimetype": "text/x-python",
   "name": "python",
   "nbconvert_exporter": "python",
   "pygments_lexer": "ipython3",
   "version": "3.7.6-final"
  },
  "orig_nbformat": 2,
  "kernelspec": {
   "name": "python37664bitidsconda6aac95af6de54c59bceda5e4272aaa84",
   "display_name": "Python 3.7.6 64-bit ('IDS': conda)"
  }
 },
 "nbformat": 4,
 "nbformat_minor": 2
}