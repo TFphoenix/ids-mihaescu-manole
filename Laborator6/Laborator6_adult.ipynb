{
 "nbformat": 4,
 "nbformat_minor": 2,
 "metadata": {
  "language_info": {
   "name": "python",
   "codemirror_mode": {
    "name": "ipython",
    "version": 3
   },
   "version": "3.7.6-final"
  },
  "orig_nbformat": 2,
  "file_extension": ".py",
  "mimetype": "text/x-python",
  "name": "python",
  "npconvert_exporter": "python",
  "pygments_lexer": "ipython3",
  "version": 3,
  "kernelspec": {
   "name": "python37664bitidsconda6aac95af6de54c59bceda5e4272aaa84",
   "display_name": "Python 3.7.6 64-bit ('IDS': conda)"
  }
 },
 "cells": [
  {
   "cell_type": "markdown",
   "metadata": {},
   "source": [
    "## Nume studenti:\n",
    "- Alexandra Manole\n",
    "- Teodor Mihaescu\n",
    "\n",
    "## Grupa: 382"
   ]
  },
  {
   "cell_type": "markdown",
   "metadata": {},
   "source": [
    "# Data Set 4: Adult\n",
    "### (Missing values: yes)"
   ]
  },
  {
   "cell_type": "code",
   "execution_count": 20,
   "metadata": {},
   "outputs": [],
   "source": [
    "from collections import Counter\n",
    "import matplotlib.pyplot as plt\n",
    "import pandas as pd\n",
    "import numpy as np\n",
    "\n",
    "from sklearn.experimental import enable_iterative_imputer  \n",
    "from sklearn.impute import IterativeImputer, SimpleImputer\n",
    "from sklearn.model_selection import train_test_split\n",
    "from sklearn.linear_model import LinearRegression, LogisticRegression\n",
    "from sklearn.neighbors import KNeighborsClassifier\n",
    "from sklearn.tree import DecisionTreeClassifier\n",
    "from sklearn.ensemble import RandomForestClassifier\n",
    "from sklearn.neural_network import MLPClassifier\n",
    "from sklearn.svm import SVC\n",
    "from sklearn import metrics\n",
    "from sklearn import preprocessing\n",
    "from sklearn.model_selection import cross_validate, cross_val_score, GridSearchCV, RandomizedSearchCV"
   ]
  },
  {
   "cell_type": "code",
   "execution_count": 2,
   "metadata": {},
   "outputs": [
    {
     "output_type": "stream",
     "name": "stdout",
     "text": "<class 'pandas.core.frame.DataFrame'>\nRangeIndex: 32561 entries, 0 to 32560\nData columns (total 15 columns):\n #   Column         Non-Null Count  Dtype \n---  ------         --------------  ----- \n 0   Age            32561 non-null  int64 \n 1   WorkClass      30725 non-null  object\n 2   Fnlwgt         32561 non-null  int64 \n 3   Education      32561 non-null  object\n 4   EducationNum   32561 non-null  int64 \n 5   MaritalStatus  32561 non-null  object\n 6   Occupation     30718 non-null  object\n 7   Relationship   32561 non-null  object\n 8   Race           32561 non-null  object\n 9   Sex            32561 non-null  object\n 10  CapitalGain    32561 non-null  int64 \n 11  CapitalLoss    32561 non-null  int64 \n 12  HoursPerWeek   32561 non-null  int64 \n 13  NativeCountry  31978 non-null  object\n 14  Income         32561 non-null  object\ndtypes: int64(6), object(9)\nmemory usage: 3.7+ MB\n"
    }
   ],
   "source": [
    "data = pd.read_csv('./Datasets/adult.csv')\n",
    "data.info()"
   ]
  },
  {
   "cell_type": "code",
   "execution_count": 3,
   "metadata": {},
   "outputs": [],
   "source": [
    "# Missing values imputation\n",
    "\"\"\"\n",
    "Observam ca avem missing values in 3 dintre atribute:\n",
    "- WorkClass\n",
    "- Occupation\n",
    "- NativeCountry\n",
    "\n",
    "Din acest motiv vom folosi un fillna pentru calcularea valorilor ce ar putea substitui missing values. Vom crea o noua clasa unknown pentru fiecare valoare lipsa. Nu alegem alta metoda de fill, precum: cea mai itnalnita valoare, medie, mediana, etc. deoarece umplerea atributelor ce contin missing values cu astfel de metode ar putea influenta drastic datele de iesire. (De exemplu: se observa ca sunt inregistrari cu persoane ce castiga anual peste $50k, la workClass avand missingValue, daca am substitui o astfel de valoare lipsa cu never-worked am ajunge sa denaturam ponderile categoriei persoanelor ce nu au lucrat niciodata, acest lucru ducand la coruperea estimarilor finale)\n",
    "\"\"\"\n",
    "data.fillna('unknown', inplace=True)"
   ]
  },
  {
   "cell_type": "code",
   "execution_count": 4,
   "metadata": {},
   "outputs": [],
   "source": [
    "# Pregateste y\n",
    "y = data.loc[:, 'Income']\n",
    "y = np.where(y == '<=50K', 0, 1).reshape(data.shape[0], 1)\n",
    "y = pd.DataFrame(y, columns=['Income'])"
   ]
  },
  {
   "cell_type": "code",
   "execution_count": 5,
   "metadata": {},
   "outputs": [],
   "source": [
    "# Pregateste X (+ One-hot encoding pe datele categoriale din data)\n",
    "X = data['Age']\n",
    "\n",
    "data['WorkClass'] = pd.Categorical(data['WorkClass'])\n",
    "X_categ = pd.get_dummies(data['WorkClass'], prefix='wc')\n",
    "X = pd.concat([X, X_categ], axis=1)\n",
    "\n",
    "X = pd.concat([X, data['Fnlwgt']], axis=1)\n",
    "\n",
    "data['Education'] = pd.Categorical(data['Education'])\n",
    "X_categ = pd.get_dummies(data['Education'], prefix='ed')\n",
    "X = pd.concat([X, X_categ], axis=1)\n",
    "\n",
    "X = pd.concat([X, data['EducationNum']], axis=1)\n",
    "\n",
    "data['MaritalStatus'] = pd.Categorical(data['MaritalStatus'])\n",
    "X_categ = pd.get_dummies(data['MaritalStatus'], prefix='ms')\n",
    "X = pd.concat([X, X_categ], axis=1)\n",
    "\n",
    "data['Occupation'] = pd.Categorical(data['Occupation'])\n",
    "X_categ = pd.get_dummies(data['Occupation'], prefix='oc')\n",
    "X = pd.concat([X, X_categ], axis=1)\n",
    "\n",
    "data['Relationship'] = pd.Categorical(data['Relationship'])\n",
    "X_categ = pd.get_dummies(data['Relationship'], prefix='rl')\n",
    "X = pd.concat([X, X_categ], axis=1)\n",
    "\n",
    "data['Race'] = pd.Categorical(data['Race'])\n",
    "X_categ = pd.get_dummies(data['Race'], prefix='rc')\n",
    "X = pd.concat([X, X_categ], axis=1)\n",
    "\n",
    "data['Sex'] = pd.Categorical(data['Sex'])\n",
    "X_categ = pd.get_dummies(data['Sex'], prefix='sx')\n",
    "X = pd.concat([X, X_categ], axis=1)\n",
    "\n",
    "X = pd.concat([X, data.loc[:, 'CapitalGain':'HoursPerWeek']], axis=1)\n",
    "\n",
    "data['NativeCountry'] = pd.Categorical(data['NativeCountry'])\n",
    "X_categ = pd.get_dummies(data['NativeCountry'], prefix='nc')\n",
    "X = pd.concat([X, X_categ], axis=1)"
   ]
  },
  {
   "cell_type": "code",
   "execution_count": 6,
   "metadata": {},
   "outputs": [],
   "source": [
    "# Scaleaza datele\n",
    "X_columns = X.columns\n",
    "X_index = X.index\n",
    "\n",
    "min_max_scaler = preprocessing.MinMaxScaler()\n",
    "X = pd.DataFrame(min_max_scaler.fit_transform(X), columns=X_columns, index=X_index)"
   ]
  },
  {
   "cell_type": "code",
   "execution_count": 7,
   "metadata": {},
   "outputs": [],
   "source": [
    "# Separarea setului de date\n",
    "X_train, X_test, y_train, y_test = train_test_split(X, y, test_size=1/3, shuffle=True)"
   ]
  },
  {
   "cell_type": "code",
   "execution_count": 8,
   "metadata": {},
   "outputs": [
    {
     "output_type": "stream",
     "name": "stdout",
     "text": "Counter({0: 16496, 1: 5211})\nCounter({0: 8224, 1: 2630})\n"
    }
   ],
   "source": [
    "# Verifica daca sunt egal distribuite\n",
    "print(Counter(y_train.iloc[:,0]))\n",
    "print(Counter(y_test.iloc[:,0]))"
   ]
  },
  {
   "cell_type": "markdown",
   "metadata": {},
   "source": [
    "## Model 1: KNeighborsClassifier"
   ]
  },
  {
   "cell_type": "code",
   "execution_count": 9,
   "metadata": {},
   "outputs": [],
   "source": [
    "# Model\n",
    "\"\"\"\n",
    "\"\"\"\n",
    "model1 = KNeighborsClassifier(n_neighbors=2)\n",
    "model1.fit(X_train, y_train)\n",
    "y_hat = model1.predict(X_test)"
   ]
  },
  {
   "cell_type": "code",
   "execution_count": 10,
   "metadata": {},
   "outputs": [
    {
     "output_type": "stream",
     "name": "stdout",
     "text": "Predicted:\n[0 0 0 ... 0 1 0]\n\nGround truth:\n[0 0 0 ... 0 1 0]\n\nFailed:\t2115\n"
    }
   ],
   "source": [
    "print(f'Predicted:\\n{y_hat}\\n')\n",
    "print(f'Ground truth:\\n{np.array(y_test.iloc[:, 0])}\\n')\n",
    "print(f'Failed:\\t{sum(y_hat != np.array(y_test.iloc[:, 0]))}')"
   ]
  },
  {
   "cell_type": "code",
   "execution_count": 11,
   "metadata": {},
   "outputs": [
    {
     "output_type": "execute_result",
     "data": {
      "text/plain": "{'fit_time': array([2.16566086, 2.09367871, 2.01396847, 2.08544755, 2.03748941]),\n 'score_time': array([28.4744556 , 24.4670825 , 25.42822146, 24.51343679, 25.86290073]),\n 'test_accuracy': array([0.80346998, 0.81111794, 0.81219287, 0.80543612, 0.80973587]),\n 'train_accuracy': array([0.89461763, 0.89446812, 0.89412262, 0.89316289, 0.89227993]),\n 'test_f1': array([0.47281713, 0.49299258, 0.49774127, 0.47967146, 0.48223987]),\n 'train_f1': array([0.71986937, 0.7194039 , 0.7182264 , 0.71494418, 0.71190965])}"
     },
     "metadata": {},
     "execution_count": 11
    }
   ],
   "source": [
    "# Cross Validation\n",
    "results_train = cross_validate(model1, X, y, scoring=['accuracy','f1'], return_train_score=True)\n",
    "results_train"
   ]
  },
  {
   "cell_type": "code",
   "execution_count": 12,
   "metadata": {},
   "outputs": [
    {
     "output_type": "error",
     "ename": "NameError",
     "evalue": "name 'X_train_mat' is not defined",
     "traceback": [
      "\u001b[1;31m---------------------------------------------------------------------------\u001b[0m",
      "\u001b[1;31mNameError\u001b[0m                                 Traceback (most recent call last)",
      "\u001b[1;32m<ipython-input-12-37ca8aa9473c>\u001b[0m in \u001b[0;36m<module>\u001b[1;34m\u001b[0m\n\u001b[0;32m      2\u001b[0m \u001b[0mparameter_grid\u001b[0m \u001b[1;33m=\u001b[0m \u001b[1;33m{\u001b[0m\u001b[1;34m'n_neighbors'\u001b[0m\u001b[1;33m:\u001b[0m \u001b[0mlist\u001b[0m\u001b[1;33m(\u001b[0m\u001b[0mrange\u001b[0m\u001b[1;33m(\u001b[0m\u001b[1;36m1\u001b[0m\u001b[1;33m,\u001b[0m \u001b[1;36m10\u001b[0m\u001b[1;33m)\u001b[0m\u001b[1;33m)\u001b[0m\u001b[1;33m,\u001b[0m \u001b[1;34m'p'\u001b[0m\u001b[1;33m:\u001b[0m \u001b[1;33m[\u001b[0m\u001b[1;36m1\u001b[0m\u001b[1;33m,\u001b[0m \u001b[1;36m2\u001b[0m\u001b[1;33m,\u001b[0m \u001b[1;36m3\u001b[0m\u001b[1;33m]\u001b[0m\u001b[1;33m}\u001b[0m\u001b[1;33m\u001b[0m\u001b[1;33m\u001b[0m\u001b[0m\n\u001b[0;32m      3\u001b[0m \u001b[0mgrid_search\u001b[0m \u001b[1;33m=\u001b[0m \u001b[0mGridSearchCV\u001b[0m\u001b[1;33m(\u001b[0m\u001b[0mestimator\u001b[0m \u001b[1;33m=\u001b[0m \u001b[0mKNeighborsClassifier\u001b[0m\u001b[1;33m(\u001b[0m\u001b[1;33m)\u001b[0m\u001b[1;33m,\u001b[0m \u001b[0mparam_grid\u001b[0m\u001b[1;33m=\u001b[0m\u001b[0mparameter_grid\u001b[0m\u001b[1;33m,\u001b[0m \u001b[0mscoring\u001b[0m\u001b[1;33m=\u001b[0m\u001b[1;34m'accuracy'\u001b[0m\u001b[1;33m,\u001b[0m \u001b[0mcv\u001b[0m\u001b[1;33m=\u001b[0m\u001b[1;36m4\u001b[0m\u001b[1;33m,\u001b[0m \u001b[0mreturn_train_score\u001b[0m\u001b[1;33m=\u001b[0m\u001b[1;32mTrue\u001b[0m\u001b[1;33m)\u001b[0m\u001b[1;33m\u001b[0m\u001b[1;33m\u001b[0m\u001b[0m\n\u001b[1;32m----> 4\u001b[1;33m \u001b[0mgrid_search\u001b[0m\u001b[1;33m.\u001b[0m\u001b[0mfit\u001b[0m\u001b[1;33m(\u001b[0m\u001b[0mX_train_mat\u001b[0m\u001b[1;33m,\u001b[0m \u001b[0my_train_col\u001b[0m\u001b[1;33m)\u001b[0m\u001b[1;33m\u001b[0m\u001b[1;33m\u001b[0m\u001b[0m\n\u001b[0m\u001b[0;32m      5\u001b[0m \u001b[0mresults_gscv\u001b[0m \u001b[1;33m=\u001b[0m \u001b[0mcross_val_score\u001b[0m\u001b[1;33m(\u001b[0m\u001b[0mgrid_search\u001b[0m\u001b[1;33m,\u001b[0m \u001b[0mX_test_mat\u001b[0m\u001b[1;33m,\u001b[0m \u001b[0my_test_col\u001b[0m\u001b[1;33m,\u001b[0m \u001b[0mscoring\u001b[0m\u001b[1;33m=\u001b[0m\u001b[1;34m'accuracy'\u001b[0m\u001b[1;33m)\u001b[0m\u001b[1;33m\u001b[0m\u001b[1;33m\u001b[0m\u001b[0m\n",
      "\u001b[1;31mNameError\u001b[0m: name 'X_train_mat' is not defined"
     ]
    }
   ],
   "source": [
    "# Cautare hiperparametrii optimi - GridSearch\n",
    "parameter_grid = {'n_neighbors': list(range(1, 10)), 'p': [1, 2, 3]}\n",
    "grid_search = GridSearchCV(estimator = KNeighborsClassifier(), param_grid=parameter_grid, scoring='accuracy', cv=4, return_train_score=True)\n",
    "grid_search.fit(X_train_mat, y_train_col)\n",
    "results_gscv = cross_val_score(grid_search, X_test_mat, y_test_col, scoring='accuracy')"
   ]
  },
  {
   "cell_type": "code",
   "execution_count": 13,
   "metadata": {},
   "outputs": [
    {
     "output_type": "error",
     "ename": "NameError",
     "evalue": "name 'results_gscv' is not defined",
     "traceback": [
      "\u001b[1;31m---------------------------------------------------------------------------\u001b[0m",
      "\u001b[1;31mNameError\u001b[0m                                 Traceback (most recent call last)",
      "\u001b[1;32m<ipython-input-13-92ddcd3d7ae0>\u001b[0m in \u001b[0;36m<module>\u001b[1;34m\u001b[0m\n\u001b[1;32m----> 1\u001b[1;33m \u001b[0mprint\u001b[0m\u001b[1;33m(\u001b[0m\u001b[0mresults_gscv\u001b[0m\u001b[1;33m.\u001b[0m\u001b[0mmean\u001b[0m\u001b[1;33m(\u001b[0m\u001b[1;33m)\u001b[0m\u001b[1;33m)\u001b[0m\u001b[1;33m\u001b[0m\u001b[1;33m\u001b[0m\u001b[0m\n\u001b[0m\u001b[0;32m      2\u001b[0m \u001b[0mprint\u001b[0m\u001b[1;33m(\u001b[0m\u001b[0mgrid_search\u001b[0m\u001b[1;33m.\u001b[0m\u001b[0mbest_params_\u001b[0m\u001b[1;33m)\u001b[0m\u001b[1;33m\u001b[0m\u001b[1;33m\u001b[0m\u001b[0m\n",
      "\u001b[1;31mNameError\u001b[0m: name 'results_gscv' is not defined"
     ]
    }
   ],
   "source": [
    "print(results_gscv.mean())\n",
    "print(grid_search.best_params_)"
   ]
  },
  {
   "cell_type": "code",
   "execution_count": 14,
   "metadata": {},
   "outputs": [
    {
     "output_type": "error",
     "ename": "NameError",
     "evalue": "name 'RandomizedSearchCV' is not defined",
     "traceback": [
      "\u001b[1;31m---------------------------------------------------------------------------\u001b[0m",
      "\u001b[1;31mNameError\u001b[0m                                 Traceback (most recent call last)",
      "\u001b[1;32m<ipython-input-14-7ac8f2c90c41>\u001b[0m in \u001b[0;36m<module>\u001b[1;34m\u001b[0m\n\u001b[0;32m      1\u001b[0m \u001b[1;31m# Cautare hiperparametrii optimi -RandomSearch\u001b[0m\u001b[1;33m\u001b[0m\u001b[1;33m\u001b[0m\u001b[1;33m\u001b[0m\u001b[0m\n\u001b[1;32m----> 2\u001b[1;33m \u001b[0mrandomized_search\u001b[0m \u001b[1;33m=\u001b[0m \u001b[0mRandomizedSearchCV\u001b[0m\u001b[1;33m(\u001b[0m\u001b[0mestimator\u001b[0m \u001b[1;33m=\u001b[0m \u001b[0mKNeighborsClassifier\u001b[0m\u001b[1;33m(\u001b[0m\u001b[1;33m)\u001b[0m\u001b[1;33m,\u001b[0m \u001b[0mparam_distributions\u001b[0m\u001b[1;33m=\u001b[0m\u001b[0mparameter_grid\u001b[0m\u001b[1;33m,\u001b[0m \u001b[0mrandom_state\u001b[0m\u001b[1;33m=\u001b[0m\u001b[1;36m0\u001b[0m\u001b[1;33m,\u001b[0m  \u001b[0mscoring\u001b[0m\u001b[1;33m=\u001b[0m\u001b[1;34m'accuracy'\u001b[0m\u001b[1;33m,\u001b[0m \u001b[0mcv\u001b[0m\u001b[1;33m=\u001b[0m\u001b[1;36m4\u001b[0m \u001b[1;33m)\u001b[0m\u001b[1;33m\u001b[0m\u001b[1;33m\u001b[0m\u001b[0m\n\u001b[0m\u001b[0;32m      3\u001b[0m \u001b[0mrandomized_search\u001b[0m\u001b[1;33m.\u001b[0m\u001b[0mfit\u001b[0m\u001b[1;33m(\u001b[0m\u001b[0mX_train\u001b[0m\u001b[1;33m,\u001b[0m \u001b[0my_train\u001b[0m\u001b[1;33m)\u001b[0m\u001b[1;33m\u001b[0m\u001b[1;33m\u001b[0m\u001b[0m\n\u001b[0;32m      4\u001b[0m \u001b[0mresults_rscv\u001b[0m \u001b[1;33m=\u001b[0m \u001b[0mcross_val_score\u001b[0m\u001b[1;33m(\u001b[0m\u001b[0mrandomized_search\u001b[0m\u001b[1;33m,\u001b[0m \u001b[0mX_test\u001b[0m\u001b[1;33m,\u001b[0m \u001b[0my_test\u001b[0m\u001b[1;33m,\u001b[0m \u001b[0mcv\u001b[0m\u001b[1;33m=\u001b[0m\u001b[1;36m5\u001b[0m\u001b[1;33m)\u001b[0m\u001b[1;33m\u001b[0m\u001b[1;33m\u001b[0m\u001b[0m\n",
      "\u001b[1;31mNameError\u001b[0m: name 'RandomizedSearchCV' is not defined"
     ]
    }
   ],
   "source": [
    "# Cautare hiperparametrii optimi -RandomSearch\n",
    "randomized_search = RandomizedSearchCV(estimator = KNeighborsClassifier(), param_distributions=parameter_grid, random_state=0,  scoring='accuracy', cv=4 )\n",
    "randomized_search.fit(X_train, y_train)\n",
    "results_rscv = cross_val_score(randomized_search, X_test, y_test, cv=5)"
   ]
  },
  {
   "cell_type": "code",
   "execution_count": 15,
   "metadata": {},
   "outputs": [
    {
     "output_type": "error",
     "ename": "NameError",
     "evalue": "name 'results_rscv' is not defined",
     "traceback": [
      "\u001b[1;31m---------------------------------------------------------------------------\u001b[0m",
      "\u001b[1;31mNameError\u001b[0m                                 Traceback (most recent call last)",
      "\u001b[1;32m<ipython-input-15-fd6dbe1d8e22>\u001b[0m in \u001b[0;36m<module>\u001b[1;34m\u001b[0m\n\u001b[1;32m----> 1\u001b[1;33m \u001b[0mprint\u001b[0m\u001b[1;33m(\u001b[0m\u001b[0mresults_rscv\u001b[0m\u001b[1;33m.\u001b[0m\u001b[0mmean\u001b[0m\u001b[1;33m(\u001b[0m\u001b[1;33m)\u001b[0m\u001b[1;33m)\u001b[0m\u001b[1;33m\u001b[0m\u001b[1;33m\u001b[0m\u001b[0m\n\u001b[0m\u001b[0;32m      2\u001b[0m \u001b[0mprint\u001b[0m\u001b[1;33m(\u001b[0m\u001b[0mrandomized_search\u001b[0m\u001b[1;33m.\u001b[0m\u001b[0mbest_params_\u001b[0m\u001b[1;33m)\u001b[0m\u001b[1;33m\u001b[0m\u001b[1;33m\u001b[0m\u001b[0m\n",
      "\u001b[1;31mNameError\u001b[0m: name 'results_rscv' is not defined"
     ]
    }
   ],
   "source": [
    "print(results_rscv.mean())\n",
    "print(randomized_search.best_params_)"
   ]
  },
  {
   "cell_type": "markdown",
   "metadata": {},
   "source": [
    "## Model 2: MLP"
   ]
  },
  {
   "cell_type": "code",
   "execution_count": 16,
   "metadata": {},
   "outputs": [],
   "source": [
    "# Model\n",
    "\"\"\"\n",
    "\"\"\"\n",
    "model2 = MLPClassifier(activation='logistic', learning_rate='adaptive')\n",
    "model2.fit(X_train, y_train)\n",
    "y_hat = model2.predict(X_test)"
   ]
  },
  {
   "cell_type": "code",
   "execution_count": 17,
   "metadata": {},
   "outputs": [
    {
     "output_type": "stream",
     "name": "stdout",
     "text": "Predicted:\n[0 0 0 ... 0 1 0]\n\nGround truth:\n[0 0 0 ... 0 1 0]\n\nFailed:\t1643\n"
    }
   ],
   "source": [
    "print(f'Predicted:\\n{y_hat}\\n')\n",
    "print(f'Ground truth:\\n{np.array(y_test.iloc[:, 0])}\\n')\n",
    "print(f'Failed:\\t{sum(y_hat != np.array(y_test.iloc[:, 0]))}')"
   ]
  },
  {
   "cell_type": "code",
   "execution_count": 18,
   "metadata": {},
   "outputs": [
    {
     "output_type": "execute_result",
     "data": {
      "text/plain": "{'fit_time': array([13.7989645 , 33.48873973, 33.30314517, 37.43271875, 15.30637121]),\n 'score_time': array([0.01995087, 0.0199461 , 0.02194023, 0.0169549 , 0.02493477]),\n 'test_accuracy': array([0.84692154, 0.84858722, 0.85503686, 0.85933661, 0.85181204]),\n 'train_accuracy': array([0.85396192, 0.85888134, 0.85842067, 0.85573343, 0.85281585]),\n 'test_f1': array([0.66328943, 0.66778976, 0.6802168 , 0.67191977, 0.66388018]),\n 'train_f1': array([0.67952822, 0.68947457, 0.68671424, 0.6652414 , 0.66058782])}"
     },
     "metadata": {},
     "execution_count": 18
    }
   ],
   "source": [
    "# Cross Validation\n",
    "results_train = cross_validate(model2, X, y, scoring=['accuracy','f1'], return_train_score=True)\n",
    "results_train"
   ]
  },
  {
   "cell_type": "code",
   "execution_count": 19,
   "metadata": {},
   "outputs": [],
   "source": [
    "# Cautare hiperparametrii optimi - GridSearch\n",
    "parameter_grid = {'activation': ['identity'],\n",
    "'solver': ['sgd'],\n",
    "'learning_rate': ['constant', 'invscaling', 'adaptive'],\n",
    "'learning_rate_init': np.linspace(0, 0.5, 10),\n",
    "'random_state':[0]}\n",
    "grid_search = GridSearchCV(estimator = MLPClassifier(), param_grid=parameter_grid, scoring='accuracy', cv=4, return_train_score=True)\n",
    "grid_search.fit(X_train, y_train)\n",
    "results_gscv = cross_val_score(grid_search, X_test, y_test, scoring='accuracy')"
   ]
  },
  {
   "cell_type": "code",
   "execution_count": 21,
   "metadata": {},
   "outputs": [
    {
     "output_type": "stream",
     "name": "stdout",
     "text": "0.8501938200875809\n{'activation': 'identity', 'learning_rate': 'adaptive', 'learning_rate_init': 0.4444444444444444, 'random_state': 0, 'solver': 'sgd'}\n"
    }
   ],
   "source": [
    "print(results_gscv.mean())\n",
    "print(grid_search.best_params_)"
   ]
  },
  {
   "cell_type": "code",
   "execution_count": 22,
   "metadata": {},
   "outputs": [],
   "source": [
    "# Cautare hiperparametrii optimi -RandomSearch\n",
    "randomized_search = RandomizedSearchCV(estimator = MLPClassifier(), param_distributions=parameter_grid, random_state=0,  scoring='accuracy', cv=4 )\n",
    "randomized_search.fit(X_train, y_train)\n",
    "results_rscv = cross_val_score(randomized_search, X_test, y_test, cv=5)"
   ]
  },
  {
   "cell_type": "code",
   "execution_count": 23,
   "metadata": {},
   "outputs": [
    {
     "output_type": "stream",
     "name": "stdout",
     "text": "0.849548828610061\n{'solver': 'sgd', 'random_state': 0, 'learning_rate_init': 0.4444444444444444, 'learning_rate': 'adaptive', 'activation': 'identity'}\n"
    }
   ],
   "source": [
    "print(results_rscv.mean())\n",
    "print(randomized_search.best_params_)"
   ]
  },
  {
   "cell_type": "markdown",
   "metadata": {},
   "source": [
    "## Model 3: LogisticRegression"
   ]
  },
  {
   "cell_type": "code",
   "execution_count": 24,
   "metadata": {},
   "outputs": [],
   "source": [
    "# Model\n",
    "\"\"\"\n",
    "\"\"\"\n",
    "model3 = LogisticRegression(multi_class='ovr', max_iter=1000)\n",
    "model3.fit(X_train, y_train)\n",
    "y_hat = model3.predict(X_test)"
   ]
  },
  {
   "cell_type": "code",
   "execution_count": 25,
   "metadata": {},
   "outputs": [
    {
     "output_type": "stream",
     "name": "stdout",
     "text": "Predicted:\n[0 0 0 ... 0 1 0]\n\nGround truth:\n[0 0 0 ... 0 1 0]\n\nFailed:\t1647\n"
    }
   ],
   "source": [
    "print(f'Predicted:\\n{y_hat}\\n')\n",
    "print(f'Ground truth:\\n{np.array(y_test.iloc[:, 0])}\\n')\n",
    "print(f'Failed:\\t{sum(y_hat != np.array(y_test.iloc[:, 0]))}')"
   ]
  },
  {
   "cell_type": "code",
   "execution_count": 26,
   "metadata": {},
   "outputs": [
    {
     "output_type": "execute_result",
     "data": {
      "text/plain": "{'fit_time': array([1.25624347, 1.23175883, 1.11982441, 1.15941191, 1.2410562 ]),\n 'score_time': array([0.00797868, 0.00997496, 0.00798082, 0.00797892, 0.00801086]),\n 'test_accuracy': array([0.84738216, 0.84367322, 0.8507371 , 0.85611179, 0.85273342]),\n 'train_accuracy': array([0.85254146, 0.85300779, 0.85170256, 0.8505125 , 0.85081961]),\n 'test_f1': array([0.649259  , 0.64180155, 0.65870787, 0.66714032, 0.66597005]),\n 'train_f1': array([0.66191356, 0.66468167, 0.66021638, 0.65733897, 0.65622788])}"
     },
     "metadata": {},
     "execution_count": 26
    }
   ],
   "source": [
    "# Cross Validation\n",
    "results_train = cross_validate(model3, X, y, scoring=['accuracy','f1'], return_train_score=True)\n",
    "results_train"
   ]
  },
  {
   "cell_type": "code",
   "execution_count": 27,
   "metadata": {},
   "outputs": [],
   "source": [
    "# Cautare hiperparametrii optimi - GridSearch\n",
    "parameter_grid = {\n",
    "    'C' : np.linspace(0, 100, 10),# C = 1/lambda ; C mare => lambda mic\n",
    "    'solver': ['sag', 'saga', 'lbfgs']}\n",
    "grid_search = GridSearchCV(estimator = LogisticRegression(), param_grid=parameter_grid, scoring='accuracy', cv=4, return_train_score=True)\n",
    "grid_search.fit(X_train, y_train)\n",
    "results_gscv = cross_val_score(grid_search, X_test, y_test, scoring='accuracy')"
   ]
  },
  {
   "cell_type": "code",
   "execution_count": 28,
   "metadata": {},
   "outputs": [
    {
     "output_type": "stream",
     "name": "stdout",
     "text": "0.8491800801091897\n{'C': 33.33333333333333, 'solver': 'lbfgs'}\n"
    }
   ],
   "source": [
    "print(results_gscv.mean())\n",
    "print(grid_search.best_params_)"
   ]
  },
  {
   "cell_type": "code",
   "execution_count": 29,
   "metadata": {},
   "outputs": [],
   "source": [
    "# Cautare hiperparametrii optimi -RandomSearch\n",
    "randomized_search = RandomizedSearchCV(estimator = LogisticRegression(), param_distributions=parameter_grid, random_state=0,  scoring='accuracy', cv=4 )\n",
    "randomized_search.fit(X_train, y_train)\n",
    "results_rscv = cross_val_score(randomized_search, X_test, y_test, cv=5)"
   ]
  },
  {
   "cell_type": "code",
   "execution_count": 30,
   "metadata": {},
   "outputs": [
    {
     "output_type": "stream",
     "name": "stdout",
     "text": "0.8496407822426753\n{'solver': 'lbfgs', 'C': 33.33333333333333}\n"
    }
   ],
   "source": [
    "print(results_rscv.mean())\n",
    "print(randomized_search.best_params_)"
   ]
  },
  {
   "cell_type": "markdown",
   "metadata": {},
   "source": [
    "## Model 4: DecisionTreeClassifier"
   ]
  },
  {
   "cell_type": "code",
   "execution_count": 31,
   "metadata": {},
   "outputs": [],
   "source": [
    "# Model\n",
    "\"\"\"\n",
    "\"\"\"\n",
    "model4 = DecisionTreeClassifier(max_depth=2)\n",
    "model4.fit(X_train, y_train)\n",
    "y_hat = model4.predict(X_test)"
   ]
  },
  {
   "cell_type": "code",
   "execution_count": 32,
   "metadata": {},
   "outputs": [
    {
     "output_type": "stream",
     "name": "stdout",
     "text": "Predicted:\n[0 0 0 ... 0 1 0]\n\nGround truth:\n[0 0 0 ... 0 1 0]\n\nFailed:\t1873\n"
    }
   ],
   "source": [
    "print(f'Predicted:\\n{y_hat}\\n')\n",
    "print(f'Ground truth:\\n{np.array(y_test.iloc[:, 0])}\\n')\n",
    "print(f'Failed:\\t{sum(y_hat != np.array(y_test.iloc[:, 0]))}')"
   ]
  },
  {
   "cell_type": "code",
   "execution_count": 39,
   "metadata": {},
   "outputs": [
    {
     "output_type": "execute_result",
     "data": {
      "text/plain": "{'fit_time': array([0.13376975, 0.09326601, 0.09429097, 0.09075236, 0.08576965]),\n 'score_time': array([0.00797796, 0.0080111 , 0.01196861, 0.00598407, 0.00598478]),\n 'test_accuracy': array([0.82158759, 0.82693489, 0.82923833, 0.8343059 , 0.82908477]),\n 'train_accuracy': array([0.82989097, 0.82855388, 0.82797804, 0.8267112 , 0.82801643]),\n 'test_f1': array([0.53594249, 0.55647383, 0.56082148, 0.57063271, 0.56025286]),\n 'train_f1': array([0.56202432, 0.55694444, 0.55585291, 0.55342303, 0.55599604])}"
     },
     "metadata": {},
     "execution_count": 39
    }
   ],
   "source": [
    "# Cross Validation\n",
    "results_train = cross_validate(model4, X, y, scoring=['accuracy','f1'], return_train_score=True)\n",
    "results_train"
   ]
  },
  {
   "cell_type": "code",
   "execution_count": 34,
   "metadata": {},
   "outputs": [],
   "source": [
    "# Cautare hiperparametrii optimi - GridSearch\n",
    "parameter_grid = {'max_depth': list(range(1,5)),\n",
    "'min_samples_split': np.linspace(1,3,5),\n",
    "'min_samples_leaf': np.linspace(0.1,0.5,5),\n",
    "'max_features': ['sqrt', 'log2', None]}\n",
    "grid_search = GridSearchCV(estimator = DecisionTreeClassifier(), param_grid=parameter_grid, scoring='accuracy', cv=4, return_train_score=True)\n",
    "grid_search.fit(X_train, y_train)\n",
    "results_gscv = cross_val_score(grid_search, X_test, y_test, scoring='accuracy')"
   ]
  },
  {
   "cell_type": "code",
   "execution_count": 35,
   "metadata": {},
   "outputs": [
    {
     "output_type": "stream",
     "name": "stdout",
     "text": "0.7576930081701184\n{'max_depth': 1, 'max_features': 'sqrt', 'min_samples_leaf': 0.1, 'min_samples_split': 1.0}\n"
    }
   ],
   "source": [
    "print(results_gscv.mean())\n",
    "print(grid_search.best_params_)"
   ]
  },
  {
   "cell_type": "code",
   "execution_count": 36,
   "metadata": {},
   "outputs": [],
   "source": [
    "# Cautare hiperparametrii optimi -RandomSearch\n",
    "randomized_search = RandomizedSearchCV(estimator = DecisionTreeClassifier(), param_distributions=parameter_grid, random_state=0,  scoring='accuracy', cv=4 )\n",
    "randomized_search.fit(X_train, y_train)\n",
    "results_rscv = cross_val_score(randomized_search, X_test, y_test, cv=5)"
   ]
  },
  {
   "cell_type": "code",
   "execution_count": 37,
   "metadata": {},
   "outputs": [
    {
     "output_type": "stream",
     "name": "stdout",
     "text": "0.7576930081701184\n{'min_samples_split': 1.0, 'min_samples_leaf': 0.2, 'max_features': 'sqrt', 'max_depth': 4}\n"
    }
   ],
   "source": [
    "print(results_rscv.mean())\n",
    "print(randomized_search.best_params_)"
   ]
  },
  {
   "cell_type": "markdown",
   "metadata": {},
   "source": [
    "## Model 5: SVC (Support Vector Classification)"
   ]
  },
  {
   "cell_type": "code",
   "execution_count": 38,
   "metadata": {},
   "outputs": [],
   "source": [
    "# Model\n",
    "\"\"\"\n",
    "\"\"\"\n",
    "model5 = SVC(C=2, gamma='auto')\n",
    "model5.fit(X_train, y_train)\n",
    "y_hat = model5.predict(X_test)"
   ]
  },
  {
   "cell_type": "code",
   "execution_count": 46,
   "metadata": {},
   "outputs": [
    {
     "output_type": "stream",
     "name": "stdout",
     "text": "Predicted:\n[0 0 0 ... 0 1 0]\n\nGround truth:\n[0 0 0 ... 0 1 0]\n\nFailed:\t1801\n"
    }
   ],
   "source": [
    "print(f'Predicted:\\n{y_hat}\\n')\n",
    "print(f'Ground truth:\\n{np.array(y_test.iloc[:, 0])}\\n')\n",
    "print(f'Failed:\\t{sum(y_hat != np.array(y_test.iloc[:, 0]))}')"
   ]
  },
  {
   "cell_type": "code",
   "execution_count": 47,
   "metadata": {},
   "outputs": [
    {
     "output_type": "execute_result",
     "data": {
      "text/plain": "{'fit_time': array([0.10173011, 0.08273077, 0.07682872, 0.07684517, 0.0738039 ]),\n 'score_time': array([0.0079782 , 0.00598502, 0.00697732, 0.00553966, 0.00603247]),\n 'test_accuracy': array([0.82158759, 0.82693489, 0.82923833, 0.8343059 , 0.82908477]),\n 'train_accuracy': array([0.82989097, 0.82855388, 0.82797804, 0.8267112 , 0.82801643]),\n 'test_f1': array([0.53594249, 0.55647383, 0.56082148, 0.57063271, 0.56025286]),\n 'train_f1': array([0.56202432, 0.55694444, 0.55585291, 0.55342303, 0.55599604])}"
     },
     "metadata": {},
     "execution_count": 47
    }
   ],
   "source": [
    "# Cross Validation\n",
    "results_train = cross_validate(model4, X, y, scoring=['accuracy','f1'], return_train_score=True)\n",
    "results_train"
   ]
  },
  {
   "cell_type": "code",
   "execution_count": 42,
   "metadata": {},
   "outputs": [
    {
     "output_type": "error",
     "ename": "NameError",
     "evalue": "name 'y1_train' is not defined",
     "traceback": [
      "\u001b[1;31m---------------------------------------------------------------------------\u001b[0m",
      "\u001b[1;31mNameError\u001b[0m                                 Traceback (most recent call last)",
      "\u001b[1;32m<ipython-input-42-0303c333575b>\u001b[0m in \u001b[0;36m<module>\u001b[1;34m\u001b[0m\n\u001b[0;32m      4\u001b[0m 'gamma': ['scale', 'auto']}\n\u001b[0;32m      5\u001b[0m \u001b[0mgrid_search\u001b[0m \u001b[1;33m=\u001b[0m \u001b[0mGridSearchCV\u001b[0m\u001b[1;33m(\u001b[0m\u001b[0mestimator\u001b[0m \u001b[1;33m=\u001b[0m \u001b[0mSVC\u001b[0m\u001b[1;33m(\u001b[0m\u001b[1;33m)\u001b[0m\u001b[1;33m,\u001b[0m \u001b[0mparam_grid\u001b[0m\u001b[1;33m=\u001b[0m\u001b[0mparameter_grid\u001b[0m\u001b[1;33m,\u001b[0m \u001b[0mscoring\u001b[0m\u001b[1;33m=\u001b[0m\u001b[1;34m'accuracy'\u001b[0m\u001b[1;33m,\u001b[0m \u001b[0mcv\u001b[0m\u001b[1;33m=\u001b[0m\u001b[1;36m4\u001b[0m\u001b[1;33m,\u001b[0m \u001b[0mreturn_train_score\u001b[0m\u001b[1;33m=\u001b[0m\u001b[1;32mTrue\u001b[0m\u001b[1;33m)\u001b[0m\u001b[1;33m\u001b[0m\u001b[1;33m\u001b[0m\u001b[0m\n\u001b[1;32m----> 6\u001b[1;33m \u001b[0mgrid_search\u001b[0m\u001b[1;33m.\u001b[0m\u001b[0mfit\u001b[0m\u001b[1;33m(\u001b[0m\u001b[0mX_train\u001b[0m\u001b[1;33m,\u001b[0m \u001b[0my1_train\u001b[0m\u001b[1;33m)\u001b[0m\u001b[1;33m\u001b[0m\u001b[1;33m\u001b[0m\u001b[0m\n\u001b[0m\u001b[0;32m      7\u001b[0m \u001b[0mresults_gscv\u001b[0m \u001b[1;33m=\u001b[0m \u001b[0mcross_val_score\u001b[0m\u001b[1;33m(\u001b[0m\u001b[0mgrid_search\u001b[0m\u001b[1;33m,\u001b[0m \u001b[0mX_test\u001b[0m\u001b[1;33m,\u001b[0m \u001b[0my1_test\u001b[0m\u001b[1;33m,\u001b[0m \u001b[0mscoring\u001b[0m\u001b[1;33m=\u001b[0m\u001b[1;34m'accuracy'\u001b[0m\u001b[1;33m)\u001b[0m\u001b[1;33m\u001b[0m\u001b[1;33m\u001b[0m\u001b[0m\n",
      "\u001b[1;31mNameError\u001b[0m: name 'y1_train' is not defined"
     ]
    }
   ],
   "source": [
    "# Cautare hiperparametrii optimi - GridSearch\n",
    "parameter_grid = {'C': np.linspace(0,1,5),\n",
    "'kernel': ['linear', 'poly', 'rbf', 'sigmoid'],\n",
    "'gamma': ['scale', 'auto']}\n",
    "grid_search = GridSearchCV(estimator = SVC(), param_grid=parameter_grid, scoring='accuracy', cv=4, return_train_score=True)\n",
    "grid_search.fit(X_train, y_train)\n",
    "results_gscv = cross_val_score(grid_search, X_test, y_test, scoring='accuracy')"
   ]
  },
  {
   "cell_type": "code",
   "execution_count": 43,
   "metadata": {},
   "outputs": [
    {
     "output_type": "stream",
     "name": "stdout",
     "text": "0.7576930081701184\n"
    },
    {
     "output_type": "error",
     "ename": "AttributeError",
     "evalue": "'GridSearchCV' object has no attribute 'best_params_'",
     "traceback": [
      "\u001b[1;31m---------------------------------------------------------------------------\u001b[0m",
      "\u001b[1;31mAttributeError\u001b[0m                            Traceback (most recent call last)",
      "\u001b[1;32m<ipython-input-43-92ddcd3d7ae0>\u001b[0m in \u001b[0;36m<module>\u001b[1;34m\u001b[0m\n\u001b[0;32m      1\u001b[0m \u001b[0mprint\u001b[0m\u001b[1;33m(\u001b[0m\u001b[0mresults_gscv\u001b[0m\u001b[1;33m.\u001b[0m\u001b[0mmean\u001b[0m\u001b[1;33m(\u001b[0m\u001b[1;33m)\u001b[0m\u001b[1;33m)\u001b[0m\u001b[1;33m\u001b[0m\u001b[1;33m\u001b[0m\u001b[0m\n\u001b[1;32m----> 2\u001b[1;33m \u001b[0mprint\u001b[0m\u001b[1;33m(\u001b[0m\u001b[0mgrid_search\u001b[0m\u001b[1;33m.\u001b[0m\u001b[0mbest_params_\u001b[0m\u001b[1;33m)\u001b[0m\u001b[1;33m\u001b[0m\u001b[1;33m\u001b[0m\u001b[0m\n\u001b[0m",
      "\u001b[1;31mAttributeError\u001b[0m: 'GridSearchCV' object has no attribute 'best_params_'"
     ]
    }
   ],
   "source": [
    "print(results_gscv.mean())\n",
    "print(grid_search.best_params_)"
   ]
  },
  {
   "cell_type": "code",
   "execution_count": 44,
   "metadata": {},
   "outputs": [],
   "source": [
    "# Cautare hiperparametrii optimi -RandomSearch\n",
    "randomized_search = RandomizedSearchCV(estimator = SVC(), param_distributions=parameter_grid, random_state=0,  scoring='accuracy', cv=4 )\n",
    "randomized_search.fit(X_train, y_train)\n",
    "results_rscv = cross_val_score(randomized_search, X_test, y_test, cv=5)"
   ]
  },
  {
   "cell_type": "code",
   "execution_count": 45,
   "metadata": {},
   "outputs": [
    {
     "output_type": "stream",
     "name": "stdout",
     "text": "0.846876399628959\n{'kernel': 'linear', 'gamma': 'auto', 'C': 0.75}\n"
    }
   ],
   "source": [
    "print(results_rscv.mean())\n",
    "print(randomized_search.best_params_)"
   ]
  }
 ]
}