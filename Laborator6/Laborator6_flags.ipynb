{
 "cells": [
  {
   "cell_type": "markdown",
   "metadata": {},
   "source": [
    "## Nume studenti:\n",
    "- Alexandra Manole\n",
    "- Teodor Mihaescu\n",
    "\n",
    "## Grupa: 382"
   ]
  },
  {
   "cell_type": "markdown",
   "metadata": {},
   "source": [
    "# Data Set 3: Flags\n",
    "### (Missing values: no)"
   ]
  },
  {
   "cell_type": "code",
   "execution_count": 1,
   "metadata": {},
   "outputs": [],
   "source": [
    "from collections import Counter\n",
    "import matplotlib.pyplot as plt\n",
    "import pandas as pd\n",
    "import numpy as np\n",
    "\n",
    "from sklearn.experimental import enable_iterative_imputer  \n",
    "from sklearn.impute import IterativeImputer, SimpleImputer\n",
    "from sklearn.model_selection import train_test_split\n",
    "from sklearn.linear_model import LinearRegression, LogisticRegression\n",
    "from sklearn.neighbors import KNeighborsClassifier\n",
    "from sklearn.tree import DecisionTreeClassifier\n",
    "from sklearn.ensemble import RandomForestClassifier\n",
    "from sklearn.neural_network import MLPClassifier\n",
    "from sklearn.svm import SVC\n",
    "from sklearn import metrics\n",
    "from sklearn import preprocessing\n",
    "from sklearn.model_selection import cross_validate, cross_val_score, GridSearchCV"
   ]
  },
  {
   "cell_type": "code",
   "execution_count": 2,
   "metadata": {},
   "outputs": [
    {
     "output_type": "execute_result",
     "data": {
      "text/plain": "               Name  Landmass  Zone  Area  Population  Language  Religion  \\\n0       Afghanistan         5     1   648          16        10         2   \n1           Albania         3     1    29           3         6         6   \n2           Algeria         4     1  2388          20         8         2   \n3    American-Samoa         6     3     0           0         1         1   \n4           Andorra         3     1     0           0         6         0   \n..              ...       ...   ...   ...         ...       ...       ...   \n189   Western-Samoa         6     3     3           0         1         1   \n190      Yugoslavia         3     1   256          22         6         6   \n191           Zaire         4     2   905          28        10         5   \n192          Zambia         4     2   753           6        10         5   \n193        Zimbabwe         4     2   391           8        10         5   \n\n     Bars  Stripes  Colours  ...  Saltires  Quarters  Sunstars  Crescent  \\\n0       0        3        5  ...         0         0         1         0   \n1       0        0        3  ...         0         0         1         0   \n2       2        0        3  ...         0         0         1         1   \n3       0        0        5  ...         0         0         0         0   \n4       3        0        3  ...         0         0         0         0   \n..    ...      ...      ...  ...       ...       ...       ...       ...   \n189     0        0        3  ...         0         1         5         0   \n190     0        3        4  ...         0         0         1         0   \n191     0        0        4  ...         0         0         0         0   \n192     3        0        4  ...         0         0         0         0   \n193     0        7        5  ...         0         0         1         0   \n\n     Triangle  Icon  Animate Text  Topleft  Botright  \n0           0     1        0    0    black     green  \n1           0     0        1    0      red       red  \n2           0     0        0    0    green     white  \n3           1     1        1    0     blue       red  \n4           0     0        0    0     blue       red  \n..        ...   ...      ...  ...      ...       ...  \n189         0     0        0    0     blue       red  \n190         0     0        0    0     blue       red  \n191         0     1        1    0    green     green  \n192         0     0        1    0    green     brown  \n193         1     1        1    0    green     green  \n\n[194 rows x 30 columns]",
      "text/html": "<div>\n<style scoped>\n    .dataframe tbody tr th:only-of-type {\n        vertical-align: middle;\n    }\n\n    .dataframe tbody tr th {\n        vertical-align: top;\n    }\n\n    .dataframe thead th {\n        text-align: right;\n    }\n</style>\n<table border=\"1\" class=\"dataframe\">\n  <thead>\n    <tr style=\"text-align: right;\">\n      <th></th>\n      <th>Name</th>\n      <th>Landmass</th>\n      <th>Zone</th>\n      <th>Area</th>\n      <th>Population</th>\n      <th>Language</th>\n      <th>Religion</th>\n      <th>Bars</th>\n      <th>Stripes</th>\n      <th>Colours</th>\n      <th>...</th>\n      <th>Saltires</th>\n      <th>Quarters</th>\n      <th>Sunstars</th>\n      <th>Crescent</th>\n      <th>Triangle</th>\n      <th>Icon</th>\n      <th>Animate</th>\n      <th>Text</th>\n      <th>Topleft</th>\n      <th>Botright</th>\n    </tr>\n  </thead>\n  <tbody>\n    <tr>\n      <th>0</th>\n      <td>Afghanistan</td>\n      <td>5</td>\n      <td>1</td>\n      <td>648</td>\n      <td>16</td>\n      <td>10</td>\n      <td>2</td>\n      <td>0</td>\n      <td>3</td>\n      <td>5</td>\n      <td>...</td>\n      <td>0</td>\n      <td>0</td>\n      <td>1</td>\n      <td>0</td>\n      <td>0</td>\n      <td>1</td>\n      <td>0</td>\n      <td>0</td>\n      <td>black</td>\n      <td>green</td>\n    </tr>\n    <tr>\n      <th>1</th>\n      <td>Albania</td>\n      <td>3</td>\n      <td>1</td>\n      <td>29</td>\n      <td>3</td>\n      <td>6</td>\n      <td>6</td>\n      <td>0</td>\n      <td>0</td>\n      <td>3</td>\n      <td>...</td>\n      <td>0</td>\n      <td>0</td>\n      <td>1</td>\n      <td>0</td>\n      <td>0</td>\n      <td>0</td>\n      <td>1</td>\n      <td>0</td>\n      <td>red</td>\n      <td>red</td>\n    </tr>\n    <tr>\n      <th>2</th>\n      <td>Algeria</td>\n      <td>4</td>\n      <td>1</td>\n      <td>2388</td>\n      <td>20</td>\n      <td>8</td>\n      <td>2</td>\n      <td>2</td>\n      <td>0</td>\n      <td>3</td>\n      <td>...</td>\n      <td>0</td>\n      <td>0</td>\n      <td>1</td>\n      <td>1</td>\n      <td>0</td>\n      <td>0</td>\n      <td>0</td>\n      <td>0</td>\n      <td>green</td>\n      <td>white</td>\n    </tr>\n    <tr>\n      <th>3</th>\n      <td>American-Samoa</td>\n      <td>6</td>\n      <td>3</td>\n      <td>0</td>\n      <td>0</td>\n      <td>1</td>\n      <td>1</td>\n      <td>0</td>\n      <td>0</td>\n      <td>5</td>\n      <td>...</td>\n      <td>0</td>\n      <td>0</td>\n      <td>0</td>\n      <td>0</td>\n      <td>1</td>\n      <td>1</td>\n      <td>1</td>\n      <td>0</td>\n      <td>blue</td>\n      <td>red</td>\n    </tr>\n    <tr>\n      <th>4</th>\n      <td>Andorra</td>\n      <td>3</td>\n      <td>1</td>\n      <td>0</td>\n      <td>0</td>\n      <td>6</td>\n      <td>0</td>\n      <td>3</td>\n      <td>0</td>\n      <td>3</td>\n      <td>...</td>\n      <td>0</td>\n      <td>0</td>\n      <td>0</td>\n      <td>0</td>\n      <td>0</td>\n      <td>0</td>\n      <td>0</td>\n      <td>0</td>\n      <td>blue</td>\n      <td>red</td>\n    </tr>\n    <tr>\n      <th>...</th>\n      <td>...</td>\n      <td>...</td>\n      <td>...</td>\n      <td>...</td>\n      <td>...</td>\n      <td>...</td>\n      <td>...</td>\n      <td>...</td>\n      <td>...</td>\n      <td>...</td>\n      <td>...</td>\n      <td>...</td>\n      <td>...</td>\n      <td>...</td>\n      <td>...</td>\n      <td>...</td>\n      <td>...</td>\n      <td>...</td>\n      <td>...</td>\n      <td>...</td>\n      <td>...</td>\n    </tr>\n    <tr>\n      <th>189</th>\n      <td>Western-Samoa</td>\n      <td>6</td>\n      <td>3</td>\n      <td>3</td>\n      <td>0</td>\n      <td>1</td>\n      <td>1</td>\n      <td>0</td>\n      <td>0</td>\n      <td>3</td>\n      <td>...</td>\n      <td>0</td>\n      <td>1</td>\n      <td>5</td>\n      <td>0</td>\n      <td>0</td>\n      <td>0</td>\n      <td>0</td>\n      <td>0</td>\n      <td>blue</td>\n      <td>red</td>\n    </tr>\n    <tr>\n      <th>190</th>\n      <td>Yugoslavia</td>\n      <td>3</td>\n      <td>1</td>\n      <td>256</td>\n      <td>22</td>\n      <td>6</td>\n      <td>6</td>\n      <td>0</td>\n      <td>3</td>\n      <td>4</td>\n      <td>...</td>\n      <td>0</td>\n      <td>0</td>\n      <td>1</td>\n      <td>0</td>\n      <td>0</td>\n      <td>0</td>\n      <td>0</td>\n      <td>0</td>\n      <td>blue</td>\n      <td>red</td>\n    </tr>\n    <tr>\n      <th>191</th>\n      <td>Zaire</td>\n      <td>4</td>\n      <td>2</td>\n      <td>905</td>\n      <td>28</td>\n      <td>10</td>\n      <td>5</td>\n      <td>0</td>\n      <td>0</td>\n      <td>4</td>\n      <td>...</td>\n      <td>0</td>\n      <td>0</td>\n      <td>0</td>\n      <td>0</td>\n      <td>0</td>\n      <td>1</td>\n      <td>1</td>\n      <td>0</td>\n      <td>green</td>\n      <td>green</td>\n    </tr>\n    <tr>\n      <th>192</th>\n      <td>Zambia</td>\n      <td>4</td>\n      <td>2</td>\n      <td>753</td>\n      <td>6</td>\n      <td>10</td>\n      <td>5</td>\n      <td>3</td>\n      <td>0</td>\n      <td>4</td>\n      <td>...</td>\n      <td>0</td>\n      <td>0</td>\n      <td>0</td>\n      <td>0</td>\n      <td>0</td>\n      <td>0</td>\n      <td>1</td>\n      <td>0</td>\n      <td>green</td>\n      <td>brown</td>\n    </tr>\n    <tr>\n      <th>193</th>\n      <td>Zimbabwe</td>\n      <td>4</td>\n      <td>2</td>\n      <td>391</td>\n      <td>8</td>\n      <td>10</td>\n      <td>5</td>\n      <td>0</td>\n      <td>7</td>\n      <td>5</td>\n      <td>...</td>\n      <td>0</td>\n      <td>0</td>\n      <td>1</td>\n      <td>0</td>\n      <td>1</td>\n      <td>1</td>\n      <td>1</td>\n      <td>0</td>\n      <td>green</td>\n      <td>green</td>\n    </tr>\n  </tbody>\n</table>\n<p>194 rows × 30 columns</p>\n</div>"
     },
     "metadata": {},
     "execution_count": 2
    }
   ],
   "source": [
    "# Citeste datele\n",
    "data = pd.read_csv('./Datasets/flag.csv')\n",
    "data"
   ]
  },
  {
   "cell_type": "code",
   "execution_count": 3,
   "metadata": {},
   "outputs": [
    {
     "output_type": "execute_result",
     "data": {
      "text/plain": "                Area  Population  Colours  Red  Green  Blue  Gold  White  \\\nName                                                                       \nAfghanistan      648          16        5    1      1     0     1      1   \nAlbania           29           3        3    1      0     0     1      0   \nAlgeria         2388          20        3    1      1     0     0      1   \nAmerican-Samoa     0           0        5    1      0     1     1      1   \nAndorra            0           0        3    1      0     1     1      0   \n...              ...         ...      ...  ...    ...   ...   ...    ...   \nWestern-Samoa      3           0        3    1      0     1     0      1   \nYugoslavia       256          22        4    1      0     1     1      1   \nZaire            905          28        4    1      1     0     1      0   \nZambia           753           6        4    1      1     0     0      0   \nZimbabwe         391           8        5    1      1     0     1      1   \n\n                Black  Orange  \nName                           \nAfghanistan         1       0  \nAlbania             1       0  \nAlgeria             0       0  \nAmerican-Samoa      0       1  \nAndorra             0       0  \n...               ...     ...  \nWestern-Samoa       0       0  \nYugoslavia          0       0  \nZaire               0       1  \nZambia              1       1  \nZimbabwe            1       0  \n\n[194 rows x 10 columns]",
      "text/html": "<div>\n<style scoped>\n    .dataframe tbody tr th:only-of-type {\n        vertical-align: middle;\n    }\n\n    .dataframe tbody tr th {\n        vertical-align: top;\n    }\n\n    .dataframe thead th {\n        text-align: right;\n    }\n</style>\n<table border=\"1\" class=\"dataframe\">\n  <thead>\n    <tr style=\"text-align: right;\">\n      <th></th>\n      <th>Area</th>\n      <th>Population</th>\n      <th>Colours</th>\n      <th>Red</th>\n      <th>Green</th>\n      <th>Blue</th>\n      <th>Gold</th>\n      <th>White</th>\n      <th>Black</th>\n      <th>Orange</th>\n    </tr>\n    <tr>\n      <th>Name</th>\n      <th></th>\n      <th></th>\n      <th></th>\n      <th></th>\n      <th></th>\n      <th></th>\n      <th></th>\n      <th></th>\n      <th></th>\n      <th></th>\n    </tr>\n  </thead>\n  <tbody>\n    <tr>\n      <th>Afghanistan</th>\n      <td>648</td>\n      <td>16</td>\n      <td>5</td>\n      <td>1</td>\n      <td>1</td>\n      <td>0</td>\n      <td>1</td>\n      <td>1</td>\n      <td>1</td>\n      <td>0</td>\n    </tr>\n    <tr>\n      <th>Albania</th>\n      <td>29</td>\n      <td>3</td>\n      <td>3</td>\n      <td>1</td>\n      <td>0</td>\n      <td>0</td>\n      <td>1</td>\n      <td>0</td>\n      <td>1</td>\n      <td>0</td>\n    </tr>\n    <tr>\n      <th>Algeria</th>\n      <td>2388</td>\n      <td>20</td>\n      <td>3</td>\n      <td>1</td>\n      <td>1</td>\n      <td>0</td>\n      <td>0</td>\n      <td>1</td>\n      <td>0</td>\n      <td>0</td>\n    </tr>\n    <tr>\n      <th>American-Samoa</th>\n      <td>0</td>\n      <td>0</td>\n      <td>5</td>\n      <td>1</td>\n      <td>0</td>\n      <td>1</td>\n      <td>1</td>\n      <td>1</td>\n      <td>0</td>\n      <td>1</td>\n    </tr>\n    <tr>\n      <th>Andorra</th>\n      <td>0</td>\n      <td>0</td>\n      <td>3</td>\n      <td>1</td>\n      <td>0</td>\n      <td>1</td>\n      <td>1</td>\n      <td>0</td>\n      <td>0</td>\n      <td>0</td>\n    </tr>\n    <tr>\n      <th>...</th>\n      <td>...</td>\n      <td>...</td>\n      <td>...</td>\n      <td>...</td>\n      <td>...</td>\n      <td>...</td>\n      <td>...</td>\n      <td>...</td>\n      <td>...</td>\n      <td>...</td>\n    </tr>\n    <tr>\n      <th>Western-Samoa</th>\n      <td>3</td>\n      <td>0</td>\n      <td>3</td>\n      <td>1</td>\n      <td>0</td>\n      <td>1</td>\n      <td>0</td>\n      <td>1</td>\n      <td>0</td>\n      <td>0</td>\n    </tr>\n    <tr>\n      <th>Yugoslavia</th>\n      <td>256</td>\n      <td>22</td>\n      <td>4</td>\n      <td>1</td>\n      <td>0</td>\n      <td>1</td>\n      <td>1</td>\n      <td>1</td>\n      <td>0</td>\n      <td>0</td>\n    </tr>\n    <tr>\n      <th>Zaire</th>\n      <td>905</td>\n      <td>28</td>\n      <td>4</td>\n      <td>1</td>\n      <td>1</td>\n      <td>0</td>\n      <td>1</td>\n      <td>0</td>\n      <td>0</td>\n      <td>1</td>\n    </tr>\n    <tr>\n      <th>Zambia</th>\n      <td>753</td>\n      <td>6</td>\n      <td>4</td>\n      <td>1</td>\n      <td>1</td>\n      <td>0</td>\n      <td>0</td>\n      <td>0</td>\n      <td>1</td>\n      <td>1</td>\n    </tr>\n    <tr>\n      <th>Zimbabwe</th>\n      <td>391</td>\n      <td>8</td>\n      <td>5</td>\n      <td>1</td>\n      <td>1</td>\n      <td>0</td>\n      <td>1</td>\n      <td>1</td>\n      <td>1</td>\n      <td>0</td>\n    </tr>\n  </tbody>\n</table>\n<p>194 rows × 10 columns</p>\n</div>"
     },
     "metadata": {},
     "execution_count": 3
    }
   ],
   "source": [
    "# Pregateste datele\n",
    "X = pd.concat([data[['Area', 'Population', 'Colours']], data.loc[:, 'Red':'Orange']], axis=1)\n",
    "y = data[['Religion']]\n",
    "\n",
    "X.index = data['Name']\n",
    "y.index = data['Name']\n",
    "\n",
    "X"
   ]
  },
  {
   "cell_type": "code",
   "execution_count": 4,
   "metadata": {},
   "outputs": [],
   "source": [
    "# Scaleaza datele\n",
    "X_columns = X.columns\n",
    "X_index = X.index\n",
    "\n",
    "min_max_scaler = preprocessing.MinMaxScaler()\n",
    "X = pd.DataFrame(min_max_scaler.fit_transform(X), columns=X_columns, index=X_index)"
   ]
  },
  {
   "cell_type": "code",
   "execution_count": 5,
   "metadata": {},
   "outputs": [],
   "source": [
    "# Separarea setului de date\n",
    "X_train, X_test, y_train, y_test = train_test_split(X, y, test_size=1/3, shuffle=True)"
   ]
  },
  {
   "cell_type": "code",
   "execution_count": 6,
   "metadata": {},
   "outputs": [
    {
     "output_type": "stream",
     "name": "stdout",
     "text": "Counter({1: 39, 0: 26, 2: 24, 5: 21, 6: 9, 3: 5, 7: 3, 4: 2})\nCounter({1: 21, 0: 14, 2: 12, 6: 6, 5: 6, 3: 3, 4: 2, 7: 1})\n"
    }
   ],
   "source": [
    "# Verifica daca sunt egal distribuite\n",
    "print(Counter(y_train.iloc[:,0]))\n",
    "print(Counter(y_test.iloc[:,0]))"
   ]
  },
  {
   "cell_type": "markdown",
   "metadata": {},
   "source": [
    "## Model 1: KNeighborsClassifier"
   ]
  },
  {
   "cell_type": "code",
   "execution_count": 7,
   "metadata": {},
   "outputs": [],
   "source": [
    "# Model\n",
    "\"\"\"\n",
    "\"\"\"\n",
    "model1 = KNeighborsClassifier(n_neighbors=5)\n",
    "model1.fit(X_train, y_train)\n",
    "y_hat = model1.predict(X_test)"
   ]
  },
  {
   "cell_type": "code",
   "execution_count": 8,
   "metadata": {},
   "outputs": [
    {
     "output_type": "stream",
     "name": "stdout",
     "text": "Predicted:\n[0 1 1 6 1 0 0 0 1 0 1 0 2 1 2 0 0 1 0 5 5 5 1 1 1 1 1 1 0 2 0 2 1 0 0 2 2\n 1 1 1 1 0 0 2 0 0 2 0 0 0 0 0 0 0 1 0 2 5 0 1 1 2 2 0 2]\n\nGround truth:\n[6 7 0 0 0 5 0 1 0 6 2 1 2 2 2 0 1 5 1 5 5 4 6 1 1 1 6 5 1 5 0 2 6 3 0 1 2\n 1 1 1 1 6 0 3 1 1 0 3 1 1 1 2 4 2 0 0 2 1 0 2 1 0 2 1 2]\n\nFailed:\t41\n"
    }
   ],
   "source": [
    "print(f'Predicted:\\n{y_hat}\\n')\n",
    "print(f'Ground truth:\\n{np.array(y_test.iloc[:, 0])}\\n')\n",
    "print(f'Failed:\\t{sum(y_hat != np.array(y_test.iloc[:, 0]))}')"
   ]
  },
  {
   "cell_type": "code",
   "execution_count": 9,
   "metadata": {},
   "outputs": [],
   "source": [
    "# Custom scoreers for multiclass output\n",
    "f1_scorer = metrics.make_scorer(metrics.f1_score, greater_is_better=False, average='micro')\n",
    "accuracy_scorer = metrics.make_scorer(metrics.accuracy_score, greater_is_better=True)"
   ]
  },
  {
   "cell_type": "code",
   "execution_count": 10,
   "metadata": {},
   "outputs": [
    {
     "output_type": "execute_result",
     "data": {
      "text/plain": "{'fit_time': array([0.00698137, 0.00698185, 0.00399065, 0.0059731 , 0.00398946]),\n 'score_time': array([0.00698209, 0.00797176, 0.00700307, 0.0079782 , 0.00798678]),\n 'test_accuracy': array([0.41025641, 0.43589744, 0.35897436, 0.35897436, 0.31578947]),\n 'train_accuracy': array([0.59354839, 0.56774194, 0.56129032, 0.52903226, 0.55128205]),\n 'test_f1': array([-0.41025641, -0.43589744, -0.35897436, -0.35897436, -0.31578947]),\n 'train_f1': array([-0.59354839, -0.56774194, -0.56129032, -0.52903226, -0.55128205])}"
     },
     "metadata": {},
     "execution_count": 10
    }
   ],
   "source": [
    "# Cross Validation\n",
    "results_train = cross_validate(model1, X, y,\n",
    "scoring={'accuracy':accuracy_scorer, 'f1':f1_scorer},\n",
    "return_train_score=True)\n",
    "results_train"
   ]
  },
  {
   "cell_type": "code",
   "execution_count": 11,
   "metadata": {},
   "outputs": [],
   "source": [
    "# Cautare hiperparametrii optimi - GridSearch\n",
    "parameter_grid = {'n_neighbors': list(range(1, 20)), 'p': [1, 2, 3]}\n",
    "grid_search = GridSearchCV(estimator = KNeighborsClassifier(), param_grid=parameter_grid, scoring='accuracy', cv=4, return_train_score=True)\n",
    "grid_search.fit(X_train, y_train)\n",
    "results_gscv = cross_val_score(grid_search, X_test, y_test, scoring='accuracy')"
   ]
  },
  {
   "cell_type": "code",
   "execution_count": 12,
   "metadata": {},
   "outputs": [
    {
     "output_type": "stream",
     "name": "stdout",
     "text": "0.3538461538461538\n{'n_neighbors': 18, 'p': 1}\n"
    }
   ],
   "source": [
    "print(results_gscv.mean())\n",
    "print(grid_search.best_params_)"
   ]
  },
  {
   "cell_type": "markdown",
   "metadata": {},
   "source": [
    "## Model 2: MLP"
   ]
  },
  {
   "cell_type": "code",
   "execution_count": 13,
   "metadata": {},
   "outputs": [],
   "source": [
    "# Model\n",
    "\"\"\"\n",
    "Folosim modelul MLP deoarece este o problema de clasificare ce consta in determinarea clasei(religiei) unei tari. O astfel de retea multistrat presupune un strat de intrare care preia valorile initiale, cel putin un strat ascuns, si acel strat de iesire care produce estimari de valori.\n",
    "\"\"\"\n",
    "model2 = MLPClassifier(activation='logistic', learning_rate='adaptive')\n",
    "model2.fit(X_train, y_train)\n",
    "y_hat = model2.predict(X_test)"
   ]
  },
  {
   "cell_type": "code",
   "execution_count": 14,
   "metadata": {},
   "outputs": [
    {
     "output_type": "stream",
     "name": "stdout",
     "text": "Predicted:\n[1 1 1 1 1 1 1 1 1 1 1 1 2 1 1 1 1 1 1 1 2 1 0 1 1 1 1 1 1 2 1 2 1 1 1 1 2\n 1 1 1 1 1 1 1 1 1 2 1 1 1 1 1 1 2 1 1 1 5 1 1 1 1 2 1 2]\n\nGround truth:\n[6 7 0 0 0 5 0 1 0 6 2 1 2 2 2 0 1 5 1 5 5 4 6 1 1 1 6 5 1 5 0 2 6 3 0 1 2\n 1 1 1 1 6 0 3 1 1 0 3 1 1 1 2 4 2 0 0 2 1 0 2 1 0 2 1 2]\n\nFailed:\t39\n"
    }
   ],
   "source": [
    "print(f'Predicted:\\n{y_hat}\\n')\n",
    "print(f'Ground truth:\\n{np.array(y_test.iloc[:, 0])}\\n')\n",
    "print(f'Failed:\\t{sum(y_hat != np.array(y_test.iloc[:, 0]))}')"
   ]
  },
  {
   "cell_type": "code",
   "execution_count": 15,
   "metadata": {},
   "outputs": [
    {
     "output_type": "execute_result",
     "data": {
      "text/plain": "{'fit_time': array([0.34677482, 0.27180886, 0.20484447, 0.21569061, 0.20844078]),\n 'score_time': array([0.00402141, 0.00299215, 0.00299168, 0.00299191, 0.00299072]),\n 'test_accuracy': array([0.38461538, 0.41025641, 0.41025641, 0.38461538, 0.28947368]),\n 'train_accuracy': array([0.41935484, 0.40645161, 0.39354839, 0.37419355, 0.42307692]),\n 'test_f1': array([-0.38461538, -0.41025641, -0.41025641, -0.38461538, -0.28947368]),\n 'train_f1': array([-0.41935484, -0.40645161, -0.39354839, -0.37419355, -0.42307692])}"
     },
     "metadata": {},
     "execution_count": 15
    }
   ],
   "source": [
    "# Cross Validation\n",
    "results_train = cross_validate(model2, X, y,\n",
    "scoring={'accuracy':accuracy_scorer, 'f1':f1_scorer},\n",
    "return_train_score=True)\n",
    "results_train"
   ]
  },
  {
   "cell_type": "code",
   "execution_count": 16,
   "metadata": {},
   "outputs": [],
   "source": [
    "# Cautare hiperparametrii optimi - GridSearch\n",
    "parameter_grid = {'activation': ['identity'],\n",
    "'solver': ['sgd'],\n",
    "'learning_rate': ['constant', 'invscaling', 'adaptive'],\n",
    "'learning_rate_init': np.linspace(0, 0.5, 10),\n",
    "'random_state':[0]}\n",
    "grid_search = GridSearchCV(estimator = MLPClassifier(), param_grid=parameter_grid, scoring='accuracy', cv=4, return_train_score=True)\n",
    "grid_search.fit(X_train, y_train)\n",
    "results_gscv = cross_val_score(grid_search, X_test, y_test, scoring='accuracy')"
   ]
  },
  {
   "cell_type": "code",
   "execution_count": 17,
   "metadata": {},
   "outputs": [
    {
     "output_type": "stream",
     "name": "stdout",
     "text": "0.3538461538461538\n{'activation': 'identity', 'learning_rate': 'invscaling', 'learning_rate_init': 0.2222222222222222, 'random_state': 0, 'solver': 'sgd'}\n"
    }
   ],
   "source": [
    "print(results_gscv.mean())\n",
    "print(grid_search.best_params_)"
   ]
  },
  {
   "cell_type": "markdown",
   "metadata": {},
   "source": [
    "## Model 3: LogisticRegression"
   ]
  },
  {
   "cell_type": "code",
   "execution_count": 32,
   "metadata": {},
   "outputs": [],
   "source": [
    "# Model\n",
    "\"\"\"\n",
    "\"\"\"\n",
    "model3 = LogisticRegression(multi_class='multinomial', max_iter=1000)\n",
    "model3.fit(X_train, y_train)\n",
    "y_hat = model3.predict(X_test)"
   ]
  },
  {
   "cell_type": "code",
   "execution_count": 33,
   "metadata": {},
   "outputs": [
    {
     "output_type": "stream",
     "name": "stdout",
     "text": "Predicted:\n[0 1 1 0 1 0 0 0 1 1 5 0 2 5 2 1 1 5 1 5 5 1 6 5 1 0 1 0 1 2 5 2 1 1 0 2 2\n 1 1 1 1 1 1 0 2 0 2 1 0 0 0 2 0 2 5 1 1 5 0 1 1 2 2 0 2]\n\nGround truth:\n[6 7 0 0 0 5 0 1 0 6 2 1 2 2 2 0 1 5 1 5 5 4 6 1 1 1 6 5 1 5 0 2 6 3 0 1 2\n 1 1 1 1 6 0 3 1 1 0 3 1 1 1 2 4 2 0 0 2 1 0 2 1 0 2 1 2]\n\nFailed:\t40\n"
    }
   ],
   "source": [
    "print(f'Predicted:\\n{y_hat}\\n')\n",
    "print(f'Ground truth:\\n{np.array(y_test.iloc[:, 0])}\\n')\n",
    "print(f'Failed:\\t{sum(y_hat != np.array(y_test.iloc[:, 0]))}')"
   ]
  },
  {
   "cell_type": "code",
   "execution_count": 34,
   "metadata": {},
   "outputs": [
    {
     "output_type": "execute_result",
     "data": {
      "text/plain": "{'fit_time': array([0.02991915, 0.0339129 , 0.03690124, 0.02793241, 0.03393054]),\n 'score_time': array([0.00399089, 0.00398755, 0.00399446, 0.00399303, 0.00199437]),\n 'test_accuracy': array([0.38461538, 0.38461538, 0.38461538, 0.43589744, 0.26315789]),\n 'train_accuracy': array([0.46451613, 0.41935484, 0.44516129, 0.4516129 , 0.47435897]),\n 'test_f1': array([-0.38461538, -0.38461538, -0.38461538, -0.43589744, -0.26315789]),\n 'train_f1': array([-0.46451613, -0.41935484, -0.44516129, -0.4516129 , -0.47435897])}"
     },
     "metadata": {},
     "execution_count": 34
    }
   ],
   "source": [
    "# Cross Validation\n",
    "results_train = cross_validate(model3, X, y,\n",
    "scoring={'accuracy':accuracy_scorer, 'f1':f1_scorer},\n",
    "return_train_score=True)\n",
    "results_train"
   ]
  },
  {
   "cell_type": "code",
   "execution_count": 35,
   "metadata": {},
   "outputs": [],
   "source": [
    "# Cautare hiperparametrii optimi - GridSearch\n",
    "parameter_grid = {\n",
    "    'C' : np.linspace(0, 100, 10),# C = 1/lambda ; C mare => lambda mic\n",
    "    'solver': ['sag', 'saga', 'lbfgs']}\n",
    "grid_search = GridSearchCV(estimator = LogisticRegression(), param_grid=parameter_grid, scoring='accuracy', cv=4, return_train_score=True)\n",
    "grid_search.fit(X_train, y_train)\n",
    "results_gscv = cross_val_score(grid_search, X_test, y_test, scoring='accuracy')"
   ]
  },
  {
   "cell_type": "code",
   "execution_count": 36,
   "metadata": {},
   "outputs": [
    {
     "output_type": "stream",
     "name": "stdout",
     "text": "0.3076923076923077\n{'C': 11.11111111111111, 'solver': 'sag'}\n"
    }
   ],
   "source": [
    "print(results_gscv.mean())\n",
    "print(grid_search.best_params_)"
   ]
  },
  {
   "cell_type": "markdown",
   "metadata": {},
   "source": [
    "## Model 4: DecisionTreeClassifier"
   ]
  },
  {
   "cell_type": "code",
   "execution_count": 23,
   "metadata": {},
   "outputs": [],
   "source": [
    "# Model\n",
    "\"\"\"\n",
    "\"\"\"\n",
    "model4 = DecisionTreeClassifier(max_depth=2)\n",
    "model4.fit(X_train, y_train)\n",
    "y_hat = model4.predict(X_test)"
   ]
  },
  {
   "cell_type": "code",
   "execution_count": 24,
   "metadata": {},
   "outputs": [
    {
     "output_type": "stream",
     "name": "stdout",
     "text": "Predicted:\n[0 0 0 2 0 0 1 1 1 0 2 1 2 2 2 0 0 2 0 2 2 2 2 1 1 1 0 0 0 2 2 2 0 0 0 2 2\n 1 0 1 1 0 1 2 2 1 2 0 1 1 0 1 0 2 1 0 2 2 0 0 1 2 2 0 2]\n\nGround truth:\n[6 7 0 0 0 5 0 1 0 6 2 1 2 2 2 0 1 5 1 5 5 4 6 1 1 1 6 5 1 5 0 2 6 3 0 1 2\n 1 1 1 1 6 0 3 1 1 0 3 1 1 1 2 4 2 0 0 2 1 0 2 1 0 2 1 2]\n\nFailed:\t37\n"
    }
   ],
   "source": [
    "print(f'Predicted:\\n{y_hat}\\n')\n",
    "print(f'Ground truth:\\n{np.array(y_test.iloc[:, 0])}\\n')\n",
    "print(f'Failed:\\t{sum(y_hat != np.array(y_test.iloc[:, 0]))}')"
   ]
  },
  {
   "cell_type": "code",
   "execution_count": 25,
   "metadata": {},
   "outputs": [
    {
     "output_type": "execute_result",
     "data": {
      "text/plain": "{'fit_time': array([0.00897813, 0.00598502, 0.00299191, 0.00398898, 0.00598598]),\n 'score_time': array([0.00298977, 0.00199366, 0.00199509, 0.00299096, 0.00398803]),\n 'test_accuracy': array([0.41025641, 0.46153846, 0.35897436, 0.43589744, 0.31578947]),\n 'train_accuracy': array([0.42580645, 0.41290323, 0.45806452, 0.41290323, 0.44871795]),\n 'test_f1': array([-0.41025641, -0.46153846, -0.35897436, -0.43589744, -0.31578947]),\n 'train_f1': array([-0.42580645, -0.41290323, -0.45806452, -0.41290323, -0.44871795])}"
     },
     "metadata": {},
     "execution_count": 25
    }
   ],
   "source": [
    "# Cross Validation\n",
    "results_train = cross_validate(model4, X, y,\n",
    "scoring={'accuracy':accuracy_scorer, 'f1':f1_scorer},\n",
    "return_train_score=True)\n",
    "results_train"
   ]
  },
  {
   "cell_type": "code",
   "execution_count": 26,
   "metadata": {},
   "outputs": [],
   "source": [
    "# Cautare hiperparametrii optimi - GridSearch\n",
    "parameter_grid = {'max_depth': list(range(1,5)),\n",
    "'min_samples_split': np.linspace(1,3,5),\n",
    "'min_samples_leaf': np.linspace(0.1,0.5,5),\n",
    "'max_features': ['sqrt', 'log2', None]}\n",
    "grid_search = GridSearchCV(estimator = DecisionTreeClassifier(), param_grid=parameter_grid, scoring='accuracy', cv=4, return_train_score=True)\n",
    "grid_search.fit(X_train, y_train)\n",
    "results_gscv = cross_val_score(grid_search, X_test, y_test, scoring='accuracy')"
   ]
  },
  {
   "cell_type": "code",
   "execution_count": 27,
   "metadata": {},
   "outputs": [
    {
     "output_type": "stream",
     "name": "stdout",
     "text": "0.26153846153846155\n{'max_depth': 1, 'max_features': 'sqrt', 'min_samples_leaf': 0.30000000000000004, 'min_samples_split': 1.0}\n"
    }
   ],
   "source": [
    "print(results_gscv.mean())\n",
    "print(grid_search.best_params_)"
   ]
  },
  {
   "cell_type": "markdown",
   "metadata": {},
   "source": [
    "## Model 5: RandomForestClassifier"
   ]
  },
  {
   "cell_type": "code",
   "execution_count": 28,
   "metadata": {},
   "outputs": [],
   "source": [
    "# Model\n",
    "\"\"\"\n",
    "\"\"\"\n",
    "model5 = RandomForestClassifier(max_depth=2, random_state=0, ccp_alpha=0.2)\n",
    "model5.fit(X_train, y_train)\n",
    "y_hat = model5.predict(X_test)"
   ]
  },
  {
   "cell_type": "code",
   "execution_count": 29,
   "metadata": {},
   "outputs": [
    {
     "output_type": "stream",
     "name": "stdout",
     "text": "Predicted:\n[1 1 1 1 1 1 1 1 1 1 1 1 1 1 1 1 1 1 1 1 1 1 1 1 1 1 1 1 1 1 1 1 1 1 1 1 1\n 1 1 1 1 1 1 1 1 1 1 1 1 1 1 1 1 1 1 1 1 1 1 1 1 1 1 1 1]\n\nGround truth:\n[6 7 0 0 0 5 0 1 0 6 2 1 2 2 2 0 1 5 1 5 5 4 6 1 1 1 6 5 1 5 0 2 6 3 0 1 2\n 1 1 1 1 6 0 3 1 1 0 3 1 1 1 2 4 2 0 0 2 1 0 2 1 0 2 1 2]\n\nFailed:\t44\n"
    }
   ],
   "source": [
    "print(f'Predicted:\\n{y_hat}\\n')\n",
    "print(f'Ground truth:\\n{np.array(y_test.iloc[:, 0])}\\n')\n",
    "print(f'Failed:\\t{sum(y_hat != np.array(y_test.iloc[:, 0]))}')"
   ]
  },
  {
   "cell_type": "code",
   "execution_count": 30,
   "metadata": {},
   "outputs": [
    {
     "output_type": "execute_result",
     "data": {
      "text/plain": "{'fit_time': array([0.27226973, 0.23437524, 0.32932544, 0.23636675, 0.27080393]),\n 'score_time': array([0.01396298, 0.01795149, 0.01894784, 0.01196885, 0.0234549 ]),\n 'test_accuracy': array([0.30769231, 0.30769231, 0.30769231, 0.30769231, 0.31578947]),\n 'train_accuracy': array([0.30967742, 0.30967742, 0.30967742, 0.30967742, 0.30769231]),\n 'test_f1': array([-0.30769231, -0.30769231, -0.30769231, -0.30769231, -0.31578947]),\n 'train_f1': array([-0.30967742, -0.30967742, -0.30967742, -0.30967742, -0.30769231])}"
     },
     "metadata": {},
     "execution_count": 30
    }
   ],
   "source": [
    "# Cross Validation\n",
    "results_train = cross_validate(model5, X, y,\n",
    "scoring={'accuracy':accuracy_scorer, 'f1':f1_scorer},\n",
    "return_train_score=True)\n",
    "results_train"
   ]
  },
  {
   "cell_type": "code",
   "execution_count": 31,
   "metadata": {},
   "outputs": [],
   "source": [
    "# Cautare hiperparametrii optimi - GridSearch\n",
    "parameter_grid = {'max_depth': list(range(5,10)),\n",
    "'min_samples_split': list(range(1,4)),\n",
    "'min_samples_leaf': list(range(1,5))}\n",
    "grid_search = GridSearchCV(estimator = RandomForestClassifier(), param_grid=parameter_grid, scoring='accuracy', cv=4, return_train_score=True)\n",
    "grid_search.fit(X_train, y_train)\n",
    "results_gscv = cross_val_score(grid_search, X_test, y_test, scoring='accuracy')"
   ]
  },
  {
   "cell_type": "code",
   "execution_count": 37,
   "metadata": {},
   "outputs": [
    {
     "output_type": "stream",
     "name": "stdout",
     "text": "0.3076923076923077\n{'C': 11.11111111111111, 'solver': 'sag'}\n"
    }
   ],
   "source": [
    "print(results_gscv.mean())\n",
    "print(grid_search.best_params_)"
   ]
  }
 ],
 "metadata": {
  "file_extension": ".py",
  "kernelspec": {
   "display_name": "Python 3",
   "language": "python",
   "name": "python3"
  },
  "language_info": {
   "codemirror_mode": {
    "name": "ipython",
    "version": 3
   },
   "file_extension": ".py",
   "mimetype": "text/x-python",
   "name": "python",
   "nbconvert_exporter": "python",
   "pygments_lexer": "ipython3",
   "version": "3.7.6-final"
  },
  "mimetype": "text/x-python",
  "name": "python",
  "npconvert_exporter": "python",
  "pygments_lexer": "ipython3",
  "version": 3
 },
 "nbformat": 4,
 "nbformat_minor": 2
}