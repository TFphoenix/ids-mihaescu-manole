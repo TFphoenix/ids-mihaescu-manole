{
 "cells": [
  {
   "cell_type": "markdown",
   "metadata": {},
   "source": [
    "## Nume studenti:\n",
    "- Alexandra Manole\n",
    "- Teodor Mihaescu\n",
    "\n",
    "## Grupa: 382"
   ]
  },
  {
   "cell_type": "markdown",
   "metadata": {},
   "source": [
    "# Data Set 3: Flags\n",
    "### (Missing values: no)"
   ]
  },
  {
   "cell_type": "code",
   "execution_count": 500,
   "metadata": {},
   "outputs": [],
   "source": [
    "from collections import Counter\n",
    "import matplotlib.pyplot as plt\n",
    "import pandas as pd\n",
    "import numpy as np\n",
    "\n",
    "from sklearn.experimental import enable_iterative_imputer  \n",
    "from sklearn.impute import IterativeImputer, SimpleImputer\n",
    "from sklearn.model_selection import train_test_split\n",
    "from sklearn.linear_model import LinearRegression, LogisticRegression\n",
    "from sklearn.neighbors import KNeighborsClassifier\n",
    "from sklearn.tree import DecisionTreeClassifier\n",
    "from sklearn.ensemble import RandomForestClassifier\n",
    "from sklearn.neural_network import MLPClassifier\n",
    "from sklearn.svm import SVC\n",
    "from sklearn import metrics\n",
    "from sklearn import preprocessing\n",
    "from sklearn.model_selection import cross_validate, cross_val_score, GridSearchCV"
   ]
  },
  {
   "cell_type": "code",
   "execution_count": 483,
   "metadata": {},
   "outputs": [
    {
     "output_type": "execute_result",
     "data": {
      "text/plain": "               Name  Landmass  Zone  Area  Population  Language  Religion  \\\n0       Afghanistan         5     1   648          16        10         2   \n1           Albania         3     1    29           3         6         6   \n2           Algeria         4     1  2388          20         8         2   \n3    American-Samoa         6     3     0           0         1         1   \n4           Andorra         3     1     0           0         6         0   \n..              ...       ...   ...   ...         ...       ...       ...   \n189   Western-Samoa         6     3     3           0         1         1   \n190      Yugoslavia         3     1   256          22         6         6   \n191           Zaire         4     2   905          28        10         5   \n192          Zambia         4     2   753           6        10         5   \n193        Zimbabwe         4     2   391           8        10         5   \n\n     Bars  Stripes  Colours  ...  Saltires  Quarters  Sunstars  Crescent  \\\n0       0        3        5  ...         0         0         1         0   \n1       0        0        3  ...         0         0         1         0   \n2       2        0        3  ...         0         0         1         1   \n3       0        0        5  ...         0         0         0         0   \n4       3        0        3  ...         0         0         0         0   \n..    ...      ...      ...  ...       ...       ...       ...       ...   \n189     0        0        3  ...         0         1         5         0   \n190     0        3        4  ...         0         0         1         0   \n191     0        0        4  ...         0         0         0         0   \n192     3        0        4  ...         0         0         0         0   \n193     0        7        5  ...         0         0         1         0   \n\n     Triangle  Icon  Animate Text  Topleft  Botright  \n0           0     1        0    0    black     green  \n1           0     0        1    0      red       red  \n2           0     0        0    0    green     white  \n3           1     1        1    0     blue       red  \n4           0     0        0    0     blue       red  \n..        ...   ...      ...  ...      ...       ...  \n189         0     0        0    0     blue       red  \n190         0     0        0    0     blue       red  \n191         0     1        1    0    green     green  \n192         0     0        1    0    green     brown  \n193         1     1        1    0    green     green  \n\n[194 rows x 30 columns]",
      "text/html": "<div>\n<style scoped>\n    .dataframe tbody tr th:only-of-type {\n        vertical-align: middle;\n    }\n\n    .dataframe tbody tr th {\n        vertical-align: top;\n    }\n\n    .dataframe thead th {\n        text-align: right;\n    }\n</style>\n<table border=\"1\" class=\"dataframe\">\n  <thead>\n    <tr style=\"text-align: right;\">\n      <th></th>\n      <th>Name</th>\n      <th>Landmass</th>\n      <th>Zone</th>\n      <th>Area</th>\n      <th>Population</th>\n      <th>Language</th>\n      <th>Religion</th>\n      <th>Bars</th>\n      <th>Stripes</th>\n      <th>Colours</th>\n      <th>...</th>\n      <th>Saltires</th>\n      <th>Quarters</th>\n      <th>Sunstars</th>\n      <th>Crescent</th>\n      <th>Triangle</th>\n      <th>Icon</th>\n      <th>Animate</th>\n      <th>Text</th>\n      <th>Topleft</th>\n      <th>Botright</th>\n    </tr>\n  </thead>\n  <tbody>\n    <tr>\n      <th>0</th>\n      <td>Afghanistan</td>\n      <td>5</td>\n      <td>1</td>\n      <td>648</td>\n      <td>16</td>\n      <td>10</td>\n      <td>2</td>\n      <td>0</td>\n      <td>3</td>\n      <td>5</td>\n      <td>...</td>\n      <td>0</td>\n      <td>0</td>\n      <td>1</td>\n      <td>0</td>\n      <td>0</td>\n      <td>1</td>\n      <td>0</td>\n      <td>0</td>\n      <td>black</td>\n      <td>green</td>\n    </tr>\n    <tr>\n      <th>1</th>\n      <td>Albania</td>\n      <td>3</td>\n      <td>1</td>\n      <td>29</td>\n      <td>3</td>\n      <td>6</td>\n      <td>6</td>\n      <td>0</td>\n      <td>0</td>\n      <td>3</td>\n      <td>...</td>\n      <td>0</td>\n      <td>0</td>\n      <td>1</td>\n      <td>0</td>\n      <td>0</td>\n      <td>0</td>\n      <td>1</td>\n      <td>0</td>\n      <td>red</td>\n      <td>red</td>\n    </tr>\n    <tr>\n      <th>2</th>\n      <td>Algeria</td>\n      <td>4</td>\n      <td>1</td>\n      <td>2388</td>\n      <td>20</td>\n      <td>8</td>\n      <td>2</td>\n      <td>2</td>\n      <td>0</td>\n      <td>3</td>\n      <td>...</td>\n      <td>0</td>\n      <td>0</td>\n      <td>1</td>\n      <td>1</td>\n      <td>0</td>\n      <td>0</td>\n      <td>0</td>\n      <td>0</td>\n      <td>green</td>\n      <td>white</td>\n    </tr>\n    <tr>\n      <th>3</th>\n      <td>American-Samoa</td>\n      <td>6</td>\n      <td>3</td>\n      <td>0</td>\n      <td>0</td>\n      <td>1</td>\n      <td>1</td>\n      <td>0</td>\n      <td>0</td>\n      <td>5</td>\n      <td>...</td>\n      <td>0</td>\n      <td>0</td>\n      <td>0</td>\n      <td>0</td>\n      <td>1</td>\n      <td>1</td>\n      <td>1</td>\n      <td>0</td>\n      <td>blue</td>\n      <td>red</td>\n    </tr>\n    <tr>\n      <th>4</th>\n      <td>Andorra</td>\n      <td>3</td>\n      <td>1</td>\n      <td>0</td>\n      <td>0</td>\n      <td>6</td>\n      <td>0</td>\n      <td>3</td>\n      <td>0</td>\n      <td>3</td>\n      <td>...</td>\n      <td>0</td>\n      <td>0</td>\n      <td>0</td>\n      <td>0</td>\n      <td>0</td>\n      <td>0</td>\n      <td>0</td>\n      <td>0</td>\n      <td>blue</td>\n      <td>red</td>\n    </tr>\n    <tr>\n      <th>...</th>\n      <td>...</td>\n      <td>...</td>\n      <td>...</td>\n      <td>...</td>\n      <td>...</td>\n      <td>...</td>\n      <td>...</td>\n      <td>...</td>\n      <td>...</td>\n      <td>...</td>\n      <td>...</td>\n      <td>...</td>\n      <td>...</td>\n      <td>...</td>\n      <td>...</td>\n      <td>...</td>\n      <td>...</td>\n      <td>...</td>\n      <td>...</td>\n      <td>...</td>\n      <td>...</td>\n    </tr>\n    <tr>\n      <th>189</th>\n      <td>Western-Samoa</td>\n      <td>6</td>\n      <td>3</td>\n      <td>3</td>\n      <td>0</td>\n      <td>1</td>\n      <td>1</td>\n      <td>0</td>\n      <td>0</td>\n      <td>3</td>\n      <td>...</td>\n      <td>0</td>\n      <td>1</td>\n      <td>5</td>\n      <td>0</td>\n      <td>0</td>\n      <td>0</td>\n      <td>0</td>\n      <td>0</td>\n      <td>blue</td>\n      <td>red</td>\n    </tr>\n    <tr>\n      <th>190</th>\n      <td>Yugoslavia</td>\n      <td>3</td>\n      <td>1</td>\n      <td>256</td>\n      <td>22</td>\n      <td>6</td>\n      <td>6</td>\n      <td>0</td>\n      <td>3</td>\n      <td>4</td>\n      <td>...</td>\n      <td>0</td>\n      <td>0</td>\n      <td>1</td>\n      <td>0</td>\n      <td>0</td>\n      <td>0</td>\n      <td>0</td>\n      <td>0</td>\n      <td>blue</td>\n      <td>red</td>\n    </tr>\n    <tr>\n      <th>191</th>\n      <td>Zaire</td>\n      <td>4</td>\n      <td>2</td>\n      <td>905</td>\n      <td>28</td>\n      <td>10</td>\n      <td>5</td>\n      <td>0</td>\n      <td>0</td>\n      <td>4</td>\n      <td>...</td>\n      <td>0</td>\n      <td>0</td>\n      <td>0</td>\n      <td>0</td>\n      <td>0</td>\n      <td>1</td>\n      <td>1</td>\n      <td>0</td>\n      <td>green</td>\n      <td>green</td>\n    </tr>\n    <tr>\n      <th>192</th>\n      <td>Zambia</td>\n      <td>4</td>\n      <td>2</td>\n      <td>753</td>\n      <td>6</td>\n      <td>10</td>\n      <td>5</td>\n      <td>3</td>\n      <td>0</td>\n      <td>4</td>\n      <td>...</td>\n      <td>0</td>\n      <td>0</td>\n      <td>0</td>\n      <td>0</td>\n      <td>0</td>\n      <td>0</td>\n      <td>1</td>\n      <td>0</td>\n      <td>green</td>\n      <td>brown</td>\n    </tr>\n    <tr>\n      <th>193</th>\n      <td>Zimbabwe</td>\n      <td>4</td>\n      <td>2</td>\n      <td>391</td>\n      <td>8</td>\n      <td>10</td>\n      <td>5</td>\n      <td>0</td>\n      <td>7</td>\n      <td>5</td>\n      <td>...</td>\n      <td>0</td>\n      <td>0</td>\n      <td>1</td>\n      <td>0</td>\n      <td>1</td>\n      <td>1</td>\n      <td>1</td>\n      <td>0</td>\n      <td>green</td>\n      <td>green</td>\n    </tr>\n  </tbody>\n</table>\n<p>194 rows × 30 columns</p>\n</div>"
     },
     "metadata": {},
     "execution_count": 483
    }
   ],
   "source": [
    "# Citeste datele\n",
    "data = pd.read_csv('./Datasets/flag.csv')\n",
    "data"
   ]
  },
  {
   "cell_type": "code",
   "execution_count": 484,
   "metadata": {},
   "outputs": [
    {
     "output_type": "execute_result",
     "data": {
      "text/plain": "                Area  Population  Colours  Red  Green  Blue  Gold  White  \\\nName                                                                       \nAfghanistan      648          16        5    1      1     0     1      1   \nAlbania           29           3        3    1      0     0     1      0   \nAlgeria         2388          20        3    1      1     0     0      1   \nAmerican-Samoa     0           0        5    1      0     1     1      1   \nAndorra            0           0        3    1      0     1     1      0   \n...              ...         ...      ...  ...    ...   ...   ...    ...   \nWestern-Samoa      3           0        3    1      0     1     0      1   \nYugoslavia       256          22        4    1      0     1     1      1   \nZaire            905          28        4    1      1     0     1      0   \nZambia           753           6        4    1      1     0     0      0   \nZimbabwe         391           8        5    1      1     0     1      1   \n\n                Black  Orange  \nName                           \nAfghanistan         1       0  \nAlbania             1       0  \nAlgeria             0       0  \nAmerican-Samoa      0       1  \nAndorra             0       0  \n...               ...     ...  \nWestern-Samoa       0       0  \nYugoslavia          0       0  \nZaire               0       1  \nZambia              1       1  \nZimbabwe            1       0  \n\n[194 rows x 10 columns]",
      "text/html": "<div>\n<style scoped>\n    .dataframe tbody tr th:only-of-type {\n        vertical-align: middle;\n    }\n\n    .dataframe tbody tr th {\n        vertical-align: top;\n    }\n\n    .dataframe thead th {\n        text-align: right;\n    }\n</style>\n<table border=\"1\" class=\"dataframe\">\n  <thead>\n    <tr style=\"text-align: right;\">\n      <th></th>\n      <th>Area</th>\n      <th>Population</th>\n      <th>Colours</th>\n      <th>Red</th>\n      <th>Green</th>\n      <th>Blue</th>\n      <th>Gold</th>\n      <th>White</th>\n      <th>Black</th>\n      <th>Orange</th>\n    </tr>\n    <tr>\n      <th>Name</th>\n      <th></th>\n      <th></th>\n      <th></th>\n      <th></th>\n      <th></th>\n      <th></th>\n      <th></th>\n      <th></th>\n      <th></th>\n      <th></th>\n    </tr>\n  </thead>\n  <tbody>\n    <tr>\n      <th>Afghanistan</th>\n      <td>648</td>\n      <td>16</td>\n      <td>5</td>\n      <td>1</td>\n      <td>1</td>\n      <td>0</td>\n      <td>1</td>\n      <td>1</td>\n      <td>1</td>\n      <td>0</td>\n    </tr>\n    <tr>\n      <th>Albania</th>\n      <td>29</td>\n      <td>3</td>\n      <td>3</td>\n      <td>1</td>\n      <td>0</td>\n      <td>0</td>\n      <td>1</td>\n      <td>0</td>\n      <td>1</td>\n      <td>0</td>\n    </tr>\n    <tr>\n      <th>Algeria</th>\n      <td>2388</td>\n      <td>20</td>\n      <td>3</td>\n      <td>1</td>\n      <td>1</td>\n      <td>0</td>\n      <td>0</td>\n      <td>1</td>\n      <td>0</td>\n      <td>0</td>\n    </tr>\n    <tr>\n      <th>American-Samoa</th>\n      <td>0</td>\n      <td>0</td>\n      <td>5</td>\n      <td>1</td>\n      <td>0</td>\n      <td>1</td>\n      <td>1</td>\n      <td>1</td>\n      <td>0</td>\n      <td>1</td>\n    </tr>\n    <tr>\n      <th>Andorra</th>\n      <td>0</td>\n      <td>0</td>\n      <td>3</td>\n      <td>1</td>\n      <td>0</td>\n      <td>1</td>\n      <td>1</td>\n      <td>0</td>\n      <td>0</td>\n      <td>0</td>\n    </tr>\n    <tr>\n      <th>...</th>\n      <td>...</td>\n      <td>...</td>\n      <td>...</td>\n      <td>...</td>\n      <td>...</td>\n      <td>...</td>\n      <td>...</td>\n      <td>...</td>\n      <td>...</td>\n      <td>...</td>\n    </tr>\n    <tr>\n      <th>Western-Samoa</th>\n      <td>3</td>\n      <td>0</td>\n      <td>3</td>\n      <td>1</td>\n      <td>0</td>\n      <td>1</td>\n      <td>0</td>\n      <td>1</td>\n      <td>0</td>\n      <td>0</td>\n    </tr>\n    <tr>\n      <th>Yugoslavia</th>\n      <td>256</td>\n      <td>22</td>\n      <td>4</td>\n      <td>1</td>\n      <td>0</td>\n      <td>1</td>\n      <td>1</td>\n      <td>1</td>\n      <td>0</td>\n      <td>0</td>\n    </tr>\n    <tr>\n      <th>Zaire</th>\n      <td>905</td>\n      <td>28</td>\n      <td>4</td>\n      <td>1</td>\n      <td>1</td>\n      <td>0</td>\n      <td>1</td>\n      <td>0</td>\n      <td>0</td>\n      <td>1</td>\n    </tr>\n    <tr>\n      <th>Zambia</th>\n      <td>753</td>\n      <td>6</td>\n      <td>4</td>\n      <td>1</td>\n      <td>1</td>\n      <td>0</td>\n      <td>0</td>\n      <td>0</td>\n      <td>1</td>\n      <td>1</td>\n    </tr>\n    <tr>\n      <th>Zimbabwe</th>\n      <td>391</td>\n      <td>8</td>\n      <td>5</td>\n      <td>1</td>\n      <td>1</td>\n      <td>0</td>\n      <td>1</td>\n      <td>1</td>\n      <td>1</td>\n      <td>0</td>\n    </tr>\n  </tbody>\n</table>\n<p>194 rows × 10 columns</p>\n</div>"
     },
     "metadata": {},
     "execution_count": 484
    }
   ],
   "source": [
    "# Pregateste datele\n",
    "X = pd.concat([data[['Area', 'Population', 'Colours']], data.loc[:, 'Red':'Orange']], axis=1)\n",
    "y = data[['Religion']]\n",
    "\n",
    "X.index = data['Name']\n",
    "y.index = data['Name']\n",
    "\n",
    "X"
   ]
  },
  {
   "cell_type": "code",
   "execution_count": 485,
   "metadata": {},
   "outputs": [],
   "source": [
    "# Scaleaza datele\n",
    "X_columns = X.columns\n",
    "X_index = X.index\n",
    "\n",
    "min_max_scaler = preprocessing.MinMaxScaler()\n",
    "X = pd.DataFrame(min_max_scaler.fit_transform(X), columns=X_columns, index=X_index)"
   ]
  },
  {
   "cell_type": "code",
   "execution_count": 486,
   "metadata": {},
   "outputs": [],
   "source": [
    "# Separarea setului de date\n",
    "X_train, X_test, y_train, y_test = train_test_split(X, y, test_size=1/3, shuffle=True)"
   ]
  },
  {
   "cell_type": "code",
   "execution_count": 487,
   "metadata": {},
   "outputs": [
    {
     "output_type": "stream",
     "name": "stdout",
     "text": "Counter({1: 37, 0: 29, 2: 24, 5: 18, 6: 8, 3: 6, 4: 4, 7: 3})\nCounter({1: 23, 2: 12, 0: 11, 5: 9, 6: 7, 3: 2, 7: 1})\n"
    }
   ],
   "source": [
    "# Verifica daca sunt egal distribuite\n",
    "print(Counter(y_train_col))\n",
    "print(Counter(y_test_col))"
   ]
  },
  {
   "cell_type": "markdown",
   "metadata": {},
   "source": [
    "## Model 1: KNeighborsClassifier"
   ]
  },
  {
   "cell_type": "code",
   "execution_count": 488,
   "metadata": {},
   "outputs": [],
   "source": [
    "# Model\n",
    "\"\"\"\n",
    "\"\"\"\n",
    "model1 = KNeighborsClassifier(n_neighbors=5)\n",
    "model1.fit(X_train, y_train)\n",
    "y_hat = model1.predict(X_test)"
   ]
  },
  {
   "cell_type": "code",
   "execution_count": 489,
   "metadata": {},
   "outputs": [
    {
     "output_type": "stream",
     "name": "stdout",
     "text": "Predicted:\n[0 2 2 2 0 6 1 6 1 2 1 1 2 2 0 1 5 1 2 5 1 2 0 1 0 2 1 2 0 1 2 1 2 0 0 0 1\n 1 0 0 2 1 1 1 5 1 2 2 1 2 0 0 0 0 0 2 2 0 5 5 1 0 1 0 1]\n\nGround truth:\n[0 1 2 1 1 1 1 6 1 5 1 5 2 2 6 6 0 0 2 2 1 0 1 1 3 1 1 2 5 1 1 1 1 1 5 5 0\n 1 0 0 0 1 0 7 1 0 2 2 1 2 0 0 3 1 3 5 2 1 1 0 1 0 0 0 0]\n\nFailed:\t36\n"
    }
   ],
   "source": [
    "print(f'Predicted:\\n{y_hat}\\n')\n",
    "print(f'Ground truth:\\n{np.array(y_test.iloc[:, 0])}\\n')\n",
    "print(f'Failed:\\t{sum(y_hat != np.array(y_test.iloc[:, 0]))}')"
   ]
  },
  {
   "cell_type": "code",
   "execution_count": 490,
   "metadata": {},
   "outputs": [],
   "source": [
    "# Custom scoreers for multiclass output\n",
    "f1_scorer = metrics.make_scorer(metrics.f1_score, greater_is_better=False, average='micro')\n",
    "accuracy_scorer = metrics.make_scorer(metrics.accuracy_score, greater_is_better=True)"
   ]
  },
  {
   "cell_type": "code",
   "execution_count": 491,
   "metadata": {},
   "outputs": [
    {
     "output_type": "execute_result",
     "data": {
      "text/plain": "{'fit_time': array([0.00898528, 0.00596142, 0.00199461, 0.00398946, 0.00897026]),\n 'score_time': array([0.01694703, 0.00600004, 0.0029912 , 0.00398946, 0.00698233]),\n 'test_accuracy': array([0.34615385, 0.34615385, 0.38461538, 0.34615385, 0.32      ]),\n 'train_accuracy': array([0.54368932, 0.55339806, 0.48543689, 0.53398058, 0.58653846]),\n 'test_f1': array([-0.34615385, -0.34615385, -0.38461538, -0.34615385, -0.32      ]),\n 'train_f1': array([-0.54368932, -0.55339806, -0.48543689, -0.53398058, -0.58653846])}"
     },
     "metadata": {},
     "execution_count": 491
    }
   ],
   "source": [
    "# CV Train\n",
    "results_train = cross_validate(model1, X_train, y_train,\n",
    "scoring={'accuracy':accuracy_scorer, 'f1':f1_scorer},\n",
    "return_train_score=True)\n",
    "results_train"
   ]
  },
  {
   "cell_type": "code",
   "execution_count": 496,
   "metadata": {},
   "outputs": [
    {
     "output_type": "execute_result",
     "data": {
      "text/plain": "{'fit_time': array([0.00398922, 0.00498199, 0.00098586, 0.00501704, 0.00395775]),\n 'score_time': array([0.00598645, 0.01098061, 0.00501752, 0.0019598 , 0.00598335]),\n 'test_accuracy': array([0.23076923, 0.61538462, 0.23076923, 0.46153846, 0.38461538]),\n 'train_accuracy': array([0.57692308, 0.5       , 0.61538462, 0.57692308, 0.63461538]),\n 'test_f1': array([-0.23076923, -0.61538462, -0.23076923, -0.46153846, -0.38461538]),\n 'train_f1': array([-0.57692308, -0.5       , -0.61538462, -0.57692308, -0.63461538])}"
     },
     "metadata": {},
     "execution_count": 496
    }
   ],
   "source": [
    "# CV Test\n",
    "results_train = cross_validate(model1, X_test, y_test,\n",
    "scoring={'accuracy':accuracy_scorer, 'f1':f1_scorer},\n",
    "return_train_score=True)\n",
    "results_train"
   ]
  },
  {
   "cell_type": "code",
   "execution_count": 497,
   "metadata": {},
   "outputs": [],
   "source": [
    "# Cautare hiperparametrii optimi - GridSearch\n",
    "parameter_grid = {'n_neighbors': list(range(1, 20)), 'p': [1, 2, 3]}\n",
    "grid_search = GridSearchCV(estimator = KNeighborsClassifier(), param_grid=parameter_grid, scoring='accuracy', cv=4, return_train_score=True)\n",
    "grid_search.fit(X_train, y_train)\n",
    "results_gscv = cross_val_score(grid_search, X_test, y_test, scoring='accuracy')"
   ]
  },
  {
   "cell_type": "code",
   "execution_count": 498,
   "metadata": {},
   "outputs": [
    {
     "output_type": "stream",
     "name": "stdout",
     "text": "0.3846153846153847\n{'n_neighbors': 13, 'p': 1}\n"
    }
   ],
   "source": [
    "print(results_gscv.mean())\n",
    "print(grid_search.best_params_)"
   ]
  },
  {
   "cell_type": "markdown",
   "metadata": {},
   "source": [
    "## Model 2: MLP"
   ]
  },
  {
   "cell_type": "code",
   "execution_count": 505,
   "metadata": {},
   "outputs": [],
   "source": [
    "# Model\n",
    "\"\"\"\n",
    "Folosim modelul MLP deoarece este o problema de clasificare ce consta in determinarea clasei(religiei) unei tari. O astfel de retea multistrat presupune un strat de intrare care preia valorile initiale, cel putin un strat ascuns, si acel strat de iesire care produce estimari de valori.\n",
    "\"\"\"\n",
    "model2 = MLPClassifier(activation='logistic', learning_rate='adaptive')\n",
    "model2.fit(X_train, y_train)\n",
    "y_hat = model2.predict(X_test)"
   ]
  },
  {
   "cell_type": "code",
   "execution_count": 506,
   "metadata": {},
   "outputs": [
    {
     "output_type": "stream",
     "name": "stdout",
     "text": "Predicted:\n[1 2 2 2 0 0 1 2 1 2 1 1 2 2 0 1 5 2 2 1 1 2 0 1 0 2 1 2 1 1 2 1 2 0 1 1 1\n 1 1 1 2 1 2 2 5 1 2 2 1 2 0 2 0 0 1 2 2 1 5 5 2 1 1 1 1]\n\nGround truth:\n[0 1 2 1 1 1 1 6 1 5 1 5 2 2 6 6 0 0 2 2 1 0 1 1 3 1 1 2 5 1 1 1 1 1 5 5 0\n 1 0 0 0 1 0 7 1 0 2 2 1 2 0 0 3 1 3 5 2 1 1 0 1 0 0 0 0]\n\nFailed:\t43\n"
    }
   ],
   "source": [
    "print(f'Predicted:\\n{y_hat}\\n')\n",
    "print(f'Ground truth:\\n{np.array(y_test.iloc[:, 0])}\\n')\n",
    "print(f'Failed:\\t{sum(y_hat != np.array(y_test.iloc[:, 0]))}')"
   ]
  },
  {
   "cell_type": "code",
   "execution_count": 508,
   "metadata": {},
   "outputs": [
    {
     "output_type": "execute_result",
     "data": {
      "text/plain": "{'fit_time': array([0.00498629, 0.00296521, 0.00598431, 0.00395775, 0.00299835]),\n 'score_time': array([0.00897861, 0.00598168, 0.00401926, 0.00398684, 0.00399256]),\n 'test_accuracy': array([0.34615385, 0.34615385, 0.38461538, 0.34615385, 0.32      ]),\n 'train_accuracy': array([0.54368932, 0.55339806, 0.48543689, 0.53398058, 0.58653846]),\n 'test_f1': array([-0.34615385, -0.34615385, -0.38461538, -0.34615385, -0.32      ]),\n 'train_f1': array([-0.54368932, -0.55339806, -0.48543689, -0.53398058, -0.58653846])}"
     },
     "metadata": {},
     "execution_count": 508
    }
   ],
   "source": [
    "# CV Train\n",
    "results_train = cross_validate(model2, X_train, y_train,\n",
    "scoring={'accuracy':accuracy_scorer, 'f1':f1_scorer},\n",
    "return_train_score=True)\n",
    "results_train"
   ]
  },
  {
   "cell_type": "code",
   "execution_count": 509,
   "metadata": {},
   "outputs": [
    {
     "output_type": "execute_result",
     "data": {
      "text/plain": "{'fit_time': array([0.00498486, 0.0069809 , 0.00398469, 0.00299191, 0.00502253]),\n 'score_time': array([0.00598264, 0.00399017, 0.00203109, 0.00299215, 0.00398493]),\n 'test_accuracy': array([0.23076923, 0.61538462, 0.23076923, 0.46153846, 0.38461538]),\n 'train_accuracy': array([0.57692308, 0.5       , 0.61538462, 0.57692308, 0.63461538]),\n 'test_f1': array([-0.23076923, -0.61538462, -0.23076923, -0.46153846, -0.38461538]),\n 'train_f1': array([-0.57692308, -0.5       , -0.61538462, -0.57692308, -0.63461538])}"
     },
     "metadata": {},
     "execution_count": 509
    }
   ],
   "source": [
    "# CV Test\n",
    "results_train = cross_validate(model2, X_test, y_test,\n",
    "scoring={'accuracy':accuracy_scorer, 'f1':f1_scorer},\n",
    "return_train_score=True)\n",
    "results_train"
   ]
  },
  {
   "cell_type": "code",
   "execution_count": 511,
   "metadata": {},
   "outputs": [],
   "source": [
    "# Cautare hiperparametrii optimi - GridSearch\n",
    "parameter_grid = {'activation': ['identity'],\n",
    "'solver': ['sgd'],\n",
    "'learning_rate': ['constant', 'invscaling', 'adaptive'],\n",
    "'learning_rate_init': np.linspace(0, 0.5, 10),\n",
    "'random_state':[0]}\n",
    "grid_search = GridSearchCV(estimator = MLPClassifier(), param_grid=parameter_grid, scoring='accuracy', cv=4, return_train_score=True)\n",
    "grid_search.fit(X_train, y_train)\n",
    "results_gscv = cross_val_score(grid_search, X_test, y_test, scoring='accuracy')"
   ]
  },
  {
   "cell_type": "code",
   "execution_count": 512,
   "metadata": {},
   "outputs": [
    {
     "output_type": "stream",
     "name": "stdout",
     "text": "0.4\n{'activation': 'identity', 'alpha': 0.0, 'learning_rate': 'invscaling', 'learning_rate_init': 0.2222222222222222, 'random_state': 0, 'solver': 'sgd'}\n"
    }
   ],
   "source": [
    "print(results_gscv.mean())\n",
    "print(grid_search.best_params_)"
   ]
  },
  {
   "cell_type": "markdown",
   "metadata": {},
   "source": [
    "## Model 3: LogisticRegression"
   ]
  },
  {
   "cell_type": "code",
   "execution_count": 514,
   "metadata": {},
   "outputs": [],
   "source": [
    "# Model\n",
    "\"\"\"\n",
    "\"\"\"\n",
    "model3 = LogisticRegression(multi_class='multinomial', max_iter=1000)\n",
    "model3.fit(X_train_mat, y_train_col)\n",
    "y_hat = model3.predict(X_test_mat)"
   ]
  },
  {
   "cell_type": "code",
   "execution_count": 515,
   "metadata": {},
   "outputs": [
    {
     "output_type": "stream",
     "name": "stdout",
     "text": "Predicted:\n[5 1 2 1 1 2 2 1 1 1 1 1 5 1 1 1 1 1 1 4 1 5 1 2 2 1 6 5 1 1 1 2 1 1 1 2 1\n 5 5 5 5 1 1 1 1 1 1 5 1 5 5 1 1 5 1 1 2 2 5 0 1 1 1 1 2]\n\nGround truth:\n[0 1 2 1 1 1 1 6 1 5 1 5 2 2 6 6 0 0 2 2 1 0 1 1 3 1 1 2 5 1 1 1 1 1 5 5 0\n 1 0 0 0 1 0 7 1 0 2 2 1 2 0 0 3 1 3 5 2 1 1 0 1 0 0 0 0]\n\nFailed:\t46\n"
    }
   ],
   "source": [
    "print(f'Predicted:\\n{y_hat}\\n')\n",
    "print(f'Ground truth:\\n{np.array(y_test.iloc[:, 0])}\\n')\n",
    "print(f'Failed:\\t{sum(y_hat != np.array(y_test.iloc[:, 0]))}')"
   ]
  },
  {
   "cell_type": "code",
   "execution_count": 516,
   "metadata": {},
   "outputs": [
    {
     "output_type": "execute_result",
     "data": {
      "text/plain": "{'fit_time': array([0.03195047, 0.01698995, 0.02194548, 0.01795197, 0.01392269]),\n 'score_time': array([0.00495338, 0.00195789, 0.00398612, 0.00199342, 0.00102353]),\n 'test_accuracy': array([0.38461538, 0.38461538, 0.42307692, 0.42307692, 0.32      ]),\n 'train_accuracy': array([0.45631068, 0.49514563, 0.47572816, 0.51456311, 0.51923077]),\n 'test_f1': array([-0.38461538, -0.38461538, -0.42307692, -0.42307692, -0.32      ]),\n 'train_f1': array([-0.45631068, -0.49514563, -0.47572816, -0.51456311, -0.51923077])}"
     },
     "metadata": {},
     "execution_count": 516
    }
   ],
   "source": [
    "# CV Train\n",
    "results_train = cross_validate(model3, X_train, y_train,\n",
    "scoring={'accuracy':accuracy_scorer, 'f1':f1_scorer},\n",
    "return_train_score=True)\n",
    "results_train"
   ]
  },
  {
   "cell_type": "code",
   "execution_count": 517,
   "metadata": {},
   "outputs": [
    {
     "output_type": "execute_result",
     "data": {
      "text/plain": "{'fit_time': array([0.02295041, 0.01499128, 0.01695538, 0.01316047, 0.01595712]),\n 'score_time': array([0.00497627, 0.00199509, 0.00199509, 0.00199914, 0.00202656]),\n 'test_accuracy': array([0.53846154, 0.53846154, 0.30769231, 0.53846154, 0.30769231]),\n 'train_accuracy': array([0.53846154, 0.53846154, 0.59615385, 0.51923077, 0.61538462]),\n 'test_f1': array([-0.53846154, -0.53846154, -0.30769231, -0.53846154, -0.30769231]),\n 'train_f1': array([-0.53846154, -0.53846154, -0.59615385, -0.51923077, -0.61538462])}"
     },
     "metadata": {},
     "execution_count": 517
    }
   ],
   "source": [
    "# CV Test\n",
    "results_train = cross_validate(model3, X_test, y_test,\n",
    "scoring={'accuracy':accuracy_scorer, 'f1':f1_scorer},\n",
    "return_train_score=True)\n",
    "results_train"
   ]
  },
  {
   "cell_type": "code",
   "execution_count": 522,
   "metadata": {},
   "outputs": [],
   "source": [
    "# Cautare hiperparametrii optimi - GridSearch\n",
    "parameter_grid = {\n",
    "    'C' : np.linspace(0, 100, 10),# C = 1/lambda ; C mare => lambda mic\n",
    "    'solver': ['sag', 'saga', 'lbfgs']}\n",
    "grid_search = GridSearchCV(estimator = LogisticRegression(), param_grid=parameter_grid, scoring='accuracy', cv=4, return_train_score=True)\n",
    "grid_search.fit(X_train, y_train)\n",
    "results_gscv = cross_val_score(grid_search, X_test, y_test, scoring='accuracy')"
   ]
  },
  {
   "cell_type": "code",
   "execution_count": 523,
   "metadata": {},
   "outputs": [
    {
     "output_type": "stream",
     "name": "stdout",
     "text": "0.476923076923077\n{'C': 22.22222222222222, 'solver': 'sag'}\n"
    }
   ],
   "source": [
    "print(results_gscv.mean())\n",
    "print(grid_search.best_params_)"
   ]
  },
  {
   "cell_type": "markdown",
   "metadata": {},
   "source": [
    "## Model 4: DecisionTreeClassifier"
   ]
  },
  {
   "cell_type": "code",
   "execution_count": 524,
   "metadata": {},
   "outputs": [],
   "source": [
    "# Model\n",
    "\"\"\"\n",
    "\"\"\"\n",
    "model4 = DecisionTreeClassifier(max_depth=2)\n",
    "model4.fit(X_train, y_train)\n",
    "y_hat = model4.predict(X_test)"
   ]
  },
  {
   "cell_type": "code",
   "execution_count": 525,
   "metadata": {},
   "outputs": [
    {
     "output_type": "stream",
     "name": "stdout",
     "text": "Predicted:\n[1 1 2 1 0 0 1 0 1 2 1 2 2 2 0 2 1 0 2 1 1 2 1 1 0 2 2 2 2 2 0 2 1 1 2 1 0\n 1 1 0 2 1 1 2 1 2 2 2 1 0 1 0 0 1 0 2 2 1 2 1 0 0 1 0 2]\n\nGround truth:\n[0 1 2 1 1 1 1 6 1 5 1 5 2 2 6 6 0 0 2 2 1 0 1 1 3 1 1 2 5 1 1 1 1 1 5 5 0\n 1 0 0 0 1 0 7 1 0 2 2 1 2 0 0 3 1 3 5 2 1 1 0 1 0 0 0 0]\n\nFailed:\t35\n"
    }
   ],
   "source": [
    "print(f'Predicted:\\n{y_hat}\\n')\n",
    "print(f'Ground truth:\\n{np.array(y_test.iloc[:, 0])}\\n')\n",
    "print(f'Failed:\\t{sum(y_hat != np.array(y_test.iloc[:, 0]))}')"
   ]
  },
  {
   "cell_type": "code",
   "execution_count": 526,
   "metadata": {},
   "outputs": [
    {
     "output_type": "execute_result",
     "data": {
      "text/plain": "{'fit_time': array([0.00637364, 0.00498581, 0.00202227, 0.00499034, 0.00301147]),\n 'score_time': array([0.0095818 , 0.00299168, 0.00295639, 0.00201178, 0.00397086]),\n 'test_accuracy': array([0.38461538, 0.30769231, 0.34615385, 0.38461538, 0.36      ]),\n 'train_accuracy': array([0.41747573, 0.41747573, 0.41747573, 0.40776699, 0.41346154]),\n 'test_f1': array([-0.38461538, -0.30769231, -0.34615385, -0.38461538, -0.36      ]),\n 'train_f1': array([-0.41747573, -0.41747573, -0.41747573, -0.40776699, -0.41346154])}"
     },
     "metadata": {},
     "execution_count": 526
    }
   ],
   "source": [
    "# CV Train\n",
    "results_train = cross_validate(model4, X_train, y_train,\n",
    "scoring={'accuracy':accuracy_scorer, 'f1':f1_scorer},\n",
    "return_train_score=True)\n",
    "results_train"
   ]
  },
  {
   "cell_type": "code",
   "execution_count": 527,
   "metadata": {},
   "outputs": [
    {
     "output_type": "execute_result",
     "data": {
      "text/plain": "{'fit_time': array([0.00398827, 0.00498605, 0.00199127, 0.00395393, 0.00299191]),\n 'score_time': array([0.00598884, 0.0039916 , 0.00202775, 0.00498843, 0.00299215]),\n 'test_accuracy': array([0.30769231, 0.30769231, 0.07692308, 0.46153846, 0.38461538]),\n 'train_accuracy': array([0.55769231, 0.46153846, 0.57692308, 0.44230769, 0.48076923]),\n 'test_f1': array([-0.30769231, -0.30769231, -0.07692308, -0.46153846, -0.38461538]),\n 'train_f1': array([-0.55769231, -0.46153846, -0.57692308, -0.44230769, -0.48076923])}"
     },
     "metadata": {},
     "execution_count": 527
    }
   ],
   "source": [
    "# CV Test\n",
    "results_train = cross_validate(model4, X_test, y_test,\n",
    "scoring={'accuracy':accuracy_scorer, 'f1':f1_scorer},\n",
    "return_train_score=True)\n",
    "results_train"
   ]
  },
  {
   "cell_type": "code",
   "execution_count": 534,
   "metadata": {},
   "outputs": [],
   "source": [
    "# Cautare hiperparametrii optimi - GridSearch\n",
    "parameter_grid = {'max_depth': list(range(1,5)),\n",
    "'min_samples_split': np.linspace(1,3,5),\n",
    "'min_samples_leaf': np.linspace(0.1,0.5,5),\n",
    "'max_features': ['sqrt', 'log2', None]}\n",
    "grid_search = GridSearchCV(estimator = DecisionTreeClassifier(), param_grid=parameter_grid, scoring='accuracy', cv=4, return_train_score=True)\n",
    "grid_search.fit(X_train, y_train)\n",
    "results_gscv = cross_val_score(grid_search, X_test, y_test, scoring='accuracy')"
   ]
  },
  {
   "cell_type": "code",
   "execution_count": 535,
   "metadata": {},
   "outputs": [
    {
     "output_type": "stream",
     "name": "stdout",
     "text": "0.3538461538461538\n{'criterion': 'gini', 'max_depth': 3, 'max_features': 'log2', 'min_samples_leaf': 0.2, 'min_samples_split': 1.0}\n"
    }
   ],
   "source": [
    "print(results_gscv.mean())\n",
    "print(grid_search.best_params_)"
   ]
  },
  {
   "cell_type": "markdown",
   "metadata": {},
   "source": [
    "## Model 5: RandomForestClassifier"
   ]
  },
  {
   "cell_type": "code",
   "execution_count": 530,
   "metadata": {},
   "outputs": [],
   "source": [
    "# Model\n",
    "\"\"\"\n",
    "\"\"\"\n",
    "model5 = RandomForestClassifier(max_depth=2, random_state=0, ccp_alpha=0.2)\n",
    "model5.fit(X_train, y_train)\n",
    "y_hat = model5.predict(X_test)"
   ]
  },
  {
   "cell_type": "code",
   "execution_count": 531,
   "metadata": {},
   "outputs": [
    {
     "output_type": "stream",
     "name": "stdout",
     "text": "Predicted:\n[1 1 1 1 1 1 1 1 1 1 1 1 1 1 1 1 1 1 1 1 1 1 1 1 1 1 1 1 1 1 1 1 1 1 1 1 1\n 1 1 1 1 1 1 1 1 1 1 1 1 1 1 1 1 1 1 1 1 1 1 1 1 1 1 1 1]\n\nGround truth:\n[0 1 2 1 1 1 1 6 1 5 1 5 2 2 6 6 0 0 2 2 1 0 1 1 3 1 1 2 5 1 1 1 1 1 5 5 0\n 1 0 0 0 1 0 7 1 0 2 2 1 2 0 0 3 1 3 5 2 1 1 0 1 0 0 0 0]\n\nFailed:\t40\n"
    }
   ],
   "source": [
    "print(f'Predicted:\\n{y_hat}\\n')\n",
    "print(f'Ground truth:\\n{np.array(y_test.iloc[:, 0])}\\n')\n",
    "print(f'Failed:\\t{sum(y_hat != np.array(y_test.iloc[:, 0]))}')"
   ]
  },
  {
   "cell_type": "code",
   "execution_count": 532,
   "metadata": {},
   "outputs": [
    {
     "output_type": "execute_result",
     "data": {
      "text/plain": "{'fit_time': array([0.18290925, 0.15259767, 0.18151712, 0.28899121, 0.22182727]),\n 'score_time': array([0.01296735, 0.01400352, 0.01795268, 0.02594137, 0.01193666]),\n 'test_accuracy': array([0.26923077, 0.26923077, 0.26923077, 0.26923077, 0.28      ]),\n 'train_accuracy': array([0.27184466, 0.27184466, 0.27184466, 0.27184466, 0.26923077]),\n 'test_f1': array([-0.26923077, -0.26923077, -0.26923077, -0.26923077, -0.28      ]),\n 'train_f1': array([-0.27184466, -0.27184466, -0.27184466, -0.27184466, -0.26923077])}"
     },
     "metadata": {},
     "execution_count": 532
    }
   ],
   "source": [
    "# CV Train\n",
    "results_train = cross_validate(model5, X_train, y_train,\n",
    "scoring={'accuracy':accuracy_scorer, 'f1':f1_scorer},\n",
    "return_train_score=True)\n",
    "results_train"
   ]
  },
  {
   "cell_type": "code",
   "execution_count": 533,
   "metadata": {},
   "outputs": [
    {
     "output_type": "execute_result",
     "data": {
      "text/plain": "{'fit_time': array([0.21742272, 0.17110133, 0.2076354 , 0.2688365 , 0.21967387]),\n 'score_time': array([0.01695585, 0.02493596, 0.01589799, 0.0209434 , 0.01296473]),\n 'test_accuracy': array([0.38461538, 0.38461538, 0.38461538, 0.38461538, 0.38461538]),\n 'train_accuracy': array([0.38461538, 0.38461538, 0.38461538, 0.38461538, 0.38461538]),\n 'test_f1': array([-0.38461538, -0.38461538, -0.38461538, -0.38461538, -0.38461538]),\n 'train_f1': array([-0.38461538, -0.38461538, -0.38461538, -0.38461538, -0.38461538])}"
     },
     "metadata": {},
     "execution_count": 533
    }
   ],
   "source": [
    "# CV Test\n",
    "results_train = cross_validate(model5, X_test, y_test,\n",
    "scoring={'accuracy':accuracy_scorer, 'f1':f1_scorer},\n",
    "return_train_score=True)\n",
    "results_train"
   ]
  },
  {
   "cell_type": "code",
   "execution_count": 536,
   "metadata": {},
   "outputs": [],
   "source": [
    "# Cautare hiperparametrii optimi - GridSearch\n",
    "parameter_grid = {'max_depth': list(range(5,10)),\n",
    "'min_samples_split': list(range(1,4)),\n",
    "'min_samples_leaf': list(range(1,5))}\n",
    "grid_search = GridSearchCV(estimator = RandomForestClassifier(), param_grid=parameter_grid, scoring='accuracy', cv=4, return_train_score=True)\n",
    "grid_search.fit(X_train, y_train)\n",
    "results_gscv = cross_val_score(grid_search, X_test, y_test, scoring='accuracy')"
   ]
  },
  {
   "cell_type": "code",
   "execution_count": 537,
   "metadata": {},
   "outputs": [
    {
     "output_type": "stream",
     "name": "stdout",
     "text": "0.4461538461538462\n{'max_depth': 7, 'min_samples_leaf': 4, 'min_samples_split': 3}\n"
    }
   ],
   "source": [
    "print(results_gscv.mean())\n",
    "print(grid_search.best_params_)"
   ]
  }
 ],
 "metadata": {
  "file_extension": ".py",
  "kernelspec": {
   "display_name": "Python 3",
   "language": "python",
   "name": "python3"
  },
  "language_info": {
   "codemirror_mode": {
    "name": "ipython",
    "version": 3
   },
   "file_extension": ".py",
   "mimetype": "text/x-python",
   "name": "python",
   "nbconvert_exporter": "python",
   "pygments_lexer": "ipython3",
   "version": "3.7.6-final"
  },
  "mimetype": "text/x-python",
  "name": "python",
  "npconvert_exporter": "python",
  "pygments_lexer": "ipython3",
  "version": 3
 },
 "nbformat": 4,
 "nbformat_minor": 2
}