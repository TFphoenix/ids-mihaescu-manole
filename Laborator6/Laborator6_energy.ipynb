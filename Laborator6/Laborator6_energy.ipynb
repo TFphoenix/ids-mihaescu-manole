{
 "nbformat": 4,
 "nbformat_minor": 2,
 "metadata": {
  "language_info": {
   "name": "python",
   "codemirror_mode": {
    "name": "ipython",
    "version": 3
   },
   "version": "3.7.6-final"
  },
  "orig_nbformat": 2,
  "file_extension": ".py",
  "mimetype": "text/x-python",
  "name": "python",
  "npconvert_exporter": "python",
  "pygments_lexer": "ipython3",
  "version": 3,
  "kernelspec": {
   "name": "python37664bitidsconda6aac95af6de54c59bceda5e4272aaa84",
   "display_name": "Python 3.7.6 64-bit ('IDS': conda)"
  }
 },
 "cells": [
  {
   "cell_type": "markdown",
   "metadata": {},
   "source": [
    "## Nume studenti:\n",
    "- Alexandra Manole\n",
    "- Teodor Mihaescu\n",
    "\n",
    "## Grupa: 382"
   ]
  },
  {
   "cell_type": "markdown",
   "metadata": {},
   "source": [
    "# Data Set 2: Energy Efficency\n",
    "### (Missing values: no)"
   ]
  },
  {
   "cell_type": "code",
   "execution_count": 1354,
   "metadata": {},
   "outputs": [],
   "source": [
    "from collections import Counter\n",
    "import matplotlib.pyplot as plt\n",
    "import pandas as pd\n",
    "import numpy as np\n",
    "\n",
    "from sklearn.experimental import enable_iterative_imputer\n",
    "from sklearn.impute import IterativeImputer, SimpleImputer\n",
    "from sklearn.model_selection import train_test_split\n",
    "from sklearn.linear_model import LinearRegression, LogisticRegression\n",
    "from sklearn.neighbors import KNeighborsClassifier\n",
    "from sklearn.tree import DecisionTreeClassifier\n",
    "from sklearn.ensemble import RandomForestClassifier\n",
    "from sklearn.neural_network import MLPClassifier\n",
    "from sklearn.multioutput import MultiOutputRegressor\n",
    "from sklearn.svm import SVC\n",
    "from sklearn import metrics\n",
    "from sklearn import preprocessing\n",
    "from sklearn.model_selection import cross_validate, cross_val_score, GridSearchCV"
   ]
  },
  {
   "cell_type": "code",
   "execution_count": 1355,
   "metadata": {},
   "outputs": [
    {
     "output_type": "stream",
     "name": "stdout",
     "text": "<class 'pandas.core.frame.DataFrame'>\nRangeIndex: 768 entries, 0 to 767\nData columns (total 10 columns):\n #   Column  Non-Null Count  Dtype  \n---  ------  --------------  -----  \n 0   X1      768 non-null    float64\n 1   X2      768 non-null    float64\n 2   X3      768 non-null    float64\n 3   X4      768 non-null    float64\n 4   X5      768 non-null    float64\n 5   X6      768 non-null    float64\n 6   X7      768 non-null    float64\n 7   X8      768 non-null    float64\n 8   Y1      768 non-null    float64\n 9   Y2      768 non-null    float64\ndtypes: float64(10)\nmemory usage: 60.1 KB\n"
    }
   ],
   "source": [
    "# Citeste datele\n",
    "data = pd.read_csv('./Datasets/energy.csv').iloc[:768,:-2]\n",
    "data.info()"
   ]
  },
  {
   "cell_type": "code",
   "execution_count": 1356,
   "metadata": {},
   "outputs": [],
   "source": [
    "# Pregateste datele\n",
    "X = data.loc[:, :'X8']\n",
    "# y = data.loc[:, 'Y1':]\n",
    "y1 = data.loc[:, 'Y1']\n",
    "y2 = data.loc[:, 'Y2']"
   ]
  },
  {
   "cell_type": "code",
   "execution_count": 1357,
   "metadata": {},
   "outputs": [],
   "source": [
    "# Transformam problema dintr-una de regresie intr-una de clasificare, dand intervale de clasificare y-ilor\n",
    "\"\"\"\n",
    "Observam ca y1 si y2 se incadreaza intre urmatoarele valori:\n",
    "y1: 6.01-43.1\n",
    "y2: 10.9-48.03\n",
    "\n",
    "Vom imparti datele in urmatoarele clase:\n",
    "y1: 6-10, 10-20, 20-30, 30-40, 40-50\n",
    "y2: 10-20, 20-30, 30-40, 40-50\n",
    "\"\"\"\n",
    "y1 = np.where(np.logical_and(y1>=6, y1<10), 0, y1)\n",
    "y1 = np.where(np.logical_and(y1>=10, y1<20), 1, y1)\n",
    "y1 = np.where(np.logical_and(y1>=20, y1<30), 2, y1)\n",
    "y1 = np.where(np.logical_and(y1>=30, y1<40), 3, y1)\n",
    "y1 = np.where(np.logical_and(y1>=40, y1<50), 4, y1)\n",
    "\n",
    "y2 = np.where(np.logical_and(y2>=10, y2<20), 0, y2)\n",
    "y2 = np.where(np.logical_and(y2>=20, y2<30), 1, y2)\n",
    "y2 = np.where(np.logical_and(y2>=30, y2<40), 2, y2)\n",
    "y2 = np.where(np.logical_and(y2>=40, y2<50), 3, y2)\n",
    "\n",
    "y = np.stack((y1, y2), axis=1)"
   ]
  },
  {
   "cell_type": "code",
   "execution_count": 1358,
   "metadata": {},
   "outputs": [],
   "source": [
    "# Scaleaza datele\n",
    "min_max_scaler = preprocessing.MinMaxScaler()\n",
    "X = min_max_scaler.fit_transform(X)\n",
    "# y = min_max_scaler.fit_transform(y)"
   ]
  },
  {
   "cell_type": "code",
   "execution_count": 1359,
   "metadata": {},
   "outputs": [],
   "source": [
    "# Separarea setului de date\n",
    "X_train, X_test, y_train, y_test = train_test_split(X, y, test_size=1/3, shuffle=True)"
   ]
  },
  {
   "cell_type": "code",
   "execution_count": 1360,
   "metadata": {},
   "outputs": [
    {
     "output_type": "stream",
     "name": "stdout",
     "text": "Counter({1.0: 247, 2.0: 117, 3.0: 115, 4.0: 23, 0.0: 10})\nCounter({1.0: 130, 3.0: 52, 2.0: 52, 4.0: 12, 0.0: 10})\n\n\nCounter({0.0: 227, 2.0: 148, 1.0: 112, 3.0: 25})\nCounter({0.0: 121, 2.0: 68, 1.0: 53, 3.0: 14})\n"
    }
   ],
   "source": [
    "# Verifica daca sunt egal distribuite\n",
    "print(Counter(y_train[:,0]))\n",
    "print(Counter(y_test[:,0]))\n",
    "print(\"\\n\")\n",
    "print(Counter(y_train[:,1]))\n",
    "print(Counter(y_test[:,1]))"
   ]
  },
  {
   "cell_type": "markdown",
   "metadata": {},
   "source": [
    "## Model 1: LogisticRegression"
   ]
  },
  {
   "cell_type": "code",
   "execution_count": 1361,
   "metadata": {},
   "outputs": [],
   "source": [
    "# Model\n",
    "\"\"\"\n",
    "\"\"\"\n",
    "model1 = MultiOutputClassifier(LogisticRegression(random_state=0, multi_class='multinomial'))\n",
    "model1.fit(X_train, y_train)\n",
    "y_hat = model1.predict(X_test)"
   ]
  },
  {
   "cell_type": "code",
   "execution_count": 1362,
   "metadata": {},
   "outputs": [
    {
     "output_type": "stream",
     "name": "stdout",
     "text": "Predicted:\n[[3. 2.]\n [2. 1.]\n [2. 1.]\n [3. 2.]\n [1. 0.]\n [1. 0.]\n [1. 0.]\n [1. 0.]\n [1. 0.]\n [1. 0.]]\n\nGround truth:\n[[3. 2.]\n [1. 1.]\n [2. 1.]\n [3. 2.]\n [1. 0.]\n [1. 1.]\n [1. 1.]\n [1. 0.]\n [0. 0.]\n [1. 0.]]\n\nFailed:\t[46 54]\n"
    }
   ],
   "source": [
    "print(f'Predicted:\\n{y_hat[:10,:]}\\n')\n",
    "print(f'Ground truth:\\n{y_test[:10,:]}\\n')\n",
    "print(f'Failed:\\t{sum(y_hat != y_test)}')"
   ]
  },
  {
   "cell_type": "code",
   "execution_count": 1363,
   "metadata": {},
   "outputs": [],
   "source": [
    "y1_train = y_train[:, 0].reshape((y_train.shape[0], 1))\n",
    "y2_train = y_train[:, 1].reshape((y_train.shape[0], 1))\n",
    "\n",
    "y1_test = y_test[:, 0].reshape((y_test.shape[0], 1))\n",
    "y2_test = y_test[:, 1].reshape((y_test.shape[0], 1))"
   ]
  },
  {
   "cell_type": "code",
   "execution_count": 1364,
   "metadata": {},
   "outputs": [],
   "source": [
    "# Custom scoreers for multiclass output\n",
    "f1_scorer = metrics.make_scorer(metrics.f1_score, greater_is_better=False, average='micro')\n",
    "accuracy_scorer = metrics.make_scorer(metrics.accuracy_score, greater_is_better=True)"
   ]
  },
  {
   "cell_type": "code",
   "execution_count": 1365,
   "metadata": {},
   "outputs": [
    {
     "output_type": "execute_result",
     "data": {
      "text/plain": "{'fit_time': array([0.05884266, 0.06056428, 0.04687476, 0.04389167, 0.04288197]),\n 'score_time': array([0.00498724, 0.00299144, 0.00199437, 0.00498843, 0.00099778]),\n 'test_f1_scorer': array([-0.80582524, -0.7961165 , -0.87254902, -0.85294118, -0.8627451 ]),\n 'train_f1_scorer': array([-0.86552567, -0.8606357 , -0.85609756, -0.83658537, -0.84878049]),\n 'test_accuracy': array([0.80582524, 0.7961165 , 0.87254902, 0.85294118, 0.8627451 ]),\n 'train_accuracy': array([0.86552567, 0.8606357 , 0.85609756, 0.83658537, 0.84878049])}"
     },
     "metadata": {},
     "execution_count": 1365
    }
   ],
   "source": [
    "# CV Train - Y1\n",
    "results_train = cross_validate(model1, X_train, y1_train,\n",
    "scoring={'f1_scorer': f1_scorer, 'accuracy': accuracy_scorer},\n",
    "return_train_score=True)\n",
    "results_train"
   ]
  },
  {
   "cell_type": "code",
   "execution_count": 1366,
   "metadata": {},
   "outputs": [
    {
     "output_type": "execute_result",
     "data": {
      "text/plain": "{'fit_time': array([0.03598499, 0.02094483, 0.04487705, 0.02393579, 0.02693176]),\n 'score_time': array([0.00199342, 0.00199556, 0.00199461, 0.00299191, 0.00399566]),\n 'test_f1_scorer': array([-0.69230769, -0.8627451 , -0.78431373, -0.78431373, -0.80392157]),\n 'train_f1_scorer': array([-0.78431373, -0.8195122 , -0.82926829, -0.81463415, -0.80487805]),\n 'test_accuracy': array([0.69230769, 0.8627451 , 0.78431373, 0.78431373, 0.80392157]),\n 'train_accuracy': array([0.78431373, 0.8195122 , 0.82926829, 0.81463415, 0.80487805])}"
     },
     "metadata": {},
     "execution_count": 1366
    }
   ],
   "source": [
    "# CV Test - Y1\n",
    "results_train = cross_validate(model1, X_test, y1_test,\n",
    "scoring={'f1_scorer': f1_scorer, 'accuracy': accuracy_scorer},\n",
    "return_train_score=True)\n",
    "results_train"
   ]
  },
  {
   "cell_type": "code",
   "execution_count": 1367,
   "metadata": {},
   "outputs": [
    {
     "output_type": "execute_result",
     "data": {
      "text/plain": "{'fit_time': array([0.03989291, 0.04587603, 0.03192091, 0.03989148, 0.04085636]),\n 'score_time': array([0.0010004 , 0.00299358, 0.00298738, 0.00399518, 0.00211287]),\n 'test_f1_scorer': array([-0.77669903, -0.7961165 , -0.7745098 , -0.74509804, -0.80392157]),\n 'train_f1_scorer': array([-0.78973105, -0.78239609, -0.79512195, -0.79756098, -0.78292683]),\n 'test_accuracy': array([0.77669903, 0.7961165 , 0.7745098 , 0.74509804, 0.80392157]),\n 'train_accuracy': array([0.78973105, 0.78239609, 0.79512195, 0.79756098, 0.78292683])}"
     },
     "metadata": {},
     "execution_count": 1367
    }
   ],
   "source": [
    "# CV Train - Y2\n",
    "results_train = cross_validate(model1, X_train, y2_train,\n",
    "scoring={'f1_scorer': f1_scorer, 'accuracy': accuracy_scorer},\n",
    "return_train_score=True)\n",
    "results_train"
   ]
  },
  {
   "cell_type": "code",
   "execution_count": 1368,
   "metadata": {},
   "outputs": [
    {
     "output_type": "execute_result",
     "data": {
      "text/plain": "{'fit_time': array([0.04287815, 0.03144741, 0.02889514, 0.03290701, 0.02094483]),\n 'score_time': array([0.00399065, 0.00399756, 0.00298452, 0.00203037, 0.00295687]),\n 'test_f1_scorer': array([-0.75      , -0.74509804, -0.82352941, -0.80392157, -0.78431373]),\n 'train_f1_scorer': array([-0.79411765, -0.8       , -0.76097561, -0.7902439 , -0.78536585]),\n 'test_accuracy': array([0.75      , 0.74509804, 0.82352941, 0.80392157, 0.78431373]),\n 'train_accuracy': array([0.79411765, 0.8       , 0.76097561, 0.7902439 , 0.78536585])}"
     },
     "metadata": {},
     "execution_count": 1368
    }
   ],
   "source": [
    "# CV Test - Y2\n",
    "results_train = cross_validate(model1, X_test, y2_test,\n",
    "scoring={'f1_scorer': f1_scorer, 'accuracy': accuracy_scorer},\n",
    "return_train_score=True)\n",
    "results_train"
   ]
  },
  {
   "cell_type": "code",
   "execution_count": 1369,
   "metadata": {},
   "outputs": [],
   "source": [
    "# Cautare hiperparametrii optimi - GridSearch (doar pentru Y1)\n",
    "parameter_grid = {\n",
    "    'C' : np.linspace(1000, 2000, 10),# C = 1/lambda ; C mare => lambda mic\n",
    "    'solver': ['saga', 'lbfgs']}\n",
    "grid_search = GridSearchCV(estimator = LogisticRegression(), param_grid=parameter_grid, scoring='accuracy', cv=4, return_train_score=True)\n",
    "grid_search.fit(X_train, y1_train)\n",
    "results_gscv = cross_val_score(grid_search, X_test, y1_test, scoring='accuracy')"
   ]
  },
  {
   "cell_type": "code",
   "execution_count": 1370,
   "metadata": {},
   "outputs": [
    {
     "output_type": "stream",
     "name": "stdout",
     "text": "0.8594268476621417\n{'C': 1222.2222222222222, 'solver': 'lbfgs'}\n"
    }
   ],
   "source": [
    "print(results_gscv.mean())\n",
    "print(grid_search.best_params_)"
   ]
  },
  {
   "cell_type": "markdown",
   "metadata": {},
   "source": [
    "## Model 2: KNeighborsClassifier"
   ]
  },
  {
   "cell_type": "code",
   "execution_count": 1371,
   "metadata": {},
   "outputs": [],
   "source": [
    "# Model\n",
    "\"\"\"\n",
    "\"\"\"\n",
    "model2 = KNeighborsClassifier()\n",
    "model2.fit(X_train, y_train)\n",
    "y_hat = model2.predict(X_test)"
   ]
  },
  {
   "cell_type": "code",
   "execution_count": 1372,
   "metadata": {},
   "outputs": [
    {
     "output_type": "stream",
     "name": "stdout",
     "text": "Predicted:\n[[3. 2.]\n [1. 1.]\n [2. 1.]\n [2. 2.]\n [1. 0.]\n [1. 0.]\n [1. 0.]\n [1. 0.]\n [0. 0.]\n [1. 0.]]\n\nGround truth:\n[[3. 2.]\n [1. 1.]\n [2. 1.]\n [3. 2.]\n [1. 0.]\n [1. 1.]\n [1. 1.]\n [1. 0.]\n [0. 0.]\n [1. 0.]]\n\nFailed:\t[41 53]\n"
    }
   ],
   "source": [
    "print(f'Predicted:\\n{y_hat[:10,:]}\\n')\n",
    "print(f'Ground truth:\\n{y_test[:10,:]}\\n')\n",
    "print(f'Failed:\\t{sum(y_hat != y_test)}')"
   ]
  },
  {
   "cell_type": "code",
   "execution_count": 1373,
   "metadata": {},
   "outputs": [],
   "source": [
    "y1_train = y_train[:, 0].reshape((y_train.shape[0], 1))\n",
    "y2_train = y_train[:, 1].reshape((y_train.shape[0], 1))\n",
    "\n",
    "y1_test = y_test[:, 0].reshape((y_test.shape[0], 1))\n",
    "y2_test = y_test[:, 1].reshape((y_test.shape[0], 1))"
   ]
  },
  {
   "cell_type": "code",
   "execution_count": 1374,
   "metadata": {},
   "outputs": [
    {
     "output_type": "execute_result",
     "data": {
      "text/plain": "{'fit_time': array([0.00199556, 0.0009973 , 0.00099611, 0.00236106, 0.00199556]),\n 'score_time': array([0.01048613, 0.00598359, 0.00598407, 0.01200843, 0.00997233]),\n 'test_f1_scorer': array([-0.80582524, -0.86407767, -0.85294118, -0.83333333, -0.85294118]),\n 'train_f1_scorer': array([-0.91442543, -0.91198044, -0.91219512, -0.91707317, -0.91707317]),\n 'test_accuracy': array([0.80582524, 0.86407767, 0.85294118, 0.83333333, 0.85294118]),\n 'train_accuracy': array([0.91442543, 0.91198044, 0.91219512, 0.91707317, 0.91707317])}"
     },
     "metadata": {},
     "execution_count": 1374
    }
   ],
   "source": [
    "# CV Train - Y1\n",
    "results_train = cross_validate(model2, X_train, y1_train,\n",
    "scoring={'f1_scorer': f1_scorer, 'accuracy': accuracy_scorer},\n",
    "return_train_score=True)\n",
    "results_train"
   ]
  },
  {
   "cell_type": "code",
   "execution_count": 1375,
   "metadata": {},
   "outputs": [
    {
     "output_type": "execute_result",
     "data": {
      "text/plain": "{'fit_time': array([0.00099707, 0.        , 0.00099659, 0.        , 0.        ]),\n 'score_time': array([0.00598311, 0.00397849, 0.00398397, 0.0039947 , 0.0039556 ]),\n 'test_f1_scorer': array([-0.88461538, -0.84313725, -0.80392157, -0.90196078, -0.84313725]),\n 'train_f1_scorer': array([-0.89215686, -0.92682927, -0.93170732, -0.87804878, -0.90243902]),\n 'test_accuracy': array([0.88461538, 0.84313725, 0.80392157, 0.90196078, 0.84313725]),\n 'train_accuracy': array([0.89215686, 0.92682927, 0.93170732, 0.87804878, 0.90243902])}"
     },
     "metadata": {},
     "execution_count": 1375
    }
   ],
   "source": [
    "# CV Test - Y1\n",
    "results_train = cross_validate(model2, X_test, y1_test,\n",
    "scoring={'f1_scorer': f1_scorer, 'accuracy': accuracy_scorer},\n",
    "return_train_score=True)\n",
    "results_train"
   ]
  },
  {
   "cell_type": "code",
   "execution_count": 1376,
   "metadata": {},
   "outputs": [
    {
     "output_type": "execute_result",
     "data": {
      "text/plain": "{'fit_time': array([0.00099564, 0.00199509, 0.00200653, 0.0009973 , 0.00099421]),\n 'score_time': array([0.01196742, 0.00901175, 0.00896549, 0.00598693, 0.00498652]),\n 'test_f1_scorer': array([-0.75728155, -0.83495146, -0.7254902 , -0.74509804, -0.80392157]),\n 'train_f1_scorer': array([-0.88508557, -0.85330073, -0.88536585, -0.88536585, -0.87804878]),\n 'test_accuracy': array([0.75728155, 0.83495146, 0.7254902 , 0.74509804, 0.80392157]),\n 'train_accuracy': array([0.88508557, 0.85330073, 0.88536585, 0.88536585, 0.87804878])}"
     },
     "metadata": {},
     "execution_count": 1376
    }
   ],
   "source": [
    "# CV Train - Y2\n",
    "results_train = cross_validate(model2, X_train, y2_train,\n",
    "scoring={'f1_scorer': f1_scorer, 'accuracy': accuracy_scorer},\n",
    "return_train_score=True)\n",
    "results_train"
   ]
  },
  {
   "cell_type": "code",
   "execution_count": 1377,
   "metadata": {},
   "outputs": [
    {
     "output_type": "execute_result",
     "data": {
      "text/plain": "{'fit_time': array([0.00202942, 0.00099802, 0.        , 0.00099564, 0.00102806]),\n 'score_time': array([0.00499058, 0.00299144, 0.00498748, 0.00498819, 0.0049541 ]),\n 'test_f1_scorer': array([-0.84615385, -0.80392157, -0.8627451 , -0.74509804, -0.8627451 ]),\n 'train_f1_scorer': array([-0.87254902, -0.89268293, -0.86829268, -0.90243902, -0.86829268]),\n 'test_accuracy': array([0.84615385, 0.80392157, 0.8627451 , 0.74509804, 0.8627451 ]),\n 'train_accuracy': array([0.87254902, 0.89268293, 0.86829268, 0.90243902, 0.86829268])}"
     },
     "metadata": {},
     "execution_count": 1377
    }
   ],
   "source": [
    "# CV Test - Y2\n",
    "results_train = cross_validate(model2, X_test, y2_test,\n",
    "scoring={'f1_scorer': f1_scorer, 'accuracy': accuracy_scorer},\n",
    "return_train_score=True)\n",
    "results_train"
   ]
  },
  {
   "cell_type": "code",
   "execution_count": 1378,
   "metadata": {},
   "outputs": [],
   "source": [
    "# Cautare hiperparametrii optimi - GridSearch (doar pentru Y1)\n",
    "parameter_grid = {'n_neighbors': list(range(1, 20)), 'p': [1, 2, 3]}\n",
    "grid_search = GridSearchCV(estimator = KNeighborsClassifier(), param_grid=parameter_grid, scoring='accuracy', cv=4, return_train_score=True)\n",
    "grid_search.fit(X_train, y1_train)\n",
    "results_gscv = cross_val_score(grid_search, X_test, y1_test, scoring='accuracy')"
   ]
  },
  {
   "cell_type": "code",
   "execution_count": 1379,
   "metadata": {},
   "outputs": [
    {
     "output_type": "stream",
     "name": "stdout",
     "text": "0.879185520361991\n{'n_neighbors': 4, 'p': 1}\n"
    }
   ],
   "source": [
    "print(results_gscv.mean())\n",
    "print(grid_search.best_params_)"
   ]
  },
  {
   "cell_type": "markdown",
   "metadata": {},
   "source": [
    "## Model 3: DecisionTreeClassifier"
   ]
  },
  {
   "cell_type": "code",
   "execution_count": 1380,
   "metadata": {},
   "outputs": [],
   "source": [
    "# Model\n",
    "\"\"\"\n",
    "\"\"\"\n",
    "model3 = DecisionTreeClassifier(max_depth=2)\n",
    "model3.fit(X_train, y_train)\n",
    "y_hat = model3.predict(X_test)"
   ]
  },
  {
   "cell_type": "code",
   "execution_count": 1381,
   "metadata": {},
   "outputs": [
    {
     "output_type": "stream",
     "name": "stdout",
     "text": "Predicted:\n[[2. 1.]\n [2. 1.]\n [2. 1.]\n [2. 1.]\n [1. 0.]\n [1. 0.]\n [1. 0.]\n [1. 0.]\n [0. 0.]\n [1. 0.]]\n\nGround truth:\n[[3. 2.]\n [1. 1.]\n [2. 1.]\n [3. 2.]\n [1. 0.]\n [1. 1.]\n [1. 1.]\n [1. 0.]\n [0. 0.]\n [1. 0.]]\n\nFailed:\t[47 75]\n"
    }
   ],
   "source": [
    "print(f'Predicted:\\n{y_hat[:10,:]}\\n')\n",
    "print(f'Ground truth:\\n{y_test[:10,:]}\\n')\n",
    "print(f'Failed:\\t{sum(y_hat != y_test)}')"
   ]
  },
  {
   "cell_type": "code",
   "execution_count": 1382,
   "metadata": {},
   "outputs": [],
   "source": [
    "y1_train = y_train[:, 0].reshape((y_train.shape[0], 1))\n",
    "y2_train = y_train[:, 1].reshape((y_train.shape[0], 1))\n",
    "\n",
    "y1_test = y_test[:, 0].reshape((y_test.shape[0], 1))\n",
    "y2_test = y_test[:, 1].reshape((y_test.shape[0], 1))"
   ]
  },
  {
   "cell_type": "code",
   "execution_count": 1383,
   "metadata": {},
   "outputs": [
    {
     "output_type": "execute_result",
     "data": {
      "text/plain": "{'fit_time': array([0.00099826, 0.        , 0.00099683, 0.00099754, 0.0019896 ]),\n 'score_time': array([0.00299001, 0.00199318, 0.0029912 , 0.00199556, 0.00199533]),\n 'test_f1_scorer': array([-0.78640777, -0.80582524, -0.85294118, -0.7745098 , -0.85294118]),\n 'train_f1_scorer': array([-0.82151589, -0.81662592, -0.80487805, -0.82439024, -0.80487805]),\n 'test_accuracy': array([0.78640777, 0.80582524, 0.85294118, 0.7745098 , 0.85294118]),\n 'train_accuracy': array([0.82151589, 0.81662592, 0.80487805, 0.82439024, 0.80487805])}"
     },
     "metadata": {},
     "execution_count": 1383
    }
   ],
   "source": [
    "# CV Train - Y1\n",
    "results_train = cross_validate(model3, X_train, y1_train,\n",
    "scoring={'f1_scorer': f1_scorer, 'accuracy': accuracy_scorer},\n",
    "return_train_score=True)\n",
    "results_train"
   ]
  },
  {
   "cell_type": "code",
   "execution_count": 1384,
   "metadata": {},
   "outputs": [
    {
     "output_type": "execute_result",
     "data": {
      "text/plain": "{'fit_time': array([0.00099754, 0.00099969, 0.00100112, 0.00099492, 0.        ]),\n 'score_time': array([0.00299168, 0.        , 0.00195885, 0.00099945, 0.00199199]),\n 'test_f1_scorer': array([-0.71153846, -0.90196078, -0.84313725, -0.84313725, -0.78431373]),\n 'train_f1_scorer': array([-0.84313725, -0.79512195, -0.8097561 , -0.8097561 , -0.82439024]),\n 'test_accuracy': array([0.71153846, 0.90196078, 0.84313725, 0.84313725, 0.78431373]),\n 'train_accuracy': array([0.84313725, 0.79512195, 0.8097561 , 0.8097561 , 0.82439024])}"
     },
     "metadata": {},
     "execution_count": 1384
    }
   ],
   "source": [
    "# CV Test - Y1\n",
    "results_train = cross_validate(model3, X_test, y1_test,\n",
    "scoring={'f1_scorer': f1_scorer, 'accuracy': accuracy_scorer},\n",
    "return_train_score=True)\n",
    "results_train"
   ]
  },
  {
   "cell_type": "code",
   "execution_count": 1385,
   "metadata": {},
   "outputs": [
    {
     "output_type": "execute_result",
     "data": {
      "text/plain": "{'fit_time': array([0.0009985 , 0.00099874, 0.00099754, 0.00199795, 0.00100088]),\n 'score_time': array([0.0029943 , 0.0019927 , 0.00099754, 0.00299072, 0.00202799]),\n 'test_f1_scorer': array([-0.76699029, -0.74757282, -0.74509804, -0.71568627, -0.7254902 ]),\n 'train_f1_scorer': array([-0.73349633, -0.73838631, -0.73902439, -0.74634146, -0.74390244]),\n 'test_accuracy': array([0.76699029, 0.74757282, 0.74509804, 0.71568627, 0.7254902 ]),\n 'train_accuracy': array([0.73349633, 0.73838631, 0.73902439, 0.74634146, 0.74390244])}"
     },
     "metadata": {},
     "execution_count": 1385
    }
   ],
   "source": [
    "# CV Train - Y2\n",
    "results_train = cross_validate(model3, X_train, y2_train,\n",
    "scoring={'f1_scorer': f1_scorer, 'accuracy': accuracy_scorer},\n",
    "return_train_score=True)\n",
    "results_train"
   ]
  },
  {
   "cell_type": "code",
   "execution_count": 1386,
   "metadata": {},
   "outputs": [
    {
     "output_type": "execute_result",
     "data": {
      "text/plain": "{'fit_time': array([0.00099754, 0.        , 0.        , 0.        , 0.00099707]),\n 'score_time': array([0.00299287, 0.00099802, 0.00199723, 0.0019958 , 0.00202489]),\n 'test_f1_scorer': array([-0.57692308, -0.66666667, -0.80392157, -0.7254902 , -0.78431373]),\n 'train_f1_scorer': array([-0.74019608, -0.77073171, -0.73658537, -0.75609756, -0.74146341]),\n 'test_accuracy': array([0.57692308, 0.66666667, 0.80392157, 0.7254902 , 0.78431373]),\n 'train_accuracy': array([0.74019608, 0.77073171, 0.73658537, 0.75609756, 0.74146341])}"
     },
     "metadata": {},
     "execution_count": 1386
    }
   ],
   "source": [
    "# CV Test - Y2\n",
    "results_train = cross_validate(model3, X_test, y2_test,\n",
    "scoring={'f1_scorer': f1_scorer, 'accuracy': accuracy_scorer},\n",
    "return_train_score=True)\n",
    "results_train"
   ]
  },
  {
   "cell_type": "code",
   "execution_count": 1387,
   "metadata": {},
   "outputs": [],
   "source": [
    "# Cautare hiperparametrii optimi - GridSearch (doar pentru Y1)\n",
    "parameter_grid = {'max_depth': list(range(1,5)),\n",
    "'min_samples_split': np.linspace(1,3,5),\n",
    "'min_samples_leaf': np.linspace(0.1,0.5,5),\n",
    "'max_features': ['sqrt', 'log2', None],\n",
    "'criterion': ['gini', 'entropy']}\n",
    "grid_search = GridSearchCV(estimator = DecisionTreeClassifier(), param_grid=parameter_grid, scoring='accuracy', cv=4, return_train_score=True)\n",
    "grid_search.fit(X_train, y1_train)\n",
    "results_gscv = cross_val_score(grid_search, X_test, y1_test, scoring='accuracy')"
   ]
  },
  {
   "cell_type": "code",
   "execution_count": 1388,
   "metadata": {},
   "outputs": [
    {
     "output_type": "stream",
     "name": "stdout",
     "text": "0.6130467571644043\n{'criterion': 'gini', 'max_depth': 1, 'max_features': 'sqrt', 'min_samples_leaf': 0.1, 'min_samples_split': 1.0}\n"
    }
   ],
   "source": [
    "print(results_gscv.mean())\n",
    "print(grid_search.best_params_)"
   ]
  },
  {
   "cell_type": "markdown",
   "metadata": {},
   "source": [
    "## Model 4: RandomForestClassifier"
   ]
  },
  {
   "cell_type": "code",
   "execution_count": 1389,
   "metadata": {},
   "outputs": [],
   "source": [
    "# Model\n",
    "\"\"\"\n",
    "\"\"\"\n",
    "model4 = RandomForestClassifier(max_depth=2, random_state=0, ccp_alpha=0.2)\n",
    "model4.fit(X_train, y_train)\n",
    "y_hat = model4.predict(X_test)"
   ]
  },
  {
   "cell_type": "code",
   "execution_count": 1390,
   "metadata": {},
   "outputs": [
    {
     "output_type": "stream",
     "name": "stdout",
     "text": "Predicted:\n[[2. 2.]\n [2. 2.]\n [2. 2.]\n [2. 2.]\n [1. 0.]\n [1. 0.]\n [1. 0.]\n [1. 0.]\n [1. 0.]\n [1. 0.]]\n\nGround truth:\n[[3. 2.]\n [1. 1.]\n [2. 1.]\n [3. 2.]\n [1. 0.]\n [1. 1.]\n [1. 1.]\n [1. 0.]\n [0. 0.]\n [1. 0.]]\n\nFailed:\t[79 67]\n"
    }
   ],
   "source": [
    "print(f'Predicted:\\n{y_hat[:10,:]}\\n')\n",
    "print(f'Ground truth:\\n{y_test[:10,:]}\\n')\n",
    "print(f'Failed:\\t{sum(y_hat != y_test)}')"
   ]
  },
  {
   "cell_type": "code",
   "execution_count": 1391,
   "metadata": {},
   "outputs": [],
   "source": [
    "y1_train = y_train[:, 0].reshape((y_train.shape[0], 1))\n",
    "y2_train = y_train[:, 1].reshape((y_train.shape[0], 1))\n",
    "\n",
    "y1_test = y_test[:, 0].reshape((y_test.shape[0], 1))\n",
    "y2_test = y_test[:, 1].reshape((y_test.shape[0], 1))"
   ]
  },
  {
   "cell_type": "code",
   "execution_count": 1392,
   "metadata": {},
   "outputs": [
    {
     "output_type": "execute_result",
     "data": {
      "text/plain": "{'fit_time': array([0.24839854, 0.24235201, 0.25481319, 0.23836088, 0.28424096]),\n 'score_time': array([0.0150063 , 0.01197171, 0.01496053, 0.01091933, 0.01595831]),\n 'test_f1_scorer': array([-0.67961165, -0.67961165, -0.70588235, -0.71568627, -0.69607843]),\n 'train_f1_scorer': array([-0.6992665 , -0.6992665 , -0.69268293, -0.6902439 , -0.69512195]),\n 'test_accuracy': array([0.67961165, 0.67961165, 0.70588235, 0.71568627, 0.69607843]),\n 'train_accuracy': array([0.6992665 , 0.6992665 , 0.69268293, 0.6902439 , 0.69512195])}"
     },
     "metadata": {},
     "execution_count": 1392
    }
   ],
   "source": [
    "# CV Train - Y1\n",
    "results_train = cross_validate(model4, X_train, y1_train,\n",
    "scoring={'f1_scorer': f1_scorer, 'accuracy': accuracy_scorer},\n",
    "return_train_score=True)\n",
    "results_train"
   ]
  },
  {
   "cell_type": "code",
   "execution_count": 1393,
   "metadata": {},
   "outputs": [
    {
     "output_type": "execute_result",
     "data": {
      "text/plain": "{'fit_time': array([0.2712698 , 0.21741629, 0.27244449, 0.21793246, 0.20707059]),\n 'score_time': array([0.01795268, 0.01699018, 0.01596093, 0.0229423 , 0.0119679 ]),\n 'test_f1_scorer': array([-0.67307692, -0.70588235, -0.66666667, -0.66666667, -0.70588235]),\n 'train_f1_scorer': array([-0.69607843, -0.68780488, -0.69756098, -0.69756098, -0.68780488]),\n 'test_accuracy': array([0.67307692, 0.70588235, 0.66666667, 0.66666667, 0.70588235]),\n 'train_accuracy': array([0.69607843, 0.68780488, 0.69756098, 0.69756098, 0.68780488])}"
     },
     "metadata": {},
     "execution_count": 1393
    }
   ],
   "source": [
    "# CV Test - Y1\n",
    "results_train = cross_validate(model4, X_test, y1_test,\n",
    "scoring={'f1_scorer': f1_scorer, 'accuracy': accuracy_scorer},\n",
    "return_train_score=True)\n",
    "results_train"
   ]
  },
  {
   "cell_type": "code",
   "execution_count": 1394,
   "metadata": {},
   "outputs": [
    {
     "output_type": "execute_result",
     "data": {
      "text/plain": "{'fit_time': array([0.26072931, 0.27127862, 0.32481742, 0.26030445, 0.25671387]),\n 'score_time': array([0.01798368, 0.02991724, 0.02393413, 0.02493215, 0.01097226]),\n 'test_f1_scorer': array([-0.73786408, -0.73786408, -0.73529412, -0.7254902 , -0.7254902 ]),\n 'train_f1_scorer': array([-0.73105134, -0.73105134, -0.73170732, -0.73414634, -0.73414634]),\n 'test_accuracy': array([0.73786408, 0.73786408, 0.73529412, 0.7254902 , 0.7254902 ]),\n 'train_accuracy': array([0.73105134, 0.73105134, 0.73170732, 0.73414634, 0.73414634])}"
     },
     "metadata": {},
     "execution_count": 1394
    }
   ],
   "source": [
    "# CV Train - Y2\n",
    "results_train = cross_validate(model4, X_train, y2_train,\n",
    "scoring={'f1_scorer': f1_scorer, 'accuracy': accuracy_scorer},\n",
    "return_train_score=True)\n",
    "results_train"
   ]
  },
  {
   "cell_type": "code",
   "execution_count": 1395,
   "metadata": {},
   "outputs": [
    {
     "output_type": "execute_result",
     "data": {
      "text/plain": "{'fit_time': array([0.2414093 , 0.24211478, 0.19841623, 0.25837517, 0.19143152]),\n 'score_time': array([0.01848769, 0.01200056, 0.01799846, 0.02593184, 0.01396036]),\n 'test_f1_scorer': array([-0.73076923, -0.76470588, -0.74509804, -0.7254902 , -0.7254902 ]),\n 'train_f1_scorer': array([-0.74019608, -0.73170732, -0.73658537, -0.74146341, -0.74146341]),\n 'test_accuracy': array([0.73076923, 0.76470588, 0.74509804, 0.7254902 , 0.7254902 ]),\n 'train_accuracy': array([0.74019608, 0.73170732, 0.73658537, 0.74146341, 0.74146341])}"
     },
     "metadata": {},
     "execution_count": 1395
    }
   ],
   "source": [
    "# CV Test - Y2\n",
    "results_train = cross_validate(model4, X_test, y2_test,\n",
    "scoring={'f1_scorer': f1_scorer, 'accuracy': accuracy_scorer},\n",
    "return_train_score=True)\n",
    "results_train"
   ]
  },
  {
   "cell_type": "code",
   "execution_count": 1398,
   "metadata": {},
   "outputs": [],
   "source": [
    "# Cautare hiperparametrii optimi - GridSearch (doar pentru Y1)\n",
    "parameter_grid = {'max_depth': list(range(5,10)),\n",
    "'min_samples_split': list(range(1,4)),\n",
    "'min_samples_leaf': list(range(1,5))}\n",
    "grid_search = GridSearchCV(estimator = RandomForestClassifier(), param_grid=parameter_grid, scoring='accuracy', cv=4, return_train_score=True)\n",
    "grid_search.fit(X_train, y1_train)\n",
    "results_gscv = cross_val_score(grid_search, X_test, y1_test, scoring='accuracy')"
   ]
  },
  {
   "cell_type": "code",
   "execution_count": 1399,
   "metadata": {},
   "outputs": [
    {
     "output_type": "stream",
     "name": "stdout",
     "text": "0.9453242835595776\n{'max_depth': 8, 'min_samples_leaf': 1, 'min_samples_split': 2}\n"
    }
   ],
   "source": [
    "print(results_gscv.mean())\n",
    "print(grid_search.best_params_)"
   ]
  },
  {
   "cell_type": "markdown",
   "metadata": {},
   "source": [
    "## Model 5: SVC (Support Vector Classification)"
   ]
  },
  {
   "cell_type": "code",
   "execution_count": 1347,
   "metadata": {},
   "outputs": [],
   "source": [
    "# Model\n",
    "\"\"\"\n",
    "\n",
    "\"\"\"\n",
    "model5 = MultiOutputClassifier(SVC(C=2, gamma='auto'))\n",
    "model5.fit(X_train, y_train)\n",
    "y_hat = model5.predict(X_test)"
   ]
  },
  {
   "cell_type": "code",
   "execution_count": 1348,
   "metadata": {},
   "outputs": [
    {
     "output_type": "stream",
     "name": "stdout",
     "text": "Predicted:\n[[3. 2.]\n [1. 0.]\n [3. 2.]\n [1. 0.]\n [3. 2.]\n [1. 0.]\n [2. 2.]\n [1. 0.]\n [1. 0.]\n [1. 0.]]\n\nGround truth:\n[[2. 1.]\n [1. 0.]\n [4. 2.]\n [1. 0.]\n [4. 3.]\n [1. 0.]\n [2. 2.]\n [1. 0.]\n [0. 0.]\n [0. 0.]]\n\nFailed:\t[46 56]\n"
    }
   ],
   "source": [
    "print(f'Predicted:\\n{y_hat[:10,:]}\\n')\n",
    "print(f'Ground truth:\\n{y_test[:10,:]}\\n')\n",
    "print(f'Failed:\\t{sum(y_hat != y_test)}')"
   ]
  },
  {
   "cell_type": "code",
   "execution_count": 1349,
   "metadata": {},
   "outputs": [],
   "source": [
    "y1_train = y_train[:, 0].reshape((y_train.shape[0], 1))\n",
    "y2_train = y_train[:, 1].reshape((y_train.shape[0], 1))\n",
    "\n",
    "y1_test = y_test[:, 0].reshape((y_test.shape[0], 1))\n",
    "y2_test = y_test[:, 1].reshape((y_test.shape[0], 1))"
   ]
  },
  {
   "cell_type": "code",
   "execution_count": 1400,
   "metadata": {},
   "outputs": [
    {
     "output_type": "execute_result",
     "data": {
      "text/plain": "{'fit_time': array([0.00697351, 0.00698066, 0.00578094, 0.00501895, 0.00604463]),\n 'score_time': array([0.00598431, 0.00299025, 0.00300717, 0.00296092, 0.00296092]),\n 'test_f1_scorer': array([-0.7961165 , -0.78640777, -0.87254902, -0.88235294, -0.85294118]),\n 'train_f1_scorer': array([-0.85574572, -0.84352078, -0.85121951, -0.84146341, -0.83902439]),\n 'test_accuracy': array([0.7961165 , 0.78640777, 0.87254902, 0.88235294, 0.85294118]),\n 'train_accuracy': array([0.85574572, 0.84352078, 0.85121951, 0.84146341, 0.83902439])}"
     },
     "metadata": {},
     "execution_count": 1400
    }
   ],
   "source": [
    "# CV Train - Y1\n",
    "results_train = cross_validate(model5, X_train, y1_train,\n",
    "scoring={'f1_scorer': f1_scorer, 'accuracy': accuracy_scorer},\n",
    "return_train_score=True)\n",
    "results_train"
   ]
  },
  {
   "cell_type": "code",
   "execution_count": 1401,
   "metadata": {},
   "outputs": [
    {
     "output_type": "execute_result",
     "data": {
      "text/plain": "{'fit_time': array([0.00498843, 0.00299287, 0.00698543, 0.00299311, 0.0039885 ]),\n 'score_time': array([0.00399065, 0.00202847, 0.0009923 , 0.00199628, 0.00300264]),\n 'test_f1_scorer': array([-0.69230769, -0.82352941, -0.78431373, -0.78431373, -0.80392157]),\n 'train_f1_scorer': array([-0.7745098 , -0.79512195, -0.80487805, -0.80487805, -0.8       ]),\n 'test_accuracy': array([0.69230769, 0.82352941, 0.78431373, 0.78431373, 0.80392157]),\n 'train_accuracy': array([0.7745098 , 0.79512195, 0.80487805, 0.80487805, 0.8       ])}"
     },
     "metadata": {},
     "execution_count": 1401
    }
   ],
   "source": [
    "# CV Test - Y1\n",
    "results_train = cross_validate(model5, X_test, y1_test,\n",
    "scoring={'f1_scorer': f1_scorer, 'accuracy': accuracy_scorer},\n",
    "return_train_score=True)\n",
    "results_train"
   ]
  },
  {
   "cell_type": "code",
   "execution_count": 1402,
   "metadata": {},
   "outputs": [
    {
     "output_type": "execute_result",
     "data": {
      "text/plain": "{'fit_time': array([0.00897336, 0.00698137, 0.0059433 , 0.00495553, 0.0069778 ]),\n 'score_time': array([0.00398946, 0.00202584, 0.00298762, 0.00299239, 0.00399399]),\n 'test_f1_scorer': array([-0.75728155, -0.81553398, -0.75490196, -0.7745098 , -0.85294118]),\n 'train_f1_scorer': array([-0.799511  , -0.80195599, -0.8       , -0.79756098, -0.78780488]),\n 'test_accuracy': array([0.75728155, 0.81553398, 0.75490196, 0.7745098 , 0.85294118]),\n 'train_accuracy': array([0.799511  , 0.80195599, 0.8       , 0.79756098, 0.78780488])}"
     },
     "metadata": {},
     "execution_count": 1402
    }
   ],
   "source": [
    "# CV Train - Y2\n",
    "results_train = cross_validate(model5, X_train, y2_train,\n",
    "scoring={'f1_scorer': f1_scorer, 'accuracy': accuracy_scorer},\n",
    "return_train_score=True)\n",
    "results_train"
   ]
  },
  {
   "cell_type": "code",
   "execution_count": 1403,
   "metadata": {},
   "outputs": [
    {
     "output_type": "execute_result",
     "data": {
      "text/plain": "{'fit_time': array([0.00299287, 0.00897932, 0.00199604, 0.00398755, 0.0029943 ]),\n 'score_time': array([0.00398684, 0.00298786, 0.00199294, 0.00299168, 0.00199246]),\n 'test_f1_scorer': array([-0.76923077, -0.74509804, -0.84313725, -0.80392157, -0.78431373]),\n 'train_f1_scorer': array([-0.79411765, -0.79512195, -0.7804878 , -0.7902439 , -0.7902439 ]),\n 'test_accuracy': array([0.76923077, 0.74509804, 0.84313725, 0.80392157, 0.78431373]),\n 'train_accuracy': array([0.79411765, 0.79512195, 0.7804878 , 0.7902439 , 0.7902439 ])}"
     },
     "metadata": {},
     "execution_count": 1403
    }
   ],
   "source": [
    "# CV Test - Y2\n",
    "results_train = cross_validate(model5, X_test, y2_test,\n",
    "scoring={'f1_scorer': f1_scorer, 'accuracy': accuracy_scorer},\n",
    "return_train_score=True)\n",
    "results_train"
   ]
  },
  {
   "cell_type": "code",
   "execution_count": null,
   "metadata": {},
   "outputs": [],
   "source": []
  }
 ]
}