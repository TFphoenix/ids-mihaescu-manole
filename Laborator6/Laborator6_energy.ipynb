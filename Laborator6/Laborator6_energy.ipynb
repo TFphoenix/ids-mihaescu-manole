{
 "cells": [
  {
   "cell_type": "markdown",
   "metadata": {},
   "source": [
    "## Nume studenti:\n",
    "- Alexandra Manole\n",
    "- Teodor Mihaescu\n",
    "\n",
    "## Grupa: 382"
   ]
  },
  {
   "cell_type": "markdown",
   "metadata": {},
   "source": [
    "# Data Set 2: Energy Efficency\n",
    "### (Missing values: no)"
   ]
  },
  {
   "cell_type": "code",
   "execution_count": 1354,
   "metadata": {},
   "outputs": [],
   "source": [
    "from collections import Counter\n",
    "import matplotlib.pyplot as plt\n",
    "import pandas as pd\n",
    "import numpy as np\n",
    "\n",
    "from sklearn.experimental import enable_iterative_imputer\n",
    "from sklearn.impute import IterativeImputer, SimpleImputer\n",
    "from sklearn.model_selection import train_test_split\n",
    "from sklearn.linear_model import LinearRegression, LogisticRegression\n",
    "from sklearn.neighbors import KNeighborsClassifier\n",
    "from sklearn.tree import DecisionTreeClassifier\n",
    "from sklearn.ensemble import RandomForestClassifier\n",
    "from sklearn.neural_network import MLPClassifier\n",
    "from sklearn.multioutput import MultiOutputRegressor\n",
    "from sklearn.svm import SVC\n",
    "from sklearn import metrics\n",
    "from sklearn import preprocessing\n",
    "from sklearn.model_selection import cross_validate, cross_val_score, GridSearchCV"
   ]
  },
  {
   "cell_type": "code",
   "execution_count": 1355,
   "metadata": {},
   "outputs": [
    {
     "name": "stdout",
     "output_type": "stream",
     "text": [
      "<class 'pandas.core.frame.DataFrame'>\n",
      "RangeIndex: 768 entries, 0 to 767\n",
      "Data columns (total 10 columns):\n",
      " #   Column  Non-Null Count  Dtype  \n",
      "---  ------  --------------  -----  \n",
      " 0   X1      768 non-null    float64\n",
      " 1   X2      768 non-null    float64\n",
      " 2   X3      768 non-null    float64\n",
      " 3   X4      768 non-null    float64\n",
      " 4   X5      768 non-null    float64\n",
      " 5   X6      768 non-null    float64\n",
      " 6   X7      768 non-null    float64\n",
      " 7   X8      768 non-null    float64\n",
      " 8   Y1      768 non-null    float64\n",
      " 9   Y2      768 non-null    float64\n",
      "dtypes: float64(10)\n",
      "memory usage: 60.1 KB\n"
     ]
    }
   ],
   "source": [
    "# Citeste datele\n",
    "data = pd.read_csv('./Datasets/energy.csv').iloc[:768,:-2]\n",
    "data.info()"
   ]
  },
  {
   "cell_type": "code",
   "execution_count": 1356,
   "metadata": {},
   "outputs": [],
   "source": [
    "# Pregateste datele\n",
    "X = data.loc[:, :'X8']\n",
    "# y = data.loc[:, 'Y1':]\n",
    "y1 = data.loc[:, 'Y1']\n",
    "y2 = data.loc[:, 'Y2']"
   ]
  },
  {
   "cell_type": "code",
   "execution_count": 1357,
   "metadata": {},
   "outputs": [],
   "source": [
    "# Transformam problema dintr-una de regresie intr-una de clasificare, dand intervale de clasificare y-ilor\n",
    "\"\"\"\n",
    "Observam ca y1 si y2 se incadreaza intre urmatoarele valori:\n",
    "y1: 6.01-43.1\n",
    "y2: 10.9-48.03\n",
    "\n",
    "Vom imparti datele in urmatoarele clase:\n",
    "y1: 6-10, 10-20, 20-30, 30-40, 40-50\n",
    "y2: 10-20, 20-30, 30-40, 40-50\n",
    "\"\"\"\n",
    "y1 = np.where(np.logical_and(y1>=6, y1<10), 0, y1)\n",
    "y1 = np.where(np.logical_and(y1>=10, y1<20), 1, y1)\n",
    "y1 = np.where(np.logical_and(y1>=20, y1<30), 2, y1)\n",
    "y1 = np.where(np.logical_and(y1>=30, y1<40), 3, y1)\n",
    "y1 = np.where(np.logical_and(y1>=40, y1<50), 4, y1)\n",
    "\n",
    "y2 = np.where(np.logical_and(y2>=10, y2<20), 0, y2)\n",
    "y2 = np.where(np.logical_and(y2>=20, y2<30), 1, y2)\n",
    "y2 = np.where(np.logical_and(y2>=30, y2<40), 2, y2)\n",
    "y2 = np.where(np.logical_and(y2>=40, y2<50), 3, y2)\n",
    "\n",
    "y = np.stack((y1, y2), axis=1)"
   ]
  },
  {
   "cell_type": "code",
   "execution_count": 1358,
   "metadata": {},
   "outputs": [],
   "source": [
    "# Scaleaza datele\n",
    "min_max_scaler = preprocessing.MinMaxScaler()\n",
    "X = min_max_scaler.fit_transform(X)\n",
    "# y = min_max_scaler.fit_transform(y)"
   ]
  },
  {
   "cell_type": "code",
   "execution_count": 1359,
   "metadata": {},
   "outputs": [],
   "source": [
    "# Separarea setului de date\n",
    "X_train, X_test, y_train, y_test = train_test_split(X, y, test_size=1/3, shuffle=True)"
   ]
  },
  {
   "cell_type": "code",
   "execution_count": 1360,
   "metadata": {},
   "outputs": [
    {
     "name": "stdout",
     "output_type": "stream",
     "text": [
      "Counter({1.0: 247, 2.0: 117, 3.0: 115, 4.0: 23, 0.0: 10})\n",
      "Counter({1.0: 130, 3.0: 52, 2.0: 52, 4.0: 12, 0.0: 10})\n",
      "\n",
      "\n",
      "Counter({0.0: 227, 2.0: 148, 1.0: 112, 3.0: 25})\n",
      "Counter({0.0: 121, 2.0: 68, 1.0: 53, 3.0: 14})\n"
     ]
    }
   ],
   "source": [
    "# Verifica daca sunt egal distribuite\n",
    "print(Counter(y_train[:,0]))\n",
    "print(Counter(y_test[:,0]))\n",
    "print(\"\\n\")\n",
    "print(Counter(y_train[:,1]))\n",
    "print(Counter(y_test[:,1]))"
   ]
  },
  {
   "cell_type": "markdown",
   "metadata": {},
   "source": [
    "## Model 1: LogisticRegression"
   ]
  },
  {
   "cell_type": "code",
   "execution_count": 1361,
   "metadata": {},
   "outputs": [],
   "source": [
    "# Model\n",
    "\"\"\"\n",
    "\"\"\"\n",
    "model1 = MultiOutputClassifier(LogisticRegression(random_state=0, multi_class='multinomial'))\n",
    "model1.fit(X_train, y_train)\n",
    "y_hat = model1.predict(X_test)"
   ]
  },
  {
   "cell_type": "code",
   "execution_count": 1362,
   "metadata": {},
   "outputs": [
    {
     "name": "stdout",
     "output_type": "stream",
     "text": [
      "Predicted:\n",
      "[[3. 2.]\n",
      " [2. 1.]\n",
      " [2. 1.]\n",
      " [3. 2.]\n",
      " [1. 0.]\n",
      " [1. 0.]\n",
      " [1. 0.]\n",
      " [1. 0.]\n",
      " [1. 0.]\n",
      " [1. 0.]]\n",
      "\n",
      "Ground truth:\n",
      "[[3. 2.]\n",
      " [1. 1.]\n",
      " [2. 1.]\n",
      " [3. 2.]\n",
      " [1. 0.]\n",
      " [1. 1.]\n",
      " [1. 1.]\n",
      " [1. 0.]\n",
      " [0. 0.]\n",
      " [1. 0.]]\n",
      "\n",
      "Failed:\t[46 54]\n"
     ]
    }
   ],
   "source": [
    "print(f'Predicted:\\n{y_hat[:10,:]}\\n')\n",
    "print(f'Ground truth:\\n{y_test[:10,:]}\\n')\n",
    "print(f'Failed:\\t{sum(y_hat != y_test)}')"
   ]
  },
  {
   "cell_type": "code",
   "execution_count": 1363,
   "metadata": {},
   "outputs": [],
   "source": [
    "y1_train = y_train[:, 0].reshape((y_train.shape[0], 1))\n",
    "y2_train = y_train[:, 1].reshape((y_train.shape[0], 1))\n",
    "\n",
    "y1_test = y_test[:, 0].reshape((y_test.shape[0], 1))\n",
    "y2_test = y_test[:, 1].reshape((y_test.shape[0], 1))"
   ]
  },
  {
   "cell_type": "code",
   "execution_count": 1364,
   "metadata": {},
   "outputs": [],
   "source": [
    "# Custom scoreers for multiclass output\n",
    "f1_scorer = metrics.make_scorer(metrics.f1_score, greater_is_better=False, average='micro')\n",
    "accuracy_scorer = metrics.make_scorer(metrics.accuracy_score, greater_is_better=True)"
   ]
  },
  {
   "cell_type": "code",
   "execution_count": 1365,
   "metadata": {},
   "outputs": [
    {
     "data": {
      "text/plain": [
       "{'fit_time': array([0.05884266, 0.06056428, 0.04687476, 0.04389167, 0.04288197]),\n",
       " 'score_time': array([0.00498724, 0.00299144, 0.00199437, 0.00498843, 0.00099778]),\n",
       " 'test_f1_scorer': array([-0.80582524, -0.7961165 , -0.87254902, -0.85294118, -0.8627451 ]),\n",
       " 'train_f1_scorer': array([-0.86552567, -0.8606357 , -0.85609756, -0.83658537, -0.84878049]),\n",
       " 'test_accuracy': array([0.80582524, 0.7961165 , 0.87254902, 0.85294118, 0.8627451 ]),\n",
       " 'train_accuracy': array([0.86552567, 0.8606357 , 0.85609756, 0.83658537, 0.84878049])}"
      ]
     },
     "execution_count": 1365,
     "metadata": {},
     "output_type": "execute_result"
    }
   ],
   "source": [
    "# Cross Validation Y1\n",
    "results_train = cross_validate(model1, X, y1,\n",
    "scoring={'f1_scorer': f1_scorer, 'accuracy': accuracy_scorer},\n",
    "return_train_score=True)\n",
    "results_train"
   ]
  },
  {
   "cell_type": "code",
   "execution_count": 1367,
   "metadata": {},
   "outputs": [
    {
     "data": {
      "text/plain": [
       "{'fit_time': array([0.03989291, 0.04587603, 0.03192091, 0.03989148, 0.04085636]),\n",
       " 'score_time': array([0.0010004 , 0.00299358, 0.00298738, 0.00399518, 0.00211287]),\n",
       " 'test_f1_scorer': array([-0.77669903, -0.7961165 , -0.7745098 , -0.74509804, -0.80392157]),\n",
       " 'train_f1_scorer': array([-0.78973105, -0.78239609, -0.79512195, -0.79756098, -0.78292683]),\n",
       " 'test_accuracy': array([0.77669903, 0.7961165 , 0.7745098 , 0.74509804, 0.80392157]),\n",
       " 'train_accuracy': array([0.78973105, 0.78239609, 0.79512195, 0.79756098, 0.78292683])}"
      ]
     },
     "execution_count": 1367,
     "metadata": {},
     "output_type": "execute_result"
    }
   ],
   "source": [
    "# Cross Validation Y2\n",
    "results_train = cross_validate(model1, X, y2,\n",
    "scoring={'f1_scorer': f1_scorer, 'accuracy': accuracy_scorer},\n",
    "return_train_score=True)\n",
    "results_train"
   ]
  },
  {
   "cell_type": "code",
   "execution_count": 1369,
   "metadata": {},
   "outputs": [],
   "source": [
    "# Cautare hiperparametrii optimi - GridSearch (doar pentru Y1)\n",
    "parameter_grid = {\n",
    "    'C' : np.linspace(1000, 2000, 10),# C = 1/lambda ; C mare => lambda mic\n",
    "    'solver': ['saga', 'lbfgs']}\n",
    "grid_search = GridSearchCV(estimator = LogisticRegression(), param_grid=parameter_grid, scoring='accuracy', cv=4, return_train_score=True)\n",
    "grid_search.fit(X_train, y1_train)\n",
    "results_gscv = cross_val_score(grid_search, X_test, y1_test, scoring='accuracy')"
   ]
  },
  {
   "cell_type": "code",
   "execution_count": 1370,
   "metadata": {},
   "outputs": [
    {
     "name": "stdout",
     "output_type": "stream",
     "text": [
      "0.8594268476621417\n",
      "{'C': 1222.2222222222222, 'solver': 'lbfgs'}\n"
     ]
    }
   ],
   "source": [
    "print(results_gscv.mean())\n",
    "print(grid_search.best_params_)"
   ]
  },
  {
   "cell_type": "markdown",
   "metadata": {},
   "source": [
    "## Model 2: KNeighborsClassifier"
   ]
  },
  {
   "cell_type": "code",
   "execution_count": 1371,
   "metadata": {},
   "outputs": [],
   "source": [
    "# Model\n",
    "\"\"\"\n",
    "\"\"\"\n",
    "model2 = KNeighborsClassifier()\n",
    "model2.fit(X_train, y_train)\n",
    "y_hat = model2.predict(X_test)"
   ]
  },
  {
   "cell_type": "code",
   "execution_count": 1372,
   "metadata": {},
   "outputs": [
    {
     "name": "stdout",
     "output_type": "stream",
     "text": [
      "Predicted:\n",
      "[[3. 2.]\n",
      " [1. 1.]\n",
      " [2. 1.]\n",
      " [2. 2.]\n",
      " [1. 0.]\n",
      " [1. 0.]\n",
      " [1. 0.]\n",
      " [1. 0.]\n",
      " [0. 0.]\n",
      " [1. 0.]]\n",
      "\n",
      "Ground truth:\n",
      "[[3. 2.]\n",
      " [1. 1.]\n",
      " [2. 1.]\n",
      " [3. 2.]\n",
      " [1. 0.]\n",
      " [1. 1.]\n",
      " [1. 1.]\n",
      " [1. 0.]\n",
      " [0. 0.]\n",
      " [1. 0.]]\n",
      "\n",
      "Failed:\t[41 53]\n"
     ]
    }
   ],
   "source": [
    "print(f'Predicted:\\n{y_hat[:10,:]}\\n')\n",
    "print(f'Ground truth:\\n{y_test[:10,:]}\\n')\n",
    "print(f'Failed:\\t{sum(y_hat != y_test)}')"
   ]
  },
  {
   "cell_type": "code",
   "execution_count": 1373,
   "metadata": {},
   "outputs": [],
   "source": [
    "y1_train = y_train[:, 0].reshape((y_train.shape[0], 1))\n",
    "y2_train = y_train[:, 1].reshape((y_train.shape[0], 1))\n",
    "\n",
    "y1_test = y_test[:, 0].reshape((y_test.shape[0], 1))\n",
    "y2_test = y_test[:, 1].reshape((y_test.shape[0], 1))"
   ]
  },
  {
   "cell_type": "code",
   "execution_count": 1374,
   "metadata": {},
   "outputs": [
    {
     "data": {
      "text/plain": [
       "{'fit_time': array([0.00199556, 0.0009973 , 0.00099611, 0.00236106, 0.00199556]),\n",
       " 'score_time': array([0.01048613, 0.00598359, 0.00598407, 0.01200843, 0.00997233]),\n",
       " 'test_f1_scorer': array([-0.80582524, -0.86407767, -0.85294118, -0.83333333, -0.85294118]),\n",
       " 'train_f1_scorer': array([-0.91442543, -0.91198044, -0.91219512, -0.91707317, -0.91707317]),\n",
       " 'test_accuracy': array([0.80582524, 0.86407767, 0.85294118, 0.83333333, 0.85294118]),\n",
       " 'train_accuracy': array([0.91442543, 0.91198044, 0.91219512, 0.91707317, 0.91707317])}"
      ]
     },
     "execution_count": 1374,
     "metadata": {},
     "output_type": "execute_result"
    }
   ],
   "source": [
    "# Cross Validation Y1\n",
    "results_train = cross_validate(model2, X, y1,\n",
    "scoring={'f1_scorer': f1_scorer, 'accuracy': accuracy_scorer},\n",
    "return_train_score=True)\n",
    "results_train"
   ]
  },
  {
   "cell_type": "code",
   "execution_count": 1376,
   "metadata": {},
   "outputs": [
    {
     "data": {
      "text/plain": [
       "{'fit_time': array([0.00099564, 0.00199509, 0.00200653, 0.0009973 , 0.00099421]),\n",
       " 'score_time': array([0.01196742, 0.00901175, 0.00896549, 0.00598693, 0.00498652]),\n",
       " 'test_f1_scorer': array([-0.75728155, -0.83495146, -0.7254902 , -0.74509804, -0.80392157]),\n",
       " 'train_f1_scorer': array([-0.88508557, -0.85330073, -0.88536585, -0.88536585, -0.87804878]),\n",
       " 'test_accuracy': array([0.75728155, 0.83495146, 0.7254902 , 0.74509804, 0.80392157]),\n",
       " 'train_accuracy': array([0.88508557, 0.85330073, 0.88536585, 0.88536585, 0.87804878])}"
      ]
     },
     "execution_count": 1376,
     "metadata": {},
     "output_type": "execute_result"
    }
   ],
   "source": [
    "# Cross Validation Y2\n",
    "results_train = cross_validate(model2, X, y2,\n",
    "scoring={'f1_scorer': f1_scorer, 'accuracy': accuracy_scorer},\n",
    "return_train_score=True)\n",
    "results_train"
   ]
  },
  {
   "cell_type": "code",
   "execution_count": 1378,
   "metadata": {},
   "outputs": [],
   "source": [
    "# Cautare hiperparametrii optimi - GridSearch (doar pentru Y1)\n",
    "parameter_grid = {'n_neighbors': list(range(1, 20)), 'p': [1, 2, 3]}\n",
    "grid_search = GridSearchCV(estimator = KNeighborsClassifier(), param_grid=parameter_grid, scoring='accuracy', cv=4, return_train_score=True)\n",
    "grid_search.fit(X_train, y1_train)\n",
    "results_gscv = cross_val_score(grid_search, X_test, y1_test, scoring='accuracy')"
   ]
  },
  {
   "cell_type": "code",
   "execution_count": 1379,
   "metadata": {},
   "outputs": [
    {
     "name": "stdout",
     "output_type": "stream",
     "text": [
      "0.879185520361991\n",
      "{'n_neighbors': 4, 'p': 1}\n"
     ]
    }
   ],
   "source": [
    "print(results_gscv.mean())\n",
    "print(grid_search.best_params_)"
   ]
  },
  {
   "cell_type": "markdown",
   "metadata": {},
   "source": [
    "## Model 3: DecisionTreeClassifier"
   ]
  },
  {
   "cell_type": "code",
   "execution_count": 1380,
   "metadata": {},
   "outputs": [],
   "source": [
    "# Model\n",
    "\"\"\"\n",
    "\"\"\"\n",
    "model3 = DecisionTreeClassifier(max_depth=2)\n",
    "model3.fit(X_train, y_train)\n",
    "y_hat = model3.predict(X_test)"
   ]
  },
  {
   "cell_type": "code",
   "execution_count": 1381,
   "metadata": {},
   "outputs": [
    {
     "name": "stdout",
     "output_type": "stream",
     "text": [
      "Predicted:\n",
      "[[2. 1.]\n",
      " [2. 1.]\n",
      " [2. 1.]\n",
      " [2. 1.]\n",
      " [1. 0.]\n",
      " [1. 0.]\n",
      " [1. 0.]\n",
      " [1. 0.]\n",
      " [0. 0.]\n",
      " [1. 0.]]\n",
      "\n",
      "Ground truth:\n",
      "[[3. 2.]\n",
      " [1. 1.]\n",
      " [2. 1.]\n",
      " [3. 2.]\n",
      " [1. 0.]\n",
      " [1. 1.]\n",
      " [1. 1.]\n",
      " [1. 0.]\n",
      " [0. 0.]\n",
      " [1. 0.]]\n",
      "\n",
      "Failed:\t[47 75]\n"
     ]
    }
   ],
   "source": [
    "print(f'Predicted:\\n{y_hat[:10,:]}\\n')\n",
    "print(f'Ground truth:\\n{y_test[:10,:]}\\n')\n",
    "print(f'Failed:\\t{sum(y_hat != y_test)}')"
   ]
  },
  {
   "cell_type": "code",
   "execution_count": 1382,
   "metadata": {},
   "outputs": [],
   "source": [
    "y1_train = y_train[:, 0].reshape((y_train.shape[0], 1))\n",
    "y2_train = y_train[:, 1].reshape((y_train.shape[0], 1))\n",
    "\n",
    "y1_test = y_test[:, 0].reshape((y_test.shape[0], 1))\n",
    "y2_test = y_test[:, 1].reshape((y_test.shape[0], 1))"
   ]
  },
  {
   "cell_type": "code",
   "execution_count": 1383,
   "metadata": {},
   "outputs": [
    {
     "data": {
      "text/plain": [
       "{'fit_time': array([0.00099826, 0.        , 0.00099683, 0.00099754, 0.0019896 ]),\n",
       " 'score_time': array([0.00299001, 0.00199318, 0.0029912 , 0.00199556, 0.00199533]),\n",
       " 'test_f1_scorer': array([-0.78640777, -0.80582524, -0.85294118, -0.7745098 , -0.85294118]),\n",
       " 'train_f1_scorer': array([-0.82151589, -0.81662592, -0.80487805, -0.82439024, -0.80487805]),\n",
       " 'test_accuracy': array([0.78640777, 0.80582524, 0.85294118, 0.7745098 , 0.85294118]),\n",
       " 'train_accuracy': array([0.82151589, 0.81662592, 0.80487805, 0.82439024, 0.80487805])}"
      ]
     },
     "execution_count": 1383,
     "metadata": {},
     "output_type": "execute_result"
    }
   ],
   "source": [
    "# Cross Validation Y1\n",
    "results_train = cross_validate(model3, X, y1,\n",
    "scoring={'f1_scorer': f1_scorer, 'accuracy': accuracy_scorer},\n",
    "return_train_score=True)\n",
    "results_train"
   ]
  },
  {
   "cell_type": "code",
   "execution_count": 1385,
   "metadata": {},
   "outputs": [
    {
     "data": {
      "text/plain": [
       "{'fit_time': array([0.0009985 , 0.00099874, 0.00099754, 0.00199795, 0.00100088]),\n",
       " 'score_time': array([0.0029943 , 0.0019927 , 0.00099754, 0.00299072, 0.00202799]),\n",
       " 'test_f1_scorer': array([-0.76699029, -0.74757282, -0.74509804, -0.71568627, -0.7254902 ]),\n",
       " 'train_f1_scorer': array([-0.73349633, -0.73838631, -0.73902439, -0.74634146, -0.74390244]),\n",
       " 'test_accuracy': array([0.76699029, 0.74757282, 0.74509804, 0.71568627, 0.7254902 ]),\n",
       " 'train_accuracy': array([0.73349633, 0.73838631, 0.73902439, 0.74634146, 0.74390244])}"
      ]
     },
     "execution_count": 1385,
     "metadata": {},
     "output_type": "execute_result"
    }
   ],
   "source": [
    "# Cross Validation Y2\n",
    "results_train = cross_validate(model3, X, y2,\n",
    "scoring={'f1_scorer': f1_scorer, 'accuracy': accuracy_scorer},\n",
    "return_train_score=True)\n",
    "results_train"
   ]
  },
  {
   "cell_type": "code",
   "execution_count": 1387,
   "metadata": {},
   "outputs": [],
   "source": [
    "# Cautare hiperparametrii optimi - GridSearch (doar pentru Y1)\n",
    "parameter_grid = {'max_depth': list(range(1,5)),\n",
    "'min_samples_split': np.linspace(1,3,5),\n",
    "'min_samples_leaf': np.linspace(0.1,0.5,5),\n",
    "'max_features': ['sqrt', 'log2', None],\n",
    "'criterion': ['gini', 'entropy']}\n",
    "grid_search = GridSearchCV(estimator = DecisionTreeClassifier(), param_grid=parameter_grid, scoring='accuracy', cv=4, return_train_score=True)\n",
    "grid_search.fit(X_train, y1_train)\n",
    "results_gscv = cross_val_score(grid_search, X_test, y1_test, scoring='accuracy')"
   ]
  },
  {
   "cell_type": "code",
   "execution_count": 1388,
   "metadata": {},
   "outputs": [
    {
     "name": "stdout",
     "output_type": "stream",
     "text": [
      "0.6130467571644043\n",
      "{'criterion': 'gini', 'max_depth': 1, 'max_features': 'sqrt', 'min_samples_leaf': 0.1, 'min_samples_split': 1.0}\n"
     ]
    }
   ],
   "source": [
    "print(results_gscv.mean())\n",
    "print(grid_search.best_params_)"
   ]
  },
  {
   "cell_type": "markdown",
   "metadata": {},
   "source": [
    "## Model 4: RandomForestClassifier"
   ]
  },
  {
   "cell_type": "code",
   "execution_count": 1389,
   "metadata": {},
   "outputs": [],
   "source": [
    "# Model\n",
    "\"\"\"\n",
    "\"\"\"\n",
    "model4 = RandomForestClassifier(max_depth=2, random_state=0, ccp_alpha=0.2)\n",
    "model4.fit(X_train, y_train)\n",
    "y_hat = model4.predict(X_test)"
   ]
  },
  {
   "cell_type": "code",
   "execution_count": 1390,
   "metadata": {},
   "outputs": [
    {
     "name": "stdout",
     "output_type": "stream",
     "text": [
      "Predicted:\n",
      "[[2. 2.]\n",
      " [2. 2.]\n",
      " [2. 2.]\n",
      " [2. 2.]\n",
      " [1. 0.]\n",
      " [1. 0.]\n",
      " [1. 0.]\n",
      " [1. 0.]\n",
      " [1. 0.]\n",
      " [1. 0.]]\n",
      "\n",
      "Ground truth:\n",
      "[[3. 2.]\n",
      " [1. 1.]\n",
      " [2. 1.]\n",
      " [3. 2.]\n",
      " [1. 0.]\n",
      " [1. 1.]\n",
      " [1. 1.]\n",
      " [1. 0.]\n",
      " [0. 0.]\n",
      " [1. 0.]]\n",
      "\n",
      "Failed:\t[79 67]\n"
     ]
    }
   ],
   "source": [
    "print(f'Predicted:\\n{y_hat[:10,:]}\\n')\n",
    "print(f'Ground truth:\\n{y_test[:10,:]}\\n')\n",
    "print(f'Failed:\\t{sum(y_hat != y_test)}')"
   ]
  },
  {
   "cell_type": "code",
   "execution_count": 1391,
   "metadata": {},
   "outputs": [],
   "source": [
    "y1_train = y_train[:, 0].reshape((y_train.shape[0], 1))\n",
    "y2_train = y_train[:, 1].reshape((y_train.shape[0], 1))\n",
    "\n",
    "y1_test = y_test[:, 0].reshape((y_test.shape[0], 1))\n",
    "y2_test = y_test[:, 1].reshape((y_test.shape[0], 1))"
   ]
  },
  {
   "cell_type": "code",
   "execution_count": 1392,
   "metadata": {},
   "outputs": [
    {
     "data": {
      "text/plain": [
       "{'fit_time': array([0.24839854, 0.24235201, 0.25481319, 0.23836088, 0.28424096]),\n",
       " 'score_time': array([0.0150063 , 0.01197171, 0.01496053, 0.01091933, 0.01595831]),\n",
       " 'test_f1_scorer': array([-0.67961165, -0.67961165, -0.70588235, -0.71568627, -0.69607843]),\n",
       " 'train_f1_scorer': array([-0.6992665 , -0.6992665 , -0.69268293, -0.6902439 , -0.69512195]),\n",
       " 'test_accuracy': array([0.67961165, 0.67961165, 0.70588235, 0.71568627, 0.69607843]),\n",
       " 'train_accuracy': array([0.6992665 , 0.6992665 , 0.69268293, 0.6902439 , 0.69512195])}"
      ]
     },
     "execution_count": 1392,
     "metadata": {},
     "output_type": "execute_result"
    }
   ],
   "source": [
    "# Cross Validation Y1\n",
    "results_train = cross_validate(model4, X, y1,\n",
    "scoring={'f1_scorer': f1_scorer, 'accuracy': accuracy_scorer},\n",
    "return_train_score=True)\n",
    "results_train"
   ]
  },
  {
   "cell_type": "code",
   "execution_count": 1394,
   "metadata": {},
   "outputs": [
    {
     "data": {
      "text/plain": [
       "{'fit_time': array([0.26072931, 0.27127862, 0.32481742, 0.26030445, 0.25671387]),\n",
       " 'score_time': array([0.01798368, 0.02991724, 0.02393413, 0.02493215, 0.01097226]),\n",
       " 'test_f1_scorer': array([-0.73786408, -0.73786408, -0.73529412, -0.7254902 , -0.7254902 ]),\n",
       " 'train_f1_scorer': array([-0.73105134, -0.73105134, -0.73170732, -0.73414634, -0.73414634]),\n",
       " 'test_accuracy': array([0.73786408, 0.73786408, 0.73529412, 0.7254902 , 0.7254902 ]),\n",
       " 'train_accuracy': array([0.73105134, 0.73105134, 0.73170732, 0.73414634, 0.73414634])}"
      ]
     },
     "execution_count": 1394,
     "metadata": {},
     "output_type": "execute_result"
    }
   ],
   "source": [
    "# Cross Validation Y2\n",
    "results_train = cross_validate(model4, X, y2,\n",
    "scoring={'f1_scorer': f1_scorer, 'accuracy': accuracy_scorer},\n",
    "return_train_score=True)\n",
    "results_train"
   ]
  },
  {
   "cell_type": "code",
   "execution_count": 1398,
   "metadata": {},
   "outputs": [],
   "source": [
    "# Cautare hiperparametrii optimi - GridSearch (doar pentru Y1)\n",
    "parameter_grid = {'max_depth': list(range(5,10)),\n",
    "'min_samples_split': list(range(1,4)),\n",
    "'min_samples_leaf': list(range(1,5))}\n",
    "grid_search = GridSearchCV(estimator = RandomForestClassifier(), param_grid=parameter_grid, scoring='accuracy', cv=4, return_train_score=True)\n",
    "grid_search.fit(X_train, y1_train)\n",
    "results_gscv = cross_val_score(grid_search, X_test, y1_test, scoring='accuracy')"
   ]
  },
  {
   "cell_type": "code",
   "execution_count": 1399,
   "metadata": {},
   "outputs": [
    {
     "name": "stdout",
     "output_type": "stream",
     "text": [
      "0.9453242835595776\n",
      "{'max_depth': 8, 'min_samples_leaf': 1, 'min_samples_split': 2}\n"
     ]
    }
   ],
   "source": [
    "print(results_gscv.mean())\n",
    "print(grid_search.best_params_)"
   ]
  },
  {
   "cell_type": "markdown",
   "metadata": {},
   "source": [
    "## Model 5: SVC (Support Vector Classification)"
   ]
  },
  {
   "cell_type": "code",
   "execution_count": 1347,
   "metadata": {},
   "outputs": [],
   "source": [
    "# Model\n",
    "\"\"\"\n",
    "Folosim metoda SVC pentru a clasifica observatiile. Atunci cand datele sunt in 4 sau mai multe dimensiuni SVC-ul este un hiper-plan. Acesta poate lucra cu valori extreme si din cazua ca permite clasificari eronate poate lucra si cu clasificari suprapuse.\n",
    "\"\"\"\n",
    "model5 = MultiOutputClassifier(SVC(C=2, gamma='auto'))\n",
    "model5.fit(X_train, y_train)\n",
    "y_hat = model5.predict(X_test)"
   ]
  },
  {
   "cell_type": "code",
   "execution_count": 1348,
   "metadata": {},
   "outputs": [
    {
     "name": "stdout",
     "output_type": "stream",
     "text": [
      "Predicted:\n",
      "[[3. 2.]\n",
      " [1. 0.]\n",
      " [3. 2.]\n",
      " [1. 0.]\n",
      " [3. 2.]\n",
      " [1. 0.]\n",
      " [2. 2.]\n",
      " [1. 0.]\n",
      " [1. 0.]\n",
      " [1. 0.]]\n",
      "\n",
      "Ground truth:\n",
      "[[2. 1.]\n",
      " [1. 0.]\n",
      " [4. 2.]\n",
      " [1. 0.]\n",
      " [4. 3.]\n",
      " [1. 0.]\n",
      " [2. 2.]\n",
      " [1. 0.]\n",
      " [0. 0.]\n",
      " [0. 0.]]\n",
      "\n",
      "Failed:\t[46 56]\n"
     ]
    }
   ],
   "source": [
    "print(f'Predicted:\\n{y_hat[:10,:]}\\n')\n",
    "print(f'Ground truth:\\n{y_test[:10,:]}\\n')\n",
    "print(f'Failed:\\t{sum(y_hat != y_test)}')"
   ]
  },
  {
   "cell_type": "code",
   "execution_count": 1349,
   "metadata": {},
   "outputs": [],
   "source": [
    "y1_train = y_train[:, 0].reshape((y_train.shape[0], 1))\n",
    "y2_train = y_train[:, 1].reshape((y_train.shape[0], 1))\n",
    "\n",
    "y1_test = y_test[:, 0].reshape((y_test.shape[0], 1))\n",
    "y2_test = y_test[:, 1].reshape((y_test.shape[0], 1))"
   ]
  },
  {
   "cell_type": "code",
   "execution_count": 1400,
   "metadata": {},
   "outputs": [
    {
     "data": {
      "text/plain": [
       "{'fit_time': array([0.00697351, 0.00698066, 0.00578094, 0.00501895, 0.00604463]),\n",
       " 'score_time': array([0.00598431, 0.00299025, 0.00300717, 0.00296092, 0.00296092]),\n",
       " 'test_f1_scorer': array([-0.7961165 , -0.78640777, -0.87254902, -0.88235294, -0.85294118]),\n",
       " 'train_f1_scorer': array([-0.85574572, -0.84352078, -0.85121951, -0.84146341, -0.83902439]),\n",
       " 'test_accuracy': array([0.7961165 , 0.78640777, 0.87254902, 0.88235294, 0.85294118]),\n",
       " 'train_accuracy': array([0.85574572, 0.84352078, 0.85121951, 0.84146341, 0.83902439])}"
      ]
     },
     "execution_count": 1400,
     "metadata": {},
     "output_type": "execute_result"
    }
   ],
   "source": [
    "# Cross Validation Y1\n",
    "results_train = cross_validate(model5, X, y1,\n",
    "scoring={'f1_scorer': f1_scorer, 'accuracy': accuracy_scorer},\n",
    "return_train_score=True)\n",
    "results_train"
   ]
  },
  {
   "cell_type": "code",
   "execution_count": 1402,
   "metadata": {},
   "outputs": [
    {
     "data": {
      "text/plain": [
       "{'fit_time': array([0.00897336, 0.00698137, 0.0059433 , 0.00495553, 0.0069778 ]),\n",
       " 'score_time': array([0.00398946, 0.00202584, 0.00298762, 0.00299239, 0.00399399]),\n",
       " 'test_f1_scorer': array([-0.75728155, -0.81553398, -0.75490196, -0.7745098 , -0.85294118]),\n",
       " 'train_f1_scorer': array([-0.799511  , -0.80195599, -0.8       , -0.79756098, -0.78780488]),\n",
       " 'test_accuracy': array([0.75728155, 0.81553398, 0.75490196, 0.7745098 , 0.85294118]),\n",
       " 'train_accuracy': array([0.799511  , 0.80195599, 0.8       , 0.79756098, 0.78780488])}"
      ]
     },
     "execution_count": 1402,
     "metadata": {},
     "output_type": "execute_result"
    }
   ],
   "source": [
    "# Cross Validation Y2\n",
    "results_train = cross_validate(model5, X, y2,\n",
    "scoring={'f1_scorer': f1_scorer, 'accuracy': accuracy_scorer},\n",
    "return_train_score=True)\n",
    "results_train"
   ]
  }
 ],
 "metadata": {
  "file_extension": ".py",
  "kernelspec": {
   "display_name": "Python 3",
   "language": "python",
   "name": "python3"
  },
  "language_info": {
   "codemirror_mode": {
    "name": "ipython",
    "version": 3
   },
   "file_extension": ".py",
   "mimetype": "text/x-python",
   "name": "python",
   "nbconvert_exporter": "python",
   "pygments_lexer": "ipython3",
   "version": "3.7.6"
  },
  "mimetype": "text/x-python",
  "name": "python",
  "npconvert_exporter": "python",
  "pygments_lexer": "ipython3",
  "version": 3
 },
 "nbformat": 4,
 "nbformat_minor": 2
}
