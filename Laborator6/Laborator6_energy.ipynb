{
 "nbformat": 4,
 "nbformat_minor": 2,
 "metadata": {
  "language_info": {
   "name": "python",
   "codemirror_mode": {
    "name": "ipython",
    "version": 3
   },
   "version": "3.7.6-final"
  },
  "orig_nbformat": 2,
  "file_extension": ".py",
  "mimetype": "text/x-python",
  "name": "python",
  "npconvert_exporter": "python",
  "pygments_lexer": "ipython3",
  "version": 3,
  "kernelspec": {
   "name": "python37664bitidsconda6aac95af6de54c59bceda5e4272aaa84",
   "display_name": "Python 3.7.6 64-bit ('IDS': conda)"
  }
 },
 "cells": [
  {
   "cell_type": "markdown",
   "metadata": {},
   "source": [
    "## Nume studenti:\n",
    "- Alexandra Manole\n",
    "- Teodor Mihaescu\n",
    "\n",
    "## Grupa: 382"
   ]
  },
  {
   "cell_type": "markdown",
   "metadata": {},
   "source": [
    "# Data Set 2: Energy Efficency\n",
    "### (Missing values: no)"
   ]
  },
  {
   "cell_type": "code",
   "execution_count": 1171,
   "metadata": {},
   "outputs": [],
   "source": [
    "from collections import Counter\n",
    "import matplotlib.pyplot as plt\n",
    "import pandas as pd\n",
    "import numpy as np\n",
    "\n",
    "from sklearn.experimental import enable_iterative_imputer\n",
    "from sklearn.impute import IterativeImputer, SimpleImputer\n",
    "from sklearn.model_selection import train_test_split\n",
    "from sklearn.linear_model import LinearRegression, LogisticRegression\n",
    "from sklearn.neighbors import KNeighborsClassifier\n",
    "from sklearn.tree import DecisionTreeClassifier\n",
    "from sklearn.ensemble import RandomForestClassifier\n",
    "from sklearn.neural_network import MLPClassifier\n",
    "from sklearn.multioutput import MultiOutputRegressor\n",
    "from sklearn.svm import SVC\n",
    "from sklearn import metrics\n",
    "from sklearn import preprocessing\n",
    "from sklearn.model_selection import cross_validate, cross_val_score, GridSearchCV"
   ]
  },
  {
   "cell_type": "code",
   "execution_count": 1155,
   "metadata": {},
   "outputs": [
    {
     "output_type": "stream",
     "name": "stdout",
     "text": "<class 'pandas.core.frame.DataFrame'>\nRangeIndex: 768 entries, 0 to 767\nData columns (total 10 columns):\n #   Column  Non-Null Count  Dtype  \n---  ------  --------------  -----  \n 0   X1      768 non-null    float64\n 1   X2      768 non-null    float64\n 2   X3      768 non-null    float64\n 3   X4      768 non-null    float64\n 4   X5      768 non-null    float64\n 5   X6      768 non-null    float64\n 6   X7      768 non-null    float64\n 7   X8      768 non-null    float64\n 8   Y1      768 non-null    float64\n 9   Y2      768 non-null    float64\ndtypes: float64(10)\nmemory usage: 60.1 KB\n"
    }
   ],
   "source": [
    "# Citeste datele\n",
    "data = pd.read_csv('./Datasets/energy.csv').iloc[:768,:-2]\n",
    "data.info()"
   ]
  },
  {
   "cell_type": "code",
   "execution_count": 1156,
   "metadata": {},
   "outputs": [],
   "source": [
    "# Pregateste datele\n",
    "X = data.loc[:, :'X8']\n",
    "# y = data.loc[:, 'Y1':]\n",
    "y1 = data.loc[:, 'Y1']\n",
    "y2 = data.loc[:, 'Y2']"
   ]
  },
  {
   "cell_type": "code",
   "execution_count": 1157,
   "metadata": {},
   "outputs": [],
   "source": [
    "# Transformam problema dintr-una de regresie intr-una de clasificare, dand intervale de clasificare y-ilor\n",
    "\"\"\"\n",
    "Observam ca y1 si y2 se incadreaza intre urmatoarele valori:\n",
    "y1: 6.01-43.1\n",
    "y2: 10.9-48.03\n",
    "\n",
    "Vom imparti datele in urmatoarele clase:\n",
    "y1: 6-10, 10-20, 20-30, 30-40, 40-50\n",
    "y2: 10-20, 20-30, 30-40, 40-50\n",
    "\"\"\"\n",
    "y1 = np.where(np.logical_and(y1>=6, y1<10), 0, y1)\n",
    "y1 = np.where(np.logical_and(y1>=10, y1<20), 1, y1)\n",
    "y1 = np.where(np.logical_and(y1>=20, y1<30), 2, y1)\n",
    "y1 = np.where(np.logical_and(y1>=30, y1<40), 3, y1)\n",
    "y1 = np.where(np.logical_and(y1>=40, y1<50), 4, y1)\n",
    "\n",
    "y2 = np.where(np.logical_and(y2>=10, y2<20), 0, y2)\n",
    "y2 = np.where(np.logical_and(y2>=20, y2<30), 1, y2)\n",
    "y2 = np.where(np.logical_and(y2>=30, y2<40), 2, y2)\n",
    "y2 = np.where(np.logical_and(y2>=40, y2<50), 3, y2)\n",
    "\n",
    "y = np.stack((y1, y2), axis=1)"
   ]
  },
  {
   "cell_type": "code",
   "execution_count": 1158,
   "metadata": {},
   "outputs": [],
   "source": [
    "# Scaleaza datele\n",
    "min_max_scaler = preprocessing.MinMaxScaler()\n",
    "X = min_max_scaler.fit_transform(X)\n",
    "# y = min_max_scaler.fit_transform(y)"
   ]
  },
  {
   "cell_type": "code",
   "execution_count": 1159,
   "metadata": {},
   "outputs": [],
   "source": [
    "# Separarea setului de date\n",
    "X_train, X_test, y_train, y_test = train_test_split(X, y, test_size=1/3, shuffle=True)"
   ]
  },
  {
   "cell_type": "code",
   "execution_count": 1160,
   "metadata": {},
   "outputs": [
    {
     "output_type": "stream",
     "name": "stdout",
     "text": "Counter({1.0: 262, 3.0: 110, 2.0: 102, 4.0: 24, 0.0: 14})\nCounter({1.0: 115, 2.0: 67, 3.0: 57, 4.0: 11, 0.0: 6})\n\n\nCounter({0.0: 243, 2.0: 135, 1.0: 103, 3.0: 31})\nCounter({0.0: 105, 2.0: 81, 1.0: 62, 3.0: 8})\n"
    }
   ],
   "source": [
    "# Verifica daca sunt egal distribuite\n",
    "print(Counter(y_train[:,0]))\n",
    "print(Counter(y_test[:,0]))\n",
    "print(\"\\n\")\n",
    "print(Counter(y_train[:,1]))\n",
    "print(Counter(y_test[:,1]))"
   ]
  },
  {
   "cell_type": "markdown",
   "metadata": {},
   "source": [
    "## Model 1: LogisticRegression"
   ]
  },
  {
   "cell_type": "code",
   "execution_count": 1161,
   "metadata": {},
   "outputs": [],
   "source": [
    "# Model\n",
    "\"\"\"\n",
    "\"\"\"\n",
    "model1 = MultiOutputClassifier(LogisticRegression(random_state=0, multi_class='multinomial'))\n",
    "model1.fit(X_train, y_train)\n",
    "y_hat = model1.predict(X_test)"
   ]
  },
  {
   "cell_type": "code",
   "execution_count": 1162,
   "metadata": {},
   "outputs": [
    {
     "output_type": "stream",
     "name": "stdout",
     "text": "Predicted:\n[[3. 2.]\n [2. 1.]\n [1. 0.]\n [3. 2.]\n [1. 0.]\n [1. 0.]\n [3. 2.]\n [1. 0.]\n [1. 0.]\n [3. 2.]]\n\nGround truth:\n[[2. 2.]\n [2. 1.]\n [1. 0.]\n [3. 2.]\n [1. 0.]\n [1. 0.]\n [3. 2.]\n [1. 0.]\n [1. 0.]\n [4. 2.]]\n\nFailed:\t[50 54]\n"
    }
   ],
   "source": [
    "print(f'Predicted:\\n{y_hat[:10,:]}\\n')\n",
    "print(f'Ground truth:\\n{y_test[:10,:]}\\n')\n",
    "print(f'Failed:\\t{sum(y_hat != y_test)}')"
   ]
  },
  {
   "cell_type": "code",
   "execution_count": 1163,
   "metadata": {},
   "outputs": [],
   "source": [
    "y1_train = y_train[:, 0].reshape((y_train.shape[0], 1))\n",
    "y2_train = y_train[:, 1].reshape((y_train.shape[0], 1))\n",
    "\n",
    "y1_test = y_test[:, 0].reshape((y_test.shape[0], 1))\n",
    "y2_test = y_test[:, 1].reshape((y_test.shape[0], 1))"
   ]
  },
  {
   "cell_type": "code",
   "execution_count": 1164,
   "metadata": {},
   "outputs": [],
   "source": [
    "# Custom scoreers for multiclass output\n",
    "f1_scorer = metrics.make_scorer(metrics.f1_score, greater_is_better=False, average='micro')\n",
    "accuracy_scorer = metrics.make_scorer(metrics.accuracy_score, greater_is_better=True)"
   ]
  },
  {
   "cell_type": "code",
   "execution_count": 1165,
   "metadata": {},
   "outputs": [
    {
     "output_type": "execute_result",
     "data": {
      "text/plain": "{'fit_time': array([0.03690171, 0.03691125, 0.03391552, 0.0398922 , 0.04288459]),\n 'score_time': array([0.00299191, 0.00498104, 0.00199223, 0.00299287, 0.00099754]),\n 'test_f1_scorer': array([-0.81553398, -0.87378641, -0.81372549, -0.85294118, -0.84313725]),\n 'train_f1_scorer': array([-0.84352078, -0.83129584, -0.85121951, -0.84390244, -0.83902439]),\n 'test_accuracy': array([0.81553398, 0.87378641, 0.81372549, 0.85294118, 0.84313725]),\n 'train_accuracy': array([0.84352078, 0.83129584, 0.85121951, 0.84390244, 0.83902439])}"
     },
     "metadata": {},
     "execution_count": 1165
    }
   ],
   "source": [
    "# CV Train - Y1\n",
    "results_train = cross_validate(model1, X_train, y1_train,\n",
    "scoring={'f1_scorer': f1_scorer, 'accuracy': accuracy_scorer},\n",
    "return_train_score=True)\n",
    "results_train"
   ]
  },
  {
   "cell_type": "code",
   "execution_count": 1166,
   "metadata": {},
   "outputs": [
    {
     "output_type": "execute_result",
     "data": {
      "text/plain": "{'fit_time': array([0.04287887, 0.03989077, 0.03184557, 0.02493596, 0.02593279]),\n 'score_time': array([0.0019958 , 0.00199604, 0.00202632, 0.00199413, 0.0030303 ]),\n 'test_f1_scorer': array([-0.86538462, -0.80392157, -0.80392157, -0.82352941, -0.7254902 ]),\n 'train_f1_scorer': array([-0.81372549, -0.83414634, -0.83414634, -0.8195122 , -0.84878049]),\n 'test_accuracy': array([0.86538462, 0.80392157, 0.80392157, 0.82352941, 0.7254902 ]),\n 'train_accuracy': array([0.81372549, 0.83414634, 0.83414634, 0.8195122 , 0.84878049])}"
     },
     "metadata": {},
     "execution_count": 1166
    }
   ],
   "source": [
    "# CV Test - Y1\n",
    "results_train = cross_validate(model1, X_test, y1_test,\n",
    "scoring={'f1_scorer': f1_scorer, 'accuracy': accuracy_scorer},\n",
    "return_train_score=True)\n",
    "results_train"
   ]
  },
  {
   "cell_type": "code",
   "execution_count": 1167,
   "metadata": {},
   "outputs": [
    {
     "output_type": "execute_result",
     "data": {
      "text/plain": "{'fit_time': array([0.04987097, 0.04881907, 0.04471707, 0.0442729 , 0.04536247]),\n 'score_time': array([0.00399017, 0.00499606, 0.0019803 , 0.00195432, 0.00200009]),\n 'test_f1_scorer': array([-0.81553398, -0.74757282, -0.75490196, -0.76470588, -0.79411765]),\n 'train_f1_scorer': array([-0.76528117, -0.7799511 , -0.77073171, -0.78292683, -0.76829268]),\n 'test_accuracy': array([0.81553398, 0.74757282, 0.75490196, 0.76470588, 0.79411765]),\n 'train_accuracy': array([0.76528117, 0.7799511 , 0.77073171, 0.78292683, 0.76829268])}"
     },
     "metadata": {},
     "execution_count": 1167
    }
   ],
   "source": [
    "# CV Train - Y2\n",
    "results_train = cross_validate(model1, X_train, y2_train,\n",
    "scoring={'f1_scorer': f1_scorer, 'accuracy': accuracy_scorer},\n",
    "return_train_score=True)\n",
    "results_train"
   ]
  },
  {
   "cell_type": "code",
   "execution_count": 1168,
   "metadata": {},
   "outputs": [
    {
     "output_type": "execute_result",
     "data": {
      "text/plain": "{'fit_time': array([0.04189301, 0.03291178, 0.01994944, 0.01956725, 0.01997685]),\n 'score_time': array([0.00398445, 0.00199318, 0.00299287, 0.00199389, 0.00196147]),\n 'test_f1_scorer': array([-0.73076923, -0.82352941, -0.80392157, -0.76470588, -0.84313725]),\n 'train_f1_scorer': array([-0.83823529, -0.80487805, -0.81463415, -0.80487805, -0.8097561 ]),\n 'test_accuracy': array([0.73076923, 0.82352941, 0.80392157, 0.76470588, 0.84313725]),\n 'train_accuracy': array([0.83823529, 0.80487805, 0.81463415, 0.80487805, 0.8097561 ])}"
     },
     "metadata": {},
     "execution_count": 1168
    }
   ],
   "source": [
    "# CV Test - Y2\n",
    "results_train = cross_validate(model1, X_test, y2_test,\n",
    "scoring={'f1_scorer': f1_scorer, 'accuracy': accuracy_scorer},\n",
    "return_train_score=True)\n",
    "results_train"
   ]
  },
  {
   "cell_type": "code",
   "execution_count": 1169,
   "metadata": {},
   "outputs": [],
   "source": [
    "# Cautare hiperparametrii optimi - GridSearch (doar pentru Y1)\n",
    "parameter_grid = {\n",
    "    'C' : np.linspace(1000, 2000, 10),# C = 1/lambda ; C mare => lambda mic\n",
    "    'solver': ['saga', 'lbfgs']}\n",
    "grid_search = GridSearchCV(estimator = LogisticRegression(), param_grid=parameter_grid, scoring='accuracy', cv=4, return_train_score=True)\n",
    "grid_search.fit(X_train, y1_train)\n",
    "results_gscv = cross_val_score(grid_search, X_test, y1_test, scoring='accuracy')"
   ]
  },
  {
   "cell_type": "code",
   "execution_count": 1170,
   "metadata": {},
   "outputs": [
    {
     "output_type": "stream",
     "name": "stdout",
     "text": "0.8473604826546003\n{'C': 1111.111111111111, 'solver': 'lbfgs'}\n"
    }
   ],
   "source": [
    "print(results_gscv.mean())\n",
    "print(grid_search.best_params_)"
   ]
  },
  {
   "cell_type": "markdown",
   "metadata": {},
   "source": [
    "## Model 2: KNeighborsClassifier"
   ]
  },
  {
   "cell_type": "code",
   "execution_count": 1174,
   "metadata": {},
   "outputs": [],
   "source": [
    "# Model\n",
    "\"\"\"\n",
    "\"\"\"\n",
    "model2 = KNeighborsClassifier()\n",
    "model2.fit(X_train, y_train)\n",
    "y_hat = model2.predict(X_test)"
   ]
  },
  {
   "cell_type": "code",
   "execution_count": 1175,
   "metadata": {},
   "outputs": [
    {
     "output_type": "stream",
     "name": "stdout",
     "text": "Predicted:\n[[3. 2.]\n [3. 1.]\n [1. 0.]\n [3. 2.]\n [1. 0.]\n [1. 0.]\n [3. 2.]\n [1. 1.]\n [1. 0.]\n [2. 1.]]\n\nGround truth:\n[[2. 2.]\n [2. 1.]\n [1. 0.]\n [3. 2.]\n [1. 0.]\n [1. 0.]\n [3. 2.]\n [1. 0.]\n [1. 0.]\n [4. 2.]]\n\nFailed:\t[50 44]\n"
    }
   ],
   "source": [
    "print(f'Predicted:\\n{y_hat[:10,:]}\\n')\n",
    "print(f'Ground truth:\\n{y_test[:10,:]}\\n')\n",
    "print(f'Failed:\\t{sum(y_hat != y_test)}')"
   ]
  },
  {
   "cell_type": "code",
   "execution_count": 1176,
   "metadata": {},
   "outputs": [],
   "source": [
    "y1_train = y_train[:, 0].reshape((y_train.shape[0], 1))\n",
    "y2_train = y_train[:, 1].reshape((y_train.shape[0], 1))\n",
    "\n",
    "y1_test = y_test[:, 0].reshape((y_test.shape[0], 1))\n",
    "y2_test = y_test[:, 1].reshape((y_test.shape[0], 1))"
   ]
  },
  {
   "cell_type": "code",
   "execution_count": 1177,
   "metadata": {},
   "outputs": [
    {
     "output_type": "execute_result",
     "data": {
      "text/plain": "{'fit_time': array([0.04089355, 0.02891946, 0.03390813, 0.02895498, 0.04185629]),\n 'score_time': array([0.00199294, 0.00299263, 0.0009973 , 0.00099993, 0.00298786]),\n 'test_f1_scorer': array([-0.81553398, -0.87378641, -0.81372549, -0.85294118, -0.84313725]),\n 'train_f1_scorer': array([-0.84352078, -0.83129584, -0.85121951, -0.84390244, -0.83902439]),\n 'test_accuracy': array([0.81553398, 0.87378641, 0.81372549, 0.85294118, 0.84313725]),\n 'train_accuracy': array([0.84352078, 0.83129584, 0.85121951, 0.84390244, 0.83902439])}"
     },
     "metadata": {},
     "execution_count": 1177
    }
   ],
   "source": [
    "# CV Train - Y1\n",
    "results_train = cross_validate(model2, X_train, y1_train,\n",
    "scoring={'f1_scorer': f1_scorer, 'accuracy': accuracy_scorer},\n",
    "return_train_score=True)\n",
    "results_train"
   ]
  },
  {
   "cell_type": "code",
   "execution_count": 1178,
   "metadata": {},
   "outputs": [
    {
     "output_type": "execute_result",
     "data": {
      "text/plain": "{'fit_time': array([0.0349102 , 0.01794362, 0.02198577, 0.02092791, 0.01595592]),\n 'score_time': array([0.0039916 , 0.0020287 , 0.00298905, 0.00099945, 0.00199628]),\n 'test_f1_scorer': array([-0.86538462, -0.80392157, -0.80392157, -0.82352941, -0.7254902 ]),\n 'train_f1_scorer': array([-0.81372549, -0.83414634, -0.83414634, -0.8195122 , -0.84878049]),\n 'test_accuracy': array([0.86538462, 0.80392157, 0.80392157, 0.82352941, 0.7254902 ]),\n 'train_accuracy': array([0.81372549, 0.83414634, 0.83414634, 0.8195122 , 0.84878049])}"
     },
     "metadata": {},
     "execution_count": 1178
    }
   ],
   "source": [
    "# CV Test - Y1\n",
    "results_train = cross_validate(model2, X_test, y1_test,\n",
    "scoring={'f1_scorer': f1_scorer, 'accuracy': accuracy_scorer},\n",
    "return_train_score=True)\n",
    "results_train"
   ]
  },
  {
   "cell_type": "code",
   "execution_count": 1179,
   "metadata": {},
   "outputs": [
    {
     "output_type": "execute_result",
     "data": {
      "text/plain": "{'fit_time': array([0.04587817, 0.03391075, 0.034899  , 0.0249331 , 0.03690052]),\n 'score_time': array([0.00099897, 0.00199485, 0.0020256 , 0.00296164, 0.00199485]),\n 'test_f1_scorer': array([-0.81553398, -0.74757282, -0.75490196, -0.76470588, -0.79411765]),\n 'train_f1_scorer': array([-0.76528117, -0.7799511 , -0.77073171, -0.78292683, -0.76829268]),\n 'test_accuracy': array([0.81553398, 0.74757282, 0.75490196, 0.76470588, 0.79411765]),\n 'train_accuracy': array([0.76528117, 0.7799511 , 0.77073171, 0.78292683, 0.76829268])}"
     },
     "metadata": {},
     "execution_count": 1179
    }
   ],
   "source": [
    "# CV Train - Y2\n",
    "results_train = cross_validate(model2, X_train, y2_train,\n",
    "scoring={'f1_scorer': f1_scorer, 'accuracy': accuracy_scorer},\n",
    "return_train_score=True)\n",
    "results_train"
   ]
  },
  {
   "cell_type": "code",
   "execution_count": 1180,
   "metadata": {},
   "outputs": [
    {
     "output_type": "execute_result",
     "data": {
      "text/plain": "{'fit_time': array([0.03691149, 0.01894999, 0.02294016, 0.01791954, 0.01599216]),\n 'score_time': array([0.00198936, 0.00295949, 0.00202513, 0.00199318, 0.00199008]),\n 'test_f1_scorer': array([-0.73076923, -0.82352941, -0.80392157, -0.76470588, -0.84313725]),\n 'train_f1_scorer': array([-0.83823529, -0.80487805, -0.81463415, -0.80487805, -0.8097561 ]),\n 'test_accuracy': array([0.73076923, 0.82352941, 0.80392157, 0.76470588, 0.84313725]),\n 'train_accuracy': array([0.83823529, 0.80487805, 0.81463415, 0.80487805, 0.8097561 ])}"
     },
     "metadata": {},
     "execution_count": 1180
    }
   ],
   "source": [
    "# CV Test - Y2\n",
    "results_train = cross_validate(model2, X_test, y2_test,\n",
    "scoring={'f1_scorer': f1_scorer, 'accuracy': accuracy_scorer},\n",
    "return_train_score=True)\n",
    "results_train"
   ]
  },
  {
   "cell_type": "code",
   "execution_count": 1184,
   "metadata": {},
   "outputs": [],
   "source": [
    "# Cautare hiperparametrii optimi - GridSearch (doar pentru Y1)\n",
    "parameter_grid = {'n_neighbors': list(range(1, 20)), 'p': [1, 2, 3]}\n",
    "grid_search = GridSearchCV(estimator = KNeighborsClassifier(), param_grid=parameter_grid, scoring='accuracy', cv=4, return_train_score=True)\n",
    "grid_search.fit(X_train, y1_train)\n",
    "results_gscv = cross_val_score(grid_search, X_test, y1_test, scoring='accuracy')"
   ]
  },
  {
   "cell_type": "code",
   "execution_count": 1185,
   "metadata": {},
   "outputs": [
    {
     "output_type": "stream",
     "name": "stdout",
     "text": "0.8515837104072398\n{'n_neighbors': 3, 'p': 1}\n"
    }
   ],
   "source": [
    "print(results_gscv.mean())\n",
    "print(grid_search.best_params_)"
   ]
  },
  {
   "cell_type": "markdown",
   "metadata": {},
   "source": [
    "## Model 3: DecisionTreeClassifier"
   ]
  },
  {
   "cell_type": "code",
   "execution_count": 1186,
   "metadata": {},
   "outputs": [],
   "source": [
    "# Model\n",
    "\"\"\"\n",
    "\"\"\"\n",
    "model3 = DecisionTreeClassifier(max_depth=2)\n",
    "model3.fit(X_train, y_train)\n",
    "y_hat = model3.predict(X_test)"
   ]
  },
  {
   "cell_type": "code",
   "execution_count": 1187,
   "metadata": {},
   "outputs": [
    {
     "output_type": "stream",
     "name": "stdout",
     "text": "Predicted:\n[[2. 2.]\n [2. 2.]\n [1. 0.]\n [2. 2.]\n [1. 0.]\n [1. 0.]\n [3. 2.]\n [1. 0.]\n [1. 0.]\n [3. 2.]]\n\nGround truth:\n[[2. 2.]\n [2. 1.]\n [1. 0.]\n [3. 2.]\n [1. 0.]\n [1. 0.]\n [3. 2.]\n [1. 0.]\n [1. 0.]\n [4. 2.]]\n\nFailed:\t[53 70]\n"
    }
   ],
   "source": [
    "print(f'Predicted:\\n{y_hat[:10,:]}\\n')\n",
    "print(f'Ground truth:\\n{y_test[:10,:]}\\n')\n",
    "print(f'Failed:\\t{sum(y_hat != y_test)}')"
   ]
  },
  {
   "cell_type": "code",
   "execution_count": 1188,
   "metadata": {},
   "outputs": [],
   "source": [
    "y1_train = y_train[:, 0].reshape((y_train.shape[0], 1))\n",
    "y2_train = y_train[:, 1].reshape((y_train.shape[0], 1))\n",
    "\n",
    "y1_test = y_test[:, 0].reshape((y_test.shape[0], 1))\n",
    "y2_test = y_test[:, 1].reshape((y_test.shape[0], 1))"
   ]
  },
  {
   "cell_type": "code",
   "execution_count": 1190,
   "metadata": {},
   "outputs": [
    {
     "output_type": "execute_result",
     "data": {
      "text/plain": "{'fit_time': array([0.00099778, 0.00099707, 0.0019865 , 0.00099254, 0.00099421]),\n 'score_time': array([0.00199461, 0.00299311, 0.00598145, 0.0019927 , 0.00099897]),\n 'test_f1_scorer': array([-0.7961165 , -0.83495146, -0.84313725, -0.81372549, -0.84313725]),\n 'train_f1_scorer': array([-0.83374083, -0.82396088, -0.82195122, -0.82926829, -0.82195122]),\n 'test_accuracy': array([0.7961165 , 0.83495146, 0.84313725, 0.81372549, 0.84313725]),\n 'train_accuracy': array([0.83374083, 0.82396088, 0.82195122, 0.82926829, 0.82195122])}"
     },
     "metadata": {},
     "execution_count": 1190
    }
   ],
   "source": [
    "# CV Train - Y1\n",
    "results_train = cross_validate(model3, X_train, y1_train,\n",
    "scoring={'f1_scorer': f1_scorer, 'accuracy': accuracy_scorer},\n",
    "return_train_score=True)\n",
    "results_train"
   ]
  },
  {
   "cell_type": "code",
   "execution_count": 1194,
   "metadata": {},
   "outputs": [
    {
     "output_type": "execute_result",
     "data": {
      "text/plain": "{'fit_time': array([0.00199866, 0.00099897, 0.0009973 , 0.0019989 , 0.0009532 ]),\n 'score_time': array([0.00299358, 0.00299072, 0.00199509, 0.00202799, 0.00303531]),\n 'test_f1_scorer': array([-0.78846154, -0.76470588, -0.84313725, -0.84313725, -0.7254902 ]),\n 'train_f1_scorer': array([-0.79411765, -0.8       , -0.7804878 , -0.7804878 , -0.8097561 ]),\n 'test_accuracy': array([0.78846154, 0.76470588, 0.84313725, 0.84313725, 0.7254902 ]),\n 'train_accuracy': array([0.79411765, 0.8       , 0.7804878 , 0.7804878 , 0.8097561 ])}"
     },
     "metadata": {},
     "execution_count": 1194
    }
   ],
   "source": [
    "# CV Test - Y1\n",
    "results_train = cross_validate(model3, X_test, y1_test,\n",
    "scoring={'f1_scorer': f1_scorer, 'accuracy': accuracy_scorer},\n",
    "return_train_score=True)\n",
    "results_train"
   ]
  },
  {
   "cell_type": "code",
   "execution_count": 1191,
   "metadata": {},
   "outputs": [
    {
     "output_type": "execute_result",
     "data": {
      "text/plain": "{'fit_time': array([0.0009644 , 0.00199175, 0.00099611, 0.00098538, 0.00100994]),\n 'score_time': array([0.00199723, 0.00199533, 0.00299191, 0.00399017, 0.00297356]),\n 'test_f1_scorer': array([-0.73786408, -0.73786408, -0.74509804, -0.73529412, -0.73529412]),\n 'train_f1_scorer': array([-0.73838631, -0.73838631, -0.73658537, -0.73902439, -0.73902439]),\n 'test_accuracy': array([0.73786408, 0.73786408, 0.74509804, 0.73529412, 0.73529412]),\n 'train_accuracy': array([0.73838631, 0.73838631, 0.73658537, 0.73902439, 0.73902439])}"
     },
     "metadata": {},
     "execution_count": 1191
    }
   ],
   "source": [
    "# CV Train - Y2\n",
    "results_train = cross_validate(model3, X_train, y2_train,\n",
    "scoring={'f1_scorer': f1_scorer, 'accuracy': accuracy_scorer},\n",
    "return_train_score=True)\n",
    "results_train"
   ]
  },
  {
   "cell_type": "code",
   "execution_count": 1192,
   "metadata": {},
   "outputs": [
    {
     "output_type": "execute_result",
     "data": {
      "text/plain": "{'fit_time': array([0.        , 0.        , 0.00099635, 0.00099635, 0.        ]),\n 'score_time': array([0.00152397, 0.00199199, 0.00398684, 0.00199628, 0.00099683]),\n 'test_f1_scorer': array([-0.69230769, -0.74509804, -0.76470588, -0.68627451, -0.78431373]),\n 'train_f1_scorer': array([-0.75490196, -0.75121951, -0.74634146, -0.76585366, -0.74146341]),\n 'test_accuracy': array([0.69230769, 0.74509804, 0.76470588, 0.68627451, 0.78431373]),\n 'train_accuracy': array([0.75490196, 0.75121951, 0.74634146, 0.76585366, 0.74146341])}"
     },
     "metadata": {},
     "execution_count": 1192
    }
   ],
   "source": [
    "# CV Test - Y2\n",
    "results_train = cross_validate(model3, X_test, y2_test,\n",
    "scoring={'f1_scorer': f1_scorer, 'accuracy': accuracy_scorer},\n",
    "return_train_score=True)\n",
    "results_train"
   ]
  },
  {
   "cell_type": "code",
   "execution_count": 1199,
   "metadata": {},
   "outputs": [],
   "source": [
    "# Cautare hiperparametrii optimi - GridSearch (doar pentru Y1)\n",
    "parameter_grid = {'max_depth': list(range(1,5)),\n",
    "'min_samples_split': np.linspace(1,3,5),\n",
    "'min_samples_leaf': np.linspace(0.1,0.5,5),\n",
    "'max_features': ['sqrt', 'log2', None],\n",
    "'criterion': ['gini', 'entropy']}\n",
    "grid_search = GridSearchCV(estimator = DecisionTreeClassifier(), param_grid=parameter_grid, scoring='accuracy', cv=4, return_train_score=True)\n",
    "grid_search.fit(X_train, y1_train)\n",
    "results_gscv = cross_val_score(grid_search, X_test, y1_test, scoring='accuracy')"
   ]
  },
  {
   "cell_type": "code",
   "execution_count": 1200,
   "metadata": {},
   "outputs": [
    {
     "output_type": "stream",
     "name": "stdout",
     "text": "0.6296380090497739\n{'criterion': 'gini', 'max_depth': 1, 'max_features': 'log2', 'min_samples_leaf': 0.30000000000000004, 'min_samples_split': 1.0}\n"
    }
   ],
   "source": [
    "print(results_gscv.mean())\n",
    "print(grid_search.best_params_)"
   ]
  },
  {
   "cell_type": "markdown",
   "metadata": {},
   "source": [
    "## Model 4: RandomForestClassifier"
   ]
  },
  {
   "cell_type": "code",
   "execution_count": null,
   "metadata": {},
   "outputs": [],
   "source": [
    "# Model\n",
    "\"\"\"\n",
    "\"\"\"\n",
    "model4 = RandomForestClassifier(max_depth=2, random_state=0, ccp_alpha=0.2)\n",
    "model4.fit(X_train, y_train)\n",
    "y_hat = model4.predict(X_test)"
   ]
  }
 ]
}