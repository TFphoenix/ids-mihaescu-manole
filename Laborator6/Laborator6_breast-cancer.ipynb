{
 "cells": [
  {
   "cell_type": "markdown",
   "metadata": {},
   "source": [
    "## Nume studenti:\n",
    "- Alexandra Manole\n",
    "- Teodor Mihaescu\n",
    "\n",
    "## Grupa: 382"
   ]
  },
  {
   "cell_type": "markdown",
   "metadata": {},
   "source": [
    "# Data Set 1: Breast Cancer\n",
    "### (Missing values: yes)"
   ]
  },
  {
   "cell_type": "code",
   "execution_count": 1,
   "metadata": {},
   "outputs": [],
   "source": [
    "from collections import Counter\n",
    "import matplotlib.pyplot as plt\n",
    "import pandas as pd\n",
    "import numpy as np\n",
    "\n",
    "from sklearn.experimental import enable_iterative_imputer  \n",
    "from sklearn.impute import IterativeImputer, SimpleImputer\n",
    "from sklearn.model_selection import train_test_split\n",
    "from sklearn.linear_model import LinearRegression, LogisticRegression\n",
    "from sklearn.neighbors import KNeighborsClassifier\n",
    "from sklearn.tree import DecisionTreeClassifier\n",
    "from sklearn.ensemble import RandomForestClassifier\n",
    "from sklearn.svm import SVC\n",
    "from sklearn import metrics\n",
    "from sklearn.model_selection import cross_validate, cross_val_score, GridSearchCV"
   ]
  },
  {
   "cell_type": "code",
   "execution_count": 2,
   "metadata": {},
   "outputs": [
    {
     "output_type": "stream",
     "name": "stdout",
     "text": "<class 'pandas.core.frame.DataFrame'>\nRangeIndex: 286 entries, 0 to 285\nData columns (total 10 columns):\n #   Column      Non-Null Count  Dtype \n---  ------      --------------  ----- \n 0   Class       286 non-null    object\n 1   Age         286 non-null    object\n 2   Menopause   286 non-null    object\n 3   TumorSize   286 non-null    object\n 4   InvNodes    286 non-null    object\n 5   NodeCaps    278 non-null    object\n 6   DegMalig    286 non-null    int64 \n 7   Breast      286 non-null    object\n 8   BreastQuad  285 non-null    object\n 9   Irradiat    286 non-null    object\ndtypes: int64(1), object(9)\nmemory usage: 22.5+ KB\n"
    }
   ],
   "source": [
    "# Citeste datele\n",
    "data = pd.read_csv('./Datasets/breast-cancer.csv')\n",
    "data.info()"
   ]
  },
  {
   "cell_type": "code",
   "execution_count": 3,
   "metadata": {},
   "outputs": [],
   "source": [
    "# Prelucreaza si scaleaza datele\n",
    "def scale_category(name, max_value):\n",
    "    category_splitted = np.char.split(np.array(data[name], dtype=str), sep='-')\n",
    "    category_splitted = np.array([x for x in category_splitted], dtype=int)\n",
    "    data[name] = np.mean(category_splitted, axis=1) / max_value"
   ]
  },
  {
   "cell_type": "code",
   "execution_count": 4,
   "metadata": {},
   "outputs": [
    {
     "output_type": "execute_result",
     "data": {
      "text/plain": "     Class       Age  Menopause  TumorSize  InvNodes NodeCaps  DegMalig  \\\n0        0  0.348485        0.0   0.542373  0.025641        0       1.0   \n1        0  0.449495        0.0   0.372881  0.025641        0       0.5   \n2        0  0.449495        0.0   0.372881  0.025641        0       0.5   \n3        0  0.651515        1.0   0.288136  0.025641        0       0.5   \n4        0  0.449495        0.0   0.033898  0.025641        0       0.5   \n..     ...       ...        ...        ...       ...      ...       ...   \n281      1  0.348485        0.0   0.542373  0.025641        0       0.5   \n282      1  0.348485        0.0   0.372881  0.025641        0       1.0   \n283      1  0.651515        1.0   0.372881  0.025641        0       0.0   \n284      1  0.449495        1.0   0.542373  0.102564        0       1.0   \n285      1  0.550505        1.0   0.542373  0.102564        0       1.0   \n\n     Breast BreastQuad  Irradiat  \n0         0          0         0  \n1         1       0.75         0  \n2         0          0         0  \n3         1       0.25         0  \n4         1        0.5         0  \n..      ...        ...       ...  \n281       0       0.25         0  \n282       0       0.25         1  \n283       1       0.25         0  \n284       0          0         0  \n285       0          0         0  \n\n[286 rows x 10 columns]",
      "text/html": "<div>\n<style scoped>\n    .dataframe tbody tr th:only-of-type {\n        vertical-align: middle;\n    }\n\n    .dataframe tbody tr th {\n        vertical-align: top;\n    }\n\n    .dataframe thead th {\n        text-align: right;\n    }\n</style>\n<table border=\"1\" class=\"dataframe\">\n  <thead>\n    <tr style=\"text-align: right;\">\n      <th></th>\n      <th>Class</th>\n      <th>Age</th>\n      <th>Menopause</th>\n      <th>TumorSize</th>\n      <th>InvNodes</th>\n      <th>NodeCaps</th>\n      <th>DegMalig</th>\n      <th>Breast</th>\n      <th>BreastQuad</th>\n      <th>Irradiat</th>\n    </tr>\n  </thead>\n  <tbody>\n    <tr>\n      <th>0</th>\n      <td>0</td>\n      <td>0.348485</td>\n      <td>0.0</td>\n      <td>0.542373</td>\n      <td>0.025641</td>\n      <td>0</td>\n      <td>1.0</td>\n      <td>0</td>\n      <td>0</td>\n      <td>0</td>\n    </tr>\n    <tr>\n      <th>1</th>\n      <td>0</td>\n      <td>0.449495</td>\n      <td>0.0</td>\n      <td>0.372881</td>\n      <td>0.025641</td>\n      <td>0</td>\n      <td>0.5</td>\n      <td>1</td>\n      <td>0.75</td>\n      <td>0</td>\n    </tr>\n    <tr>\n      <th>2</th>\n      <td>0</td>\n      <td>0.449495</td>\n      <td>0.0</td>\n      <td>0.372881</td>\n      <td>0.025641</td>\n      <td>0</td>\n      <td>0.5</td>\n      <td>0</td>\n      <td>0</td>\n      <td>0</td>\n    </tr>\n    <tr>\n      <th>3</th>\n      <td>0</td>\n      <td>0.651515</td>\n      <td>1.0</td>\n      <td>0.288136</td>\n      <td>0.025641</td>\n      <td>0</td>\n      <td>0.5</td>\n      <td>1</td>\n      <td>0.25</td>\n      <td>0</td>\n    </tr>\n    <tr>\n      <th>4</th>\n      <td>0</td>\n      <td>0.449495</td>\n      <td>0.0</td>\n      <td>0.033898</td>\n      <td>0.025641</td>\n      <td>0</td>\n      <td>0.5</td>\n      <td>1</td>\n      <td>0.5</td>\n      <td>0</td>\n    </tr>\n    <tr>\n      <th>...</th>\n      <td>...</td>\n      <td>...</td>\n      <td>...</td>\n      <td>...</td>\n      <td>...</td>\n      <td>...</td>\n      <td>...</td>\n      <td>...</td>\n      <td>...</td>\n      <td>...</td>\n    </tr>\n    <tr>\n      <th>281</th>\n      <td>1</td>\n      <td>0.348485</td>\n      <td>0.0</td>\n      <td>0.542373</td>\n      <td>0.025641</td>\n      <td>0</td>\n      <td>0.5</td>\n      <td>0</td>\n      <td>0.25</td>\n      <td>0</td>\n    </tr>\n    <tr>\n      <th>282</th>\n      <td>1</td>\n      <td>0.348485</td>\n      <td>0.0</td>\n      <td>0.372881</td>\n      <td>0.025641</td>\n      <td>0</td>\n      <td>1.0</td>\n      <td>0</td>\n      <td>0.25</td>\n      <td>1</td>\n    </tr>\n    <tr>\n      <th>283</th>\n      <td>1</td>\n      <td>0.651515</td>\n      <td>1.0</td>\n      <td>0.372881</td>\n      <td>0.025641</td>\n      <td>0</td>\n      <td>0.0</td>\n      <td>1</td>\n      <td>0.25</td>\n      <td>0</td>\n    </tr>\n    <tr>\n      <th>284</th>\n      <td>1</td>\n      <td>0.449495</td>\n      <td>1.0</td>\n      <td>0.542373</td>\n      <td>0.102564</td>\n      <td>0</td>\n      <td>1.0</td>\n      <td>0</td>\n      <td>0</td>\n      <td>0</td>\n    </tr>\n    <tr>\n      <th>285</th>\n      <td>1</td>\n      <td>0.550505</td>\n      <td>1.0</td>\n      <td>0.542373</td>\n      <td>0.102564</td>\n      <td>0</td>\n      <td>1.0</td>\n      <td>0</td>\n      <td>0</td>\n      <td>0</td>\n    </tr>\n  </tbody>\n</table>\n<p>286 rows × 10 columns</p>\n</div>"
     },
     "metadata": {},
     "execution_count": 4
    }
   ],
   "source": [
    "# Class\n",
    "data['Class'] = np.where(data['Class'] == 'no-recurrence-events', 0, 1)\n",
    "\n",
    "# Age (10-99)\n",
    "scale_category('Age', 99)\n",
    "\n",
    "# Menopause\n",
    "data['Menopause'] = np.where(data['Menopause'] == 'premeno', 0.0, data['Menopause'])\n",
    "data['Menopause'] = np.where(data['Menopause'] == 'lt40', 0.5, data['Menopause'])\n",
    "data['Menopause'] = np.where(data['Menopause'] == 'ge40', 1.0, data['Menopause'])\n",
    "data['Menopause'] = data['Menopause'].astype('float64')\n",
    "\n",
    "# Tumor Size (0-59)\n",
    "scale_category('TumorSize',59)\n",
    "\n",
    "# Involved Nodes(0-39)\n",
    "scale_category('InvNodes', 39)\n",
    "\n",
    "# Node Caps\n",
    "data['NodeCaps'] = np.where(data['NodeCaps'] == 'yes', 1, data['NodeCaps'])\n",
    "data['NodeCaps'] = np.where(data['NodeCaps'] == 'no', 0, data['NodeCaps'])\n",
    "# data['NodeCaps'] = data['NodeCaps'].astype('float64')\n",
    "\n",
    "# Deg Malig\n",
    "data['DegMalig'] = data['DegMalig'] / 2 - 0.5\n",
    "\n",
    "# Breast\n",
    "data['Breast'] = np.where(data['Breast'] == 'left', 0, 1)\n",
    "\n",
    "# Breast Quad\n",
    "values = np.linspace(0, 1, 5)\n",
    "data['BreastQuad'] = np.where(data['BreastQuad'] == 'left_low', values[0], data['BreastQuad'])\n",
    "data['BreastQuad'] = np.where(data['BreastQuad'] == 'left_up', values[1], data['BreastQuad'])\n",
    "data['BreastQuad'] = np.where(data['BreastQuad'] == 'right_low', values[2], data['BreastQuad'])\n",
    "data['BreastQuad'] = np.where(data['BreastQuad'] == 'right_up', values[3], data['BreastQuad'])\n",
    "data['BreastQuad'] = np.where(data['BreastQuad'] == 'central', values[4], data['BreastQuad'])\n",
    "# data['BreastQuad'] = data['BreastQuad'].astype('float64')\n",
    "\n",
    "# Irradiat\n",
    "data['Irradiat'] = np.where(data['Irradiat'] == 'yes', 1, 0)\n",
    "\n",
    "# pd.set_option(\"display.max_rows\", 20, \"display.max_columns\", 20)\n",
    "data"
   ]
  },
  {
   "cell_type": "code",
   "execution_count": 5,
   "metadata": {},
   "outputs": [
    {
     "output_type": "stream",
     "name": "stdout",
     "text": "<class 'pandas.core.frame.DataFrame'>\nRangeIndex: 286 entries, 0 to 285\nData columns (total 10 columns):\n #   Column      Non-Null Count  Dtype  \n---  ------      --------------  -----  \n 0   Class       286 non-null    int32  \n 1   Age         286 non-null    float64\n 2   Menopause   286 non-null    float64\n 3   TumorSize   286 non-null    float64\n 4   InvNodes    286 non-null    float64\n 5   NodeCaps    278 non-null    object \n 6   DegMalig    286 non-null    float64\n 7   Breast      286 non-null    int32  \n 8   BreastQuad  285 non-null    object \n 9   Irradiat    286 non-null    int32  \ndtypes: float64(5), int32(3), object(2)\nmemory usage: 19.1+ KB\n"
    }
   ],
   "source": [
    "data.info()"
   ]
  },
  {
   "cell_type": "code",
   "execution_count": 6,
   "metadata": {},
   "outputs": [],
   "source": [
    "# Missing values imputation\n",
    "\"\"\"\n",
    "Observam ca avem urmatoarele missing values:\n",
    "- 1 x BreastQuad\n",
    "- 8 x NodeCaps\n",
    "\n",
    "Pentru BreastQuad vom folosi un fillna dupa frecventa, ce va inlocui valoare lipsa cu cea mai itnalnita valoare, fapt care nu va influenta prea mult datele noaste. Facem acest lucru deoarece nu exista o relatie prea sigura intre localizarea cancerului mamar si celelalte atribute\n",
    "\n",
    "Pentru NodeCaps vom folosi un IterativeImputer deoarece acest atribut are legatura cu majoritatea celorlalte atribute, acesta fiind un multivariate imputer. Desi acest lucru este mai costisitor din cauza clasificarii facute de acesta. (initial_strategy='most_frequent' deoarece avem doar yes si no, nu vrem medie, mediana sau constanta)\n",
    "\"\"\"\n",
    "data['BreastQuad'].fillna(data['BreastQuad'].mode()[0], inplace=True)\n",
    "\n",
    "iterativeImputer = IterativeImputer(random_state=0, initial_strategy='most_frequent')\n",
    "data_columns = data.columns\n",
    "data_index = data.index\n",
    "data = pd.DataFrame(iterativeImputer.fit_transform(data))\n",
    "data.columns = data_columns\n",
    "data.index = data_index"
   ]
  },
  {
   "cell_type": "code",
   "execution_count": 7,
   "metadata": {},
   "outputs": [
    {
     "output_type": "stream",
     "name": "stdout",
     "text": "<class 'pandas.core.frame.DataFrame'>\nRangeIndex: 286 entries, 0 to 285\nData columns (total 10 columns):\n #   Column      Non-Null Count  Dtype  \n---  ------      --------------  -----  \n 0   Class       286 non-null    float64\n 1   Age         286 non-null    float64\n 2   Menopause   286 non-null    float64\n 3   TumorSize   286 non-null    float64\n 4   InvNodes    286 non-null    float64\n 5   NodeCaps    286 non-null    float64\n 6   DegMalig    286 non-null    float64\n 7   Breast      286 non-null    float64\n 8   BreastQuad  286 non-null    float64\n 9   Irradiat    286 non-null    float64\ndtypes: float64(10)\nmemory usage: 22.5 KB\n"
    }
   ],
   "source": [
    "data.info()"
   ]
  },
  {
   "cell_type": "code",
   "execution_count": 8,
   "metadata": {},
   "outputs": [],
   "source": [
    "# Separarea setului de date\n",
    "X = data.loc[:, 'Age':]\n",
    "y = data.loc[:, :'Class']\n",
    "X_train, X_test, y_train, y_test = train_test_split(X, y, test_size=1/3, shuffle=True)\n",
    "\n",
    "# Convert to numpy arrays\n",
    "X_train_mat = X_train.to_numpy()\n",
    "X_test_mat = X_test.to_numpy()\n",
    "y_train_col = y_train.to_numpy()\n",
    "y_test_col = y_test.to_numpy()"
   ]
  },
  {
   "cell_type": "code",
   "execution_count": 9,
   "metadata": {},
   "outputs": [
    {
     "output_type": "stream",
     "name": "stdout",
     "text": "Counter({0.0: 130, 1.0: 60})\nCounter({0.0: 71, 1.0: 25})\n"
    }
   ],
   "source": [
    "# Verifica daca sunt egal distribuite\n",
    "print(Counter(y_train_col[:,0]))\n",
    "print(Counter(y_test_col[:,0]))"
   ]
  },
  {
   "cell_type": "markdown",
   "metadata": {},
   "source": [
    "## Model 1: KNeighborsClassifier"
   ]
  },
  {
   "cell_type": "code",
   "execution_count": 10,
   "metadata": {},
   "outputs": [],
   "source": [
    "# Model\n",
    "\"\"\"\n",
    "Principiul din spatele acestei metode este de a gasi un numar predefinit de cazuri apropiate ca distanta de noul punct care se incearca a fi prezis. Alegerea vecinilor influenteaza rezultatele modelului. Am observant ca in jurul valorii de 10 a hiperparametrului n_neighbors obtinem valori mai bune. \n",
    "Algoritmul necesita multe resurse la partea de testare deoarece parcurge datele \"memorate\" in intregime, pe cand cea de antrenare se intampla aproape instant (\"retinerea\" datelor).\n",
    "\"\"\"\n",
    "model1 = KNeighborsClassifier(n_neighbors=10)\n",
    "model1.fit(X_train_mat, y_train_col)\n",
    "y_hat = model1.predict(X_test_mat)"
   ]
  },
  {
   "cell_type": "code",
   "execution_count": 11,
   "metadata": {},
   "outputs": [
    {
     "output_type": "stream",
     "name": "stdout",
     "text": "Predicted:\t[0. 0. 0. 0. 0. 0. 0. 0. 0. 0. 0. 1. 0. 0. 0. 0. 0. 0. 0. 0. 0. 0. 0. 0.\n 0. 0. 1. 1. 1. 0. 0. 0. 0. 1. 0. 0. 0. 0. 0. 0. 0. 0. 0. 0. 0. 0. 0. 0.\n 1. 0. 0. 0. 0. 0. 0. 0. 0. 0. 1. 0. 0. 0. 1. 0. 0. 0. 1. 0. 0. 0. 0. 0.\n 0. 0. 0. 0. 0. 0. 0. 1. 0. 1. 1. 0. 0. 0. 0. 0. 1. 0. 0. 0. 0. 0. 0. 0.]\n\nGround truth:\t[[0.]\n [0.]\n [1.]\n [1.]\n [1.]\n [0.]\n [0.]\n [0.]\n [0.]\n [0.]\n [1.]\n [1.]\n [0.]\n [0.]\n [0.]\n [0.]\n [0.]\n [0.]\n [0.]\n [0.]\n [1.]\n [0.]\n [1.]\n [0.]\n [0.]\n [0.]\n [0.]\n [1.]\n [1.]\n [0.]\n [0.]\n [0.]\n [0.]\n [0.]\n [0.]\n [0.]\n [0.]\n [0.]\n [1.]\n [0.]\n [0.]\n [0.]\n [0.]\n [0.]\n [0.]\n [1.]\n [0.]\n [0.]\n [0.]\n [0.]\n [0.]\n [0.]\n [0.]\n [0.]\n [1.]\n [0.]\n [0.]\n [1.]\n [1.]\n [0.]\n [0.]\n [0.]\n [1.]\n [0.]\n [0.]\n [0.]\n [1.]\n [0.]\n [0.]\n [0.]\n [0.]\n [1.]\n [0.]\n [1.]\n [0.]\n [0.]\n [0.]\n [0.]\n [0.]\n [1.]\n [0.]\n [1.]\n [0.]\n [0.]\n [0.]\n [0.]\n [0.]\n [0.]\n [1.]\n [0.]\n [1.]\n [0.]\n [1.]\n [1.]\n [1.]\n [0.]]\n\nFailed:\t[25 25 25 25 25 25 25 25 25 25 25 71 25 25 25 25 25 25 25 25 25 25 25 25\n 25 25 71 71 71 25 25 25 25 71 25 25 25 25 25 25 25 25 25 25 25 25 25 25\n 71 25 25 25 25 25 25 25 25 25 71 25 25 25 71 25 25 25 71 25 25 25 25 25\n 25 25 25 25 25 25 25 71 25 71 71 25 25 25 25 25 71 25 25 25 25 25 25 25]\n"
    }
   ],
   "source": [
    "print(f'Predicted:\\t{y_hat}\\n')\n",
    "print(f'Ground truth:\\t{y_test_col}\\n')\n",
    "print(f'Failed:\\t{sum(y_hat != y_test_col)}')"
   ]
  },
  {
   "cell_type": "code",
   "execution_count": 12,
   "metadata": {},
   "outputs": [
    {
     "output_type": "stream",
     "name": "stdout",
     "text": "Mean Absolute Error:\t0.20833333333333334\nMean Squared Error:\t0.20833333333333334\nAccuracy:\t\t79.167%\n"
    }
   ],
   "source": [
    "print(f'Mean Absolute Error:\\t{metrics.mean_absolute_error(y_test_col, y_hat)}')\n",
    "print(f'Mean Squared Error:\\t{metrics.mean_squared_error(y_test_col, y_hat)}')\n",
    "print(f'Accuracy:\\t\\t{np.round(metrics.accuracy_score(y_test_col, y_hat) * 100, 3)}%')"
   ]
  },
  {
   "cell_type": "code",
   "execution_count": 13,
   "metadata": {},
   "outputs": [
    {
     "output_type": "execute_result",
     "data": {
      "text/plain": "{'fit_time': array([0.00598407, 0.00698066, 0.00498557, 0.00299215, 0.00299311]),\n 'score_time': array([0.01097083, 0.00698209, 0.00498652, 0.00998068, 0.00499272]),\n 'test_accuracy': array([0.70689655, 0.73684211, 0.77192982, 0.75438596, 0.66666667]),\n 'train_accuracy': array([0.76754386, 0.74672489, 0.74672489, 0.7510917 , 0.77292576]),\n 'test_f1': array([0.        , 0.21052632, 0.38095238, 0.5       , 0.42424242]),\n 'train_f1': array([0.48543689, 0.39583333, 0.34090909, 0.37362637, 0.43478261])}"
     },
     "metadata": {},
     "execution_count": 13
    }
   ],
   "source": [
    "# Cross Validation\n",
    "results_train = cross_validate(model1, X, y, scoring=['accuracy','f1'], return_train_score=True)\n",
    "results_train"
   ]
  },
  {
   "cell_type": "code",
   "execution_count": 14,
   "metadata": {},
   "outputs": [],
   "source": [
    "# Cautare hiperparametrii optimi - GridSearch\n",
    "parameter_grid = {'n_neighbors': list(range(1, 20)), 'p': [1, 2, 3]}\n",
    "grid_search = GridSearchCV(estimator = KNeighborsClassifier(), param_grid=parameter_grid, scoring='accuracy', cv=4, return_train_score=True)\n",
    "grid_search.fit(X_train_mat, y_train_col)\n",
    "results_gscv = cross_val_score(grid_search, X_test_mat, y_test_col, scoring='accuracy')"
   ]
  },
  {
   "cell_type": "code",
   "execution_count": 15,
   "metadata": {},
   "outputs": [
    {
     "output_type": "stream",
     "name": "stdout",
     "text": "0.7073684210526315\n{'n_neighbors': 13, 'p': 2}\n"
    }
   ],
   "source": [
    "print(results_gscv.mean())\n",
    "print(grid_search.best_params_)"
   ]
  },
  {
   "cell_type": "markdown",
   "metadata": {},
   "source": [
    "## Model 2: LogisticRegression"
   ]
  },
  {
   "cell_type": "code",
   "execution_count": 16,
   "metadata": {},
   "outputs": [],
   "source": [
    "# Model\n",
    "\"\"\"\n",
    "Aceasta metoda folosita pentru clasificare poate lucra atat cu 2 clase (regresie binomiala), cat si cu o multitudine de clase (regresie multinomiala). Practic modelul dat de aceasta regresie determina probabilitatea ca obiectul determinat de vectorul de intrare sa apartina unei clase sau celeilalte.\n",
    "Acest model consta in determinarea unor ponderi corespondente datelor de intrare, astfel incat prezicerile datelor de iesire sa fie cat mai precise.\n",
    "\n",
    "In acest caz am folosit multi_class='ovr' deoarece avem de a face cu o regresie logistica binomiala.\n",
    "\"\"\"\n",
    "model2 = LogisticRegression(solver='liblinear', multi_class='ovr', max_iter=1000)\n",
    "model2.fit(X_train_mat, y_train_col)\n",
    "y_hat = model2.predict(X_test_mat)"
   ]
  },
  {
   "cell_type": "code",
   "execution_count": 17,
   "metadata": {},
   "outputs": [
    {
     "output_type": "stream",
     "name": "stdout",
     "text": "Predicted:\t[1. 0. 0. 0. 0. 0. 1. 0. 0. 0. 1. 1. 0. 0. 0. 0. 0. 0. 0. 0. 0. 0. 0. 1.\n 0. 0. 0. 1. 1. 0. 0. 0. 0. 1. 0. 0. 0. 0. 0. 0. 0. 0. 0. 0. 0. 0. 0. 0.\n 0. 0. 0. 0. 0. 0. 0. 0. 0. 0. 1. 0. 0. 0. 0. 0. 0. 1. 1. 1. 0. 0. 0. 0.\n 0. 1. 0. 0. 0. 0. 0. 0. 0. 1. 1. 0. 0. 0. 0. 0. 1. 0. 0. 0. 0. 0. 0. 0.]\n\nGround truth:\t[[0.]\n [0.]\n [1.]\n [1.]\n [1.]\n [0.]\n [0.]\n [0.]\n [0.]\n [0.]\n [1.]\n [1.]\n [0.]\n [0.]\n [0.]\n [0.]\n [0.]\n [0.]\n [0.]\n [0.]\n [1.]\n [0.]\n [1.]\n [0.]\n [0.]\n [0.]\n [0.]\n [1.]\n [1.]\n [0.]\n [0.]\n [0.]\n [0.]\n [0.]\n [0.]\n [0.]\n [0.]\n [0.]\n [1.]\n [0.]\n [0.]\n [0.]\n [0.]\n [0.]\n [0.]\n [1.]\n [0.]\n [0.]\n [0.]\n [0.]\n [0.]\n [0.]\n [0.]\n [0.]\n [1.]\n [0.]\n [0.]\n [1.]\n [1.]\n [0.]\n [0.]\n [0.]\n [1.]\n [0.]\n [0.]\n [0.]\n [1.]\n [0.]\n [0.]\n [0.]\n [0.]\n [1.]\n [0.]\n [1.]\n [0.]\n [0.]\n [0.]\n [0.]\n [0.]\n [1.]\n [0.]\n [1.]\n [0.]\n [0.]\n [0.]\n [0.]\n [0.]\n [0.]\n [1.]\n [0.]\n [1.]\n [0.]\n [1.]\n [1.]\n [1.]\n [0.]]\n\nFailed:\t[71 25 25 25 25 25 71 25 25 25 71 71 25 25 25 25 25 25 25 25 25 25 25 71\n 25 25 25 71 71 25 25 25 25 71 25 25 25 25 25 25 25 25 25 25 25 25 25 25\n 25 25 25 25 25 25 25 25 25 25 71 25 25 25 25 25 25 71 71 71 25 25 25 25\n 25 71 25 25 25 25 25 25 25 71 71 25 25 25 25 25 71 25 25 25 25 25 25 25]\n"
    }
   ],
   "source": [
    "print(f'Predicted:\\t{y_hat}\\n')\n",
    "print(f'Ground truth:\\t{y_test_col}\\n')\n",
    "print(f'Failed:\\t{sum(y_hat != y_test_col)}')"
   ]
  },
  {
   "cell_type": "code",
   "execution_count": 30,
   "metadata": {},
   "outputs": [
    {
     "output_type": "execute_result",
     "data": {
      "text/plain": "{'fit_time': array([0.00598407, 0.00399041, 0.0029912 , 0.01197028, 0.00699186]),\n 'score_time': array([0.00398993, 0.00697923, 0.00499034, 0.00697803, 0.00797391]),\n 'test_accuracy': array([0.70689655, 0.73684211, 0.78947368, 0.63157895, 0.70175439]),\n 'train_accuracy': array([0.76315789, 0.7510917 , 0.72052402, 0.77292576, 0.75982533]),\n 'test_f1': array([0.        , 0.21052632, 0.45454545, 0.43243243, 0.56410256]),\n 'train_f1': array([0.46      , 0.4       , 0.23809524, 0.50943396, 0.46601942])}"
     },
     "metadata": {},
     "execution_count": 30
    }
   ],
   "source": [
    "# Cross Validation\n",
    "results_train = cross_validate(model2, X, y, scoring=['accuracy','f1'], return_train_score=True)\n",
    "results_train"
   ]
  },
  {
   "cell_type": "code",
   "execution_count": 19,
   "metadata": {},
   "outputs": [],
   "source": [
    "# Cautare hiperparametrii optimi - GridSearch\n",
    "parameter_grid = {'max_iter': [100, 1000, 10000],\n",
    "    'C' : np.linspace(0.0, 2.0, 5),\n",
    "    'solver': ['saga', 'liblinear', 'lbfgs']}\n",
    "grid_search = GridSearchCV(estimator = LogisticRegression(), param_grid=parameter_grid, scoring='accuracy', cv=4, return_train_score=True)\n",
    "grid_search.fit(X_train_mat, y_train_col)\n",
    "results_gscv = cross_val_score(grid_search, X_test_mat, y_test_col, scoring='accuracy')"
   ]
  },
  {
   "cell_type": "code",
   "execution_count": 20,
   "metadata": {},
   "outputs": [
    {
     "output_type": "stream",
     "name": "stdout",
     "text": "0.728421052631579\n{'C': 2.0, 'max_iter': 100, 'solver': 'liblinear'}\n"
    }
   ],
   "source": [
    "print(results_gscv.mean())\n",
    "print(grid_search.best_params_)"
   ]
  },
  {
   "cell_type": "markdown",
   "metadata": {},
   "source": [
    "## Model 3: DecisionTreeClassifier"
   ]
  },
  {
   "cell_type": "code",
   "execution_count": 21,
   "metadata": {},
   "outputs": [],
   "source": [
    "# Model\n",
    "\"\"\"\n",
    "Metoda aceasta este capabila sa faca clasificarea atat binomiala, cat si multinomiala. In clasificarea aceasta nodurile testeaza valoarea unui atribut anume, muchiile corespund raspunsului testului si fac legatura cu urmatoarele noduri, iar frunzele arborelui prezic rezultatul (efectiv incadrarea in clase).\n",
    "Modelul are in spate un arbore binar decizional, si ajunge la rezultate calculand asa numita \"impuritate\" (gini impurity), cu ajutorul careia determina cate split-uri sa faca (sau sa nu faca) la fiecare pas/nivel din structura decizionala.\n",
    "\"\"\"\n",
    "model3 = DecisionTreeClassifier(max_depth=2)\n",
    "model3.fit(X_train_mat, y_train_col)\n",
    "y_hat = model3.predict(X_test_mat)"
   ]
  },
  {
   "cell_type": "code",
   "execution_count": 22,
   "metadata": {},
   "outputs": [
    {
     "output_type": "stream",
     "name": "stdout",
     "text": "Predicted:\t[0. 0. 0. 0. 1. 0. 1. 0. 0. 0. 1. 1. 0. 0. 0. 0. 0. 0. 0. 0. 0. 0. 0. 1.\n 0. 0. 0. 0. 0. 0. 0. 0. 0. 0. 0. 0. 0. 0. 0. 0. 0. 0. 0. 0. 0. 0. 0. 0.\n 0. 0. 0. 0. 0. 0. 0. 0. 0. 0. 1. 0. 0. 0. 0. 0. 0. 0. 0. 0. 0. 0. 0. 0.\n 0. 1. 0. 0. 0. 0. 0. 0. 0. 1. 1. 0. 0. 0. 0. 0. 0. 0. 0. 0. 0. 0. 0. 0.]\n\nGround truth:\t[[0.]\n [0.]\n [1.]\n [1.]\n [1.]\n [0.]\n [0.]\n [0.]\n [0.]\n [0.]\n [1.]\n [1.]\n [0.]\n [0.]\n [0.]\n [0.]\n [0.]\n [0.]\n [0.]\n [0.]\n [1.]\n [0.]\n [1.]\n [0.]\n [0.]\n [0.]\n [0.]\n [1.]\n [1.]\n [0.]\n [0.]\n [0.]\n [0.]\n [0.]\n [0.]\n [0.]\n [0.]\n [0.]\n [1.]\n [0.]\n [0.]\n [0.]\n [0.]\n [0.]\n [0.]\n [1.]\n [0.]\n [0.]\n [0.]\n [0.]\n [0.]\n [0.]\n [0.]\n [0.]\n [1.]\n [0.]\n [0.]\n [1.]\n [1.]\n [0.]\n [0.]\n [0.]\n [1.]\n [0.]\n [0.]\n [0.]\n [1.]\n [0.]\n [0.]\n [0.]\n [0.]\n [1.]\n [0.]\n [1.]\n [0.]\n [0.]\n [0.]\n [0.]\n [0.]\n [1.]\n [0.]\n [1.]\n [0.]\n [0.]\n [0.]\n [0.]\n [0.]\n [0.]\n [1.]\n [0.]\n [1.]\n [0.]\n [1.]\n [1.]\n [1.]\n [0.]]\n\nFailed:\t[25 25 25 25 71 25 71 25 25 25 71 71 25 25 25 25 25 25 25 25 25 25 25 71\n 25 25 25 25 25 25 25 25 25 25 25 25 25 25 25 25 25 25 25 25 25 25 25 25\n 25 25 25 25 25 25 25 25 25 25 71 25 25 25 25 25 25 25 25 25 25 25 25 25\n 25 71 25 25 25 25 25 25 25 71 71 25 25 25 25 25 25 25 25 25 25 25 25 25]\n"
    }
   ],
   "source": [
    "print(f'Predicted:\\t{y_hat}\\n')\n",
    "print(f'Ground truth:\\t{y_test_col}\\n')\n",
    "print(f'Failed:\\t{sum(y_hat != y_test_col)}')"
   ]
  },
  {
   "cell_type": "code",
   "execution_count": 23,
   "metadata": {},
   "outputs": [
    {
     "output_type": "execute_result",
     "data": {
      "text/plain": "{'fit_time': array([0.00698137, 0.00498724, 0.00798321, 0.00299215, 0.00897837]),\n 'score_time': array([0.004987  , 0.00798178, 0.00398469, 0.00498796, 0.00498104]),\n 'test_accuracy': array([0.70689655, 0.75438596, 0.8245614 , 0.66666667, 0.54385965]),\n 'train_accuracy': array([0.77192982, 0.75982533, 0.74235808, 0.7860262 , 0.77292576]),\n 'test_f1': array([0.        , 0.3       , 0.58333333, 0.34482759, 0.35      ]),\n 'train_f1': array([0.46938776, 0.42105263, 0.35164835, 0.47311828, 0.49019608])}"
     },
     "metadata": {},
     "execution_count": 23
    }
   ],
   "source": [
    "# Cross Validation\n",
    "results_train = cross_validate(model3, X, y, scoring=['accuracy','f1'], return_train_score=True)\n",
    "results_train"
   ]
  },
  {
   "cell_type": "code",
   "execution_count": 24,
   "metadata": {},
   "outputs": [],
   "source": [
    "# Cautare hiperparametrii optimi - GridSearch\n",
    "parameter_grid = {'max_depth': list(range(3,7)),\n",
    "'min_samples_split': np.linspace(1,3,5),\n",
    "'min_samples_leaf': np.linspace(0.1,0.3,5),\n",
    "'max_features': ['sqrt', 'log2', None],\n",
    "'criterion': ['gini', 'entropy']}\n",
    "grid_search = GridSearchCV(estimator = DecisionTreeClassifier(), param_grid=parameter_grid, scoring='accuracy', cv=4, return_train_score=True)\n",
    "grid_search.fit(X_train_mat, y_train_col)\n",
    "results_gscv = cross_val_score(grid_search, X_test_mat, y_test_col, scoring='accuracy')"
   ]
  },
  {
   "cell_type": "code",
   "execution_count": 25,
   "metadata": {},
   "outputs": [
    {
     "output_type": "stream",
     "name": "stdout",
     "text": "0.7394736842105264\n{'criterion': 'entropy', 'max_depth': 5, 'max_features': 'log2', 'min_samples_leaf': 0.1, 'min_samples_split': 1.0}\n"
    }
   ],
   "source": [
    "print(results_gscv.mean())\n",
    "print(grid_search.best_params_)"
   ]
  },
  {
   "cell_type": "markdown",
   "metadata": {},
   "source": [
    "## Model 4: RandomForestClassifier"
   ]
  },
  {
   "cell_type": "code",
   "execution_count": 26,
   "metadata": {},
   "outputs": [],
   "source": [
    "# Model\n",
    "\"\"\"\n",
    "Aceasta metode de clasificare consta intr-o multitudine de arbori de decizie care lucreaza ca un intreg. Din fiecare arbore rezulta o clasa predictie si clasa cu cele mai multe \"voturi\" devine modelul de predictie.\n",
    "\"\"\"\n",
    "model4 = RandomForestClassifier(max_depth=2, random_state=0, ccp_alpha=0.2)\n",
    "model4.fit(X_train_mat, y_train_col)\n",
    "y_hat = model4.predict(X_test_mat)"
   ]
  },
  {
   "cell_type": "code",
   "execution_count": 27,
   "metadata": {},
   "outputs": [
    {
     "output_type": "stream",
     "name": "stdout",
     "text": "Predicted:\t[0. 0. 0. 0. 0. 0. 0. 0. 0. 0. 0. 0. 0. 0. 0. 0. 0. 0. 0. 0. 0. 0. 0. 0.\n 0. 0. 0. 0. 0. 0. 0. 0. 0. 0. 0. 0. 0. 0. 0. 0. 0. 0. 0. 0. 0. 0. 0. 0.\n 0. 0. 0. 0. 0. 0. 0. 0. 0. 0. 0. 0. 0. 0. 0. 0. 0. 0. 0. 0. 0. 0. 0. 0.\n 0. 0. 0. 0. 0. 0. 0. 0. 0. 0. 0. 0. 0. 0. 0. 0. 0. 0. 0. 0. 0. 0. 0. 0.]\n\nGround truth:\t[[0.]\n [0.]\n [1.]\n [1.]\n [1.]\n [0.]\n [0.]\n [0.]\n [0.]\n [0.]\n [1.]\n [1.]\n [0.]\n [0.]\n [0.]\n [0.]\n [0.]\n [0.]\n [0.]\n [0.]\n [1.]\n [0.]\n [1.]\n [0.]\n [0.]\n [0.]\n [0.]\n [1.]\n [1.]\n [0.]\n [0.]\n [0.]\n [0.]\n [0.]\n [0.]\n [0.]\n [0.]\n [0.]\n [1.]\n [0.]\n [0.]\n [0.]\n [0.]\n [0.]\n [0.]\n [1.]\n [0.]\n [0.]\n [0.]\n [0.]\n [0.]\n [0.]\n [0.]\n [0.]\n [1.]\n [0.]\n [0.]\n [1.]\n [1.]\n [0.]\n [0.]\n [0.]\n [1.]\n [0.]\n [0.]\n [0.]\n [1.]\n [0.]\n [0.]\n [0.]\n [0.]\n [1.]\n [0.]\n [1.]\n [0.]\n [0.]\n [0.]\n [0.]\n [0.]\n [1.]\n [0.]\n [1.]\n [0.]\n [0.]\n [0.]\n [0.]\n [0.]\n [0.]\n [1.]\n [0.]\n [1.]\n [0.]\n [1.]\n [1.]\n [1.]\n [0.]]\n\nFailed:\t[25 25 25 25 25 25 25 25 25 25 25 25 25 25 25 25 25 25 25 25 25 25 25 25\n 25 25 25 25 25 25 25 25 25 25 25 25 25 25 25 25 25 25 25 25 25 25 25 25\n 25 25 25 25 25 25 25 25 25 25 25 25 25 25 25 25 25 25 25 25 25 25 25 25\n 25 25 25 25 25 25 25 25 25 25 25 25 25 25 25 25 25 25 25 25 25 25 25 25]\n"
    }
   ],
   "source": [
    "print(f'Predicted:\\t{y_hat}\\n')\n",
    "print(f'Ground truth:\\t{y_test_col}\\n')\n",
    "print(f'Failed:\\t{sum(y_hat != y_test_col)}')"
   ]
  },
  {
   "cell_type": "code",
   "execution_count": 28,
   "metadata": {},
   "outputs": [
    {
     "output_type": "execute_result",
     "data": {
      "text/plain": "{'fit_time': array([0.22839355, 0.17353535, 0.2261951 , 0.17652893, 0.19750524]),\n 'score_time': array([0.01499557, 0.01102877, 0.01795554, 0.00997066, 0.01293254]),\n 'test_accuracy': array([0.70689655, 0.70175439, 0.70175439, 0.70175439, 0.70175439]),\n 'train_accuracy': array([0.70175439, 0.70305677, 0.70305677, 0.70305677, 0.70305677]),\n 'test_f1': array([0., 0., 0., 0., 0.]),\n 'train_f1': array([0., 0., 0., 0., 0.])}"
     },
     "metadata": {},
     "execution_count": 28
    }
   ],
   "source": [
    "# Cross Validation\n",
    "results_train = cross_validate(model4, X, y, scoring=['accuracy','f1'], return_train_score=True)\n",
    "results_train"
   ]
  },
  {
   "cell_type": "code",
   "execution_count": 29,
   "metadata": {},
   "outputs": [],
   "source": [
    "# Cautare hiperparametrii optimi - GridSearch\n",
    "parameter_grid = {'max_depth': list(range(3,7)),\n",
    "'min_samples_split': list(range(1,4)),\n",
    "'min_samples_leaf': list(range(3,7))}\n",
    "grid_search = GridSearchCV(estimator = RandomForestClassifier(), param_grid=parameter_grid, scoring='accuracy', cv=4, return_train_score=True)\n",
    "grid_search.fit(X_train_mat, y_train_col)\n",
    "results_gscv = cross_val_score(grid_search, X_test_mat, y_test_col, scoring='accuracy')"
   ]
  },
  {
   "cell_type": "code",
   "execution_count": 31,
   "metadata": {},
   "outputs": [
    {
     "output_type": "stream",
     "name": "stdout",
     "text": "0.718421052631579\n{'max_depth': 3, 'min_samples_leaf': 4, 'min_samples_split': 2}\n"
    }
   ],
   "source": [
    "print(results_gscv.mean())\n",
    "print(grid_search.best_params_)"
   ]
  },
  {
   "cell_type": "markdown",
   "metadata": {},
   "source": [
    "## Model 5: SVC (Support Vector Classification)"
   ]
  },
  {
   "cell_type": "code",
   "execution_count": 32,
   "metadata": {},
   "outputs": [],
   "source": [
    "# Model\n",
    "\"\"\"\n",
    "\n",
    "\"\"\"\n",
    "model5 = SVC(C=2, gamma='auto')\n",
    "model5.fit(X_train_mat, y_train_col)\n",
    "y_hat = model5.predict(X_test_mat)"
   ]
  },
  {
   "cell_type": "code",
   "execution_count": 33,
   "metadata": {},
   "outputs": [
    {
     "output_type": "stream",
     "name": "stdout",
     "text": "Predicted:\t[0. 0. 0. 0. 0. 0. 0. 0. 0. 0. 1. 1. 0. 0. 0. 0. 0. 0. 0. 0. 0. 0. 0. 1.\n 0. 0. 1. 1. 0. 0. 0. 0. 0. 1. 0. 0. 0. 0. 0. 0. 0. 0. 0. 0. 0. 0. 0. 0.\n 0. 0. 0. 0. 0. 0. 0. 0. 0. 0. 1. 0. 0. 0. 0. 0. 0. 1. 1. 0. 0. 0. 0. 0.\n 0. 1. 0. 0. 0. 0. 0. 1. 0. 1. 1. 0. 0. 0. 0. 0. 1. 0. 0. 0. 0. 0. 0. 0.]\n\nGround truth:\t[[0.]\n [0.]\n [1.]\n [1.]\n [1.]\n [0.]\n [0.]\n [0.]\n [0.]\n [0.]\n [1.]\n [1.]\n [0.]\n [0.]\n [0.]\n [0.]\n [0.]\n [0.]\n [0.]\n [0.]\n [1.]\n [0.]\n [1.]\n [0.]\n [0.]\n [0.]\n [0.]\n [1.]\n [1.]\n [0.]\n [0.]\n [0.]\n [0.]\n [0.]\n [0.]\n [0.]\n [0.]\n [0.]\n [1.]\n [0.]\n [0.]\n [0.]\n [0.]\n [0.]\n [0.]\n [1.]\n [0.]\n [0.]\n [0.]\n [0.]\n [0.]\n [0.]\n [0.]\n [0.]\n [1.]\n [0.]\n [0.]\n [1.]\n [1.]\n [0.]\n [0.]\n [0.]\n [1.]\n [0.]\n [0.]\n [0.]\n [1.]\n [0.]\n [0.]\n [0.]\n [0.]\n [1.]\n [0.]\n [1.]\n [0.]\n [0.]\n [0.]\n [0.]\n [0.]\n [1.]\n [0.]\n [1.]\n [0.]\n [0.]\n [0.]\n [0.]\n [0.]\n [0.]\n [1.]\n [0.]\n [1.]\n [0.]\n [1.]\n [1.]\n [1.]\n [0.]]\n\nFailed:\t[25 25 25 25 25 25 25 25 25 25 71 71 25 25 25 25 25 25 25 25 25 25 25 71\n 25 25 71 71 25 25 25 25 25 71 25 25 25 25 25 25 25 25 25 25 25 25 25 25\n 25 25 25 25 25 25 25 25 25 25 71 25 25 25 25 25 25 71 71 25 25 25 25 25\n 25 71 25 25 25 25 25 71 25 71 71 25 25 25 25 25 71 25 25 25 25 25 25 25]\n"
    }
   ],
   "source": [
    "print(f'Predicted:\\t{y_hat}\\n')\n",
    "print(f'Ground truth:\\t{y_test_col}\\n')\n",
    "print(f'Failed:\\t{sum(y_hat != y_test_col)}')"
   ]
  },
  {
   "cell_type": "code",
   "execution_count": 34,
   "metadata": {},
   "outputs": [
    {
     "output_type": "execute_result",
     "data": {
      "text/plain": "{'fit_time': array([0.00797772, 0.00398755, 0.00498486, 0.00997424, 0.00698113]),\n 'score_time': array([0.00598478, 0.00399089, 0.00299716, 0.00498462, 0.00598288]),\n 'test_accuracy': array([0.70689655, 0.73684211, 0.70175439, 0.61403509, 0.63157895]),\n 'train_accuracy': array([0.77631579, 0.7510917 , 0.70305677, 0.74672489, 0.74235808]),\n 'test_f1': array([0.        , 0.21052632, 0.        , 0.42105263, 0.48780488]),\n 'train_f1': array([0.50485437, 0.31325301, 0.        , 0.45283019, 0.42718447])}"
     },
     "metadata": {},
     "execution_count": 34
    }
   ],
   "source": [
    "# Cross Validation\n",
    "results_test = cross_validate(model5, X, y, scoring=['accuracy','f1'], return_train_score=True)\n",
    "results_test"
   ]
  },
  {
   "cell_type": "code",
   "execution_count": 35,
   "metadata": {},
   "outputs": [],
   "source": [
    "# Cautare hiperparametrii optimi - GridSearch\n",
    "parameter_grid = {'C': np.linspace(0,1,5),\n",
    "'kernel': ['linear', 'poly', 'rbf', 'sigmoid'],\n",
    "'gamma': ['scale', 'auto']}\n",
    "grid_search = GridSearchCV(estimator = SVC(), param_grid=parameter_grid, scoring='accuracy', cv=4, return_train_score=True)\n",
    "grid_search.fit(X_train_mat, y_train_col)\n",
    "results_gscv = cross_val_score(grid_search, X_test_mat, y_test_col, scoring='accuracy')"
   ]
  },
  {
   "cell_type": "code",
   "execution_count": 36,
   "metadata": {
    "scrolled": true
   },
   "outputs": [
    {
     "output_type": "stream",
     "name": "stdout",
     "text": "0.708421052631579\n{'C': 0.25, 'gamma': 'scale', 'kernel': 'poly'}\n"
    }
   ],
   "source": [
    "print(results_gscv.mean())\n",
    "print(grid_search.best_params_)"
   ]
  }
 ],
 "metadata": {
  "file_extension": ".py",
  "kernelspec": {
   "display_name": "Python 3.7.6 64-bit ('IDS': conda)",
   "language": "python",
   "name": "python37664bitidsconda6aac95af6de54c59bceda5e4272aaa84"
  },
  "language_info": {
   "codemirror_mode": {
    "name": "ipython",
    "version": 3
   },
   "file_extension": ".py",
   "mimetype": "text/x-python",
   "name": "python",
   "nbconvert_exporter": "python",
   "pygments_lexer": "ipython3",
   "version": "3.7.6-final"
  },
  "mimetype": "text/x-python",
  "name": "python",
  "npconvert_exporter": "python",
  "pygments_lexer": "ipython3",
  "version": 3
 },
 "nbformat": 4,
 "nbformat_minor": 2
}