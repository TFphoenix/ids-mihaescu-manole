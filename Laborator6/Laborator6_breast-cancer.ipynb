{
 "nbformat": 4,
 "nbformat_minor": 2,
 "metadata": {
  "language_info": {
   "name": "python",
   "codemirror_mode": {
    "name": "ipython",
    "version": 3
   },
   "version": "3.7.6-final"
  },
  "orig_nbformat": 2,
  "file_extension": ".py",
  "mimetype": "text/x-python",
  "name": "python",
  "npconvert_exporter": "python",
  "pygments_lexer": "ipython3",
  "version": 3,
  "kernelspec": {
   "name": "python37664bitidsconda6aac95af6de54c59bceda5e4272aaa84",
   "display_name": "Python 3.7.6 64-bit ('IDS': conda)"
  }
 },
 "cells": [
  {
   "cell_type": "markdown",
   "metadata": {},
   "source": [
    "## Nume studenti:\n",
    "- Alexandra Manole\n",
    "- Teodor Mihaescu\n",
    "\n",
    "## Grupa: 382"
   ]
  },
  {
   "cell_type": "markdown",
   "metadata": {},
   "source": [
    "# Data Set 1: Breast Cancer\n",
    "### (Missing values: yes)"
   ]
  },
  {
   "cell_type": "code",
   "execution_count": 2268,
   "metadata": {},
   "outputs": [],
   "source": [
    "from collections import Counter\n",
    "import matplotlib.pyplot as plt\n",
    "import pandas as pd\n",
    "import numpy as np\n",
    "\n",
    "from sklearn.experimental import enable_iterative_imputer  \n",
    "from sklearn.impute import IterativeImputer, SimpleImputer\n",
    "from sklearn.model_selection import train_test_split\n",
    "from sklearn.linear_model import LinearRegression, LogisticRegression\n",
    "from sklearn.neighbors import KNeighborsClassifier\n",
    "from sklearn.tree import DecisionTreeClassifier\n",
    "from sklearn.ensemble import RandomForestClassifier\n",
    "from sklearn.svm import SVC\n",
    "from sklearn import metrics\n",
    "from sklearn.model_selection import cross_validate, cross_val_score, GridSearchCV"
   ]
  },
  {
   "cell_type": "code",
   "execution_count": 2128,
   "metadata": {},
   "outputs": [
    {
     "output_type": "stream",
     "name": "stdout",
     "text": "<class 'pandas.core.frame.DataFrame'>\nRangeIndex: 286 entries, 0 to 285\nData columns (total 10 columns):\n #   Column      Non-Null Count  Dtype \n---  ------      --------------  ----- \n 0   Class       286 non-null    object\n 1   Age         286 non-null    object\n 2   Menopause   286 non-null    object\n 3   TumorSize   286 non-null    object\n 4   InvNodes    286 non-null    object\n 5   NodeCaps    278 non-null    object\n 6   DegMalig    286 non-null    int64 \n 7   Breast      286 non-null    object\n 8   BreastQuad  285 non-null    object\n 9   Irradiat    286 non-null    object\ndtypes: int64(1), object(9)\nmemory usage: 22.5+ KB\n"
    }
   ],
   "source": [
    "# Citeste datele\n",
    "data = pd.read_csv('./Datasets/breast-cancer.csv')\n",
    "data.info()"
   ]
  },
  {
   "cell_type": "code",
   "execution_count": 2129,
   "metadata": {},
   "outputs": [],
   "source": [
    "# Prelucreaza si scaleaza datele\n",
    "def scale_category(name, max_value):\n",
    "    category_splitted = np.char.split(np.array(data[name], dtype=str), sep='-')\n",
    "    category_splitted = np.array([x for x in category_splitted], dtype=int)\n",
    "    data[name] = np.mean(category_splitted, axis=1) / max_value"
   ]
  },
  {
   "cell_type": "code",
   "execution_count": 2130,
   "metadata": {},
   "outputs": [
    {
     "output_type": "execute_result",
     "data": {
      "text/plain": "     Class       Age  Menopause  TumorSize  InvNodes NodeCaps  DegMalig  \\\n0        0  0.348485        0.0   0.542373  0.025641        0       1.0   \n1        0  0.449495        0.0   0.372881  0.025641        0       0.5   \n2        0  0.449495        0.0   0.372881  0.025641        0       0.5   \n3        0  0.651515        1.0   0.288136  0.025641        0       0.5   \n4        0  0.449495        0.0   0.033898  0.025641        0       0.5   \n..     ...       ...        ...        ...       ...      ...       ...   \n281      1  0.348485        0.0   0.542373  0.025641        0       0.5   \n282      1  0.348485        0.0   0.372881  0.025641        0       1.0   \n283      1  0.651515        1.0   0.372881  0.025641        0       0.0   \n284      1  0.449495        1.0   0.542373  0.102564        0       1.0   \n285      1  0.550505        1.0   0.542373  0.102564        0       1.0   \n\n     Breast BreastQuad  Irradiat  \n0         0          0         0  \n1         1       0.75         0  \n2         0          0         0  \n3         1       0.25         0  \n4         1        0.5         0  \n..      ...        ...       ...  \n281       0       0.25         0  \n282       0       0.25         1  \n283       1       0.25         0  \n284       0          0         0  \n285       0          0         0  \n\n[286 rows x 10 columns]",
      "text/html": "<div>\n<style scoped>\n    .dataframe tbody tr th:only-of-type {\n        vertical-align: middle;\n    }\n\n    .dataframe tbody tr th {\n        vertical-align: top;\n    }\n\n    .dataframe thead th {\n        text-align: right;\n    }\n</style>\n<table border=\"1\" class=\"dataframe\">\n  <thead>\n    <tr style=\"text-align: right;\">\n      <th></th>\n      <th>Class</th>\n      <th>Age</th>\n      <th>Menopause</th>\n      <th>TumorSize</th>\n      <th>InvNodes</th>\n      <th>NodeCaps</th>\n      <th>DegMalig</th>\n      <th>Breast</th>\n      <th>BreastQuad</th>\n      <th>Irradiat</th>\n    </tr>\n  </thead>\n  <tbody>\n    <tr>\n      <th>0</th>\n      <td>0</td>\n      <td>0.348485</td>\n      <td>0.0</td>\n      <td>0.542373</td>\n      <td>0.025641</td>\n      <td>0</td>\n      <td>1.0</td>\n      <td>0</td>\n      <td>0</td>\n      <td>0</td>\n    </tr>\n    <tr>\n      <th>1</th>\n      <td>0</td>\n      <td>0.449495</td>\n      <td>0.0</td>\n      <td>0.372881</td>\n      <td>0.025641</td>\n      <td>0</td>\n      <td>0.5</td>\n      <td>1</td>\n      <td>0.75</td>\n      <td>0</td>\n    </tr>\n    <tr>\n      <th>2</th>\n      <td>0</td>\n      <td>0.449495</td>\n      <td>0.0</td>\n      <td>0.372881</td>\n      <td>0.025641</td>\n      <td>0</td>\n      <td>0.5</td>\n      <td>0</td>\n      <td>0</td>\n      <td>0</td>\n    </tr>\n    <tr>\n      <th>3</th>\n      <td>0</td>\n      <td>0.651515</td>\n      <td>1.0</td>\n      <td>0.288136</td>\n      <td>0.025641</td>\n      <td>0</td>\n      <td>0.5</td>\n      <td>1</td>\n      <td>0.25</td>\n      <td>0</td>\n    </tr>\n    <tr>\n      <th>4</th>\n      <td>0</td>\n      <td>0.449495</td>\n      <td>0.0</td>\n      <td>0.033898</td>\n      <td>0.025641</td>\n      <td>0</td>\n      <td>0.5</td>\n      <td>1</td>\n      <td>0.5</td>\n      <td>0</td>\n    </tr>\n    <tr>\n      <th>...</th>\n      <td>...</td>\n      <td>...</td>\n      <td>...</td>\n      <td>...</td>\n      <td>...</td>\n      <td>...</td>\n      <td>...</td>\n      <td>...</td>\n      <td>...</td>\n      <td>...</td>\n    </tr>\n    <tr>\n      <th>281</th>\n      <td>1</td>\n      <td>0.348485</td>\n      <td>0.0</td>\n      <td>0.542373</td>\n      <td>0.025641</td>\n      <td>0</td>\n      <td>0.5</td>\n      <td>0</td>\n      <td>0.25</td>\n      <td>0</td>\n    </tr>\n    <tr>\n      <th>282</th>\n      <td>1</td>\n      <td>0.348485</td>\n      <td>0.0</td>\n      <td>0.372881</td>\n      <td>0.025641</td>\n      <td>0</td>\n      <td>1.0</td>\n      <td>0</td>\n      <td>0.25</td>\n      <td>1</td>\n    </tr>\n    <tr>\n      <th>283</th>\n      <td>1</td>\n      <td>0.651515</td>\n      <td>1.0</td>\n      <td>0.372881</td>\n      <td>0.025641</td>\n      <td>0</td>\n      <td>0.0</td>\n      <td>1</td>\n      <td>0.25</td>\n      <td>0</td>\n    </tr>\n    <tr>\n      <th>284</th>\n      <td>1</td>\n      <td>0.449495</td>\n      <td>1.0</td>\n      <td>0.542373</td>\n      <td>0.102564</td>\n      <td>0</td>\n      <td>1.0</td>\n      <td>0</td>\n      <td>0</td>\n      <td>0</td>\n    </tr>\n    <tr>\n      <th>285</th>\n      <td>1</td>\n      <td>0.550505</td>\n      <td>1.0</td>\n      <td>0.542373</td>\n      <td>0.102564</td>\n      <td>0</td>\n      <td>1.0</td>\n      <td>0</td>\n      <td>0</td>\n      <td>0</td>\n    </tr>\n  </tbody>\n</table>\n<p>286 rows × 10 columns</p>\n</div>"
     },
     "metadata": {},
     "execution_count": 2130
    }
   ],
   "source": [
    "# Class\n",
    "data['Class'] = np.where(data['Class'] == 'no-recurrence-events', 0, 1)\n",
    "\n",
    "# Age (10-99)\n",
    "scale_category('Age', 99)\n",
    "\n",
    "# Menopause\n",
    "data['Menopause'] = np.where(data['Menopause'] == 'premeno', 0.0, data['Menopause'])\n",
    "data['Menopause'] = np.where(data['Menopause'] == 'lt40', 0.5, data['Menopause'])\n",
    "data['Menopause'] = np.where(data['Menopause'] == 'ge40', 1.0, data['Menopause'])\n",
    "data['Menopause'] = data['Menopause'].astype('float64')\n",
    "\n",
    "# Tumor Size (0-59)\n",
    "scale_category('TumorSize',59)\n",
    "\n",
    "# Involved Nodes(0-39)\n",
    "scale_category('InvNodes', 39)\n",
    "\n",
    "# Node Caps\n",
    "data['NodeCaps'] = np.where(data['NodeCaps'] == 'yes', 1, data['NodeCaps'])\n",
    "data['NodeCaps'] = np.where(data['NodeCaps'] == 'no', 0, data['NodeCaps'])\n",
    "# data['NodeCaps'] = data['NodeCaps'].astype('float64')\n",
    "\n",
    "# Deg Malig\n",
    "data['DegMalig'] = data['DegMalig'] / 2 - 0.5\n",
    "\n",
    "# Breast\n",
    "data['Breast'] = np.where(data['Breast'] == 'left', 0, 1)\n",
    "\n",
    "# Breast Quad\n",
    "values = np.linspace(0, 1, 5)\n",
    "data['BreastQuad'] = np.where(data['BreastQuad'] == 'left_low', values[0], data['BreastQuad'])\n",
    "data['BreastQuad'] = np.where(data['BreastQuad'] == 'left_up', values[1], data['BreastQuad'])\n",
    "data['BreastQuad'] = np.where(data['BreastQuad'] == 'right_low', values[2], data['BreastQuad'])\n",
    "data['BreastQuad'] = np.where(data['BreastQuad'] == 'right_up', values[3], data['BreastQuad'])\n",
    "data['BreastQuad'] = np.where(data['BreastQuad'] == 'central', values[4], data['BreastQuad'])\n",
    "# data['BreastQuad'] = data['BreastQuad'].astype('float64')\n",
    "\n",
    "# Irradiat\n",
    "data['Irradiat'] = np.where(data['Irradiat'] == 'yes', 1, 0)\n",
    "\n",
    "# pd.set_option(\"display.max_rows\", 20, \"display.max_columns\", 20)\n",
    "data"
   ]
  },
  {
   "cell_type": "code",
   "execution_count": 2131,
   "metadata": {},
   "outputs": [
    {
     "output_type": "stream",
     "name": "stdout",
     "text": "<class 'pandas.core.frame.DataFrame'>\nRangeIndex: 286 entries, 0 to 285\nData columns (total 10 columns):\n #   Column      Non-Null Count  Dtype  \n---  ------      --------------  -----  \n 0   Class       286 non-null    int32  \n 1   Age         286 non-null    float64\n 2   Menopause   286 non-null    float64\n 3   TumorSize   286 non-null    float64\n 4   InvNodes    286 non-null    float64\n 5   NodeCaps    278 non-null    object \n 6   DegMalig    286 non-null    float64\n 7   Breast      286 non-null    int32  \n 8   BreastQuad  285 non-null    object \n 9   Irradiat    286 non-null    int32  \ndtypes: float64(5), int32(3), object(2)\nmemory usage: 19.1+ KB\n"
    }
   ],
   "source": [
    "data.info()"
   ]
  },
  {
   "cell_type": "code",
   "execution_count": 2132,
   "metadata": {},
   "outputs": [],
   "source": [
    "# Missing values imputation\n",
    "\"\"\"\n",
    "Observam ca avem urmatoarele missing values:\n",
    "- 1 x BreastQuad\n",
    "- 8 x NodeCaps\n",
    "\n",
    "Pentru BreastQuad vom folosi un fillna dupa frecventa, ce va inlocui valoare lipsa cu cea mai itnalnita valoare, fapt care nu va influenta prea mult datele noaste. Facem acest lucru deoarece nu exista o relatie prea sigura intre localizarea cancerului mamar si celelalte atribute\n",
    "\n",
    "Pentru NodeCaps vom folosi un IterativeImputer deoarece acest atribut are legatura cu majoritatea celorlalte atribute, acesta fiind un multivariate imputer. Desi acest lucru este mai costisitor din cauza clasificarii facute de acesta. (initial_strategy='most_frequent' deoarece avem doar yes si no, nu vrem medie, mediana sau constanta)\n",
    "\"\"\"\n",
    "data['BreastQuad'].fillna(data['BreastQuad'].mode()[0], inplace=True)\n",
    "\n",
    "iterativeImputer = IterativeImputer(random_state=0, initial_strategy='most_frequent')\n",
    "data_columns = data.columns\n",
    "data_index = data.index\n",
    "data = pd.DataFrame(iterativeImputer.fit_transform(data))\n",
    "data.columns = data_columns\n",
    "data.index = data_index"
   ]
  },
  {
   "cell_type": "code",
   "execution_count": 2133,
   "metadata": {},
   "outputs": [
    {
     "output_type": "stream",
     "name": "stdout",
     "text": "<class 'pandas.core.frame.DataFrame'>\nRangeIndex: 286 entries, 0 to 285\nData columns (total 10 columns):\n #   Column      Non-Null Count  Dtype  \n---  ------      --------------  -----  \n 0   Class       286 non-null    float64\n 1   Age         286 non-null    float64\n 2   Menopause   286 non-null    float64\n 3   TumorSize   286 non-null    float64\n 4   InvNodes    286 non-null    float64\n 5   NodeCaps    286 non-null    float64\n 6   DegMalig    286 non-null    float64\n 7   Breast      286 non-null    float64\n 8   BreastQuad  286 non-null    float64\n 9   Irradiat    286 non-null    float64\ndtypes: float64(10)\nmemory usage: 22.5 KB\n"
    }
   ],
   "source": [
    "data.info()"
   ]
  },
  {
   "cell_type": "code",
   "execution_count": 2134,
   "metadata": {},
   "outputs": [],
   "source": [
    "# Separarea setului de date\n",
    "X = data.loc[:, 'Age':]\n",
    "y = data.loc[:, :'Class']\n",
    "X_train, X_test, y_train, y_test = train_test_split(X, y, test_size=1/3, shuffle=True)\n",
    "\n",
    "# Convert to numpy arrays\n",
    "X_train_mat = X_train.to_numpy()\n",
    "X_test_mat = X_test.to_numpy()\n",
    "y_train_col = y_train.to_numpy()\n",
    "y_test_col = y_test.to_numpy()"
   ]
  },
  {
   "cell_type": "code",
   "execution_count": 2135,
   "metadata": {},
   "outputs": [
    {
     "output_type": "stream",
     "name": "stdout",
     "text": "Counter({0.0: 131, 1.0: 59})\nCounter({0.0: 70, 1.0: 26})\n"
    }
   ],
   "source": [
    "# Verifica daca sunt egal distribuite\n",
    "print(Counter(y_train_col[:,0]))\n",
    "print(Counter(y_test_col[:,0]))"
   ]
  },
  {
   "cell_type": "markdown",
   "metadata": {},
   "source": [
    "## Model 1: KNeighborsClassifier"
   ]
  },
  {
   "cell_type": "code",
   "execution_count": 2136,
   "metadata": {},
   "outputs": [],
   "source": [
    "# Model\n",
    "\"\"\"\n",
    "Principiul din spatele acestei metode este de a gasi un numar predefinit de cazuri apropiate ca distanta de noul punct care se incearca a fi prezis. Alegerea vecinilor influenteaza rezultatele modelului. Am observant ca in jurul valorii de 10 a hiperparametrului n_neighbors obtinem valori mai bune. \n",
    "Algoritmul necesita multe resurse la partea de testare, iar cea de antrenare se intampla aproape instant (\"retinerea\" datelor).\n",
    "\"\"\"\n",
    "model1 = KNeighborsClassifier(n_neighbors=10)\n",
    "model1.fit(X_train_mat, y_train_col)\n",
    "y_hat = model1.predict(X_test_mat)"
   ]
  },
  {
   "cell_type": "code",
   "execution_count": 2137,
   "metadata": {},
   "outputs": [
    {
     "output_type": "stream",
     "name": "stdout",
     "text": "Predicted:\t[0. 0. 0. 0. 0. 0. 0. 0. 0. 0. 0. 0. 0. 0. 0. 0. 0. 0. 0. 0. 0. 0. 0. 0.\n 0. 0. 1. 0. 0. 0. 1. 1. 0. 0. 0. 0. 0. 0. 0. 0. 1. 0. 0. 0. 0. 0. 0. 0.\n 0. 0. 1. 0. 1. 0. 0. 0. 0. 0. 0. 0. 0. 0. 0. 0. 0. 0. 0. 0. 0. 0. 0. 0.\n 0. 0. 0. 0. 0. 0. 0. 0. 0. 0. 0. 1. 0. 0. 0. 0. 0. 0. 0. 0. 0. 0. 0. 0.]\n\nGround truth:\t[1. 0. 0. 0. 0. 0. 0. 0. 0. 0. 0. 0. 0. 0. 0. 0. 0. 0. 1. 1. 0. 0. 1. 1.\n 1. 0. 0. 0. 0. 1. 0. 0. 0. 0. 0. 1. 0. 1. 0. 1. 0. 0. 0. 0. 0. 0. 0. 0.\n 1. 0. 0. 0. 1. 0. 0. 0. 0. 0. 0. 0. 1. 0. 0. 1. 0. 0. 0. 0. 0. 1. 1. 0.\n 0. 0. 0. 0. 0. 0. 1. 0. 0. 1. 0. 1. 0. 0. 0. 1. 0. 0. 0. 1. 0. 1. 0. 0.]\n\nFailed:\t25\n"
    }
   ],
   "source": [
    "print(f'Predicted:\\t{y_hat}\\n')\n",
    "print(f'Ground truth:\\t{y_test_column}\\n')\n",
    "print(f'Failed:\\t{sum(y_hat != y_test_column)}')"
   ]
  },
  {
   "cell_type": "code",
   "execution_count": 2138,
   "metadata": {},
   "outputs": [
    {
     "output_type": "stream",
     "name": "stdout",
     "text": "Mean Absolute Error:\t0.2604166666666667\nMean Squared Error:\t0.2604166666666667\nAccuracy:\t\t73.958%\n"
    }
   ],
   "source": [
    "print(f'Mean Absolute Error:\\t{metrics.mean_absolute_error(y_test_col, y_hat)}')\n",
    "print(f'Mean Squared Error:\\t{metrics.mean_squared_error(y_test_col, y_hat)}')\n",
    "print(f'Accuracy:\\t\\t{np.round(metrics.accuracy_score(y_test_col, y_hat) * 100, 3)}%')"
   ]
  },
  {
   "cell_type": "code",
   "execution_count": 2139,
   "metadata": {},
   "outputs": [
    {
     "output_type": "execute_result",
     "data": {
      "text/plain": "{'fit_time': array([0.00199366, 0.00099897, 0.00103593, 0.00102949, 0.        ]),\n 'score_time': array([0.00798011, 0.00604582, 0.00763345, 0.00495267, 0.00498629]),\n 'test_accuracy': array([0.76315789, 0.71052632, 0.71052632, 0.76315789, 0.73684211]),\n 'train_accuracy': array([0.78947368, 0.76315789, 0.77631579, 0.75657895, 0.77631579]),\n 'test_f1': array([0.30769231, 0.26666667, 0.26666667, 0.4       , 0.375     ]),\n 'train_f1': array([0.55555556, 0.45454545, 0.4516129 , 0.44776119, 0.5       ])}"
     },
     "metadata": {},
     "execution_count": 2139
    }
   ],
   "source": [
    "# CV Train\n",
    "results_train = cross_validate(model1, X_train_mat, y_train_col, scoring=['accuracy','f1'], return_train_score=True)\n",
    "results_train"
   ]
  },
  {
   "cell_type": "code",
   "execution_count": 2140,
   "metadata": {},
   "outputs": [
    {
     "output_type": "execute_result",
     "data": {
      "text/plain": "{'fit_time': array([0.00099564, 0.00099802, 0.        , 0.0007689 , 0.00106764]),\n 'score_time': array([0.00564241, 0.00503135, 0.00395799, 0.00299382, 0.00691128]),\n 'test_accuracy': array([0.7       , 0.73684211, 0.73684211, 0.73684211, 0.73684211]),\n 'train_accuracy': array([0.75      , 0.71428571, 0.72727273, 0.72727273, 0.74025974]),\n 'test_f1': array([0., 0., 0., 0., 0.]),\n 'train_f1': array([0.0952381 , 0.        , 0.        , 0.08695652, 0.09090909])}"
     },
     "metadata": {},
     "execution_count": 2140
    }
   ],
   "source": [
    "# CV Test\n",
    "results_test = cross_validate(model1, X_test_mat, y_test_col, scoring=['accuracy','f1'], return_train_score=True)\n",
    "results_test"
   ]
  },
  {
   "cell_type": "code",
   "execution_count": 2141,
   "metadata": {},
   "outputs": [],
   "source": [
    "# Cautare hiperparametrii optimi - GridSearch\n",
    "parameter_grid = {'n_neighbors': list(range(1, 20)), 'p': [1, 2, 3]}\n",
    "grid_search = GridSearchCV(estimator = KNeighborsClassifier(), param_grid=parameter_grid, scoring='accuracy', cv=4, return_train_score=True)\n",
    "grid_search.fit(X_train_mat, y_train_col)\n",
    "results_gscv = cross_val_score(grid_search, X_test_mat, y_test_col, scoring='accuracy')"
   ]
  },
  {
   "cell_type": "code",
   "execution_count": 2142,
   "metadata": {},
   "outputs": [
    {
     "output_type": "stream",
     "name": "stdout",
     "text": "0.7294736842105263\n{'n_neighbors': 14, 'p': 2}\n"
    }
   ],
   "source": [
    "print(results_gscv.mean())\n",
    "print(grid_search.best_params_)"
   ]
  },
  {
   "cell_type": "markdown",
   "metadata": {},
   "source": [
    "## Model 2: LogisticRegression"
   ]
  },
  {
   "cell_type": "code",
   "execution_count": 2164,
   "metadata": {},
   "outputs": [],
   "source": [
    "# Model\n",
    "\"\"\"\n",
    "Aceasta metoda folosita pentru clasificare poate lucra atat cu 2 clase, cat si cu o multitudine de clase-regresie multinomiala. Practic modelul dat de aceasta regresie determina probabilitatea ca obiectul determinat de vectorul de intrare sa apartina unei clase sau celeilalte.\n",
    "Am folosit multi_class='ovr' deoarece avem o regresie logistica binomiala.\n",
    "\"\"\"\n",
    "model2 = LogisticRegression(solver='liblinear', multi_class='ovr', max_iter=1000)\n",
    "model2.fit(X_train_mat, y_train_col)\n",
    "y_hat = model2.predict(X_test_mat)"
   ]
  },
  {
   "cell_type": "code",
   "execution_count": null,
   "metadata": {},
   "outputs": [],
   "source": [
    "print(f'Predicted:\\t{y_hat}\\n')\n",
    "print(f'Ground truth:\\t{y_test_column}\\n')\n",
    "print(f'Failed:\\t{sum(y_hat != y_test_column)}')"
   ]
  },
  {
   "cell_type": "code",
   "execution_count": 2165,
   "metadata": {},
   "outputs": [
    {
     "output_type": "execute_result",
     "data": {
      "text/plain": "{'fit_time': array([0.00199366, 0.00199461, 0.00099683, 0.0009973 , 0.00199962]),\n 'score_time': array([0.00202894, 0.0019958 , 0.00199533, 0.00199389, 0.00198722]),\n 'test_accuracy': array([0.73684211, 0.81578947, 0.63157895, 0.68421053, 0.71052632]),\n 'train_accuracy': array([0.73026316, 0.69736842, 0.75      , 0.76973684, 0.76315789]),\n 'test_f1': array([0.28571429, 0.58823529, 0.22222222, 0.33333333, 0.42105263]),\n 'train_f1': array([0.4057971 , 0.25806452, 0.47222222, 0.53333333, 0.47058824])}"
     },
     "metadata": {},
     "execution_count": 2165
    }
   ],
   "source": [
    "# CV Train\n",
    "results_train = cross_validate(model2, X_train_mat, y_train_col, scoring=['accuracy','f1'], return_train_score=True)\n",
    "results_train"
   ]
  },
  {
   "cell_type": "code",
   "execution_count": 2166,
   "metadata": {},
   "outputs": [
    {
     "output_type": "execute_result",
     "data": {
      "text/plain": "{'fit_time': array([0.00099564, 0.00099945, 0.        , 0.00099707, 0.0009973 ]),\n 'score_time': array([0.00199652, 0.0019927 , 0.00199389, 0.00100017, 0.00103211]),\n 'test_accuracy': array([0.7       , 0.78947368, 0.63157895, 0.78947368, 0.68421053]),\n 'train_accuracy': array([0.78947368, 0.71428571, 0.77922078, 0.75324675, 0.75324675]),\n 'test_f1': array([0. , 0.5, 0. , 0.5, 0. ]),\n 'train_f1': array([0.42857143, 0.08333333, 0.4137931 , 0.24      , 0.2962963 ])}"
     },
     "metadata": {},
     "execution_count": 2166
    }
   ],
   "source": [
    "# CV Test\n",
    "results_test = cross_validate(model2, X_test_mat, y_test_col, scoring=['accuracy','f1'], return_train_score=True)\n",
    "results_test"
   ]
  },
  {
   "cell_type": "code",
   "execution_count": 2167,
   "metadata": {},
   "outputs": [],
   "source": [
    "# Cautare hiperparametrii optimi - GridSearch\n",
    "parameter_grid = {'max_iter': [100, 1000, 10000],\n",
    "    'C' : np.linspace(0.0, 2.0, 5),\n",
    "    'solver': ['saga', 'liblinear', 'lbfgs']}\n",
    "grid_search = GridSearchCV(estimator = LogisticRegression(), param_grid=parameter_grid, scoring='accuracy', cv=4, return_train_score=True)\n",
    "grid_search.fit(X_train_mat, y_train_col)\n",
    "results_gscv = cross_val_score(grid_search, X_test_mat, y_test_col, scoring='accuracy')"
   ]
  },
  {
   "cell_type": "code",
   "execution_count": 2168,
   "metadata": {},
   "outputs": [
    {
     "output_type": "stream",
     "name": "stdout",
     "text": "0.7189473684210526\n{'C': 0.5, 'max_iter': 100, 'solver': 'liblinear'}\n"
    }
   ],
   "source": [
    "print(results_gscv.mean())\n",
    "print(grid_search.best_params_)"
   ]
  },
  {
   "cell_type": "markdown",
   "metadata": {},
   "source": [
    "## Model 3: DecisionTreeClassifier"
   ]
  },
  {
   "cell_type": "code",
   "execution_count": 2220,
   "metadata": {},
   "outputs": [],
   "source": [
    "# Model\n",
    "\"\"\"\n",
    "Metoda aceasta este capabila sa faca clasificarea atat pe 2 clase, cat si pe mai multe clase. In clasificarea aceasta nodurile testeaza valoarea unui atribut anume, muchiile corespund raspunsului testului si face legatura cu urmatoarele noduri, iar frunzele arborelui prezic  rezultatul.\n",
    "\"\"\"\n",
    "model3 = DecisionTreeClassifier(max_depth=2)\n",
    "model3.fit(X_train_mat, y_train_col)\n",
    "y_hat = model3.predict(X_test_mat)"
   ]
  },
  {
   "cell_type": "code",
   "execution_count": 2221,
   "metadata": {},
   "outputs": [
    {
     "output_type": "stream",
     "name": "stdout",
     "text": "Predicted:\t[0. 0. 0. 0. 0. 0. 0. 0. 0. 0. 0. 0. 0. 0. 1. 0. 0. 0. 0. 1. 0. 0. 0. 0.\n 1. 1. 0. 0. 0. 0. 1. 1. 0. 0. 0. 0. 0. 0. 0. 0. 0. 0. 0. 1. 0. 1. 0. 0.\n 0. 0. 1. 0. 0. 0. 0. 0. 1. 0. 0. 0. 0. 0. 0. 0. 0. 0. 0. 0. 0. 0. 0. 0.\n 0. 0. 0. 0. 0. 0. 0. 0. 0. 0. 0. 1. 0. 0. 0. 0. 0. 0. 0. 0. 0. 0. 0. 0.]\n\nGround truth:\t[1. 0. 0. 0. 0. 0. 0. 0. 0. 0. 0. 0. 0. 0. 0. 0. 0. 0. 1. 1. 0. 0. 1. 1.\n 1. 0. 0. 0. 0. 1. 0. 0. 0. 0. 0. 1. 0. 1. 0. 1. 0. 0. 0. 0. 0. 0. 0. 0.\n 1. 0. 0. 0. 1. 0. 0. 0. 0. 0. 0. 0. 1. 0. 0. 1. 0. 0. 0. 0. 0. 1. 1. 0.\n 0. 0. 0. 0. 0. 0. 1. 0. 0. 1. 0. 1. 0. 0. 0. 1. 0. 0. 0. 1. 0. 1. 0. 0.]\n\nFailed:\t27\n"
    }
   ],
   "source": [
    "print(f'Predicted:\\t{y_hat}\\n')\n",
    "print(f'Ground truth:\\t{y_test_column}\\n')\n",
    "print(f'Failed:\\t{sum(y_hat != y_test_column)}')"
   ]
  },
  {
   "cell_type": "code",
   "execution_count": 2222,
   "metadata": {},
   "outputs": [
    {
     "output_type": "execute_result",
     "data": {
      "text/plain": "{'fit_time': array([0.        , 0.00099802, 0.00099778, 0.00103545, 0.00099564]),\n 'score_time': array([0.0029943 , 0.0019927 , 0.00202608, 0.0009644 , 0.00199604]),\n 'test_accuracy': array([0.78947368, 0.68421053, 0.73684211, 0.71052632, 0.76315789]),\n 'train_accuracy': array([0.75657895, 0.75657895, 0.76973684, 0.77631579, 0.76315789]),\n 'test_f1': array([0.42857143, 0.25      , 0.44444444, 0.35294118, 0.47058824]),\n 'train_f1': array([0.47887324, 0.47887324, 0.47761194, 0.5       , 0.47058824])}"
     },
     "metadata": {},
     "execution_count": 2222
    }
   ],
   "source": [
    "# CV Train\n",
    "results_train = cross_validate(model3, X_train_mat, y_train_col, scoring=['accuracy','f1'], return_train_score=True)\n",
    "results_train"
   ]
  },
  {
   "cell_type": "code",
   "execution_count": 2223,
   "metadata": {},
   "outputs": [
    {
     "output_type": "execute_result",
     "data": {
      "text/plain": "{'fit_time': array([0.00099611, 0.00099897, 0.0009973 , 0.        , 0.0010283 ]),\n 'score_time': array([0.00199556, 0.00299191, 0.00199485, 0.00199938, 0.0009656 ]),\n 'test_accuracy': array([0.7       , 0.78947368, 0.68421053, 0.73684211, 0.78947368]),\n 'train_accuracy': array([0.78947368, 0.75324675, 0.79220779, 0.79220779, 0.76623377]),\n 'test_f1': array([0.        , 0.6       , 0.4       , 0.        , 0.33333333]),\n 'train_f1': array([0.33333333, 0.42424242, 0.42857143, 0.42857143, 0.25      ])}"
     },
     "metadata": {},
     "execution_count": 2223
    }
   ],
   "source": [
    "# CV Test\n",
    "results_test = cross_validate(model3, X_test_mat, y_test_col, scoring=['accuracy','f1'], return_train_score=True)\n",
    "results_test"
   ]
  },
  {
   "cell_type": "code",
   "execution_count": 2229,
   "metadata": {},
   "outputs": [],
   "source": [
    "# Cautare hiperparametrii optimi - GridSearch\n",
    "parameter_grid = {'max_depth': list(range(3,7)),\n",
    "'min_samples_split': np.linspace(1,3,5),\n",
    "'min_samples_leaf': np.linspace(0.1,0.3,5),\n",
    "'max_features': ['sqrt', 'log2', None],\n",
    "'criterion': ['gini', 'entropy']}\n",
    "grid_search = GridSearchCV(estimator = DecisionTreeClassifier(), param_grid=parameter_grid, scoring='accuracy', cv=4, return_train_score=True)\n",
    "grid_search.fit(X_train_mat, y_train_col)\n",
    "results_gscv = cross_val_score(grid_search, X_test_mat, y_test_col, scoring='accuracy')"
   ]
  },
  {
   "cell_type": "code",
   "execution_count": 2230,
   "metadata": {},
   "outputs": [
    {
     "output_type": "stream",
     "name": "stdout",
     "text": "0.7189473684210526\n{'criterion': 'gini', 'max_depth': 4, 'max_features': 'log2', 'min_samples_leaf': 0.1, 'min_samples_split': 1.0}\n"
    }
   ],
   "source": [
    "print(results_gscv.mean())\n",
    "print(grid_search.best_params_)"
   ]
  },
  {
   "cell_type": "markdown",
   "metadata": {},
   "source": [
    "## Model 4: RandomForestClassifier"
   ]
  },
  {
   "cell_type": "code",
   "execution_count": 2263,
   "metadata": {},
   "outputs": [],
   "source": [
    "# Model\n",
    "\"\"\"\n",
    "Aceasta metode de clasificare consta intr-o multitudine de arbori de decizie care lucreaza ca un intreg. Din fiecare arbore rezulta o clasa predictie si clasa cu cele mai multe \"voturi\" devine modelul de predictie.\n",
    "\"\"\"\n",
    "model4 = RandomForestClassifier(max_depth=2, random_state=0, ccp_alpha=0.2)\n",
    "model4.fit(X_train_mat, y_train_col)\n",
    "y_hat = model4.predict(X_test_mat)"
   ]
  },
  {
   "cell_type": "code",
   "execution_count": 2264,
   "metadata": {},
   "outputs": [
    {
     "output_type": "stream",
     "name": "stdout",
     "text": "Predicted:\t[0. 0. 0. 0. 0. 0. 0. 0. 0. 0. 0. 0. 0. 0. 0. 0. 0. 0. 0. 0. 0. 0. 0. 0.\n 0. 0. 0. 0. 0. 0. 0. 0. 0. 0. 0. 0. 0. 0. 0. 0. 0. 0. 0. 0. 0. 0. 0. 0.\n 0. 0. 0. 0. 0. 0. 0. 0. 0. 0. 0. 0. 0. 0. 0. 0. 0. 0. 0. 0. 0. 0. 0. 0.\n 0. 0. 0. 0. 0. 0. 0. 0. 0. 0. 0. 0. 0. 0. 0. 0. 0. 0. 0. 0. 0. 0. 0. 0.]\n\nGround truth:\t[1. 0. 0. 0. 0. 0. 0. 0. 0. 0. 0. 0. 0. 0. 0. 0. 0. 0. 1. 1. 0. 0. 1. 1.\n 1. 0. 0. 0. 0. 1. 0. 0. 0. 0. 0. 1. 0. 1. 0. 1. 0. 0. 0. 0. 0. 0. 0. 0.\n 1. 0. 0. 0. 1. 0. 0. 0. 0. 0. 0. 0. 1. 0. 0. 1. 0. 0. 0. 0. 0. 1. 1. 0.\n 0. 0. 0. 0. 0. 0. 1. 0. 0. 1. 0. 1. 0. 0. 0. 1. 0. 0. 0. 1. 0. 1. 0. 0.]\n\nFailed:\t22\n"
    }
   ],
   "source": [
    "print(f'Predicted:\\t{y_hat}\\n')\n",
    "print(f'Ground truth:\\t{y_test_column}\\n')\n",
    "print(f'Failed:\\t{sum(y_hat != y_test_column)}')"
   ]
  },
  {
   "cell_type": "code",
   "execution_count": 2265,
   "metadata": {},
   "outputs": [
    {
     "output_type": "execute_result",
     "data": {
      "text/plain": "{'fit_time': array([0.24135542, 0.20544481, 0.20146465, 0.24686146, 0.21575761]),\n 'score_time': array([0.01396394, 0.01396513, 0.01097107, 0.01396108, 0.01297188]),\n 'test_accuracy': array([0.71052632, 0.68421053, 0.68421053, 0.68421053, 0.68421053]),\n 'train_accuracy': array([0.68421053, 0.69078947, 0.69078947, 0.69078947, 0.69078947]),\n 'test_f1': array([0., 0., 0., 0., 0.]),\n 'train_f1': array([0., 0., 0., 0., 0.])}"
     },
     "metadata": {},
     "execution_count": 2265
    }
   ],
   "source": [
    "# CV Train\n",
    "results_train = cross_validate(model4, X_train_mat, y_train_col, scoring=['accuracy','f1'], return_train_score=True)\n",
    "results_train"
   ]
  },
  {
   "cell_type": "code",
   "execution_count": 2266,
   "metadata": {},
   "outputs": [
    {
     "output_type": "execute_result",
     "data": {
      "text/plain": "{'fit_time': array([0.2333796 , 0.23338175, 0.21801829, 0.18550611, 0.18848252]),\n 'score_time': array([0.01289511, 0.01595402, 0.00997353, 0.01096845, 0.01596069]),\n 'test_accuracy': array([0.7       , 0.73684211, 0.73684211, 0.73684211, 0.73684211]),\n 'train_accuracy': array([0.73684211, 0.72727273, 0.72727273, 0.72727273, 0.72727273]),\n 'test_f1': array([0., 0., 0., 0., 0.]),\n 'train_f1': array([0., 0., 0., 0., 0.])}"
     },
     "metadata": {},
     "execution_count": 2266
    }
   ],
   "source": [
    "# CV Test\n",
    "results_test = cross_validate(model4, X_test_mat, y_test_col, scoring=['accuracy','f1'], return_train_score=True)\n",
    "results_test"
   ]
  },
  {
   "cell_type": "code",
   "execution_count": 2279,
   "metadata": {},
   "outputs": [],
   "source": [
    "# Cautare hiperparametrii optimi - GridSearch\n",
    "parameter_grid = {'max_depth': list(range(3,7)),\n",
    "'min_samples_split': list(range(1,4)),\n",
    "'min_samples_leaf': list(range(3,7))}\n",
    "grid_search = GridSearchCV(estimator = RandomForestClassifier(), param_grid=parameter_grid, scoring='accuracy', cv=4, return_train_score=True)\n",
    "grid_search.fit(X_train_mat, y_train_col)\n",
    "results_gscv = cross_val_score(grid_search, X_test_mat, y_test_col, scoring='accuracy')"
   ]
  },
  {
   "cell_type": "code",
   "execution_count": 2280,
   "metadata": {},
   "outputs": [
    {
     "output_type": "stream",
     "name": "stdout",
     "text": "0.74\n{'max_depth': 4, 'min_samples_leaf': 4, 'min_samples_split': 3}\n"
    }
   ],
   "source": [
    "print(results_gscv.mean())\n",
    "print(grid_search.best_params_)"
   ]
  },
  {
   "cell_type": "markdown",
   "metadata": {},
   "source": [
    "## Model 5: SVC (Support Vector Classification)"
   ]
  },
  {
   "cell_type": "code",
   "execution_count": 2273,
   "metadata": {},
   "outputs": [],
   "source": [
    "# Model\n",
    "\"\"\"\n",
    "\n",
    "\"\"\"\n",
    "model5 = SVC(C=2, gamma='auto')\n",
    "model5.fit(X_train_mat, y_train_col)\n",
    "y_hat = model5.predict(X_test_mat)"
   ]
  },
  {
   "cell_type": "code",
   "execution_count": 2274,
   "metadata": {},
   "outputs": [
    {
     "output_type": "stream",
     "name": "stdout",
     "text": "Predicted:\t[0. 0. 0. 0. 0. 0. 0. 0. 0. 0. 0. 0. 0. 0. 0. 0. 0. 0. 0. 0. 0. 0. 0. 0.\n 0. 1. 0. 0. 0. 0. 1. 1. 0. 0. 0. 0. 0. 0. 0. 0. 1. 0. 0. 1. 0. 1. 0. 0.\n 0. 0. 1. 0. 1. 0. 0. 0. 0. 0. 0. 0. 0. 0. 0. 0. 0. 0. 0. 0. 0. 0. 0. 0.\n 0. 0. 0. 0. 1. 0. 0. 0. 0. 0. 0. 1. 0. 0. 0. 0. 0. 0. 0. 0. 0. 0. 0. 0.]\n\nGround truth:\t[1. 0. 0. 0. 0. 0. 0. 0. 0. 0. 0. 0. 0. 0. 0. 0. 0. 0. 1. 1. 0. 0. 1. 1.\n 1. 0. 0. 0. 0. 1. 0. 0. 0. 0. 0. 1. 0. 1. 0. 1. 0. 0. 0. 0. 0. 0. 0. 0.\n 1. 0. 0. 0. 1. 0. 0. 0. 0. 0. 0. 0. 1. 0. 0. 1. 0. 0. 0. 0. 0. 1. 1. 0.\n 0. 0. 0. 0. 0. 0. 1. 0. 0. 1. 0. 1. 0. 0. 0. 1. 0. 0. 0. 1. 0. 1. 0. 0.]\n\nFailed:\t28\n"
    }
   ],
   "source": [
    "print(f'Predicted:\\t{y_hat}\\n')\n",
    "print(f'Ground truth:\\t{y_test_column}\\n')\n",
    "print(f'Failed:\\t{sum(y_hat != y_test_column)}')"
   ]
  },
  {
   "cell_type": "code",
   "execution_count": 2275,
   "metadata": {},
   "outputs": [
    {
     "output_type": "execute_result",
     "data": {
      "text/plain": "{'fit_time': array([0.00199604, 0.00199413, 0.00099182, 0.00099826, 0.00199342]),\n 'score_time': array([0.00299239, 0.00299263, 0.0019865 , 0.00099826, 0.00099897]),\n 'test_accuracy': array([0.73684211, 0.68421053, 0.63157895, 0.68421053, 0.76315789]),\n 'train_accuracy': array([0.75657895, 0.70394737, 0.77631579, 0.76315789, 0.73684211]),\n 'test_f1': array([0.16666667, 0.        , 0.125     , 0.33333333, 0.4       ]),\n 'train_f1': array([0.47887324, 0.08163265, 0.4516129 , 0.48571429, 0.28571429])}"
     },
     "metadata": {},
     "execution_count": 2275
    }
   ],
   "source": [
    "# CV Train\n",
    "results_train = cross_validate(model5, X_train_mat, y_train_col, scoring=['accuracy','f1'], return_train_score=True)\n",
    "results_train"
   ]
  },
  {
   "cell_type": "code",
   "execution_count": 2276,
   "metadata": {},
   "outputs": [
    {
     "output_type": "execute_result",
     "data": {
      "text/plain": "{'fit_time': array([0.00199795, 0.00099802, 0.        , 0.00099778, 0.00099611]),\n 'score_time': array([0.00199127, 0.00199342, 0.00099802, 0.00101018, 0.00302863]),\n 'test_accuracy': array([0.7       , 0.73684211, 0.68421053, 0.73684211, 0.73684211]),\n 'train_accuracy': array([0.76315789, 0.72727273, 0.77922078, 0.72727273, 0.74025974]),\n 'test_f1': array([0. , 0. , 0.4, 0. , 0. ]),\n 'train_f1': array([0.18181818, 0.        , 0.37037037, 0.        , 0.09090909])}"
     },
     "metadata": {},
     "execution_count": 2276
    }
   ],
   "source": [
    "# CV Test\n",
    "results_test = cross_validate(model5, X_test_mat, y_test_col, scoring=['accuracy','f1'], return_train_score=True)\n",
    "results_test"
   ]
  },
  {
   "cell_type": "code",
   "execution_count": 2277,
   "metadata": {},
   "outputs": [],
   "source": [
    "# Cautare hiperparametrii optimi - GridSearch\n",
    "parameter_grid = {'C': np.linspace(0,1,5),\n",
    "'kernel': ['linear', 'poly', 'rbf', 'sigmoid'],\n",
    "'gamma': ['scale', 'auto']}\n",
    "grid_search = GridSearchCV(estimator = SVC(), param_grid=parameter_grid, scoring='accuracy', cv=4, return_train_score=True)\n",
    "grid_search.fit(X_train_mat, y_train_col)\n",
    "results_gscv = cross_val_score(grid_search, X_test_mat, y_test_col, scoring='accuracy')"
   ]
  },
  {
   "cell_type": "code",
   "execution_count": 2278,
   "metadata": {},
   "outputs": [
    {
     "output_type": "stream",
     "name": "stdout",
     "text": "0.7189473684210526\n{'C': 0.5, 'degree': 1, 'gamma': 'scale', 'kernel': 'rbf'}\n"
    }
   ],
   "source": [
    "print(results_gscv.mean())\n",
    "print(grid_search.best_params_)"
   ]
  }
 ]
}