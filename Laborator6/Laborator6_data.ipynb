{
 "nbformat": 4,
 "nbformat_minor": 2,
 "metadata": {
  "language_info": {
   "name": "python",
   "codemirror_mode": {
    "name": "ipython",
    "version": 3
   },
   "version": "3.7.6-final"
  },
  "orig_nbformat": 2,
  "file_extension": ".py",
  "mimetype": "text/x-python",
  "name": "python",
  "npconvert_exporter": "python",
  "pygments_lexer": "ipython3",
  "version": 3,
  "kernelspec": {
   "name": "python37664bitidsconda6aac95af6de54c59bceda5e4272aaa84",
   "display_name": "Python 3.7.6 64-bit ('IDS': conda)"
  }
 },
 "cells": [
  {
   "cell_type": "markdown",
   "metadata": {},
   "source": [
    "## Nume studenti:\n",
    "- Alexandra Manole\n",
    "- Teodor Mihaescu\n",
    "\n",
    "## Grupa: 382"
   ]
  },
  {
   "cell_type": "markdown",
   "metadata": {},
   "source": [
    "# Data Information"
   ]
  },
  {
   "cell_type": "code",
   "execution_count": 56,
   "metadata": {},
   "outputs": [],
   "source": [
    "from collections import Counter\n",
    "import matplotlib.pyplot as plt\n",
    "import pandas as pd\n",
    "import numpy as np\n",
    "\n",
    "from sklearn.model_selection import train_test_split\n",
    "from sklearn.linear_model import LogisticRegression\n",
    "from sklearn.neighbors import KNeighborsClassifier"
   ]
  },
  {
   "cell_type": "code",
   "execution_count": 57,
   "metadata": {},
   "outputs": [
    {
     "output_type": "stream",
     "name": "stdout",
     "text": "<class 'pandas.core.frame.DataFrame'>\nRangeIndex: 286 entries, 0 to 285\nData columns (total 10 columns):\n #   Column      Non-Null Count  Dtype \n---  ------      --------------  ----- \n 0   Class       286 non-null    object\n 1   Age         286 non-null    object\n 2   Menopause   286 non-null    object\n 3   TumorSize   286 non-null    object\n 4   InvNodes    286 non-null    object\n 5   NodeCaps    278 non-null    object\n 6   DegMalig    286 non-null    int64 \n 7   Breast      286 non-null    object\n 8   BreastQuad  285 non-null    object\n 9   Irradiat    286 non-null    object\ndtypes: int64(1), object(9)\nmemory usage: 22.5+ KB\n"
    }
   ],
   "source": [
    "data1 = pd.read_csv('./Datasets/breast-cancer.csv')\n",
    "data1.info()"
   ]
  },
  {
   "cell_type": "code",
   "execution_count": 58,
   "metadata": {},
   "outputs": [
    {
     "output_type": "execute_result",
     "data": {
      "text/plain": "                    Class    Age Menopause TumorSize InvNodes NodeCaps  \\\n0    no-recurrence-events  30-39   premeno     30-34      0-2       no   \n1    no-recurrence-events  40-49   premeno     20-24      0-2       no   \n2    no-recurrence-events  40-49   premeno     20-24      0-2       no   \n3    no-recurrence-events  60-69      ge40     15-19      0-2       no   \n4    no-recurrence-events  40-49   premeno       0-4      0-2       no   \n..                    ...    ...       ...       ...      ...      ...   \n281     recurrence-events  30-39   premeno     30-34      0-2       no   \n282     recurrence-events  30-39   premeno     20-24      0-2       no   \n283     recurrence-events  60-69      ge40     20-24      0-2       no   \n284     recurrence-events  40-49      ge40     30-34      3-5       no   \n285     recurrence-events  50-59      ge40     30-34      3-5       no   \n\n     DegMalig Breast BreastQuad Irradiat  \n0           3   left   left_low       no  \n1           2  right   right_up       no  \n2           2   left   left_low       no  \n3           2  right    left_up       no  \n4           2  right  right_low       no  \n..        ...    ...        ...      ...  \n281         2   left    left_up       no  \n282         3   left    left_up      yes  \n283         1  right    left_up       no  \n284         3   left   left_low       no  \n285         3   left   left_low       no  \n\n[286 rows x 10 columns]",
      "text/html": "<div>\n<style scoped>\n    .dataframe tbody tr th:only-of-type {\n        vertical-align: middle;\n    }\n\n    .dataframe tbody tr th {\n        vertical-align: top;\n    }\n\n    .dataframe thead th {\n        text-align: right;\n    }\n</style>\n<table border=\"1\" class=\"dataframe\">\n  <thead>\n    <tr style=\"text-align: right;\">\n      <th></th>\n      <th>Class</th>\n      <th>Age</th>\n      <th>Menopause</th>\n      <th>TumorSize</th>\n      <th>InvNodes</th>\n      <th>NodeCaps</th>\n      <th>DegMalig</th>\n      <th>Breast</th>\n      <th>BreastQuad</th>\n      <th>Irradiat</th>\n    </tr>\n  </thead>\n  <tbody>\n    <tr>\n      <th>0</th>\n      <td>no-recurrence-events</td>\n      <td>30-39</td>\n      <td>premeno</td>\n      <td>30-34</td>\n      <td>0-2</td>\n      <td>no</td>\n      <td>3</td>\n      <td>left</td>\n      <td>left_low</td>\n      <td>no</td>\n    </tr>\n    <tr>\n      <th>1</th>\n      <td>no-recurrence-events</td>\n      <td>40-49</td>\n      <td>premeno</td>\n      <td>20-24</td>\n      <td>0-2</td>\n      <td>no</td>\n      <td>2</td>\n      <td>right</td>\n      <td>right_up</td>\n      <td>no</td>\n    </tr>\n    <tr>\n      <th>2</th>\n      <td>no-recurrence-events</td>\n      <td>40-49</td>\n      <td>premeno</td>\n      <td>20-24</td>\n      <td>0-2</td>\n      <td>no</td>\n      <td>2</td>\n      <td>left</td>\n      <td>left_low</td>\n      <td>no</td>\n    </tr>\n    <tr>\n      <th>3</th>\n      <td>no-recurrence-events</td>\n      <td>60-69</td>\n      <td>ge40</td>\n      <td>15-19</td>\n      <td>0-2</td>\n      <td>no</td>\n      <td>2</td>\n      <td>right</td>\n      <td>left_up</td>\n      <td>no</td>\n    </tr>\n    <tr>\n      <th>4</th>\n      <td>no-recurrence-events</td>\n      <td>40-49</td>\n      <td>premeno</td>\n      <td>0-4</td>\n      <td>0-2</td>\n      <td>no</td>\n      <td>2</td>\n      <td>right</td>\n      <td>right_low</td>\n      <td>no</td>\n    </tr>\n    <tr>\n      <th>...</th>\n      <td>...</td>\n      <td>...</td>\n      <td>...</td>\n      <td>...</td>\n      <td>...</td>\n      <td>...</td>\n      <td>...</td>\n      <td>...</td>\n      <td>...</td>\n      <td>...</td>\n    </tr>\n    <tr>\n      <th>281</th>\n      <td>recurrence-events</td>\n      <td>30-39</td>\n      <td>premeno</td>\n      <td>30-34</td>\n      <td>0-2</td>\n      <td>no</td>\n      <td>2</td>\n      <td>left</td>\n      <td>left_up</td>\n      <td>no</td>\n    </tr>\n    <tr>\n      <th>282</th>\n      <td>recurrence-events</td>\n      <td>30-39</td>\n      <td>premeno</td>\n      <td>20-24</td>\n      <td>0-2</td>\n      <td>no</td>\n      <td>3</td>\n      <td>left</td>\n      <td>left_up</td>\n      <td>yes</td>\n    </tr>\n    <tr>\n      <th>283</th>\n      <td>recurrence-events</td>\n      <td>60-69</td>\n      <td>ge40</td>\n      <td>20-24</td>\n      <td>0-2</td>\n      <td>no</td>\n      <td>1</td>\n      <td>right</td>\n      <td>left_up</td>\n      <td>no</td>\n    </tr>\n    <tr>\n      <th>284</th>\n      <td>recurrence-events</td>\n      <td>40-49</td>\n      <td>ge40</td>\n      <td>30-34</td>\n      <td>3-5</td>\n      <td>no</td>\n      <td>3</td>\n      <td>left</td>\n      <td>left_low</td>\n      <td>no</td>\n    </tr>\n    <tr>\n      <th>285</th>\n      <td>recurrence-events</td>\n      <td>50-59</td>\n      <td>ge40</td>\n      <td>30-34</td>\n      <td>3-5</td>\n      <td>no</td>\n      <td>3</td>\n      <td>left</td>\n      <td>left_low</td>\n      <td>no</td>\n    </tr>\n  </tbody>\n</table>\n<p>286 rows × 10 columns</p>\n</div>"
     },
     "metadata": {},
     "execution_count": 58
    }
   ],
   "source": [
    "data1"
   ]
  },
  {
   "cell_type": "code",
   "execution_count": 59,
   "metadata": {},
   "outputs": [
    {
     "output_type": "stream",
     "name": "stdout",
     "text": "<class 'pandas.core.frame.DataFrame'>\nRangeIndex: 768 entries, 0 to 767\nData columns (total 10 columns):\n #   Column  Non-Null Count  Dtype  \n---  ------  --------------  -----  \n 0   X1      768 non-null    float64\n 1   X2      768 non-null    float64\n 2   X3      768 non-null    float64\n 3   X4      768 non-null    float64\n 4   X5      768 non-null    float64\n 5   X6      768 non-null    float64\n 6   X7      768 non-null    float64\n 7   X8      768 non-null    float64\n 8   Y1      768 non-null    float64\n 9   Y2      768 non-null    float64\ndtypes: float64(10)\nmemory usage: 60.1 KB\n"
    }
   ],
   "source": [
    "data2 = pd.read_csv('./Datasets/energy.csv').iloc[:768,:-2]\n",
    "data2.info()"
   ]
  },
  {
   "cell_type": "code",
   "execution_count": 60,
   "metadata": {},
   "outputs": [
    {
     "output_type": "execute_result",
     "data": {
      "text/plain": "       X1     X2     X3      X4   X5   X6   X7   X8     Y1     Y2\n0    0.98  514.5  294.0  110.25  7.0  2.0  0.0  0.0  15.55  21.33\n1    0.98  514.5  294.0  110.25  7.0  3.0  0.0  0.0  15.55  21.33\n2    0.98  514.5  294.0  110.25  7.0  4.0  0.0  0.0  15.55  21.33\n3    0.98  514.5  294.0  110.25  7.0  5.0  0.0  0.0  15.55  21.33\n4    0.90  563.5  318.5  122.50  7.0  2.0  0.0  0.0  20.84  28.28\n..    ...    ...    ...     ...  ...  ...  ...  ...    ...    ...\n763  0.64  784.0  343.0  220.50  3.5  5.0  0.4  5.0  17.88  21.40\n764  0.62  808.5  367.5  220.50  3.5  2.0  0.4  5.0  16.54  16.88\n765  0.62  808.5  367.5  220.50  3.5  3.0  0.4  5.0  16.44  17.11\n766  0.62  808.5  367.5  220.50  3.5  4.0  0.4  5.0  16.48  16.61\n767  0.62  808.5  367.5  220.50  3.5  5.0  0.4  5.0  16.64  16.03\n\n[768 rows x 10 columns]",
      "text/html": "<div>\n<style scoped>\n    .dataframe tbody tr th:only-of-type {\n        vertical-align: middle;\n    }\n\n    .dataframe tbody tr th {\n        vertical-align: top;\n    }\n\n    .dataframe thead th {\n        text-align: right;\n    }\n</style>\n<table border=\"1\" class=\"dataframe\">\n  <thead>\n    <tr style=\"text-align: right;\">\n      <th></th>\n      <th>X1</th>\n      <th>X2</th>\n      <th>X3</th>\n      <th>X4</th>\n      <th>X5</th>\n      <th>X6</th>\n      <th>X7</th>\n      <th>X8</th>\n      <th>Y1</th>\n      <th>Y2</th>\n    </tr>\n  </thead>\n  <tbody>\n    <tr>\n      <th>0</th>\n      <td>0.98</td>\n      <td>514.5</td>\n      <td>294.0</td>\n      <td>110.25</td>\n      <td>7.0</td>\n      <td>2.0</td>\n      <td>0.0</td>\n      <td>0.0</td>\n      <td>15.55</td>\n      <td>21.33</td>\n    </tr>\n    <tr>\n      <th>1</th>\n      <td>0.98</td>\n      <td>514.5</td>\n      <td>294.0</td>\n      <td>110.25</td>\n      <td>7.0</td>\n      <td>3.0</td>\n      <td>0.0</td>\n      <td>0.0</td>\n      <td>15.55</td>\n      <td>21.33</td>\n    </tr>\n    <tr>\n      <th>2</th>\n      <td>0.98</td>\n      <td>514.5</td>\n      <td>294.0</td>\n      <td>110.25</td>\n      <td>7.0</td>\n      <td>4.0</td>\n      <td>0.0</td>\n      <td>0.0</td>\n      <td>15.55</td>\n      <td>21.33</td>\n    </tr>\n    <tr>\n      <th>3</th>\n      <td>0.98</td>\n      <td>514.5</td>\n      <td>294.0</td>\n      <td>110.25</td>\n      <td>7.0</td>\n      <td>5.0</td>\n      <td>0.0</td>\n      <td>0.0</td>\n      <td>15.55</td>\n      <td>21.33</td>\n    </tr>\n    <tr>\n      <th>4</th>\n      <td>0.90</td>\n      <td>563.5</td>\n      <td>318.5</td>\n      <td>122.50</td>\n      <td>7.0</td>\n      <td>2.0</td>\n      <td>0.0</td>\n      <td>0.0</td>\n      <td>20.84</td>\n      <td>28.28</td>\n    </tr>\n    <tr>\n      <th>...</th>\n      <td>...</td>\n      <td>...</td>\n      <td>...</td>\n      <td>...</td>\n      <td>...</td>\n      <td>...</td>\n      <td>...</td>\n      <td>...</td>\n      <td>...</td>\n      <td>...</td>\n    </tr>\n    <tr>\n      <th>763</th>\n      <td>0.64</td>\n      <td>784.0</td>\n      <td>343.0</td>\n      <td>220.50</td>\n      <td>3.5</td>\n      <td>5.0</td>\n      <td>0.4</td>\n      <td>5.0</td>\n      <td>17.88</td>\n      <td>21.40</td>\n    </tr>\n    <tr>\n      <th>764</th>\n      <td>0.62</td>\n      <td>808.5</td>\n      <td>367.5</td>\n      <td>220.50</td>\n      <td>3.5</td>\n      <td>2.0</td>\n      <td>0.4</td>\n      <td>5.0</td>\n      <td>16.54</td>\n      <td>16.88</td>\n    </tr>\n    <tr>\n      <th>765</th>\n      <td>0.62</td>\n      <td>808.5</td>\n      <td>367.5</td>\n      <td>220.50</td>\n      <td>3.5</td>\n      <td>3.0</td>\n      <td>0.4</td>\n      <td>5.0</td>\n      <td>16.44</td>\n      <td>17.11</td>\n    </tr>\n    <tr>\n      <th>766</th>\n      <td>0.62</td>\n      <td>808.5</td>\n      <td>367.5</td>\n      <td>220.50</td>\n      <td>3.5</td>\n      <td>4.0</td>\n      <td>0.4</td>\n      <td>5.0</td>\n      <td>16.48</td>\n      <td>16.61</td>\n    </tr>\n    <tr>\n      <th>767</th>\n      <td>0.62</td>\n      <td>808.5</td>\n      <td>367.5</td>\n      <td>220.50</td>\n      <td>3.5</td>\n      <td>5.0</td>\n      <td>0.4</td>\n      <td>5.0</td>\n      <td>16.64</td>\n      <td>16.03</td>\n    </tr>\n  </tbody>\n</table>\n<p>768 rows × 10 columns</p>\n</div>"
     },
     "metadata": {},
     "execution_count": 60
    }
   ],
   "source": [
    "data2"
   ]
  },
  {
   "cell_type": "code",
   "execution_count": 61,
   "metadata": {},
   "outputs": [
    {
     "output_type": "stream",
     "name": "stdout",
     "text": "<class 'pandas.core.frame.DataFrame'>\nRangeIndex: 194 entries, 0 to 193\nData columns (total 30 columns):\n #   Column      Non-Null Count  Dtype \n---  ------      --------------  ----- \n 0   Name        194 non-null    object\n 1   Landmass    194 non-null    int64 \n 2   Zone        194 non-null    int64 \n 3   Area        194 non-null    int64 \n 4   Population  194 non-null    int64 \n 5   Language    194 non-null    int64 \n 6   Religion    194 non-null    int64 \n 7   Bars        194 non-null    int64 \n 8   Stripes     194 non-null    int64 \n 9   Colours     194 non-null    int64 \n 10  Red         194 non-null    int64 \n 11  Green       194 non-null    int64 \n 12  Blue        194 non-null    int64 \n 13  Gold        194 non-null    int64 \n 14  White       194 non-null    int64 \n 15  Black       194 non-null    int64 \n 16  Orange      194 non-null    int64 \n 17  Mainhue     194 non-null    object\n 18  Circles     194 non-null    int64 \n 19  Crosses     194 non-null    int64 \n 20  Saltires    194 non-null    int64 \n 21  Quarters    194 non-null    int64 \n 22  Sunstars    194 non-null    int64 \n 23  Crescent    194 non-null    int64 \n 24  Triangle    194 non-null    int64 \n 25  Icon        194 non-null    int64 \n 26  Animate     194 non-null    int64 \n 27  Text        194 non-null    int64 \n 28  Topleft     194 non-null    object\n 29  Botright    194 non-null    object\ndtypes: int64(26), object(4)\nmemory usage: 45.6+ KB\n"
    }
   ],
   "source": [
    "data3 = pd.read_csv('./Datasets/flag.csv')\n",
    "data3.info()"
   ]
  },
  {
   "cell_type": "code",
   "execution_count": 62,
   "metadata": {},
   "outputs": [
    {
     "output_type": "execute_result",
     "data": {
      "text/plain": "              Name  Landmass  Zone  Area  Population  Language  Religion  \\\n0      Afghanistan         5     1   648          16        10         2   \n1          Albania         3     1    29           3         6         6   \n2          Algeria         4     1  2388          20         8         2   \n3   American-Samoa         6     3     0           0         1         1   \n4          Andorra         3     1     0           0         6         0   \n..             ...       ...   ...   ...         ...       ...       ...   \n95          Kuwait         5     1    18           2         8         2   \n96            Laos         5     1   236           3        10         6   \n97         Lebanon         5     1    10           3         8         2   \n98         Lesotho         4     2    30           1        10         5   \n99         Liberia         4     4   111           1        10         5   \n\n    Bars  Stripes  Colours  ...  Saltires  Quarters  Sunstars  Crescent  \\\n0      0        3        5  ...         0         0         1         0   \n1      0        0        3  ...         0         0         1         0   \n2      2        0        3  ...         0         0         1         1   \n3      0        0        5  ...         0         0         0         0   \n4      3        0        3  ...         0         0         0         0   \n..   ...      ...      ...  ...       ...       ...       ...       ...   \n95     0        3        4  ...         0         0         0         0   \n96     0        3        3  ...         0         0         0         0   \n97     0        2        4  ...         0         0         0         0   \n98     2        0        4  ...         0         0         0         0   \n99     0       11        3  ...         0         1         1         0   \n\n    Triangle  Icon  Animate Text  Topleft  Botright  \n0          0     1        0    0    black     green  \n1          0     0        1    0      red       red  \n2          0     0        0    0    green     white  \n3          1     1        1    0     blue       red  \n4          0     0        0    0     blue       red  \n..       ...   ...      ...  ...      ...       ...  \n95         0     0        0    0    green       red  \n96         0     0        0    0      red       red  \n97         0     0        1    0      red       red  \n98         0     1        0    0    green      blue  \n99         0     0        0    0     blue       red  \n\n[100 rows x 30 columns]",
      "text/html": "<div>\n<style scoped>\n    .dataframe tbody tr th:only-of-type {\n        vertical-align: middle;\n    }\n\n    .dataframe tbody tr th {\n        vertical-align: top;\n    }\n\n    .dataframe thead th {\n        text-align: right;\n    }\n</style>\n<table border=\"1\" class=\"dataframe\">\n  <thead>\n    <tr style=\"text-align: right;\">\n      <th></th>\n      <th>Name</th>\n      <th>Landmass</th>\n      <th>Zone</th>\n      <th>Area</th>\n      <th>Population</th>\n      <th>Language</th>\n      <th>Religion</th>\n      <th>Bars</th>\n      <th>Stripes</th>\n      <th>Colours</th>\n      <th>...</th>\n      <th>Saltires</th>\n      <th>Quarters</th>\n      <th>Sunstars</th>\n      <th>Crescent</th>\n      <th>Triangle</th>\n      <th>Icon</th>\n      <th>Animate</th>\n      <th>Text</th>\n      <th>Topleft</th>\n      <th>Botright</th>\n    </tr>\n  </thead>\n  <tbody>\n    <tr>\n      <th>0</th>\n      <td>Afghanistan</td>\n      <td>5</td>\n      <td>1</td>\n      <td>648</td>\n      <td>16</td>\n      <td>10</td>\n      <td>2</td>\n      <td>0</td>\n      <td>3</td>\n      <td>5</td>\n      <td>...</td>\n      <td>0</td>\n      <td>0</td>\n      <td>1</td>\n      <td>0</td>\n      <td>0</td>\n      <td>1</td>\n      <td>0</td>\n      <td>0</td>\n      <td>black</td>\n      <td>green</td>\n    </tr>\n    <tr>\n      <th>1</th>\n      <td>Albania</td>\n      <td>3</td>\n      <td>1</td>\n      <td>29</td>\n      <td>3</td>\n      <td>6</td>\n      <td>6</td>\n      <td>0</td>\n      <td>0</td>\n      <td>3</td>\n      <td>...</td>\n      <td>0</td>\n      <td>0</td>\n      <td>1</td>\n      <td>0</td>\n      <td>0</td>\n      <td>0</td>\n      <td>1</td>\n      <td>0</td>\n      <td>red</td>\n      <td>red</td>\n    </tr>\n    <tr>\n      <th>2</th>\n      <td>Algeria</td>\n      <td>4</td>\n      <td>1</td>\n      <td>2388</td>\n      <td>20</td>\n      <td>8</td>\n      <td>2</td>\n      <td>2</td>\n      <td>0</td>\n      <td>3</td>\n      <td>...</td>\n      <td>0</td>\n      <td>0</td>\n      <td>1</td>\n      <td>1</td>\n      <td>0</td>\n      <td>0</td>\n      <td>0</td>\n      <td>0</td>\n      <td>green</td>\n      <td>white</td>\n    </tr>\n    <tr>\n      <th>3</th>\n      <td>American-Samoa</td>\n      <td>6</td>\n      <td>3</td>\n      <td>0</td>\n      <td>0</td>\n      <td>1</td>\n      <td>1</td>\n      <td>0</td>\n      <td>0</td>\n      <td>5</td>\n      <td>...</td>\n      <td>0</td>\n      <td>0</td>\n      <td>0</td>\n      <td>0</td>\n      <td>1</td>\n      <td>1</td>\n      <td>1</td>\n      <td>0</td>\n      <td>blue</td>\n      <td>red</td>\n    </tr>\n    <tr>\n      <th>4</th>\n      <td>Andorra</td>\n      <td>3</td>\n      <td>1</td>\n      <td>0</td>\n      <td>0</td>\n      <td>6</td>\n      <td>0</td>\n      <td>3</td>\n      <td>0</td>\n      <td>3</td>\n      <td>...</td>\n      <td>0</td>\n      <td>0</td>\n      <td>0</td>\n      <td>0</td>\n      <td>0</td>\n      <td>0</td>\n      <td>0</td>\n      <td>0</td>\n      <td>blue</td>\n      <td>red</td>\n    </tr>\n    <tr>\n      <th>...</th>\n      <td>...</td>\n      <td>...</td>\n      <td>...</td>\n      <td>...</td>\n      <td>...</td>\n      <td>...</td>\n      <td>...</td>\n      <td>...</td>\n      <td>...</td>\n      <td>...</td>\n      <td>...</td>\n      <td>...</td>\n      <td>...</td>\n      <td>...</td>\n      <td>...</td>\n      <td>...</td>\n      <td>...</td>\n      <td>...</td>\n      <td>...</td>\n      <td>...</td>\n      <td>...</td>\n    </tr>\n    <tr>\n      <th>95</th>\n      <td>Kuwait</td>\n      <td>5</td>\n      <td>1</td>\n      <td>18</td>\n      <td>2</td>\n      <td>8</td>\n      <td>2</td>\n      <td>0</td>\n      <td>3</td>\n      <td>4</td>\n      <td>...</td>\n      <td>0</td>\n      <td>0</td>\n      <td>0</td>\n      <td>0</td>\n      <td>0</td>\n      <td>0</td>\n      <td>0</td>\n      <td>0</td>\n      <td>green</td>\n      <td>red</td>\n    </tr>\n    <tr>\n      <th>96</th>\n      <td>Laos</td>\n      <td>5</td>\n      <td>1</td>\n      <td>236</td>\n      <td>3</td>\n      <td>10</td>\n      <td>6</td>\n      <td>0</td>\n      <td>3</td>\n      <td>3</td>\n      <td>...</td>\n      <td>0</td>\n      <td>0</td>\n      <td>0</td>\n      <td>0</td>\n      <td>0</td>\n      <td>0</td>\n      <td>0</td>\n      <td>0</td>\n      <td>red</td>\n      <td>red</td>\n    </tr>\n    <tr>\n      <th>97</th>\n      <td>Lebanon</td>\n      <td>5</td>\n      <td>1</td>\n      <td>10</td>\n      <td>3</td>\n      <td>8</td>\n      <td>2</td>\n      <td>0</td>\n      <td>2</td>\n      <td>4</td>\n      <td>...</td>\n      <td>0</td>\n      <td>0</td>\n      <td>0</td>\n      <td>0</td>\n      <td>0</td>\n      <td>0</td>\n      <td>1</td>\n      <td>0</td>\n      <td>red</td>\n      <td>red</td>\n    </tr>\n    <tr>\n      <th>98</th>\n      <td>Lesotho</td>\n      <td>4</td>\n      <td>2</td>\n      <td>30</td>\n      <td>1</td>\n      <td>10</td>\n      <td>5</td>\n      <td>2</td>\n      <td>0</td>\n      <td>4</td>\n      <td>...</td>\n      <td>0</td>\n      <td>0</td>\n      <td>0</td>\n      <td>0</td>\n      <td>0</td>\n      <td>1</td>\n      <td>0</td>\n      <td>0</td>\n      <td>green</td>\n      <td>blue</td>\n    </tr>\n    <tr>\n      <th>99</th>\n      <td>Liberia</td>\n      <td>4</td>\n      <td>4</td>\n      <td>111</td>\n      <td>1</td>\n      <td>10</td>\n      <td>5</td>\n      <td>0</td>\n      <td>11</td>\n      <td>3</td>\n      <td>...</td>\n      <td>0</td>\n      <td>1</td>\n      <td>1</td>\n      <td>0</td>\n      <td>0</td>\n      <td>0</td>\n      <td>0</td>\n      <td>0</td>\n      <td>blue</td>\n      <td>red</td>\n    </tr>\n  </tbody>\n</table>\n<p>100 rows × 30 columns</p>\n</div>"
     },
     "metadata": {},
     "execution_count": 62
    }
   ],
   "source": [
    "data3.iloc[:100,:]"
   ]
  },
  {
   "cell_type": "code",
   "execution_count": 63,
   "metadata": {},
   "outputs": [
    {
     "output_type": "stream",
     "name": "stdout",
     "text": "<class 'pandas.core.frame.DataFrame'>\nMultiIndex: 32561 entries, (39, 'State-gov') to (52, 'Self-emp-inc')\nData columns (total 13 columns):\n #   Column         Non-Null Count  Dtype \n---  ------         --------------  ----- \n 0   Age            32561 non-null  int64 \n 1   Workclass      32561 non-null  object\n 2   Fnlwgt         32561 non-null  int64 \n 3   Education      32561 non-null  object\n 4   MaritalStatus  30718 non-null  object\n 5   Occupation     32561 non-null  object\n 6   Relationship   32561 non-null  object\n 7   Race           32561 non-null  object\n 8   Sex            32561 non-null  int64 \n 9   CapitalGain    32561 non-null  int64 \n 10  CapitalLoss    32561 non-null  int64 \n 11  HoursPerWeek   31978 non-null  object\n 12  NativeCountry  32561 non-null  object\ndtypes: int64(5), object(8)\nmemory usage: 3.3+ MB\n"
    }
   ],
   "source": [
    "data4 = pd.read_csv('./Datasets/adult.csv')\n",
    "data4.info()"
   ]
  },
  {
   "cell_type": "code",
   "execution_count": 64,
   "metadata": {},
   "outputs": [
    {
     "output_type": "execute_result",
     "data": {
      "text/plain": "Age                          121772\nWorkclass                 Assoc-voc\nFnlwgt                           11\nEducation        Married-civ-spouse\nMaritalStatus          Craft-repair\nOccupation                  Husband\nRelationship     Asian-Pac-Islander\nRace                           Male\nSex                               0\nCapitalGain                       0\nCapitalLoss                      40\nHoursPerWeek                    NaN\nNativeCountry                  >50K\nName: (40, Private), dtype: object"
     },
     "metadata": {},
     "execution_count": 64
    }
   ],
   "source": [
    "data4.iloc[14]"
   ]
  }
 ]
}