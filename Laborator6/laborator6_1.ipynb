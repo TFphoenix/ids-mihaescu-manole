{
 "nbformat": 4,
 "nbformat_minor": 2,
 "metadata": {
  "language_info": {
   "name": "python",
   "codemirror_mode": {
    "name": "ipython",
    "version": 3
   },
   "version": "3.7.6-final"
  },
  "orig_nbformat": 2,
  "file_extension": ".py",
  "mimetype": "text/x-python",
  "name": "python",
  "npconvert_exporter": "python",
  "pygments_lexer": "ipython3",
  "version": 3,
  "kernelspec": {
   "name": "python37664bitidsconda6aac95af6de54c59bceda5e4272aaa84",
   "display_name": "Python 3.7.6 64-bit ('IDS': conda)"
  }
 },
 "cells": [
  {
   "cell_type": "markdown",
   "metadata": {},
   "source": [
    "## Nume studenti:\n",
    "- Alexandra Manole\n",
    "- Teodor Mihaescu\n",
    "\n",
    "## Grupa: 382"
   ]
  },
  {
   "cell_type": "code",
   "execution_count": 1,
   "metadata": {},
   "outputs": [],
   "source": [
    "import pandas as pd\n",
    "import numpy as np"
   ]
  },
  {
   "cell_type": "code",
   "execution_count": 8,
   "metadata": {},
   "outputs": [
    {
     "output_type": "stream",
     "name": "stdout",
     "text": "<class 'pandas.core.frame.DataFrame'>\nRangeIndex: 740 entries, 0 to 739\nData columns (total 21 columns):\n #   Column                           Non-Null Count  Dtype  \n---  ------                           --------------  -----  \n 0   ID                               740 non-null    int64  \n 1   Reason for absence               740 non-null    int64  \n 2   Month of absence                 740 non-null    int64  \n 3   Day of the week                  740 non-null    int64  \n 4   Seasons                          740 non-null    int64  \n 5   Transportation expense           740 non-null    int64  \n 6   Distance from Residence to Work  740 non-null    int64  \n 7   Service time                     740 non-null    int64  \n 8   Age                              740 non-null    int64  \n 9   Work load Average/day            740 non-null    float64\n 10  Hit target                       740 non-null    int64  \n 11  Disciplinary failure             740 non-null    int64  \n 12  Education                        740 non-null    int64  \n 13  Son                              740 non-null    int64  \n 14  Social drinker                   740 non-null    int64  \n 15  Social smoker                    740 non-null    int64  \n 16  Pet                              740 non-null    int64  \n 17  Weight                           740 non-null    int64  \n 18  Height                           740 non-null    int64  \n 19  Body mass index                  740 non-null    int64  \n 20  Absenteeism time in hours        740 non-null    int64  \ndtypes: float64(1), int64(20)\nmemory usage: 121.5 KB\n"
    }
   ],
   "source": [
    "data = pd.read_csv('./Datasets/absenteeism.csv', sep = ';')\n",
    "data.info()"
   ]
  },
  {
   "cell_type": "code",
   "execution_count": 21,
   "metadata": {},
   "outputs": [
    {
     "output_type": "execute_result",
     "data": {
      "text/plain": "        X1     X2     X3      X4   X5   X6   X7   X8     Y1     Y2\n0     0.98  514.5  294.0  110.25  7.0  2.0  0.0  0.0  15.55  21.33\n1     0.98  514.5  294.0  110.25  7.0  3.0  0.0  0.0  15.55  21.33\n2     0.98  514.5  294.0  110.25  7.0  4.0  0.0  0.0  15.55  21.33\n3     0.98  514.5  294.0  110.25  7.0  5.0  0.0  0.0  15.55  21.33\n4     0.90  563.5  318.5  122.50  7.0  2.0  0.0  0.0  20.84  28.28\n...    ...    ...    ...     ...  ...  ...  ...  ...    ...    ...\n1291   NaN    NaN    NaN     NaN  NaN  NaN  NaN  NaN    NaN    NaN\n1292   NaN    NaN    NaN     NaN  NaN  NaN  NaN  NaN    NaN    NaN\n1293   NaN    NaN    NaN     NaN  NaN  NaN  NaN  NaN    NaN    NaN\n1294   NaN    NaN    NaN     NaN  NaN  NaN  NaN  NaN    NaN    NaN\n1295   NaN    NaN    NaN     NaN  NaN  NaN  NaN  NaN    NaN    NaN\n\n[1296 rows x 10 columns]",
      "text/html": "<div>\n<style scoped>\n    .dataframe tbody tr th:only-of-type {\n        vertical-align: middle;\n    }\n\n    .dataframe tbody tr th {\n        vertical-align: top;\n    }\n\n    .dataframe thead th {\n        text-align: right;\n    }\n</style>\n<table border=\"1\" class=\"dataframe\">\n  <thead>\n    <tr style=\"text-align: right;\">\n      <th></th>\n      <th>X1</th>\n      <th>X2</th>\n      <th>X3</th>\n      <th>X4</th>\n      <th>X5</th>\n      <th>X6</th>\n      <th>X7</th>\n      <th>X8</th>\n      <th>Y1</th>\n      <th>Y2</th>\n    </tr>\n  </thead>\n  <tbody>\n    <tr>\n      <th>0</th>\n      <td>0.98</td>\n      <td>514.5</td>\n      <td>294.0</td>\n      <td>110.25</td>\n      <td>7.0</td>\n      <td>2.0</td>\n      <td>0.0</td>\n      <td>0.0</td>\n      <td>15.55</td>\n      <td>21.33</td>\n    </tr>\n    <tr>\n      <th>1</th>\n      <td>0.98</td>\n      <td>514.5</td>\n      <td>294.0</td>\n      <td>110.25</td>\n      <td>7.0</td>\n      <td>3.0</td>\n      <td>0.0</td>\n      <td>0.0</td>\n      <td>15.55</td>\n      <td>21.33</td>\n    </tr>\n    <tr>\n      <th>2</th>\n      <td>0.98</td>\n      <td>514.5</td>\n      <td>294.0</td>\n      <td>110.25</td>\n      <td>7.0</td>\n      <td>4.0</td>\n      <td>0.0</td>\n      <td>0.0</td>\n      <td>15.55</td>\n      <td>21.33</td>\n    </tr>\n    <tr>\n      <th>3</th>\n      <td>0.98</td>\n      <td>514.5</td>\n      <td>294.0</td>\n      <td>110.25</td>\n      <td>7.0</td>\n      <td>5.0</td>\n      <td>0.0</td>\n      <td>0.0</td>\n      <td>15.55</td>\n      <td>21.33</td>\n    </tr>\n    <tr>\n      <th>4</th>\n      <td>0.90</td>\n      <td>563.5</td>\n      <td>318.5</td>\n      <td>122.50</td>\n      <td>7.0</td>\n      <td>2.0</td>\n      <td>0.0</td>\n      <td>0.0</td>\n      <td>20.84</td>\n      <td>28.28</td>\n    </tr>\n    <tr>\n      <th>...</th>\n      <td>...</td>\n      <td>...</td>\n      <td>...</td>\n      <td>...</td>\n      <td>...</td>\n      <td>...</td>\n      <td>...</td>\n      <td>...</td>\n      <td>...</td>\n      <td>...</td>\n    </tr>\n    <tr>\n      <th>1291</th>\n      <td>NaN</td>\n      <td>NaN</td>\n      <td>NaN</td>\n      <td>NaN</td>\n      <td>NaN</td>\n      <td>NaN</td>\n      <td>NaN</td>\n      <td>NaN</td>\n      <td>NaN</td>\n      <td>NaN</td>\n    </tr>\n    <tr>\n      <th>1292</th>\n      <td>NaN</td>\n      <td>NaN</td>\n      <td>NaN</td>\n      <td>NaN</td>\n      <td>NaN</td>\n      <td>NaN</td>\n      <td>NaN</td>\n      <td>NaN</td>\n      <td>NaN</td>\n      <td>NaN</td>\n    </tr>\n    <tr>\n      <th>1293</th>\n      <td>NaN</td>\n      <td>NaN</td>\n      <td>NaN</td>\n      <td>NaN</td>\n      <td>NaN</td>\n      <td>NaN</td>\n      <td>NaN</td>\n      <td>NaN</td>\n      <td>NaN</td>\n      <td>NaN</td>\n    </tr>\n    <tr>\n      <th>1294</th>\n      <td>NaN</td>\n      <td>NaN</td>\n      <td>NaN</td>\n      <td>NaN</td>\n      <td>NaN</td>\n      <td>NaN</td>\n      <td>NaN</td>\n      <td>NaN</td>\n      <td>NaN</td>\n      <td>NaN</td>\n    </tr>\n    <tr>\n      <th>1295</th>\n      <td>NaN</td>\n      <td>NaN</td>\n      <td>NaN</td>\n      <td>NaN</td>\n      <td>NaN</td>\n      <td>NaN</td>\n      <td>NaN</td>\n      <td>NaN</td>\n      <td>NaN</td>\n      <td>NaN</td>\n    </tr>\n  </tbody>\n</table>\n<p>1296 rows × 10 columns</p>\n</div>"
     },
     "metadata": {},
     "execution_count": 21
    }
   ],
   "source": [
    "data = pd.read_csv('./Datasets/energy.csv').iloc[:,:-2]\n",
    "data"
   ]
  },
  {
   "cell_type": "code",
   "execution_count": null,
   "metadata": {},
   "outputs": [],
   "source": []
  }
 ]
}